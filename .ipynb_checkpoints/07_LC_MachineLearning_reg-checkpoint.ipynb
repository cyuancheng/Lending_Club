{
 "cells": [
  {
   "cell_type": "markdown",
   "metadata": {},
   "source": [
    "# Machine Learning -Regression <a class=\"tocSkip\">"
   ]
  },
  {
   "cell_type": "markdown",
   "metadata": {},
   "source": [
    "Build mechine learning model to predict the investment return (annual return of investment)"
   ]
  },
  {
   "cell_type": "markdown",
   "metadata": {},
   "source": [
    "## Library "
   ]
  },
  {
   "cell_type": "code",
   "execution_count": 2,
   "metadata": {},
   "outputs": [],
   "source": [
    "# Load general utilities\n",
    "import pandas as pd\n",
    "import matplotlib.pyplot as plt\n",
    "%matplotlib inline\n",
    "import scipy\n",
    "\n",
    "import datetime\n",
    "import numpy as np\n",
    "import pickle\n",
    "import time\n",
    "import seaborn as sns\n",
    "import os\n",
    "from IPython import get_ipython\n",
    "ipython = get_ipython()\n",
    "# Options for pandas\n",
    "pd.options.display.max_columns = 50\n",
    "pd.options.display.max_rows = 30\n",
    "\n",
    "# Load sklearn utilities\n",
    "import sklearn\n",
    "from sklearn.model_selection import train_test_split, RepeatedStratifiedKFold\n",
    "from sklearn.preprocessing import StandardScaler, MinMaxScaler, LabelEncoder\n",
    "from sklearn.model_selection import GridSearchCV\n",
    "from sklearn.model_selection import cross_val_score, cross_val_predict, KFold\n",
    "from sklearn.metrics import accuracy_score, classification_report, confusion_matrix, \\\n",
    "roc_auc_score, roc_curve, precision_recall_curve, auc, brier_score_loss, mean_squared_error, r2_score\n",
    "from sklearn.calibration import calibration_curve\n",
    "from sklearn.metrics import mean_squared_error, make_scorer\n",
    "\n",
    "# Load classifiers\n",
    "from sklearn.linear_model import LinearRegression, Ridge, RidgeCV, Lasso, LassoCV, ElasticNet, ElasticNetCV\n",
    "from sklearn.linear_model import RidgeClassifier\n",
    "from sklearn.tree import DecisionTreeClassifier, DecisionTreeRegressor\n",
    "from sklearn.ensemble import RandomForestRegressor,RandomForestClassifier, GradientBoostingClassifier\n",
    "from sklearn.naive_bayes import GaussianNB, BernoulliNB\n",
    "from sklearn.svm import SVC, LinearSVC\n",
    "from sklearn.neighbors import KNeighborsClassifier\n",
    "\n",
    "\n",
    "# Load debugger, if required\n",
    "#import pixiedust\n",
    "pd.options.mode.chained_assignment = None #'warn'"
   ]
  },
  {
   "cell_type": "markdown",
   "metadata": {},
   "source": [
    "## Import data"
   ]
  },
  {
   "cell_type": "code",
   "execution_count": 3,
   "metadata": {},
   "outputs": [
    {
     "name": "stderr",
     "output_type": "stream",
     "text": [
      "/opt/anaconda3/lib/python3.7/site-packages/numpy/lib/arraysetops.py:568: FutureWarning: elementwise comparison failed; returning scalar instead, but in the future will perform elementwise comparison\n",
      "  mask |= (ar1 == a)\n"
     ]
    },
    {
     "name": "stdout",
     "output_type": "stream",
     "text": [
      "It takes  0.2 min to read the data\n"
     ]
    }
   ],
   "source": [
    "# read data\n",
    "start = time.time()\n",
    "path = '/Users/cyuancheng/Documents/course/Springboard/Capstone1/data/'\n",
    "df = pd.read_csv(path+'LC_ML_prep.csv', low_memory=False, index_col=0, \\\n",
    "                 parse_dates=['issue_d', 'earliest_cr_line', 'last_pymnt_d'] )\n",
    "end = time.time()\n",
    "print('It takes  ' + str(round((end-start)/60, 1)) +' min to read the data')"
   ]
  },
  {
   "cell_type": "code",
   "execution_count": 4,
   "metadata": {},
   "outputs": [],
   "source": [
    "# To ensure all the loans were matured, we only consider issue date before 2015 \n",
    "df = df[df['issue_d']<'2015']"
   ]
  },
  {
   "cell_type": "code",
   "execution_count": 5,
   "metadata": {},
   "outputs": [
    {
     "data": {
      "text/html": [
       "<div>\n",
       "<style scoped>\n",
       "    .dataframe tbody tr th:only-of-type {\n",
       "        vertical-align: middle;\n",
       "    }\n",
       "\n",
       "    .dataframe tbody tr th {\n",
       "        vertical-align: top;\n",
       "    }\n",
       "\n",
       "    .dataframe thead th {\n",
       "        text-align: right;\n",
       "    }\n",
       "</style>\n",
       "<table border=\"1\" class=\"dataframe\">\n",
       "  <thead>\n",
       "    <tr style=\"text-align: right;\">\n",
       "      <th></th>\n",
       "      <th>home_ownership</th>\n",
       "      <th>verification_status</th>\n",
       "      <th>purpose</th>\n",
       "      <th>addr_state</th>\n",
       "      <th>pub_rec</th>\n",
       "      <th>term_num</th>\n",
       "      <th>grade_num</th>\n",
       "      <th>loan_period</th>\n",
       "      <th>int_rate</th>\n",
       "      <th>revol_util</th>\n",
       "      <th>loan_amnt</th>\n",
       "      <th>funded_amnt</th>\n",
       "      <th>installment</th>\n",
       "      <th>open_acc</th>\n",
       "      <th>fico</th>\n",
       "      <th>total_pymnt</th>\n",
       "      <th>log_annual_inc</th>\n",
       "      <th>log_dti</th>\n",
       "      <th>log_revol_bal</th>\n",
       "      <th>log_delinq_2yrs</th>\n",
       "      <th>emp_length_num</th>\n",
       "      <th>Log_Annual_ROI</th>\n",
       "      <th>issue_d</th>\n",
       "      <th>earliest_cr_line</th>\n",
       "      <th>last_pymnt_d</th>\n",
       "      <th>target</th>\n",
       "    </tr>\n",
       "  </thead>\n",
       "  <tbody>\n",
       "    <tr>\n",
       "      <td>1</td>\n",
       "      <td>MORTGAGE</td>\n",
       "      <td>Not Verified</td>\n",
       "      <td>debt_consolidation</td>\n",
       "      <td>TX</td>\n",
       "      <td>0.0</td>\n",
       "      <td>36</td>\n",
       "      <td>7</td>\n",
       "      <td>29.996509</td>\n",
       "      <td>7.62</td>\n",
       "      <td>55.7</td>\n",
       "      <td>12000.0</td>\n",
       "      <td>12000.0</td>\n",
       "      <td>373.94</td>\n",
       "      <td>17.0</td>\n",
       "      <td>709.0</td>\n",
       "      <td>13397.539998</td>\n",
       "      <td>4.984527</td>\n",
       "      <td>1.100715</td>\n",
       "      <td>4.122150</td>\n",
       "      <td>-inf</td>\n",
       "      <td>3.0</td>\n",
       "      <td>-1.346243</td>\n",
       "      <td>2013-12-01</td>\n",
       "      <td>2003-09-01</td>\n",
       "      <td>2016-06-01</td>\n",
       "      <td>0</td>\n",
       "    </tr>\n",
       "    <tr>\n",
       "      <td>2</td>\n",
       "      <td>OWN</td>\n",
       "      <td>Verified</td>\n",
       "      <td>debt_consolidation</td>\n",
       "      <td>MI</td>\n",
       "      <td>0.0</td>\n",
       "      <td>36</td>\n",
       "      <td>6</td>\n",
       "      <td>30.982156</td>\n",
       "      <td>10.99</td>\n",
       "      <td>61.2</td>\n",
       "      <td>27050.0</td>\n",
       "      <td>27050.0</td>\n",
       "      <td>885.46</td>\n",
       "      <td>14.0</td>\n",
       "      <td>734.0</td>\n",
       "      <td>31752.530000</td>\n",
       "      <td>4.740363</td>\n",
       "      <td>1.359266</td>\n",
       "      <td>4.563932</td>\n",
       "      <td>-inf</td>\n",
       "      <td>10.0</td>\n",
       "      <td>-1.193486</td>\n",
       "      <td>2013-12-01</td>\n",
       "      <td>1986-10-01</td>\n",
       "      <td>2016-07-01</td>\n",
       "      <td>0</td>\n",
       "    </tr>\n",
       "    <tr>\n",
       "      <td>3</td>\n",
       "      <td>RENT</td>\n",
       "      <td>Not Verified</td>\n",
       "      <td>debt_consolidation</td>\n",
       "      <td>NC</td>\n",
       "      <td>0.0</td>\n",
       "      <td>36</td>\n",
       "      <td>6</td>\n",
       "      <td>27.992361</td>\n",
       "      <td>10.99</td>\n",
       "      <td>24.0</td>\n",
       "      <td>12000.0</td>\n",
       "      <td>12000.0</td>\n",
       "      <td>392.81</td>\n",
       "      <td>15.0</td>\n",
       "      <td>724.0</td>\n",
       "      <td>13988.609996</td>\n",
       "      <td>4.778151</td>\n",
       "      <td>0.664642</td>\n",
       "      <td>3.853516</td>\n",
       "      <td>-inf</td>\n",
       "      <td>4.0</td>\n",
       "      <td>-1.167860</td>\n",
       "      <td>2013-12-01</td>\n",
       "      <td>2009-12-01</td>\n",
       "      <td>2016-04-01</td>\n",
       "      <td>0</td>\n",
       "    </tr>\n",
       "    <tr>\n",
       "      <td>5</td>\n",
       "      <td>MORTGAGE</td>\n",
       "      <td>Not Verified</td>\n",
       "      <td>debt_consolidation</td>\n",
       "      <td>CT</td>\n",
       "      <td>0.0</td>\n",
       "      <td>36</td>\n",
       "      <td>7</td>\n",
       "      <td>37.027454</td>\n",
       "      <td>6.62</td>\n",
       "      <td>21.6</td>\n",
       "      <td>12000.0</td>\n",
       "      <td>12000.0</td>\n",
       "      <td>368.45</td>\n",
       "      <td>12.0</td>\n",
       "      <td>764.0</td>\n",
       "      <td>13263.954639</td>\n",
       "      <td>5.021189</td>\n",
       "      <td>1.147676</td>\n",
       "      <td>4.119520</td>\n",
       "      <td>-inf</td>\n",
       "      <td>10.0</td>\n",
       "      <td>-1.481653</td>\n",
       "      <td>2013-12-01</td>\n",
       "      <td>1994-03-01</td>\n",
       "      <td>2017-01-01</td>\n",
       "      <td>0</td>\n",
       "    </tr>\n",
       "    <tr>\n",
       "      <td>6</td>\n",
       "      <td>RENT</td>\n",
       "      <td>Not Verified</td>\n",
       "      <td>debt_consolidation</td>\n",
       "      <td>NC</td>\n",
       "      <td>1.0</td>\n",
       "      <td>36</td>\n",
       "      <td>6</td>\n",
       "      <td>37.027454</td>\n",
       "      <td>12.85</td>\n",
       "      <td>81.9</td>\n",
       "      <td>14000.0</td>\n",
       "      <td>14000.0</td>\n",
       "      <td>470.71</td>\n",
       "      <td>6.0</td>\n",
       "      <td>674.0</td>\n",
       "      <td>16945.318783</td>\n",
       "      <td>4.944483</td>\n",
       "      <td>1.000868</td>\n",
       "      <td>3.566555</td>\n",
       "      <td>0.0</td>\n",
       "      <td>4.0</td>\n",
       "      <td>-1.194953</td>\n",
       "      <td>2013-12-01</td>\n",
       "      <td>1988-06-01</td>\n",
       "      <td>2017-01-01</td>\n",
       "      <td>0</td>\n",
       "    </tr>\n",
       "  </tbody>\n",
       "</table>\n",
       "</div>"
      ],
      "text/plain": [
       "  home_ownership verification_status             purpose addr_state  pub_rec  \\\n",
       "1       MORTGAGE        Not Verified  debt_consolidation         TX      0.0   \n",
       "2            OWN            Verified  debt_consolidation         MI      0.0   \n",
       "3           RENT        Not Verified  debt_consolidation         NC      0.0   \n",
       "5       MORTGAGE        Not Verified  debt_consolidation         CT      0.0   \n",
       "6           RENT        Not Verified  debt_consolidation         NC      1.0   \n",
       "\n",
       "   term_num  grade_num  loan_period  int_rate  revol_util  loan_amnt  \\\n",
       "1        36          7    29.996509      7.62        55.7    12000.0   \n",
       "2        36          6    30.982156     10.99        61.2    27050.0   \n",
       "3        36          6    27.992361     10.99        24.0    12000.0   \n",
       "5        36          7    37.027454      6.62        21.6    12000.0   \n",
       "6        36          6    37.027454     12.85        81.9    14000.0   \n",
       "\n",
       "   funded_amnt  installment  open_acc   fico   total_pymnt  log_annual_inc  \\\n",
       "1      12000.0       373.94      17.0  709.0  13397.539998        4.984527   \n",
       "2      27050.0       885.46      14.0  734.0  31752.530000        4.740363   \n",
       "3      12000.0       392.81      15.0  724.0  13988.609996        4.778151   \n",
       "5      12000.0       368.45      12.0  764.0  13263.954639        5.021189   \n",
       "6      14000.0       470.71       6.0  674.0  16945.318783        4.944483   \n",
       "\n",
       "    log_dti  log_revol_bal  log_delinq_2yrs  emp_length_num  Log_Annual_ROI  \\\n",
       "1  1.100715       4.122150             -inf             3.0       -1.346243   \n",
       "2  1.359266       4.563932             -inf            10.0       -1.193486   \n",
       "3  0.664642       3.853516             -inf             4.0       -1.167860   \n",
       "5  1.147676       4.119520             -inf            10.0       -1.481653   \n",
       "6  1.000868       3.566555              0.0             4.0       -1.194953   \n",
       "\n",
       "     issue_d earliest_cr_line last_pymnt_d  target  \n",
       "1 2013-12-01       2003-09-01   2016-06-01       0  \n",
       "2 2013-12-01       1986-10-01   2016-07-01       0  \n",
       "3 2013-12-01       2009-12-01   2016-04-01       0  \n",
       "5 2013-12-01       1994-03-01   2017-01-01       0  \n",
       "6 2013-12-01       1988-06-01   2017-01-01       0  "
      ]
     },
     "execution_count": 5,
     "metadata": {},
     "output_type": "execute_result"
    }
   ],
   "source": [
    "df.head()"
   ]
  },
  {
   "cell_type": "code",
   "execution_count": 6,
   "metadata": {},
   "outputs": [
    {
     "data": {
      "text/plain": [
       "(286170, 26)"
      ]
     },
     "execution_count": 6,
     "metadata": {},
     "output_type": "execute_result"
    }
   ],
   "source": [
    "df.shape"
   ]
  },
  {
   "cell_type": "markdown",
   "metadata": {},
   "source": [
    "It is computationally expensive to run ML models on this dataset. So we decide to take a small sample of this dataset."
   ]
  },
  {
   "cell_type": "code",
   "execution_count": 15,
   "metadata": {},
   "outputs": [],
   "source": [
    "# resample data (35%)\n",
    "df_sam=df.sample(frac=0.35, replace=False, random_state=42)"
   ]
  },
  {
   "cell_type": "code",
   "execution_count": 16,
   "metadata": {},
   "outputs": [
    {
     "data": {
      "text/plain": [
       "(100160, 26)"
      ]
     },
     "execution_count": 16,
     "metadata": {},
     "output_type": "execute_result"
    }
   ],
   "source": [
    "df_sam.shape"
   ]
  },
  {
   "cell_type": "markdown",
   "metadata": {},
   "source": [
    "## Feature Engineering"
   ]
  },
  {
   "cell_type": "markdown",
   "metadata": {},
   "source": [
    "#### 1. datetime\n",
    "Converting the datetime columns into integer number of year and month "
   ]
  },
  {
   "cell_type": "code",
   "execution_count": 17,
   "metadata": {},
   "outputs": [
    {
     "name": "stdout",
     "output_type": "stream",
     "text": [
      "Index(['issue_d', 'earliest_cr_line', 'last_pymnt_d'], dtype='object')\n",
      "number of datetime features = 3\n"
     ]
    }
   ],
   "source": [
    "col_dt = df_sam.select_dtypes('datetime64').columns\n",
    "print(col_dt)\n",
    "print('number of datetime features =', len(col_dt))"
   ]
  },
  {
   "cell_type": "code",
   "execution_count": 18,
   "metadata": {},
   "outputs": [],
   "source": [
    "df_sam['issue_y']=pd.to_datetime(df_sam['issue_d']).apply(lambda x: int(x.strftime('%Y')))\n",
    "df_sam['issue_m']=pd.to_datetime(df_sam['issue_d']).apply(lambda x: int(x.strftime('%m')))\n",
    "df_sam['earliest_cr_line_y']=pd.to_datetime(df_sam['earliest_cr_line']).apply(lambda x: int(x.strftime('%Y')))\n",
    "df_sam['earliest_cr_line_m']=pd.to_datetime(df_sam['earliest_cr_line']).apply(lambda x: int(x.strftime('%m')))\n",
    "df_sam['last_pymnt_y']=pd.to_datetime(df_sam['last_pymnt_d']).apply(lambda x: int(x.strftime('%Y')))\n",
    "df_sam['last_pymnt_m']=pd.to_datetime(df_sam['last_pymnt_d']).apply(lambda x: int(x.strftime('%m')))"
   ]
  },
  {
   "cell_type": "code",
   "execution_count": 19,
   "metadata": {},
   "outputs": [],
   "source": [
    "# drop datetime columns\n",
    "df_sam.drop(col_dt, axis=1, inplace=True)"
   ]
  },
  {
   "cell_type": "markdown",
   "metadata": {},
   "source": [
    "#### 2. Categorical variable\n",
    "one-hot encoding"
   ]
  },
  {
   "cell_type": "code",
   "execution_count": 20,
   "metadata": {},
   "outputs": [
    {
     "name": "stdout",
     "output_type": "stream",
     "text": [
      "Index(['home_ownership', 'verification_status', 'purpose', 'addr_state'], dtype='object')\n",
      "number of categorical features = 4\n"
     ]
    }
   ],
   "source": [
    "col_cat = df_sam.select_dtypes('object').columns\n",
    "print(col_cat)\n",
    "print('number of categorical features =', len(col_cat))"
   ]
  },
  {
   "cell_type": "code",
   "execution_count": 21,
   "metadata": {},
   "outputs": [
    {
     "data": {
      "text/html": [
       "<div>\n",
       "<style scoped>\n",
       "    .dataframe tbody tr th:only-of-type {\n",
       "        vertical-align: middle;\n",
       "    }\n",
       "\n",
       "    .dataframe tbody tr th {\n",
       "        vertical-align: top;\n",
       "    }\n",
       "\n",
       "    .dataframe thead th {\n",
       "        text-align: right;\n",
       "    }\n",
       "</style>\n",
       "<table border=\"1\" class=\"dataframe\">\n",
       "  <thead>\n",
       "    <tr style=\"text-align: right;\">\n",
       "      <th></th>\n",
       "      <th>home_ownership_ANY</th>\n",
       "      <th>home_ownership_MORTGAGE</th>\n",
       "      <th>home_ownership_OTHER</th>\n",
       "      <th>home_ownership_OWN</th>\n",
       "      <th>home_ownership_RENT</th>\n",
       "      <th>home_ownership_nan</th>\n",
       "      <th>verification_status_Not Verified</th>\n",
       "      <th>verification_status_Source Verified</th>\n",
       "      <th>verification_status_Verified</th>\n",
       "      <th>verification_status_nan</th>\n",
       "      <th>purpose_car</th>\n",
       "      <th>purpose_credit_card</th>\n",
       "      <th>purpose_debt_consolidation</th>\n",
       "      <th>purpose_home_improvement</th>\n",
       "      <th>purpose_house</th>\n",
       "      <th>purpose_major_purchase</th>\n",
       "      <th>purpose_medical</th>\n",
       "      <th>purpose_moving</th>\n",
       "      <th>purpose_other</th>\n",
       "      <th>purpose_renewable_energy</th>\n",
       "      <th>purpose_small_business</th>\n",
       "      <th>purpose_vacation</th>\n",
       "      <th>purpose_wedding</th>\n",
       "      <th>purpose_nan</th>\n",
       "      <th>addr_state_AK</th>\n",
       "      <th>...</th>\n",
       "      <th>addr_state_MS</th>\n",
       "      <th>addr_state_MT</th>\n",
       "      <th>addr_state_NC</th>\n",
       "      <th>addr_state_NH</th>\n",
       "      <th>addr_state_NJ</th>\n",
       "      <th>addr_state_NM</th>\n",
       "      <th>addr_state_NV</th>\n",
       "      <th>addr_state_NY</th>\n",
       "      <th>addr_state_OH</th>\n",
       "      <th>addr_state_OK</th>\n",
       "      <th>addr_state_OR</th>\n",
       "      <th>addr_state_PA</th>\n",
       "      <th>addr_state_RI</th>\n",
       "      <th>addr_state_SC</th>\n",
       "      <th>addr_state_SD</th>\n",
       "      <th>addr_state_TN</th>\n",
       "      <th>addr_state_TX</th>\n",
       "      <th>addr_state_UT</th>\n",
       "      <th>addr_state_VA</th>\n",
       "      <th>addr_state_VT</th>\n",
       "      <th>addr_state_WA</th>\n",
       "      <th>addr_state_WI</th>\n",
       "      <th>addr_state_WV</th>\n",
       "      <th>addr_state_WY</th>\n",
       "      <th>addr_state_nan</th>\n",
       "    </tr>\n",
       "  </thead>\n",
       "  <tbody>\n",
       "    <tr>\n",
       "      <td>236609</td>\n",
       "      <td>0</td>\n",
       "      <td>1</td>\n",
       "      <td>0</td>\n",
       "      <td>0</td>\n",
       "      <td>0</td>\n",
       "      <td>0</td>\n",
       "      <td>0</td>\n",
       "      <td>0</td>\n",
       "      <td>1</td>\n",
       "      <td>0</td>\n",
       "      <td>0</td>\n",
       "      <td>0</td>\n",
       "      <td>1</td>\n",
       "      <td>0</td>\n",
       "      <td>0</td>\n",
       "      <td>0</td>\n",
       "      <td>0</td>\n",
       "      <td>0</td>\n",
       "      <td>0</td>\n",
       "      <td>0</td>\n",
       "      <td>0</td>\n",
       "      <td>0</td>\n",
       "      <td>0</td>\n",
       "      <td>0</td>\n",
       "      <td>0</td>\n",
       "      <td>...</td>\n",
       "      <td>0</td>\n",
       "      <td>0</td>\n",
       "      <td>0</td>\n",
       "      <td>0</td>\n",
       "      <td>0</td>\n",
       "      <td>0</td>\n",
       "      <td>0</td>\n",
       "      <td>0</td>\n",
       "      <td>0</td>\n",
       "      <td>0</td>\n",
       "      <td>0</td>\n",
       "      <td>0</td>\n",
       "      <td>0</td>\n",
       "      <td>0</td>\n",
       "      <td>0</td>\n",
       "      <td>1</td>\n",
       "      <td>0</td>\n",
       "      <td>0</td>\n",
       "      <td>0</td>\n",
       "      <td>0</td>\n",
       "      <td>0</td>\n",
       "      <td>0</td>\n",
       "      <td>0</td>\n",
       "      <td>0</td>\n",
       "      <td>0</td>\n",
       "    </tr>\n",
       "    <tr>\n",
       "      <td>273214</td>\n",
       "      <td>0</td>\n",
       "      <td>0</td>\n",
       "      <td>0</td>\n",
       "      <td>0</td>\n",
       "      <td>1</td>\n",
       "      <td>0</td>\n",
       "      <td>1</td>\n",
       "      <td>0</td>\n",
       "      <td>0</td>\n",
       "      <td>0</td>\n",
       "      <td>0</td>\n",
       "      <td>1</td>\n",
       "      <td>0</td>\n",
       "      <td>0</td>\n",
       "      <td>0</td>\n",
       "      <td>0</td>\n",
       "      <td>0</td>\n",
       "      <td>0</td>\n",
       "      <td>0</td>\n",
       "      <td>0</td>\n",
       "      <td>0</td>\n",
       "      <td>0</td>\n",
       "      <td>0</td>\n",
       "      <td>0</td>\n",
       "      <td>0</td>\n",
       "      <td>...</td>\n",
       "      <td>0</td>\n",
       "      <td>0</td>\n",
       "      <td>0</td>\n",
       "      <td>0</td>\n",
       "      <td>0</td>\n",
       "      <td>0</td>\n",
       "      <td>0</td>\n",
       "      <td>1</td>\n",
       "      <td>0</td>\n",
       "      <td>0</td>\n",
       "      <td>0</td>\n",
       "      <td>0</td>\n",
       "      <td>0</td>\n",
       "      <td>0</td>\n",
       "      <td>0</td>\n",
       "      <td>0</td>\n",
       "      <td>0</td>\n",
       "      <td>0</td>\n",
       "      <td>0</td>\n",
       "      <td>0</td>\n",
       "      <td>0</td>\n",
       "      <td>0</td>\n",
       "      <td>0</td>\n",
       "      <td>0</td>\n",
       "      <td>0</td>\n",
       "    </tr>\n",
       "    <tr>\n",
       "      <td>83110</td>\n",
       "      <td>0</td>\n",
       "      <td>0</td>\n",
       "      <td>0</td>\n",
       "      <td>0</td>\n",
       "      <td>1</td>\n",
       "      <td>0</td>\n",
       "      <td>0</td>\n",
       "      <td>0</td>\n",
       "      <td>1</td>\n",
       "      <td>0</td>\n",
       "      <td>0</td>\n",
       "      <td>0</td>\n",
       "      <td>1</td>\n",
       "      <td>0</td>\n",
       "      <td>0</td>\n",
       "      <td>0</td>\n",
       "      <td>0</td>\n",
       "      <td>0</td>\n",
       "      <td>0</td>\n",
       "      <td>0</td>\n",
       "      <td>0</td>\n",
       "      <td>0</td>\n",
       "      <td>0</td>\n",
       "      <td>0</td>\n",
       "      <td>0</td>\n",
       "      <td>...</td>\n",
       "      <td>0</td>\n",
       "      <td>0</td>\n",
       "      <td>0</td>\n",
       "      <td>0</td>\n",
       "      <td>0</td>\n",
       "      <td>0</td>\n",
       "      <td>0</td>\n",
       "      <td>1</td>\n",
       "      <td>0</td>\n",
       "      <td>0</td>\n",
       "      <td>0</td>\n",
       "      <td>0</td>\n",
       "      <td>0</td>\n",
       "      <td>0</td>\n",
       "      <td>0</td>\n",
       "      <td>0</td>\n",
       "      <td>0</td>\n",
       "      <td>0</td>\n",
       "      <td>0</td>\n",
       "      <td>0</td>\n",
       "      <td>0</td>\n",
       "      <td>0</td>\n",
       "      <td>0</td>\n",
       "      <td>0</td>\n",
       "      <td>0</td>\n",
       "    </tr>\n",
       "    <tr>\n",
       "      <td>289411</td>\n",
       "      <td>0</td>\n",
       "      <td>1</td>\n",
       "      <td>0</td>\n",
       "      <td>0</td>\n",
       "      <td>0</td>\n",
       "      <td>0</td>\n",
       "      <td>0</td>\n",
       "      <td>1</td>\n",
       "      <td>0</td>\n",
       "      <td>0</td>\n",
       "      <td>0</td>\n",
       "      <td>0</td>\n",
       "      <td>1</td>\n",
       "      <td>0</td>\n",
       "      <td>0</td>\n",
       "      <td>0</td>\n",
       "      <td>0</td>\n",
       "      <td>0</td>\n",
       "      <td>0</td>\n",
       "      <td>0</td>\n",
       "      <td>0</td>\n",
       "      <td>0</td>\n",
       "      <td>0</td>\n",
       "      <td>0</td>\n",
       "      <td>0</td>\n",
       "      <td>...</td>\n",
       "      <td>0</td>\n",
       "      <td>0</td>\n",
       "      <td>0</td>\n",
       "      <td>0</td>\n",
       "      <td>0</td>\n",
       "      <td>0</td>\n",
       "      <td>0</td>\n",
       "      <td>1</td>\n",
       "      <td>0</td>\n",
       "      <td>0</td>\n",
       "      <td>0</td>\n",
       "      <td>0</td>\n",
       "      <td>0</td>\n",
       "      <td>0</td>\n",
       "      <td>0</td>\n",
       "      <td>0</td>\n",
       "      <td>0</td>\n",
       "      <td>0</td>\n",
       "      <td>0</td>\n",
       "      <td>0</td>\n",
       "      <td>0</td>\n",
       "      <td>0</td>\n",
       "      <td>0</td>\n",
       "      <td>0</td>\n",
       "      <td>0</td>\n",
       "    </tr>\n",
       "    <tr>\n",
       "      <td>364895</td>\n",
       "      <td>0</td>\n",
       "      <td>0</td>\n",
       "      <td>0</td>\n",
       "      <td>0</td>\n",
       "      <td>1</td>\n",
       "      <td>0</td>\n",
       "      <td>1</td>\n",
       "      <td>0</td>\n",
       "      <td>0</td>\n",
       "      <td>0</td>\n",
       "      <td>0</td>\n",
       "      <td>1</td>\n",
       "      <td>0</td>\n",
       "      <td>0</td>\n",
       "      <td>0</td>\n",
       "      <td>0</td>\n",
       "      <td>0</td>\n",
       "      <td>0</td>\n",
       "      <td>0</td>\n",
       "      <td>0</td>\n",
       "      <td>0</td>\n",
       "      <td>0</td>\n",
       "      <td>0</td>\n",
       "      <td>0</td>\n",
       "      <td>0</td>\n",
       "      <td>...</td>\n",
       "      <td>0</td>\n",
       "      <td>0</td>\n",
       "      <td>0</td>\n",
       "      <td>0</td>\n",
       "      <td>0</td>\n",
       "      <td>0</td>\n",
       "      <td>0</td>\n",
       "      <td>0</td>\n",
       "      <td>0</td>\n",
       "      <td>0</td>\n",
       "      <td>0</td>\n",
       "      <td>0</td>\n",
       "      <td>0</td>\n",
       "      <td>0</td>\n",
       "      <td>0</td>\n",
       "      <td>0</td>\n",
       "      <td>0</td>\n",
       "      <td>0</td>\n",
       "      <td>0</td>\n",
       "      <td>0</td>\n",
       "      <td>0</td>\n",
       "      <td>0</td>\n",
       "      <td>0</td>\n",
       "      <td>0</td>\n",
       "      <td>0</td>\n",
       "    </tr>\n",
       "  </tbody>\n",
       "</table>\n",
       "<p>5 rows × 71 columns</p>\n",
       "</div>"
      ],
      "text/plain": [
       "        home_ownership_ANY  home_ownership_MORTGAGE  home_ownership_OTHER  \\\n",
       "236609                   0                        1                     0   \n",
       "273214                   0                        0                     0   \n",
       "83110                    0                        0                     0   \n",
       "289411                   0                        1                     0   \n",
       "364895                   0                        0                     0   \n",
       "\n",
       "        home_ownership_OWN  home_ownership_RENT  home_ownership_nan  \\\n",
       "236609                   0                    0                   0   \n",
       "273214                   0                    1                   0   \n",
       "83110                    0                    1                   0   \n",
       "289411                   0                    0                   0   \n",
       "364895                   0                    1                   0   \n",
       "\n",
       "        verification_status_Not Verified  verification_status_Source Verified  \\\n",
       "236609                                 0                                    0   \n",
       "273214                                 1                                    0   \n",
       "83110                                  0                                    0   \n",
       "289411                                 0                                    1   \n",
       "364895                                 1                                    0   \n",
       "\n",
       "        verification_status_Verified  verification_status_nan  purpose_car  \\\n",
       "236609                             1                        0            0   \n",
       "273214                             0                        0            0   \n",
       "83110                              1                        0            0   \n",
       "289411                             0                        0            0   \n",
       "364895                             0                        0            0   \n",
       "\n",
       "        purpose_credit_card  purpose_debt_consolidation  \\\n",
       "236609                    0                           1   \n",
       "273214                    1                           0   \n",
       "83110                     0                           1   \n",
       "289411                    0                           1   \n",
       "364895                    1                           0   \n",
       "\n",
       "        purpose_home_improvement  purpose_house  purpose_major_purchase  \\\n",
       "236609                         0              0                       0   \n",
       "273214                         0              0                       0   \n",
       "83110                          0              0                       0   \n",
       "289411                         0              0                       0   \n",
       "364895                         0              0                       0   \n",
       "\n",
       "        purpose_medical  purpose_moving  purpose_other  \\\n",
       "236609                0               0              0   \n",
       "273214                0               0              0   \n",
       "83110                 0               0              0   \n",
       "289411                0               0              0   \n",
       "364895                0               0              0   \n",
       "\n",
       "        purpose_renewable_energy  purpose_small_business  purpose_vacation  \\\n",
       "236609                         0                       0                 0   \n",
       "273214                         0                       0                 0   \n",
       "83110                          0                       0                 0   \n",
       "289411                         0                       0                 0   \n",
       "364895                         0                       0                 0   \n",
       "\n",
       "        purpose_wedding  purpose_nan  addr_state_AK  ...  addr_state_MS  \\\n",
       "236609                0            0              0  ...              0   \n",
       "273214                0            0              0  ...              0   \n",
       "83110                 0            0              0  ...              0   \n",
       "289411                0            0              0  ...              0   \n",
       "364895                0            0              0  ...              0   \n",
       "\n",
       "        addr_state_MT  addr_state_NC  addr_state_NH  addr_state_NJ  \\\n",
       "236609              0              0              0              0   \n",
       "273214              0              0              0              0   \n",
       "83110               0              0              0              0   \n",
       "289411              0              0              0              0   \n",
       "364895              0              0              0              0   \n",
       "\n",
       "        addr_state_NM  addr_state_NV  addr_state_NY  addr_state_OH  \\\n",
       "236609              0              0              0              0   \n",
       "273214              0              0              1              0   \n",
       "83110               0              0              1              0   \n",
       "289411              0              0              1              0   \n",
       "364895              0              0              0              0   \n",
       "\n",
       "        addr_state_OK  addr_state_OR  addr_state_PA  addr_state_RI  \\\n",
       "236609              0              0              0              0   \n",
       "273214              0              0              0              0   \n",
       "83110               0              0              0              0   \n",
       "289411              0              0              0              0   \n",
       "364895              0              0              0              0   \n",
       "\n",
       "        addr_state_SC  addr_state_SD  addr_state_TN  addr_state_TX  \\\n",
       "236609              0              0              1              0   \n",
       "273214              0              0              0              0   \n",
       "83110               0              0              0              0   \n",
       "289411              0              0              0              0   \n",
       "364895              0              0              0              0   \n",
       "\n",
       "        addr_state_UT  addr_state_VA  addr_state_VT  addr_state_WA  \\\n",
       "236609              0              0              0              0   \n",
       "273214              0              0              0              0   \n",
       "83110               0              0              0              0   \n",
       "289411              0              0              0              0   \n",
       "364895              0              0              0              0   \n",
       "\n",
       "        addr_state_WI  addr_state_WV  addr_state_WY  addr_state_nan  \n",
       "236609              0              0              0               0  \n",
       "273214              0              0              0               0  \n",
       "83110               0              0              0               0  \n",
       "289411              0              0              0               0  \n",
       "364895              0              0              0               0  \n",
       "\n",
       "[5 rows x 71 columns]"
      ]
     },
     "execution_count": 21,
     "metadata": {},
     "output_type": "execute_result"
    }
   ],
   "source": [
    "#one-hot encoding\n",
    "df_cat = pd.get_dummies(df_sam[col_cat],dummy_na=True)\n",
    "df_cat.head()"
   ]
  },
  {
   "cell_type": "markdown",
   "metadata": {},
   "source": [
    "#### 3. Numerical variable"
   ]
  },
  {
   "cell_type": "code",
   "execution_count": 22,
   "metadata": {},
   "outputs": [
    {
     "name": "stdout",
     "output_type": "stream",
     "text": [
      "Index(['pub_rec', 'loan_period', 'int_rate', 'revol_util', 'loan_amnt',\n",
      "       'funded_amnt', 'installment', 'open_acc', 'fico', 'total_pymnt',\n",
      "       'log_annual_inc', 'log_dti', 'log_revol_bal', 'log_delinq_2yrs',\n",
      "       'emp_length_num', 'Log_Annual_ROI'],\n",
      "      dtype='object')\n",
      "number of numerical feature = 16\n"
     ]
    }
   ],
   "source": [
    "col_num = df_sam.select_dtypes('float').columns \n",
    "print(col_num)\n",
    "print('number of numerical feature =', len(col_num))"
   ]
  },
  {
   "cell_type": "code",
   "execution_count": 23,
   "metadata": {},
   "outputs": [
    {
     "name": "stdout",
     "output_type": "stream",
     "text": [
      "Index(['term_num', 'grade_num', 'target', 'issue_y', 'issue_m',\n",
      "       'earliest_cr_line_y', 'earliest_cr_line_m', 'last_pymnt_y',\n",
      "       'last_pymnt_m'],\n",
      "      dtype='object')\n"
     ]
    }
   ],
   "source": [
    "col_int = df_sam.select_dtypes('int64').columns \n",
    "print(col_int)"
   ]
  },
  {
   "cell_type": "code",
   "execution_count": 24,
   "metadata": {},
   "outputs": [
    {
     "data": {
      "text/html": [
       "<div>\n",
       "<style scoped>\n",
       "    .dataframe tbody tr th:only-of-type {\n",
       "        vertical-align: middle;\n",
       "    }\n",
       "\n",
       "    .dataframe tbody tr th {\n",
       "        vertical-align: top;\n",
       "    }\n",
       "\n",
       "    .dataframe thead th {\n",
       "        text-align: right;\n",
       "    }\n",
       "</style>\n",
       "<table border=\"1\" class=\"dataframe\">\n",
       "  <thead>\n",
       "    <tr style=\"text-align: right;\">\n",
       "      <th></th>\n",
       "      <th>pub_rec</th>\n",
       "      <th>loan_period</th>\n",
       "      <th>int_rate</th>\n",
       "      <th>revol_util</th>\n",
       "      <th>loan_amnt</th>\n",
       "      <th>funded_amnt</th>\n",
       "      <th>installment</th>\n",
       "      <th>open_acc</th>\n",
       "      <th>fico</th>\n",
       "      <th>total_pymnt</th>\n",
       "      <th>log_annual_inc</th>\n",
       "      <th>log_dti</th>\n",
       "      <th>log_revol_bal</th>\n",
       "      <th>emp_length_num</th>\n",
       "      <th>Log_Annual_ROI</th>\n",
       "      <th>term_num</th>\n",
       "      <th>grade_num</th>\n",
       "      <th>target</th>\n",
       "      <th>issue_y</th>\n",
       "      <th>issue_m</th>\n",
       "      <th>earliest_cr_line_y</th>\n",
       "      <th>earliest_cr_line_m</th>\n",
       "      <th>last_pymnt_y</th>\n",
       "      <th>last_pymnt_m</th>\n",
       "    </tr>\n",
       "  </thead>\n",
       "  <tbody>\n",
       "    <tr>\n",
       "      <td>236609</td>\n",
       "      <td>0.0</td>\n",
       "      <td>20.994271</td>\n",
       "      <td>17.57</td>\n",
       "      <td>74.8</td>\n",
       "      <td>13325.0</td>\n",
       "      <td>13325.0</td>\n",
       "      <td>335.26</td>\n",
       "      <td>9.0</td>\n",
       "      <td>684.0</td>\n",
       "      <td>7040.460000</td>\n",
       "      <td>4.623249</td>\n",
       "      <td>1.319938</td>\n",
       "      <td>4.131587</td>\n",
       "      <td>5.0</td>\n",
       "      <td>-0.514900</td>\n",
       "      <td>60</td>\n",
       "      <td>4</td>\n",
       "      <td>1</td>\n",
       "      <td>2014</td>\n",
       "      <td>10</td>\n",
       "      <td>1999</td>\n",
       "      <td>7</td>\n",
       "      <td>2016</td>\n",
       "      <td>7</td>\n",
       "    </tr>\n",
       "    <tr>\n",
       "      <td>273214</td>\n",
       "      <td>0.0</td>\n",
       "      <td>25.035422</td>\n",
       "      <td>10.99</td>\n",
       "      <td>37.4</td>\n",
       "      <td>4000.0</td>\n",
       "      <td>4000.0</td>\n",
       "      <td>130.94</td>\n",
       "      <td>10.0</td>\n",
       "      <td>669.0</td>\n",
       "      <td>3295.080000</td>\n",
       "      <td>4.318063</td>\n",
       "      <td>1.154120</td>\n",
       "      <td>3.830781</td>\n",
       "      <td>0.0</td>\n",
       "      <td>-1.051898</td>\n",
       "      <td>36</td>\n",
       "      <td>6</td>\n",
       "      <td>1</td>\n",
       "      <td>2014</td>\n",
       "      <td>8</td>\n",
       "      <td>2009</td>\n",
       "      <td>10</td>\n",
       "      <td>2016</td>\n",
       "      <td>9</td>\n",
       "    </tr>\n",
       "    <tr>\n",
       "      <td>83110</td>\n",
       "      <td>0.0</td>\n",
       "      <td>16.000329</td>\n",
       "      <td>17.77</td>\n",
       "      <td>75.6</td>\n",
       "      <td>25000.0</td>\n",
       "      <td>25000.0</td>\n",
       "      <td>900.93</td>\n",
       "      <td>13.0</td>\n",
       "      <td>669.0</td>\n",
       "      <td>29911.816859</td>\n",
       "      <td>4.778151</td>\n",
       "      <td>1.211121</td>\n",
       "      <td>4.464936</td>\n",
       "      <td>2.0</td>\n",
       "      <td>-0.841639</td>\n",
       "      <td>36</td>\n",
       "      <td>4</td>\n",
       "      <td>0</td>\n",
       "      <td>2013</td>\n",
       "      <td>6</td>\n",
       "      <td>2004</td>\n",
       "      <td>4</td>\n",
       "      <td>2014</td>\n",
       "      <td>10</td>\n",
       "    </tr>\n",
       "    <tr>\n",
       "      <td>289411</td>\n",
       "      <td>0.0</td>\n",
       "      <td>32.000657</td>\n",
       "      <td>12.99</td>\n",
       "      <td>23.7</td>\n",
       "      <td>9125.0</td>\n",
       "      <td>9125.0</td>\n",
       "      <td>307.42</td>\n",
       "      <td>11.0</td>\n",
       "      <td>724.0</td>\n",
       "      <td>11040.748611</td>\n",
       "      <td>4.322219</td>\n",
       "      <td>1.211921</td>\n",
       "      <td>4.033142</td>\n",
       "      <td>3.0</td>\n",
       "      <td>-1.130301</td>\n",
       "      <td>36</td>\n",
       "      <td>5</td>\n",
       "      <td>0</td>\n",
       "      <td>2014</td>\n",
       "      <td>7</td>\n",
       "      <td>2002</td>\n",
       "      <td>3</td>\n",
       "      <td>2017</td>\n",
       "      <td>3</td>\n",
       "    </tr>\n",
       "    <tr>\n",
       "      <td>364895</td>\n",
       "      <td>0.0</td>\n",
       "      <td>36.008953</td>\n",
       "      <td>8.90</td>\n",
       "      <td>77.5</td>\n",
       "      <td>9600.0</td>\n",
       "      <td>9600.0</td>\n",
       "      <td>304.84</td>\n",
       "      <td>8.0</td>\n",
       "      <td>669.0</td>\n",
       "      <td>10973.863349</td>\n",
       "      <td>4.829304</td>\n",
       "      <td>1.351216</td>\n",
       "      <td>3.979002</td>\n",
       "      <td>2.0</td>\n",
       "      <td>-1.341210</td>\n",
       "      <td>36</td>\n",
       "      <td>7</td>\n",
       "      <td>0</td>\n",
       "      <td>2014</td>\n",
       "      <td>3</td>\n",
       "      <td>2005</td>\n",
       "      <td>5</td>\n",
       "      <td>2017</td>\n",
       "      <td>3</td>\n",
       "    </tr>\n",
       "  </tbody>\n",
       "</table>\n",
       "</div>"
      ],
      "text/plain": [
       "        pub_rec  loan_period  int_rate  revol_util  loan_amnt  funded_amnt  \\\n",
       "236609      0.0    20.994271     17.57        74.8    13325.0      13325.0   \n",
       "273214      0.0    25.035422     10.99        37.4     4000.0       4000.0   \n",
       "83110       0.0    16.000329     17.77        75.6    25000.0      25000.0   \n",
       "289411      0.0    32.000657     12.99        23.7     9125.0       9125.0   \n",
       "364895      0.0    36.008953      8.90        77.5     9600.0       9600.0   \n",
       "\n",
       "        installment  open_acc   fico   total_pymnt  log_annual_inc   log_dti  \\\n",
       "236609       335.26       9.0  684.0   7040.460000        4.623249  1.319938   \n",
       "273214       130.94      10.0  669.0   3295.080000        4.318063  1.154120   \n",
       "83110        900.93      13.0  669.0  29911.816859        4.778151  1.211121   \n",
       "289411       307.42      11.0  724.0  11040.748611        4.322219  1.211921   \n",
       "364895       304.84       8.0  669.0  10973.863349        4.829304  1.351216   \n",
       "\n",
       "        log_revol_bal  emp_length_num  Log_Annual_ROI  term_num  grade_num  \\\n",
       "236609       4.131587             5.0       -0.514900        60          4   \n",
       "273214       3.830781             0.0       -1.051898        36          6   \n",
       "83110        4.464936             2.0       -0.841639        36          4   \n",
       "289411       4.033142             3.0       -1.130301        36          5   \n",
       "364895       3.979002             2.0       -1.341210        36          7   \n",
       "\n",
       "        target  issue_y  issue_m  earliest_cr_line_y  earliest_cr_line_m  \\\n",
       "236609       1     2014       10                1999                   7   \n",
       "273214       1     2014        8                2009                  10   \n",
       "83110        0     2013        6                2004                   4   \n",
       "289411       0     2014        7                2002                   3   \n",
       "364895       0     2014        3                2005                   5   \n",
       "\n",
       "        last_pymnt_y  last_pymnt_m  \n",
       "236609          2016             7  \n",
       "273214          2016             9  \n",
       "83110           2014            10  \n",
       "289411          2017             3  \n",
       "364895          2017             3  "
      ]
     },
     "execution_count": 24,
     "metadata": {},
     "output_type": "execute_result"
    }
   ],
   "source": [
    "df_num = pd.concat((df_sam[col_num], df_sam[col_int]),axis=1)\n",
    "df_num.drop(['log_delinq_2yrs'], axis=1, inplace=True) # drop this feature, because it contains infinity.\n",
    "df_num.head()"
   ]
  },
  {
   "cell_type": "code",
   "execution_count": 25,
   "metadata": {},
   "outputs": [
    {
     "data": {
      "text/plain": [
       "(100160, 24)"
      ]
     },
     "execution_count": 25,
     "metadata": {},
     "output_type": "execute_result"
    }
   ],
   "source": [
    "df_num.shape"
   ]
  },
  {
   "cell_type": "code",
   "execution_count": 26,
   "metadata": {},
   "outputs": [],
   "source": [
    "df_sam.rename(columns={\"target\": \"default\"},inplace=True)"
   ]
  },
  {
   "cell_type": "code",
   "execution_count": 34,
   "metadata": {},
   "outputs": [],
   "source": [
    "df_num.rename(columns={\"target\": \"default\"},inplace=True)"
   ]
  },
  {
   "cell_type": "code",
   "execution_count": 35,
   "metadata": {},
   "outputs": [
    {
     "data": {
      "text/html": [
       "<div>\n",
       "<style scoped>\n",
       "    .dataframe tbody tr th:only-of-type {\n",
       "        vertical-align: middle;\n",
       "    }\n",
       "\n",
       "    .dataframe tbody tr th {\n",
       "        vertical-align: top;\n",
       "    }\n",
       "\n",
       "    .dataframe thead th {\n",
       "        text-align: right;\n",
       "    }\n",
       "</style>\n",
       "<table border=\"1\" class=\"dataframe\">\n",
       "  <thead>\n",
       "    <tr style=\"text-align: right;\">\n",
       "      <th></th>\n",
       "      <th>pub_rec</th>\n",
       "      <th>loan_period</th>\n",
       "      <th>int_rate</th>\n",
       "      <th>revol_util</th>\n",
       "      <th>loan_amnt</th>\n",
       "      <th>funded_amnt</th>\n",
       "      <th>installment</th>\n",
       "      <th>open_acc</th>\n",
       "      <th>fico</th>\n",
       "      <th>total_pymnt</th>\n",
       "      <th>log_annual_inc</th>\n",
       "      <th>log_dti</th>\n",
       "      <th>log_revol_bal</th>\n",
       "      <th>emp_length_num</th>\n",
       "      <th>Log_Annual_ROI</th>\n",
       "      <th>term_num</th>\n",
       "      <th>grade_num</th>\n",
       "      <th>default</th>\n",
       "      <th>issue_y</th>\n",
       "      <th>issue_m</th>\n",
       "      <th>earliest_cr_line_y</th>\n",
       "      <th>earliest_cr_line_m</th>\n",
       "      <th>last_pymnt_y</th>\n",
       "      <th>last_pymnt_m</th>\n",
       "    </tr>\n",
       "  </thead>\n",
       "  <tbody>\n",
       "    <tr>\n",
       "      <td>236609</td>\n",
       "      <td>0.0</td>\n",
       "      <td>20.994271</td>\n",
       "      <td>17.57</td>\n",
       "      <td>74.8</td>\n",
       "      <td>13325.0</td>\n",
       "      <td>13325.0</td>\n",
       "      <td>335.26</td>\n",
       "      <td>9.0</td>\n",
       "      <td>684.0</td>\n",
       "      <td>7040.460000</td>\n",
       "      <td>4.623249</td>\n",
       "      <td>1.319938</td>\n",
       "      <td>4.131587</td>\n",
       "      <td>5.0</td>\n",
       "      <td>-0.514900</td>\n",
       "      <td>60</td>\n",
       "      <td>4</td>\n",
       "      <td>1</td>\n",
       "      <td>2014</td>\n",
       "      <td>10</td>\n",
       "      <td>1999</td>\n",
       "      <td>7</td>\n",
       "      <td>2016</td>\n",
       "      <td>7</td>\n",
       "    </tr>\n",
       "    <tr>\n",
       "      <td>273214</td>\n",
       "      <td>0.0</td>\n",
       "      <td>25.035422</td>\n",
       "      <td>10.99</td>\n",
       "      <td>37.4</td>\n",
       "      <td>4000.0</td>\n",
       "      <td>4000.0</td>\n",
       "      <td>130.94</td>\n",
       "      <td>10.0</td>\n",
       "      <td>669.0</td>\n",
       "      <td>3295.080000</td>\n",
       "      <td>4.318063</td>\n",
       "      <td>1.154120</td>\n",
       "      <td>3.830781</td>\n",
       "      <td>0.0</td>\n",
       "      <td>-1.051898</td>\n",
       "      <td>36</td>\n",
       "      <td>6</td>\n",
       "      <td>1</td>\n",
       "      <td>2014</td>\n",
       "      <td>8</td>\n",
       "      <td>2009</td>\n",
       "      <td>10</td>\n",
       "      <td>2016</td>\n",
       "      <td>9</td>\n",
       "    </tr>\n",
       "    <tr>\n",
       "      <td>83110</td>\n",
       "      <td>0.0</td>\n",
       "      <td>16.000329</td>\n",
       "      <td>17.77</td>\n",
       "      <td>75.6</td>\n",
       "      <td>25000.0</td>\n",
       "      <td>25000.0</td>\n",
       "      <td>900.93</td>\n",
       "      <td>13.0</td>\n",
       "      <td>669.0</td>\n",
       "      <td>29911.816859</td>\n",
       "      <td>4.778151</td>\n",
       "      <td>1.211121</td>\n",
       "      <td>4.464936</td>\n",
       "      <td>2.0</td>\n",
       "      <td>-0.841639</td>\n",
       "      <td>36</td>\n",
       "      <td>4</td>\n",
       "      <td>0</td>\n",
       "      <td>2013</td>\n",
       "      <td>6</td>\n",
       "      <td>2004</td>\n",
       "      <td>4</td>\n",
       "      <td>2014</td>\n",
       "      <td>10</td>\n",
       "    </tr>\n",
       "    <tr>\n",
       "      <td>289411</td>\n",
       "      <td>0.0</td>\n",
       "      <td>32.000657</td>\n",
       "      <td>12.99</td>\n",
       "      <td>23.7</td>\n",
       "      <td>9125.0</td>\n",
       "      <td>9125.0</td>\n",
       "      <td>307.42</td>\n",
       "      <td>11.0</td>\n",
       "      <td>724.0</td>\n",
       "      <td>11040.748611</td>\n",
       "      <td>4.322219</td>\n",
       "      <td>1.211921</td>\n",
       "      <td>4.033142</td>\n",
       "      <td>3.0</td>\n",
       "      <td>-1.130301</td>\n",
       "      <td>36</td>\n",
       "      <td>5</td>\n",
       "      <td>0</td>\n",
       "      <td>2014</td>\n",
       "      <td>7</td>\n",
       "      <td>2002</td>\n",
       "      <td>3</td>\n",
       "      <td>2017</td>\n",
       "      <td>3</td>\n",
       "    </tr>\n",
       "    <tr>\n",
       "      <td>364895</td>\n",
       "      <td>0.0</td>\n",
       "      <td>36.008953</td>\n",
       "      <td>8.90</td>\n",
       "      <td>77.5</td>\n",
       "      <td>9600.0</td>\n",
       "      <td>9600.0</td>\n",
       "      <td>304.84</td>\n",
       "      <td>8.0</td>\n",
       "      <td>669.0</td>\n",
       "      <td>10973.863349</td>\n",
       "      <td>4.829304</td>\n",
       "      <td>1.351216</td>\n",
       "      <td>3.979002</td>\n",
       "      <td>2.0</td>\n",
       "      <td>-1.341210</td>\n",
       "      <td>36</td>\n",
       "      <td>7</td>\n",
       "      <td>0</td>\n",
       "      <td>2014</td>\n",
       "      <td>3</td>\n",
       "      <td>2005</td>\n",
       "      <td>5</td>\n",
       "      <td>2017</td>\n",
       "      <td>3</td>\n",
       "    </tr>\n",
       "  </tbody>\n",
       "</table>\n",
       "</div>"
      ],
      "text/plain": [
       "        pub_rec  loan_period  int_rate  revol_util  loan_amnt  funded_amnt  \\\n",
       "236609      0.0    20.994271     17.57        74.8    13325.0      13325.0   \n",
       "273214      0.0    25.035422     10.99        37.4     4000.0       4000.0   \n",
       "83110       0.0    16.000329     17.77        75.6    25000.0      25000.0   \n",
       "289411      0.0    32.000657     12.99        23.7     9125.0       9125.0   \n",
       "364895      0.0    36.008953      8.90        77.5     9600.0       9600.0   \n",
       "\n",
       "        installment  open_acc   fico   total_pymnt  log_annual_inc   log_dti  \\\n",
       "236609       335.26       9.0  684.0   7040.460000        4.623249  1.319938   \n",
       "273214       130.94      10.0  669.0   3295.080000        4.318063  1.154120   \n",
       "83110        900.93      13.0  669.0  29911.816859        4.778151  1.211121   \n",
       "289411       307.42      11.0  724.0  11040.748611        4.322219  1.211921   \n",
       "364895       304.84       8.0  669.0  10973.863349        4.829304  1.351216   \n",
       "\n",
       "        log_revol_bal  emp_length_num  Log_Annual_ROI  term_num  grade_num  \\\n",
       "236609       4.131587             5.0       -0.514900        60          4   \n",
       "273214       3.830781             0.0       -1.051898        36          6   \n",
       "83110        4.464936             2.0       -0.841639        36          4   \n",
       "289411       4.033142             3.0       -1.130301        36          5   \n",
       "364895       3.979002             2.0       -1.341210        36          7   \n",
       "\n",
       "        default  issue_y  issue_m  earliest_cr_line_y  earliest_cr_line_m  \\\n",
       "236609        1     2014       10                1999                   7   \n",
       "273214        1     2014        8                2009                  10   \n",
       "83110         0     2013        6                2004                   4   \n",
       "289411        0     2014        7                2002                   3   \n",
       "364895        0     2014        3                2005                   5   \n",
       "\n",
       "        last_pymnt_y  last_pymnt_m  \n",
       "236609          2016             7  \n",
       "273214          2016             9  \n",
       "83110           2014            10  \n",
       "289411          2017             3  \n",
       "364895          2017             3  "
      ]
     },
     "execution_count": 35,
     "metadata": {},
     "output_type": "execute_result"
    }
   ],
   "source": [
    "df_num.head()"
   ]
  },
  {
   "cell_type": "markdown",
   "metadata": {},
   "source": [
    "### Feature Selection\n",
    "\n",
    "#### 1. Eliminate correlated features \n",
    "\n",
    "- From the Pearson correlation heatmap, we found that for prediction on default as target, the annual ROI is the most predicative of all features, followed by grade, and interest rate; while total payment has negative impact.\n",
    "- To avoid overfitting, we eliminated the features that are highly correlated with each other, and only keep the following features.  (multicollinearity)\n",
    " "
   ]
  },
  {
   "cell_type": "markdown",
   "metadata": {},
   "source": [
    "#### - Eliminate feature that is uncorrelated with target"
   ]
  },
  {
   "cell_type": "code",
   "execution_count": 36,
   "metadata": {},
   "outputs": [
    {
     "data": {
      "text/plain": [
       "Log_Annual_ROI        1.000000\n",
       "int_rate              0.624795\n",
       "grade_num             0.588532\n",
       "loan_period           0.477859\n",
       "last_pymnt_y          0.392976\n",
       "fico                  0.308657\n",
       "term_num              0.243146\n",
       "default               0.219625\n",
       "revol_util            0.138283\n",
       "log_annual_inc        0.080209\n",
       "earliest_cr_line_y    0.078788\n",
       "log_revol_bal         0.075494\n",
       "total_pymnt           0.065349\n",
       "log_dti               0.058011\n",
       "pub_rec               0.055660\n",
       "last_pymnt_m          0.041597\n",
       "issue_m               0.025313\n",
       "installment           0.016408\n",
       "open_acc              0.012537\n",
       "loan_amnt             0.011111\n",
       "funded_amnt           0.011096\n",
       "Name: Log_Annual_ROI, dtype: float64"
      ]
     },
     "execution_count": 36,
     "metadata": {},
     "output_type": "execute_result"
    }
   ],
   "source": [
    "#Correlation with output variable\n",
    "cor = df_num.corr()\n",
    "cor_target = abs(cor[\"Log_Annual_ROI\"])\n",
    "\n",
    "# only keep correlation >0.01 with target\n",
    "\n",
    "relevant_features = cor_target[cor_target>0.01] \n",
    "relevant_features.sort_values(ascending=False)"
   ]
  },
  {
   "cell_type": "code",
   "execution_count": 37,
   "metadata": {},
   "outputs": [
    {
     "name": "stdout",
     "output_type": "stream",
     "text": [
      "['pub_rec', 'loan_period', 'int_rate', 'revol_util', 'loan_amnt', 'funded_amnt', 'installment', 'open_acc', 'fico', 'total_pymnt', 'log_annual_inc', 'log_dti', 'log_revol_bal', 'Log_Annual_ROI', 'term_num', 'grade_num', 'default', 'issue_m', 'earliest_cr_line_y', 'last_pymnt_y', 'last_pymnt_m']\n"
     ]
    }
   ],
   "source": [
    "# list relevant features\n",
    "list_feature = relevant_features.to_frame().index.to_list()\n",
    "print(list_feature)"
   ]
  },
  {
   "cell_type": "markdown",
   "metadata": {},
   "source": [
    "#### - Eliminate feature that is higly correlated with each other (multicollinearity)"
   ]
  },
  {
   "cell_type": "code",
   "execution_count": 38,
   "metadata": {},
   "outputs": [
    {
     "data": {
      "image/png": "[encoded data removed]",
      "text/plain": [
       "<Figure size 1440x1440 with 2 Axes>"
      ]
     },
     "metadata": {
      "needs_background": "light"
     },
     "output_type": "display_data"
    }
   ],
   "source": [
    "# heatmap\n",
    "\n",
    "plt.figure(figsize=(20,20))\n",
    "\n",
    "ax = sns.heatmap(\n",
    "    df_num[list_feature].corr(), \n",
    "    vmin=-1, vmax=1, center=0,annot = True,\n",
    "    cmap=sns.diverging_palette(20, 220, n=200),\n",
    "    square=True\n",
    ")\n",
    "ax.set_xticklabels(\n",
    "    ax.get_xticklabels(),\n",
    "    rotation=45,\n",
    "    horizontalalignment='right'\n",
    ");"
   ]
  },
  {
   "cell_type": "markdown",
   "metadata": {},
   "source": [
    "remove installment, funded_amnt, total_pymnt, grade_num, last_pymnt_y"
   ]
  },
  {
   "cell_type": "code",
   "execution_count": 39,
   "metadata": {},
   "outputs": [],
   "source": [
    "list_feature.remove('installment')\n",
    "list_feature.remove('funded_amnt')\n",
    "list_feature.remove('total_pymnt')\n",
    "list_feature.remove('grade_num') \n",
    "list_feature.remove('last_pymnt_y') "
   ]
  },
  {
   "cell_type": "code",
   "execution_count": 40,
   "metadata": {},
   "outputs": [
    {
     "data": {
      "text/plain": [
       "['pub_rec',\n",
       " 'loan_period',\n",
       " 'int_rate',\n",
       " 'revol_util',\n",
       " 'loan_amnt',\n",
       " 'open_acc',\n",
       " 'fico',\n",
       " 'log_annual_inc',\n",
       " 'log_dti',\n",
       " 'log_revol_bal',\n",
       " 'Log_Annual_ROI',\n",
       " 'term_num',\n",
       " 'default',\n",
       " 'issue_m',\n",
       " 'earliest_cr_line_y',\n",
       " 'last_pymnt_m']"
      ]
     },
     "execution_count": 40,
     "metadata": {},
     "output_type": "execute_result"
    }
   ],
   "source": [
    "list_feature"
   ]
  },
  {
   "cell_type": "code",
   "execution_count": 41,
   "metadata": {},
   "outputs": [
    {
     "data": {
      "text/html": [
       "<div>\n",
       "<style scoped>\n",
       "    .dataframe tbody tr th:only-of-type {\n",
       "        vertical-align: middle;\n",
       "    }\n",
       "\n",
       "    .dataframe tbody tr th {\n",
       "        vertical-align: top;\n",
       "    }\n",
       "\n",
       "    .dataframe thead th {\n",
       "        text-align: right;\n",
       "    }\n",
       "</style>\n",
       "<table border=\"1\" class=\"dataframe\">\n",
       "  <thead>\n",
       "    <tr style=\"text-align: right;\">\n",
       "      <th></th>\n",
       "      <th>pub_rec</th>\n",
       "      <th>loan_period</th>\n",
       "      <th>int_rate</th>\n",
       "      <th>revol_util</th>\n",
       "      <th>loan_amnt</th>\n",
       "      <th>open_acc</th>\n",
       "      <th>fico</th>\n",
       "      <th>log_annual_inc</th>\n",
       "      <th>log_dti</th>\n",
       "      <th>log_revol_bal</th>\n",
       "      <th>term_num</th>\n",
       "      <th>default</th>\n",
       "      <th>issue_m</th>\n",
       "      <th>earliest_cr_line_y</th>\n",
       "      <th>last_pymnt_m</th>\n",
       "      <th>home_ownership_ANY</th>\n",
       "      <th>home_ownership_MORTGAGE</th>\n",
       "      <th>home_ownership_OTHER</th>\n",
       "      <th>home_ownership_OWN</th>\n",
       "      <th>home_ownership_RENT</th>\n",
       "      <th>home_ownership_nan</th>\n",
       "      <th>verification_status_Not Verified</th>\n",
       "      <th>verification_status_Source Verified</th>\n",
       "      <th>verification_status_Verified</th>\n",
       "      <th>verification_status_nan</th>\n",
       "      <th>...</th>\n",
       "      <th>addr_state_MS</th>\n",
       "      <th>addr_state_MT</th>\n",
       "      <th>addr_state_NC</th>\n",
       "      <th>addr_state_NH</th>\n",
       "      <th>addr_state_NJ</th>\n",
       "      <th>addr_state_NM</th>\n",
       "      <th>addr_state_NV</th>\n",
       "      <th>addr_state_NY</th>\n",
       "      <th>addr_state_OH</th>\n",
       "      <th>addr_state_OK</th>\n",
       "      <th>addr_state_OR</th>\n",
       "      <th>addr_state_PA</th>\n",
       "      <th>addr_state_RI</th>\n",
       "      <th>addr_state_SC</th>\n",
       "      <th>addr_state_SD</th>\n",
       "      <th>addr_state_TN</th>\n",
       "      <th>addr_state_TX</th>\n",
       "      <th>addr_state_UT</th>\n",
       "      <th>addr_state_VA</th>\n",
       "      <th>addr_state_VT</th>\n",
       "      <th>addr_state_WA</th>\n",
       "      <th>addr_state_WI</th>\n",
       "      <th>addr_state_WV</th>\n",
       "      <th>addr_state_WY</th>\n",
       "      <th>addr_state_nan</th>\n",
       "    </tr>\n",
       "  </thead>\n",
       "  <tbody>\n",
       "    <tr>\n",
       "      <td>236609</td>\n",
       "      <td>0.0</td>\n",
       "      <td>20.994271</td>\n",
       "      <td>17.57</td>\n",
       "      <td>74.8</td>\n",
       "      <td>13325.0</td>\n",
       "      <td>9.0</td>\n",
       "      <td>684.0</td>\n",
       "      <td>4.623249</td>\n",
       "      <td>1.319938</td>\n",
       "      <td>4.131587</td>\n",
       "      <td>60</td>\n",
       "      <td>1</td>\n",
       "      <td>10</td>\n",
       "      <td>1999</td>\n",
       "      <td>7</td>\n",
       "      <td>0</td>\n",
       "      <td>1</td>\n",
       "      <td>0</td>\n",
       "      <td>0</td>\n",
       "      <td>0</td>\n",
       "      <td>0</td>\n",
       "      <td>0</td>\n",
       "      <td>0</td>\n",
       "      <td>1</td>\n",
       "      <td>0</td>\n",
       "      <td>...</td>\n",
       "      <td>0</td>\n",
       "      <td>0</td>\n",
       "      <td>0</td>\n",
       "      <td>0</td>\n",
       "      <td>0</td>\n",
       "      <td>0</td>\n",
       "      <td>0</td>\n",
       "      <td>0</td>\n",
       "      <td>0</td>\n",
       "      <td>0</td>\n",
       "      <td>0</td>\n",
       "      <td>0</td>\n",
       "      <td>0</td>\n",
       "      <td>0</td>\n",
       "      <td>0</td>\n",
       "      <td>1</td>\n",
       "      <td>0</td>\n",
       "      <td>0</td>\n",
       "      <td>0</td>\n",
       "      <td>0</td>\n",
       "      <td>0</td>\n",
       "      <td>0</td>\n",
       "      <td>0</td>\n",
       "      <td>0</td>\n",
       "      <td>0</td>\n",
       "    </tr>\n",
       "    <tr>\n",
       "      <td>273214</td>\n",
       "      <td>0.0</td>\n",
       "      <td>25.035422</td>\n",
       "      <td>10.99</td>\n",
       "      <td>37.4</td>\n",
       "      <td>4000.0</td>\n",
       "      <td>10.0</td>\n",
       "      <td>669.0</td>\n",
       "      <td>4.318063</td>\n",
       "      <td>1.154120</td>\n",
       "      <td>3.830781</td>\n",
       "      <td>36</td>\n",
       "      <td>1</td>\n",
       "      <td>8</td>\n",
       "      <td>2009</td>\n",
       "      <td>9</td>\n",
       "      <td>0</td>\n",
       "      <td>0</td>\n",
       "      <td>0</td>\n",
       "      <td>0</td>\n",
       "      <td>1</td>\n",
       "      <td>0</td>\n",
       "      <td>1</td>\n",
       "      <td>0</td>\n",
       "      <td>0</td>\n",
       "      <td>0</td>\n",
       "      <td>...</td>\n",
       "      <td>0</td>\n",
       "      <td>0</td>\n",
       "      <td>0</td>\n",
       "      <td>0</td>\n",
       "      <td>0</td>\n",
       "      <td>0</td>\n",
       "      <td>0</td>\n",
       "      <td>1</td>\n",
       "      <td>0</td>\n",
       "      <td>0</td>\n",
       "      <td>0</td>\n",
       "      <td>0</td>\n",
       "      <td>0</td>\n",
       "      <td>0</td>\n",
       "      <td>0</td>\n",
       "      <td>0</td>\n",
       "      <td>0</td>\n",
       "      <td>0</td>\n",
       "      <td>0</td>\n",
       "      <td>0</td>\n",
       "      <td>0</td>\n",
       "      <td>0</td>\n",
       "      <td>0</td>\n",
       "      <td>0</td>\n",
       "      <td>0</td>\n",
       "    </tr>\n",
       "    <tr>\n",
       "      <td>83110</td>\n",
       "      <td>0.0</td>\n",
       "      <td>16.000329</td>\n",
       "      <td>17.77</td>\n",
       "      <td>75.6</td>\n",
       "      <td>25000.0</td>\n",
       "      <td>13.0</td>\n",
       "      <td>669.0</td>\n",
       "      <td>4.778151</td>\n",
       "      <td>1.211121</td>\n",
       "      <td>4.464936</td>\n",
       "      <td>36</td>\n",
       "      <td>0</td>\n",
       "      <td>6</td>\n",
       "      <td>2004</td>\n",
       "      <td>10</td>\n",
       "      <td>0</td>\n",
       "      <td>0</td>\n",
       "      <td>0</td>\n",
       "      <td>0</td>\n",
       "      <td>1</td>\n",
       "      <td>0</td>\n",
       "      <td>0</td>\n",
       "      <td>0</td>\n",
       "      <td>1</td>\n",
       "      <td>0</td>\n",
       "      <td>...</td>\n",
       "      <td>0</td>\n",
       "      <td>0</td>\n",
       "      <td>0</td>\n",
       "      <td>0</td>\n",
       "      <td>0</td>\n",
       "      <td>0</td>\n",
       "      <td>0</td>\n",
       "      <td>1</td>\n",
       "      <td>0</td>\n",
       "      <td>0</td>\n",
       "      <td>0</td>\n",
       "      <td>0</td>\n",
       "      <td>0</td>\n",
       "      <td>0</td>\n",
       "      <td>0</td>\n",
       "      <td>0</td>\n",
       "      <td>0</td>\n",
       "      <td>0</td>\n",
       "      <td>0</td>\n",
       "      <td>0</td>\n",
       "      <td>0</td>\n",
       "      <td>0</td>\n",
       "      <td>0</td>\n",
       "      <td>0</td>\n",
       "      <td>0</td>\n",
       "    </tr>\n",
       "    <tr>\n",
       "      <td>289411</td>\n",
       "      <td>0.0</td>\n",
       "      <td>32.000657</td>\n",
       "      <td>12.99</td>\n",
       "      <td>23.7</td>\n",
       "      <td>9125.0</td>\n",
       "      <td>11.0</td>\n",
       "      <td>724.0</td>\n",
       "      <td>4.322219</td>\n",
       "      <td>1.211921</td>\n",
       "      <td>4.033142</td>\n",
       "      <td>36</td>\n",
       "      <td>0</td>\n",
       "      <td>7</td>\n",
       "      <td>2002</td>\n",
       "      <td>3</td>\n",
       "      <td>0</td>\n",
       "      <td>1</td>\n",
       "      <td>0</td>\n",
       "      <td>0</td>\n",
       "      <td>0</td>\n",
       "      <td>0</td>\n",
       "      <td>0</td>\n",
       "      <td>1</td>\n",
       "      <td>0</td>\n",
       "      <td>0</td>\n",
       "      <td>...</td>\n",
       "      <td>0</td>\n",
       "      <td>0</td>\n",
       "      <td>0</td>\n",
       "      <td>0</td>\n",
       "      <td>0</td>\n",
       "      <td>0</td>\n",
       "      <td>0</td>\n",
       "      <td>1</td>\n",
       "      <td>0</td>\n",
       "      <td>0</td>\n",
       "      <td>0</td>\n",
       "      <td>0</td>\n",
       "      <td>0</td>\n",
       "      <td>0</td>\n",
       "      <td>0</td>\n",
       "      <td>0</td>\n",
       "      <td>0</td>\n",
       "      <td>0</td>\n",
       "      <td>0</td>\n",
       "      <td>0</td>\n",
       "      <td>0</td>\n",
       "      <td>0</td>\n",
       "      <td>0</td>\n",
       "      <td>0</td>\n",
       "      <td>0</td>\n",
       "    </tr>\n",
       "    <tr>\n",
       "      <td>364895</td>\n",
       "      <td>0.0</td>\n",
       "      <td>36.008953</td>\n",
       "      <td>8.90</td>\n",
       "      <td>77.5</td>\n",
       "      <td>9600.0</td>\n",
       "      <td>8.0</td>\n",
       "      <td>669.0</td>\n",
       "      <td>4.829304</td>\n",
       "      <td>1.351216</td>\n",
       "      <td>3.979002</td>\n",
       "      <td>36</td>\n",
       "      <td>0</td>\n",
       "      <td>3</td>\n",
       "      <td>2005</td>\n",
       "      <td>3</td>\n",
       "      <td>0</td>\n",
       "      <td>0</td>\n",
       "      <td>0</td>\n",
       "      <td>0</td>\n",
       "      <td>1</td>\n",
       "      <td>0</td>\n",
       "      <td>1</td>\n",
       "      <td>0</td>\n",
       "      <td>0</td>\n",
       "      <td>0</td>\n",
       "      <td>...</td>\n",
       "      <td>0</td>\n",
       "      <td>0</td>\n",
       "      <td>0</td>\n",
       "      <td>0</td>\n",
       "      <td>0</td>\n",
       "      <td>0</td>\n",
       "      <td>0</td>\n",
       "      <td>0</td>\n",
       "      <td>0</td>\n",
       "      <td>0</td>\n",
       "      <td>0</td>\n",
       "      <td>0</td>\n",
       "      <td>0</td>\n",
       "      <td>0</td>\n",
       "      <td>0</td>\n",
       "      <td>0</td>\n",
       "      <td>0</td>\n",
       "      <td>0</td>\n",
       "      <td>0</td>\n",
       "      <td>0</td>\n",
       "      <td>0</td>\n",
       "      <td>0</td>\n",
       "      <td>0</td>\n",
       "      <td>0</td>\n",
       "      <td>0</td>\n",
       "    </tr>\n",
       "  </tbody>\n",
       "</table>\n",
       "<p>5 rows × 86 columns</p>\n",
       "</div>"
      ],
      "text/plain": [
       "        pub_rec  loan_period  int_rate  revol_util  loan_amnt  open_acc  \\\n",
       "236609      0.0    20.994271     17.57        74.8    13325.0       9.0   \n",
       "273214      0.0    25.035422     10.99        37.4     4000.0      10.0   \n",
       "83110       0.0    16.000329     17.77        75.6    25000.0      13.0   \n",
       "289411      0.0    32.000657     12.99        23.7     9125.0      11.0   \n",
       "364895      0.0    36.008953      8.90        77.5     9600.0       8.0   \n",
       "\n",
       "         fico  log_annual_inc   log_dti  log_revol_bal  term_num  default  \\\n",
       "236609  684.0        4.623249  1.319938       4.131587        60        1   \n",
       "273214  669.0        4.318063  1.154120       3.830781        36        1   \n",
       "83110   669.0        4.778151  1.211121       4.464936        36        0   \n",
       "289411  724.0        4.322219  1.211921       4.033142        36        0   \n",
       "364895  669.0        4.829304  1.351216       3.979002        36        0   \n",
       "\n",
       "        issue_m  earliest_cr_line_y  last_pymnt_m  home_ownership_ANY  \\\n",
       "236609       10                1999             7                   0   \n",
       "273214        8                2009             9                   0   \n",
       "83110         6                2004            10                   0   \n",
       "289411        7                2002             3                   0   \n",
       "364895        3                2005             3                   0   \n",
       "\n",
       "        home_ownership_MORTGAGE  home_ownership_OTHER  home_ownership_OWN  \\\n",
       "236609                        1                     0                   0   \n",
       "273214                        0                     0                   0   \n",
       "83110                         0                     0                   0   \n",
       "289411                        1                     0                   0   \n",
       "364895                        0                     0                   0   \n",
       "\n",
       "        home_ownership_RENT  home_ownership_nan  \\\n",
       "236609                    0                   0   \n",
       "273214                    1                   0   \n",
       "83110                     1                   0   \n",
       "289411                    0                   0   \n",
       "364895                    1                   0   \n",
       "\n",
       "        verification_status_Not Verified  verification_status_Source Verified  \\\n",
       "236609                                 0                                    0   \n",
       "273214                                 1                                    0   \n",
       "83110                                  0                                    0   \n",
       "289411                                 0                                    1   \n",
       "364895                                 1                                    0   \n",
       "\n",
       "        verification_status_Verified  verification_status_nan  ...  \\\n",
       "236609                             1                        0  ...   \n",
       "273214                             0                        0  ...   \n",
       "83110                              1                        0  ...   \n",
       "289411                             0                        0  ...   \n",
       "364895                             0                        0  ...   \n",
       "\n",
       "        addr_state_MS  addr_state_MT  addr_state_NC  addr_state_NH  \\\n",
       "236609              0              0              0              0   \n",
       "273214              0              0              0              0   \n",
       "83110               0              0              0              0   \n",
       "289411              0              0              0              0   \n",
       "364895              0              0              0              0   \n",
       "\n",
       "        addr_state_NJ  addr_state_NM  addr_state_NV  addr_state_NY  \\\n",
       "236609              0              0              0              0   \n",
       "273214              0              0              0              1   \n",
       "83110               0              0              0              1   \n",
       "289411              0              0              0              1   \n",
       "364895              0              0              0              0   \n",
       "\n",
       "        addr_state_OH  addr_state_OK  addr_state_OR  addr_state_PA  \\\n",
       "236609              0              0              0              0   \n",
       "273214              0              0              0              0   \n",
       "83110               0              0              0              0   \n",
       "289411              0              0              0              0   \n",
       "364895              0              0              0              0   \n",
       "\n",
       "        addr_state_RI  addr_state_SC  addr_state_SD  addr_state_TN  \\\n",
       "236609              0              0              0              1   \n",
       "273214              0              0              0              0   \n",
       "83110               0              0              0              0   \n",
       "289411              0              0              0              0   \n",
       "364895              0              0              0              0   \n",
       "\n",
       "        addr_state_TX  addr_state_UT  addr_state_VA  addr_state_VT  \\\n",
       "236609              0              0              0              0   \n",
       "273214              0              0              0              0   \n",
       "83110               0              0              0              0   \n",
       "289411              0              0              0              0   \n",
       "364895              0              0              0              0   \n",
       "\n",
       "        addr_state_WA  addr_state_WI  addr_state_WV  addr_state_WY  \\\n",
       "236609              0              0              0              0   \n",
       "273214              0              0              0              0   \n",
       "83110               0              0              0              0   \n",
       "289411              0              0              0              0   \n",
       "364895              0              0              0              0   \n",
       "\n",
       "        addr_state_nan  \n",
       "236609               0  \n",
       "273214               0  \n",
       "83110                0  \n",
       "289411               0  \n",
       "364895               0  \n",
       "\n",
       "[5 rows x 86 columns]"
      ]
     },
     "execution_count": 41,
     "metadata": {},
     "output_type": "execute_result"
    }
   ],
   "source": [
    "# combine numerical variable and categorical variable\n",
    "df_feature = pd.concat((df_sam[list_feature], df_cat),axis=1)\n",
    "df_feature.drop(['Log_Annual_ROI'], axis=1, inplace=True) \n",
    "df_feature.head()"
   ]
  },
  {
   "cell_type": "code",
   "execution_count": 42,
   "metadata": {},
   "outputs": [],
   "source": [
    "# set X, y\n",
    "X=df_feature \n",
    "y=df_sam['Log_Annual_ROI']"
   ]
  },
  {
   "cell_type": "markdown",
   "metadata": {},
   "source": [
    "### Train test split"
   ]
  },
  {
   "cell_type": "code",
   "execution_count": 43,
   "metadata": {},
   "outputs": [],
   "source": [
    "# setting up testing and training sets\n",
    "X_train, X_test, y_train, y_test = train_test_split(X, y, test_size=0.2, random_state=27)"
   ]
  },
  {
   "cell_type": "code",
   "execution_count": 44,
   "metadata": {},
   "outputs": [],
   "source": [
    "# Standarization \n",
    "scaler = StandardScaler()\n",
    "X_train = scaler.fit_transform(X_train)\n",
    "X_test = scaler.transform(X_test)"
   ]
  },
  {
   "cell_type": "code",
   "execution_count": 45,
   "metadata": {},
   "outputs": [
    {
     "name": "stdout",
     "output_type": "stream",
     "text": [
      "80128 80128 20032 20032\n"
     ]
    }
   ],
   "source": [
    "print(len(X_train), len(y_train), len(X_test), len(y_test))"
   ]
  },
  {
   "cell_type": "markdown",
   "metadata": {},
   "source": [
    "## Model Selection\n",
    "- use cross validation (cv=10) to avoid overfit\n",
    "- use GridSearchCV for hyperparameter tuning\n",
    "- model selection: Linear Regression, Lasso, Ridge, KNN regressor, Random Forest, Gradient Boosting\n",
    "- use R squared and RMSE as metrics to evaluate model performance"
   ]
  },
  {
   "cell_type": "code",
   "execution_count": 46,
   "metadata": {},
   "outputs": [],
   "source": [
    "def model_evaluation(model, X_test, y_test):\n",
    "    y_pred = model.predict(X_test)\n",
    "    RSq = r2_score(y_test,y_pred)\n",
    "    print('R Squared: ' + str(RSq))\n",
    "    RMSE = np.sqrt(mean_squared_error(y_test,y_pred))\n",
    "    print('RMSE: ' + str(RMSE) +'\\n')"
   ]
  },
  {
   "cell_type": "markdown",
   "metadata": {},
   "source": [
    "### Baseline model"
   ]
  },
  {
   "cell_type": "code",
   "execution_count": 47,
   "metadata": {},
   "outputs": [
    {
     "data": {
      "text/plain": [
       "DummyRegressor()"
      ]
     },
     "execution_count": 47,
     "metadata": {},
     "output_type": "execute_result"
    }
   ],
   "source": [
    "from sklearn.dummy import DummyRegressor\n",
    "clf_dummy = DummyRegressor(strategy=\"mean\")\n",
    "clf_dummy.fit(X_train, y_train)"
   ]
  },
  {
   "cell_type": "code",
   "execution_count": 48,
   "metadata": {},
   "outputs": [
    {
     "name": "stdout",
     "output_type": "stream",
     "text": [
      "Baseline Results:\n",
      "-Training Metrics-\n",
      "R Squared: 0.0\n",
      "RMSE: 0.2030406816774912\n",
      "\n",
      "-Testing Metrics-\n",
      "R Squared: -2.467842601383552e-07\n",
      "RMSE: 0.20383226351841258\n",
      "\n"
     ]
    }
   ],
   "source": [
    "print('Baseline Results:')\n",
    "print('-Training Metrics-')\n",
    "model_evaluation(clf_dummy, X_train, y_train)\n",
    "print('-Testing Metrics-')\n",
    "model_evaluation(clf_dummy, X_test, y_test)"
   ]
  },
  {
   "cell_type": "markdown",
   "metadata": {},
   "source": [
    "### Linear Regression \n"
   ]
  },
  {
   "cell_type": "code",
   "execution_count": 49,
   "metadata": {},
   "outputs": [
    {
     "data": {
      "text/plain": [
       "LinearRegression()"
      ]
     },
     "execution_count": 49,
     "metadata": {},
     "output_type": "execute_result"
    }
   ],
   "source": [
    "clf_lreg = LinearRegression()\n",
    "clf_lreg.fit(X_train, y_train)"
   ]
  },
  {
   "cell_type": "code",
   "execution_count": 51,
   "metadata": {},
   "outputs": [
    {
     "name": "stdout",
     "output_type": "stream",
     "text": [
      "Linear Regression Results:\n",
      "-Training Metrics-\n",
      "R Squared: 0.6899282500169597\n",
      "RMSE: 0.11306134900674888\n",
      "\n",
      "-Testing Metrics-\n",
      "R Squared: 0.6817156647009359\n",
      "RMSE: 0.11499541003216937\n",
      "\n"
     ]
    }
   ],
   "source": [
    "print('Linear Regression Results:')\n",
    "print('-Training Metrics-')\n",
    "model_evaluation(clf_lreg, X_train, y_train)\n",
    "print('-Testing Metrics-')\n",
    "model_evaluation(clf_lreg, X_test, y_test)"
   ]
  },
  {
   "cell_type": "markdown",
   "metadata": {},
   "source": [
    "### Lasso"
   ]
  },
  {
   "cell_type": "code",
   "execution_count": 52,
   "metadata": {},
   "outputs": [
    {
     "name": "stdout",
     "output_type": "stream",
     "text": [
      "Best parameter: {'alpha': 0.0001}\n",
      "Best model: Lasso(alpha=0.0001)\n"
     ]
    }
   ],
   "source": [
    "clf_lasso = Lasso()\n",
    "alpha=[1e-5,1e-4,1e-2,1,5]\n",
    "param_grid=dict(alpha=alpha)\n",
    "clf_lasso_cv= GridSearchCV(clf_lasso,param_grid,scoring='neg_mean_squared_error',cv=10)\n",
    "clf_lasso_cv.fit(X_train, y_train)\n",
    "print('Best parameter:', clf_lasso_cv.best_params_)\n",
    "print('Best model:', clf_lasso_cv.best_estimator_)"
   ]
  },
  {
   "cell_type": "code",
   "execution_count": 53,
   "metadata": {},
   "outputs": [
    {
     "name": "stdout",
     "output_type": "stream",
     "text": [
      "Lasso Regression Results:\n",
      "-Training Metrics-\n",
      "R Squared: 0.6899184847539606\n",
      "RMSE: 0.11306312934487302\n",
      "\n",
      "-Testing Metrics-\n",
      "R Squared: 0.681805504355395\n",
      "RMSE: 0.114979179454849\n",
      "\n"
     ]
    }
   ],
   "source": [
    "clf_lasso_best= Lasso(alpha=0.0001)\n",
    "clf_lasso_best.fit(X_train,y_train)\n",
    "\n",
    "print('Lasso Regression Results:')\n",
    "print('-Training Metrics-')\n",
    "model_evaluation(clf_lasso_best, X_train, y_train)\n",
    "print('-Testing Metrics-')\n",
    "model_evaluation(clf_lasso_best, X_test, y_test)"
   ]
  },
  {
   "cell_type": "code",
   "execution_count": 78,
   "metadata": {},
   "outputs": [
    {
     "data": {
      "image/png": "[encoded data removed]",
      "text/plain": [
       "<Figure size 720x288 with 1 Axes>"
      ]
     },
     "metadata": {
      "needs_background": "light"
     },
     "output_type": "display_data"
    }
   ],
   "source": [
    "coef_lasso = pd.Series(clf_lasso_best.coef_, index = df_feature.columns)\n",
    "importance_coef_lasso = pd.concat([coef_lasso.sort_values().head(5),\n",
    "                     coef_lasso.sort_values().tail(5)])\n",
    "plt.rcParams.update({'font.size': 14})\n",
    "plt.figure(figsize=(10,4))\n",
    "importance_coef_lasso.plot(kind = \"barh\")\n",
    "plt.title(\"Coefficients from the Lasso Regression\")\n",
    "plt.show()"
   ]
  },
  {
   "cell_type": "markdown",
   "metadata": {},
   "source": [
    "### Ridge "
   ]
  },
  {
   "cell_type": "code",
   "execution_count": 55,
   "metadata": {},
   "outputs": [
    {
     "name": "stdout",
     "output_type": "stream",
     "text": [
      "Best parameter: {'alpha': 10}\n",
      "Best model: Ridge(alpha=10)\n"
     ]
    }
   ],
   "source": [
    "clf_ridge = Ridge()\n",
    "alpha=[1e-2,1e-1, 1,10,100]\n",
    "param_grid=dict(alpha=alpha)\n",
    "clf_ridge_cv= GridSearchCV(clf_ridge,param_grid,scoring='neg_mean_squared_error',cv=10)\n",
    "clf_ridge_cv.fit(X_train, y_train)\n",
    "print('Best parameter:', clf_ridge_cv.best_params_)\n",
    "print('Best model:', clf_ridge_cv.best_estimator_)"
   ]
  },
  {
   "cell_type": "code",
   "execution_count": 56,
   "metadata": {},
   "outputs": [
    {
     "name": "stdout",
     "output_type": "stream",
     "text": [
      "Ridge Regression Results:\n",
      "-Training Metrics-\n",
      "R Squared: 0.6899354882554672\n",
      "RMSE: 0.1130600293609151\n",
      "\n",
      "-Testing Metrics-\n",
      "R Squared: 0.6817298917998387\n",
      "RMSE: 0.11499283989413012\n",
      "\n"
     ]
    }
   ],
   "source": [
    "clf_ridge_best= Ridge(alpha=10)\n",
    "clf_ridge_best.fit(X_train,y_train)\n",
    "\n",
    "print('Ridge Regression Results:')\n",
    "print('-Training Metrics-')\n",
    "model_evaluation(clf_ridge_best, X_train, y_train)\n",
    "print('-Testing Metrics-')\n",
    "model_evaluation(clf_ridge_best, X_test, y_test)"
   ]
  },
  {
   "cell_type": "code",
   "execution_count": 79,
   "metadata": {},
   "outputs": [
    {
     "data": {
      "image/png": "[encoded data removed]",
      "text/plain": [
       "<Figure size 720x288 with 1 Axes>"
      ]
     },
     "metadata": {
      "needs_background": "light"
     },
     "output_type": "display_data"
    }
   ],
   "source": [
    "coef_ridge = pd.Series(clf_ridge_best.coef_, index = df_feature.columns)\n",
    "importance_coef_ridge = pd.concat([coef_ridge.sort_values().head(5),\n",
    "                     coef_ridge.sort_values().tail(5)])\n",
    "plt.rcParams.update({'font.size': 14})\n",
    "plt.figure(figsize=(10,4))\n",
    "importance_coef_ridge.plot(kind = \"barh\")\n",
    "plt.title(\"Coefficients from the Ridge Regression\")\n",
    "plt.show()"
   ]
  },
  {
   "cell_type": "markdown",
   "metadata": {},
   "source": [
    "### KNN Regressor"
   ]
  },
  {
   "cell_type": "code",
   "execution_count": 58,
   "metadata": {},
   "outputs": [
    {
     "name": "stdout",
     "output_type": "stream",
     "text": [
      "Best parameter: {'n_neighbors': 10}\n",
      "Best model: KNeighborsRegressor(n_neighbors=10)\n"
     ]
    }
   ],
   "source": [
    "from sklearn.neighbors import KNeighborsRegressor\n",
    "\n",
    "clf_knn = KNeighborsRegressor()\n",
    "param_grid={'n_neighbors':[5,10,20]}\n",
    "\n",
    "clf_knn_cv = GridSearchCV(KNeighborsRegressor(), param_grid, scoring='neg_mean_squared_error', cv=10)\n",
    "clf_knn_cv.fit(X_train,y_train)\n",
    "\n",
    "print('Best parameter:', clf_knn_cv.best_params_)\n",
    "print('Best model:', clf_knn_cv.best_estimator_)"
   ]
  },
  {
   "cell_type": "code",
   "execution_count": 59,
   "metadata": {},
   "outputs": [
    {
     "name": "stdout",
     "output_type": "stream",
     "text": [
      "KNN Regressor Results:\n",
      "-Training Metrics-\n",
      "R Squared: 0.5846743541247093\n",
      "RMSE: 0.13085111792680237\n",
      "\n",
      "-Testing Metrics-\n",
      "R Squared: 0.48753683760525124\n",
      "RMSE: 0.14591643140148552\n",
      "\n"
     ]
    }
   ],
   "source": [
    "clf_knn_best= KNeighborsRegressor(n_neighbors=10)\n",
    "clf_knn_best.fit(X_train,y_train)\n",
    "\n",
    "print('KNN Regressor Results:')\n",
    "print('-Training Metrics-')\n",
    "model_evaluation(clf_knn_best, X_train, y_train)\n",
    "print('-Testing Metrics-')\n",
    "model_evaluation(clf_knn_best, X_test, y_test)"
   ]
  },
  {
   "cell_type": "markdown",
   "metadata": {},
   "source": [
    "### Random Forest"
   ]
  },
  {
   "cell_type": "code",
   "execution_count": 60,
   "metadata": {},
   "outputs": [
    {
     "name": "stdout",
     "output_type": "stream",
     "text": [
      "{'n_estimators': 200}\n",
      "-0.0034518714381227113\n",
      "RandomForestRegressor(n_estimators=200)\n"
     ]
    }
   ],
   "source": [
    "clf_RF = RandomForestRegressor(criterion='mse')\n",
    "\n",
    "param_grid = {'n_estimators': [20,50,100,200]}\n",
    "\n",
    "clf_RF_cv = GridSearchCV(clf_RF, param_grid, scoring='neg_mean_squared_error', cv=10)\n",
    "clf_RF_cv.fit(X_train,y_train)\n",
    "\n",
    "print(clf_RF_cv.best_params_)\n",
    "print(clf_RF_cv.best_score_)\n",
    "print(clf_RF_cv.best_estimator_)"
   ]
  },
  {
   "cell_type": "code",
   "execution_count": 61,
   "metadata": {},
   "outputs": [
    {
     "name": "stdout",
     "output_type": "stream",
     "text": [
      "Random Forest Regressor Results:\n",
      "-Training Metrics-\n",
      "R Squared: 0.9885576444900419\n",
      "RMSE: 0.021719047810594458\n",
      "\n",
      "-Testing Metrics-\n",
      "R Squared: 0.9211483111477131\n",
      "RMSE: 0.05723719910111326\n",
      "\n"
     ]
    }
   ],
   "source": [
    "clf_RF_best= clf_RF_cv.best_estimator_\n",
    "clf_RF_best.fit(X_train,y_train)\n",
    "\n",
    "print('Random Forest Regressor Results:')\n",
    "print('-Training Metrics-')\n",
    "model_evaluation(clf_RF_best, X_train, y_train)\n",
    "print('-Testing Metrics-')\n",
    "model_evaluation(clf_RF_best, X_test, y_test)"
   ]
  },
  {
   "cell_type": "markdown",
   "metadata": {},
   "source": [
    "#### Feature importance"
   ]
  },
  {
   "cell_type": "code",
   "execution_count": 81,
   "metadata": {},
   "outputs": [
    {
     "data": {
      "text/plain": [
       "Text(0.5, 0, 'Normalized Gini Importance')"
      ]
     },
     "execution_count": 81,
     "metadata": {},
     "output_type": "execute_result"
    },
    {
     "data": {
      "image/png": "[encoded data removed]",
      "text/plain": [
       "<Figure size 576x288 with 1 Axes>"
      ]
     },
     "metadata": {
      "needs_background": "light"
     },
     "output_type": "display_data"
    }
   ],
   "source": [
    "plt.rcParams.update({'font.size': 14})\n",
    "plt.figure(figsize=(8,4))\n",
    "feat_importances = pd.Series(clf_RF_best.feature_importances_, \\\n",
    "                             index=df_feature.columns)\n",
    "feat_importances.nlargest(10).sort_values(ascending=True).plot(kind='barh')\n",
    "plt.title('Feature Importance (Random Forest)')\n",
    "plt.xlabel('Normalized Gini Importance')"
   ]
  },
  {
   "cell_type": "markdown",
   "metadata": {},
   "source": [
    "### GradientBoosting"
   ]
  },
  {
   "cell_type": "code",
   "execution_count": 63,
   "metadata": {},
   "outputs": [
    {
     "name": "stdout",
     "output_type": "stream",
     "text": [
      "{'n_estimators': 300}\n",
      "-0.0037736229091203275\n",
      "GradientBoostingRegressor(n_estimators=300)\n"
     ]
    }
   ],
   "source": [
    "from sklearn.ensemble import GradientBoostingRegressor\n",
    "clf_RB = GradientBoostingRegressor()\n",
    "\n",
    "n_estimators = [50,100,200,300]\n",
    "param_grid = dict(n_estimators=n_estimators)\n",
    "\n",
    "clf_RB_cv= GridSearchCV(clf_RB , param_grid, scoring='neg_mean_squared_error', cv=10)\n",
    "clf_RB_cv.fit(X_train,y_train)\n",
    "\n",
    "print(clf_RB_cv.best_params_)\n",
    "print(clf_RB_cv.best_score_)\n",
    "print(clf_RB_cv.best_estimator_)"
   ]
  },
  {
   "cell_type": "code",
   "execution_count": 65,
   "metadata": {
    "scrolled": true
   },
   "outputs": [
    {
     "name": "stdout",
     "output_type": "stream",
     "text": [
      "Gradient Booster Regressor Results:\n",
      "-Training Metrics-\n",
      "R Squared: 0.9145081379400508\n",
      "RMSE: 0.05936704754134001\n",
      "\n",
      "-Testing Metrics-\n",
      "R Squared: 0.9113373116324238\n",
      "RMSE: 0.06069365915724024\n",
      "\n"
     ]
    }
   ],
   "source": [
    "clf_RB_cv= GradientBoostingRegressor(n_estimators=300)\n",
    "clf_RB_cv.fit(X_train,y_train)\n",
    "\n",
    "print('Gradient Booster Regressor Results:')\n",
    "print('-Training Metrics-')\n",
    "model_evaluation(clf_RB_cv, X_train, y_train)\n",
    "print('-Testing Metrics-')\n",
    "model_evaluation(clf_RB_cv, X_test, y_test) "
   ]
  },
  {
   "cell_type": "markdown",
   "metadata": {},
   "source": [
    "## Model Performance\n",
    "\n",
    "model: KNN, Lasso, Ridge, Random Forest, Gradient Boosting"
   ]
  },
  {
   "cell_type": "code",
   "execution_count": 66,
   "metadata": {},
   "outputs": [],
   "source": [
    "name_list = ['KNN','Lasso', 'Ridge', 'Random Forest', 'Gradient Boosting']\n",
    "RSq_train = [0.5847,0.6899,0.6899,0.9886,0.9145]\n",
    "RSq_test = [0.4875,0.6818,0.6917,0.9211,0.9113]\n",
    "RMSE_train =[0.1309,0.1130,0.1131,0.0217,0.0594]\n",
    "RMSE_test = [0.1459,0.1149,0.1150,0.0572,0.0607]"
   ]
  },
  {
   "cell_type": "code",
   "execution_count": 83,
   "metadata": {},
   "outputs": [
    {
     "data": {
      "image/png": "[encoded data removed]",
      "text/plain": [
       "<Figure size 1008x288 with 2 Axes>"
      ]
     },
     "metadata": {
      "needs_background": "light"
     },
     "output_type": "display_data"
    }
   ],
   "source": [
    "plt.rcParams.update({'font.size': 14})\n",
    "# Setting the positions and width for the bars\n",
    "pos = list(range(len(name_list))) \n",
    "width = 0.35\n",
    "\n",
    "# Plotting the bars\n",
    "fig, (ax1,ax2) = plt.subplots(1,2, figsize=(14,4))\n",
    "\n",
    "ax1.barh(pos, RSq_test, width, alpha=0.8, color='#729ece', label=name_list) \n",
    "\n",
    "# Create a bar with mid_score data,\n",
    "# in position pos + some width buffer,\n",
    "ax1.barh([p + width for p in pos], \\\n",
    "        RSq_train,width, alpha=0.8, \\\n",
    "        color='#ed665d', label=name_list) \n",
    "\n",
    "# Set the y axis label\n",
    "ax1.set_xlabel('R Squared')\n",
    "ax1.set_title('Model Performance (R Squared)')\n",
    "ax1.set_yticks([p + 0.5 * width for p in pos])\n",
    "ax1.set_yticklabels(name_list)\n",
    "\n",
    "# Adding the legend and showing the plot\n",
    "ax1.legend(['Test', 'Train'], loc='best')\n",
    "ax1.grid()\n",
    "#plt.show()\n",
    "\n",
    "\n",
    "ax2.barh(pos, RMSE_test, width, alpha=0.8, \\\n",
    "        color='#729ece', label=name_list) \n",
    "\n",
    "# Create a bar with mid_score data,\n",
    "# in position pos + some width buffer,\n",
    "ax2.barh([p + width for p in pos], \\\n",
    "        RMSE_train,width, alpha=0.8, \\\n",
    "        color='#ed665d', label=name_list) \n",
    "\n",
    "# Set the y axis label\n",
    "ax2.set_xlabel('RMSE')\n",
    "ax2.set_title('Model Performance (RMSE)')\n",
    "ax2.set_yticks([p + 0.5 * width for p in pos])\n",
    "ax2.set_yticklabels(name_list)\n",
    "\n",
    "# Adding the legend and showing the plot\n",
    "ax2.legend(['Test','Train'],loc='best')\n",
    "ax2.grid()\n",
    "plt.tight_layout()"
   ]
  },
  {
   "cell_type": "markdown",
   "metadata": {},
   "source": [
    "### Explainability of ML model"
   ]
  },
  {
   "cell_type": "code",
   "execution_count": 2,
   "metadata": {},
   "outputs": [
    {
     "ename": "NameError",
     "evalue": "name 'df_num' is not defined",
     "output_type": "error",
     "traceback": [
      "\u001b[0;31m---------------------------------------------------------------------------\u001b[0m",
      "\u001b[0;31mNameError\u001b[0m                                 Traceback (most recent call last)",
      "\u001b[0;32m<ipython-input-2-913a90ea3ec2>\u001b[0m in \u001b[0;36m<module>\u001b[0;34m\u001b[0m\n\u001b[0;32m----> 1\u001b[0;31m \u001b[0mdf_num_copy\u001b[0m\u001b[0;34m=\u001b[0m\u001b[0mdf_num\u001b[0m\u001b[0;34m.\u001b[0m\u001b[0mdrop\u001b[0m\u001b[0;34m(\u001b[0m\u001b[0;34m'Log_Annual_ROI'\u001b[0m\u001b[0;34m,\u001b[0m \u001b[0maxis\u001b[0m\u001b[0;34m=\u001b[0m\u001b[0;36m1\u001b[0m\u001b[0;34m)\u001b[0m\u001b[0;34m\u001b[0m\u001b[0;34m\u001b[0m\u001b[0m\n\u001b[0m",
      "\u001b[0;31mNameError\u001b[0m: name 'df_num' is not defined"
     ]
    }
   ],
   "source": [
    "df_num_copy=df_num.drop('Log_Annual_ROI', axis=1)"
   ]
  },
  {
   "cell_type": "code",
   "execution_count": 1,
   "metadata": {},
   "outputs": [
    {
     "ename": "NameError",
     "evalue": "name 'df_num_copy' is not defined",
     "output_type": "error",
     "traceback": [
      "\u001b[0;31m---------------------------------------------------------------------------\u001b[0m",
      "\u001b[0;31mNameError\u001b[0m                                 Traceback (most recent call last)",
      "\u001b[0;32m<ipython-input-1-5d4d8266c5b8>\u001b[0m in \u001b[0;36m<module>\u001b[0;34m\u001b[0m\n\u001b[0;32m----> 1\u001b[0;31m \u001b[0mdf_num_copy\u001b[0m\u001b[0;34m.\u001b[0m\u001b[0mhead\u001b[0m\u001b[0;34m(\u001b[0m\u001b[0;34m)\u001b[0m\u001b[0;34m\u001b[0m\u001b[0;34m\u001b[0m\u001b[0m\n\u001b[0m",
      "\u001b[0;31mNameError\u001b[0m: name 'df_num_copy' is not defined"
     ]
    }
   ],
   "source": [
    "df_num_copy.head()"
   ]
  },
  {
   "cell_type": "code",
   "execution_count": null,
   "metadata": {},
   "outputs": [
    {
     "name": "stderr",
     "output_type": "stream",
     "text": [
      "Setting feature_perturbation = \"tree_path_dependent\" because no background data was given.\n",
      "The sklearn.ensemble.gradient_boosting module is  deprecated in version 0.22 and will be removed in version 0.24. The corresponding classes / functions should instead be imported from sklearn.ensemble. Anything that cannot be imported from sklearn.ensemble is now part of the private API.\n"
     ]
    }
   ],
   "source": [
    "import shap\n",
    "explainer = shap.TreeExplainer(clf_RB_cv)\n",
    "shap_values = explainer.shap_values(df_num_copy)"
   ]
  },
  {
   "cell_type": "code",
   "execution_count": 347,
   "metadata": {},
   "outputs": [
    {
     "data": {
      "image/png": "[encoded data removed]",
      "text/plain": [
       "<Figure size 576x684 with 2 Axes>"
      ]
     },
     "metadata": {
      "needs_background": "light"
     },
     "output_type": "display_data"
    }
   ],
   "source": [
    "# Plot summary_plot\n",
    "shap.summary_plot(shap_values, df_num_copy)"
   ]
  },
  {
   "cell_type": "code",
   "execution_count": null,
   "metadata": {},
   "outputs": [],
   "source": [
    "# Plot summary_plot\n",
    "shap.summary_plot(shap_values, df_feature, plot_type='bar')"
   ]
  },
  {
   "cell_type": "code",
   "execution_count": 352,
   "metadata": {},
   "outputs": [],
   "source": [
    "shap_interaction_values = explainer.shap_interaction_values(df_feature)"
   ]
  },
  {
   "cell_type": "code",
   "execution_count": null,
   "metadata": {},
   "outputs": [],
   "source": [
    "shap.dependence_plot((\"int_rate\", \"loan_period\"),shap_interaction_values, df_feature)"
   ]
  },
  {
   "cell_type": "code",
   "execution_count": null,
   "metadata": {},
   "outputs": [],
   "source": [
    "1+1"
   ]
  },
  {
   "cell_type": "code",
   "execution_count": null,
   "metadata": {},
   "outputs": [],
   "source": []
  }
 ],
 "metadata": {
  "kernelspec": {
   "display_name": "Python 3",
   "language": "python",
   "name": "python3"
  },
  "language_info": {
   "codemirror_mode": {
    "name": "ipython",
    "version": 3
   },
   "file_extension": ".py",
   "mimetype": "text/x-python",
   "name": "python",
   "nbconvert_exporter": "python",
   "pygments_lexer": "ipython3",
   "version": "3.7.4"
  },
  "latex_envs": {
   "LaTeX_envs_menu_present": true,
   "autoclose": false,
   "autocomplete": true,
   "bibliofile": "biblio.bib",
   "cite_by": "apalike",
   "current_citInitial": 1,
   "eqLabelWithNumbers": true,
   "eqNumInitial": 1,
   "hotkeys": {
    "equation": "Ctrl-E",
    "itemize": "Ctrl-I"
   },
   "labels_anchors": false,
   "latex_user_defs": false,
   "report_style_numbering": false,
   "user_envs_cfg": false
  },
  "toc": {
   "base_numbering": 1,
   "nav_menu": {
    "height": "190px",
    "width": "281px"
   },
   "number_sections": true,
   "sideBar": true,
   "skip_h1_title": true,
   "title_cell": "Table of Contents",
   "title_sidebar": "Contents",
   "toc_cell": true,
   "toc_position": {},
   "toc_section_display": true,
   "toc_window_display": false
  }
 },
 "nbformat": 4,
 "nbformat_minor": 2
}
