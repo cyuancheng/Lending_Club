{
 "cells": [
  {
   "cell_type": "markdown",
   "metadata": {},
   "source": [
    "## 1 - Introduction\n",
    "Data Storytelling \n",
    "\n",
    "How do you create a data story? You’ve learned the basics, but the information is probably a bit abstract at this point. Keep in mind that storytelling is an art, so you have to get your imagination bubbling. In this project, you’ll learn some pointers to get those creative juices flowing. In the following sections, we’ll work step-by-step to create your first data story. \n",
    "\n",
    "Steps:\n",
    "Ask the following questions and look for the answers using code and plots:\n",
    "- Can you count something interesting?\n",
    "- Can you find trends (e.g. high, low, increasing, decreasing, anomalies)?\n",
    "- Can you make a bar plot or a histogram?\n",
    "- Can you compare two related quantities?\n",
    "- Can you make a scatterplot?\n",
    "- Can you make a time-series plot?\n",
    "\n",
    "Looking at the plots, what are some insights you can make? Do you see any correlations? Is there a hypothesis you’d like to investigate further? What other questions do the insights lead you to ask?\n",
    "Now that you’ve asked questions, hopefully you’ve found some interesting insights. Is there a narrative or a way of presenting the insights using text and plots that tells a compelling story? What are some other trends/relationships you think will make the story more complete?"
   ]
  },
  {
   "cell_type": "code",
   "execution_count": 23,
   "metadata": {},
   "outputs": [
    {
     "name": "stdout",
     "output_type": "stream",
     "text": [
      "Collecting plotly\n",
      "\u001b[?25l  Downloading https://files.pythonhosted.org/packages/f5/c3/03a183b94441da857e7d2b0564cb482bd15824dc1af2d2b337ea6e538c8f/plotly-4.5.4-py2.py3-none-any.whl (7.1MB)\n",
      "\u001b[K     |████████████████████████████████| 7.1MB 2.6MB/s eta 0:00:01     |▌                               | 112kB 2.6MB/s eta 0:00:03     |███████████▌                    | 2.6MB 2.6MB/s eta 0:00:02     |███████████████▋                | 3.5MB 2.6MB/s eta 0:00:02\n",
      "\u001b[?25hRequirement already satisfied: six in /opt/anaconda3/lib/python3.7/site-packages (from plotly) (1.12.0)\n",
      "Collecting retrying>=1.3.3 (from plotly)\n",
      "  Using cached https://files.pythonhosted.org/packages/44/ef/beae4b4ef80902f22e3af073397f079c96969c69b2c7d52a57ea9ae61c9d/retrying-1.3.3.tar.gz\n",
      "Building wheels for collected packages: retrying\n",
      "  Building wheel for retrying (setup.py) ... \u001b[?25ldone\n",
      "\u001b[?25h  Created wheel for retrying: filename=retrying-1.3.3-cp37-none-any.whl size=11429 sha256=5ce423a57615eaf9855d3f9f14e69113c7175f8d002acd1e55d4d772019950d9\n",
      "  Stored in directory: /Users/cyuancheng/Library/Caches/pip/wheels/d7/a9/33/acc7b709e2a35caa7d4cae442f6fe6fbf2c43f80823d46460c\n",
      "Successfully built retrying\n",
      "Installing collected packages: retrying, plotly\n",
      "Successfully installed plotly-4.5.4 retrying-1.3.3\n"
     ]
    }
   ],
   "source": [
    "!pip install plotly"
   ]
  },
  {
   "cell_type": "code",
   "execution_count": 1,
   "metadata": {},
   "outputs": [],
   "source": [
    "import pandas as pd\n",
    "import matplotlib.pyplot as plt\n",
    "import seaborn as sns\n",
    "import numpy as np\n",
    "from datetime import datetime\n",
    "import time\n",
    "from scipy.stats import shapiro\n",
    "import statsmodels.api as sm\n",
    "# Options for pandas\n",
    "pd.options.display.max_columns = 50\n",
    "pd.options.display.max_rows = 30\n",
    "\n",
    "import warnings\n",
    "warnings.filterwarnings('ignore')\n",
    "%matplotlib inline\n",
    "\n",
    "#%load_ext autoreload\n",
    "#%autoreload 2"
   ]
  },
  {
   "cell_type": "code",
   "execution_count": 2,
   "metadata": {},
   "outputs": [
    {
     "name": "stdout",
     "output_type": "stream",
     "text": [
      "It takes  29.798328161239624 sec to read the data\n"
     ]
    }
   ],
   "source": [
    "# read data\n",
    "start = time.time()\n",
    "path = '/Users/cyuancheng/Documents/course/Springboard/Capstone1/data/'\n",
    "df = pd.read_csv(path+'LC_preprocessing.csv', low_memory=False, index_col=0, \\\n",
    "                 parse_dates=['issue_d', 'earliest_cr_line', 'last_pymnt_d', 'issue_year'] )\n",
    "end = time.time()\n",
    "print('It takes  ' + str(end-start) +' sec to read the data')"
   ]
  },
  {
   "cell_type": "code",
   "execution_count": 3,
   "metadata": {},
   "outputs": [
    {
     "data": {
      "text/plain": [
       "log_dti    2\n",
       "dtype: int64"
      ]
     },
     "execution_count": 3,
     "metadata": {},
     "output_type": "execute_result"
    }
   ],
   "source": [
    "# show missing data\n",
    "df.isnull().sum()[df.isnull().sum() >0]"
   ]
  },
  {
   "cell_type": "code",
   "execution_count": 4,
   "metadata": {},
   "outputs": [],
   "source": [
    "#Drop the row where at least one element is missing.\n",
    "df['log_dti'].dropna(axis=0, inplace=True)"
   ]
  },
  {
   "cell_type": "code",
   "execution_count": 5,
   "metadata": {},
   "outputs": [
    {
     "name": "stdout",
     "output_type": "stream",
     "text": [
      "<class 'pandas.core.frame.DataFrame'>\n",
      "Int64Index: 1154551 entries, 0 to 2312457\n",
      "Data columns (total 35 columns):\n",
      "issue_d                1154551 non-null datetime64[ns]\n",
      "earliest_cr_line       1154551 non-null datetime64[ns]\n",
      "last_pymnt_d           1154551 non-null datetime64[ns]\n",
      "issue_year             1154551 non-null datetime64[ns]\n",
      "int_rate               1154551 non-null float64\n",
      "revol_util             1154551 non-null float64\n",
      "term                   1154551 non-null object\n",
      "grade                  1154551 non-null object\n",
      "emp_length             1154551 non-null object\n",
      "home_ownership         1154551 non-null object\n",
      "verification_status    1154551 non-null object\n",
      "loan_status            1154551 non-null object\n",
      "purpose                1154551 non-null object\n",
      "addr_state             1154551 non-null object\n",
      "loan_amnt              1154551 non-null float64\n",
      "funded_amnt            1154551 non-null float64\n",
      "installment            1154551 non-null float64\n",
      "annual_inc             1154551 non-null float64\n",
      "dti                    1154551 non-null float64\n",
      "revol_bal              1154551 non-null float64\n",
      "delinq_2yrs            1154551 non-null float64\n",
      "open_acc               1154551 non-null float64\n",
      "pub_rec                1154551 non-null float64\n",
      "fico_range_high        1154551 non-null float64\n",
      "fico_range_low         1154551 non-null float64\n",
      "total_pymnt            1154551 non-null float64\n",
      "recoveries             1154551 non-null float64\n",
      "target                 1154551 non-null int64\n",
      "loan_period            1154551 non-null float64\n",
      "log_annual_inc         1154551 non-null float64\n",
      "log_dti                1154549 non-null float64\n",
      "log_revol_bal          1154551 non-null float64\n",
      "delinq_2yrs_str        1154551 non-null int64\n",
      "pub_rec_str            1154551 non-null int64\n",
      "fico                   1154551 non-null float64\n",
      "dtypes: datetime64[ns](4), float64(20), int64(3), object(8)\n",
      "memory usage: 317.1+ MB\n"
     ]
    }
   ],
   "source": [
    "df.info()"
   ]
  },
  {
   "cell_type": "markdown",
   "metadata": {},
   "source": [
    "## 2 - EDA\n",
    "\n",
    "The dataset was download from [Lending Club](https://www.lendingclub.com/statistics/additional-statistics?). It contains information from 2015 to 2019. \n",
    "\n",
    "**Data manipulation**: \n",
    "\n",
    "    - Deal with missing value \n",
    "    - check each feature\n",
    "        - observe distribution (normality for particular features)\n",
    "        - Remove outliner (standard deviation)\n",
    "\n"
   ]
  },
  {
   "cell_type": "code",
   "execution_count": 6,
   "metadata": {},
   "outputs": [
    {
     "data": {
      "text/html": [
       "<div>\n",
       "<style scoped>\n",
       "    .dataframe tbody tr th:only-of-type {\n",
       "        vertical-align: middle;\n",
       "    }\n",
       "\n",
       "    .dataframe tbody tr th {\n",
       "        vertical-align: top;\n",
       "    }\n",
       "\n",
       "    .dataframe thead th {\n",
       "        text-align: right;\n",
       "    }\n",
       "</style>\n",
       "<table border=\"1\" class=\"dataframe\">\n",
       "  <thead>\n",
       "    <tr style=\"text-align: right;\">\n",
       "      <th></th>\n",
       "      <th>issue_d</th>\n",
       "      <th>earliest_cr_line</th>\n",
       "      <th>last_pymnt_d</th>\n",
       "      <th>issue_year</th>\n",
       "      <th>int_rate</th>\n",
       "      <th>revol_util</th>\n",
       "      <th>term</th>\n",
       "      <th>grade</th>\n",
       "      <th>emp_length</th>\n",
       "      <th>home_ownership</th>\n",
       "      <th>verification_status</th>\n",
       "      <th>loan_status</th>\n",
       "      <th>purpose</th>\n",
       "      <th>addr_state</th>\n",
       "      <th>loan_amnt</th>\n",
       "      <th>funded_amnt</th>\n",
       "      <th>installment</th>\n",
       "      <th>annual_inc</th>\n",
       "      <th>dti</th>\n",
       "      <th>revol_bal</th>\n",
       "      <th>delinq_2yrs</th>\n",
       "      <th>open_acc</th>\n",
       "      <th>pub_rec</th>\n",
       "      <th>fico_range_high</th>\n",
       "      <th>fico_range_low</th>\n",
       "      <th>total_pymnt</th>\n",
       "      <th>recoveries</th>\n",
       "      <th>target</th>\n",
       "      <th>loan_period</th>\n",
       "      <th>log_annual_inc</th>\n",
       "      <th>log_dti</th>\n",
       "      <th>log_revol_bal</th>\n",
       "      <th>delinq_2yrs_str</th>\n",
       "      <th>pub_rec_str</th>\n",
       "      <th>fico</th>\n",
       "    </tr>\n",
       "  </thead>\n",
       "  <tbody>\n",
       "    <tr>\n",
       "      <td>0</td>\n",
       "      <td>2015-12-01</td>\n",
       "      <td>2005-01-01</td>\n",
       "      <td>2018-08-01</td>\n",
       "      <td>2015-01-01</td>\n",
       "      <td>13.99</td>\n",
       "      <td>87.4</td>\n",
       "      <td>60 months</td>\n",
       "      <td>C</td>\n",
       "      <td>&lt; 1 year</td>\n",
       "      <td>RENT</td>\n",
       "      <td>Source Verified</td>\n",
       "      <td>Fully Paid</td>\n",
       "      <td>credit_card</td>\n",
       "      <td>OH</td>\n",
       "      <td>21000.0</td>\n",
       "      <td>21000.0</td>\n",
       "      <td>488.53</td>\n",
       "      <td>52000.0</td>\n",
       "      <td>14.47</td>\n",
       "      <td>20374.0</td>\n",
       "      <td>0.0</td>\n",
       "      <td>5.0</td>\n",
       "      <td>0.0</td>\n",
       "      <td>684.0</td>\n",
       "      <td>680.0</td>\n",
       "      <td>27285.807861</td>\n",
       "      <td>0.0</td>\n",
       "      <td>0</td>\n",
       "      <td>32.000657</td>\n",
       "      <td>4.716003</td>\n",
       "      <td>1.160469</td>\n",
       "      <td>4.309076</td>\n",
       "      <td>0</td>\n",
       "      <td>0</td>\n",
       "      <td>684.0</td>\n",
       "    </tr>\n",
       "    <tr>\n",
       "      <td>3</td>\n",
       "      <td>2015-12-01</td>\n",
       "      <td>2002-04-01</td>\n",
       "      <td>2018-08-01</td>\n",
       "      <td>2015-01-01</td>\n",
       "      <td>6.49</td>\n",
       "      <td>34.5</td>\n",
       "      <td>36 months</td>\n",
       "      <td>A</td>\n",
       "      <td>6 years</td>\n",
       "      <td>RENT</td>\n",
       "      <td>Not Verified</td>\n",
       "      <td>Fully Paid</td>\n",
       "      <td>credit_card</td>\n",
       "      <td>PA</td>\n",
       "      <td>10000.0</td>\n",
       "      <td>10000.0</td>\n",
       "      <td>306.45</td>\n",
       "      <td>85000.0</td>\n",
       "      <td>13.07</td>\n",
       "      <td>10464.0</td>\n",
       "      <td>0.0</td>\n",
       "      <td>14.0</td>\n",
       "      <td>1.0</td>\n",
       "      <td>689.0</td>\n",
       "      <td>685.0</td>\n",
       "      <td>10998.971575</td>\n",
       "      <td>0.0</td>\n",
       "      <td>0</td>\n",
       "      <td>32.000657</td>\n",
       "      <td>4.929419</td>\n",
       "      <td>1.116276</td>\n",
       "      <td>4.019698</td>\n",
       "      <td>0</td>\n",
       "      <td>1</td>\n",
       "      <td>689.0</td>\n",
       "    </tr>\n",
       "    <tr>\n",
       "      <td>4</td>\n",
       "      <td>2015-12-01</td>\n",
       "      <td>1994-11-01</td>\n",
       "      <td>2017-04-01</td>\n",
       "      <td>2015-01-01</td>\n",
       "      <td>11.48</td>\n",
       "      <td>39.1</td>\n",
       "      <td>36 months</td>\n",
       "      <td>B</td>\n",
       "      <td>10+ years</td>\n",
       "      <td>MORTGAGE</td>\n",
       "      <td>Not Verified</td>\n",
       "      <td>Fully Paid</td>\n",
       "      <td>credit_card</td>\n",
       "      <td>RI</td>\n",
       "      <td>8000.0</td>\n",
       "      <td>8000.0</td>\n",
       "      <td>263.74</td>\n",
       "      <td>42000.0</td>\n",
       "      <td>34.80</td>\n",
       "      <td>7034.0</td>\n",
       "      <td>0.0</td>\n",
       "      <td>8.0</td>\n",
       "      <td>0.0</td>\n",
       "      <td>704.0</td>\n",
       "      <td>700.0</td>\n",
       "      <td>8939.580503</td>\n",
       "      <td>0.0</td>\n",
       "      <td>0</td>\n",
       "      <td>16.000329</td>\n",
       "      <td>4.623249</td>\n",
       "      <td>1.541579</td>\n",
       "      <td>3.847202</td>\n",
       "      <td>0</td>\n",
       "      <td>0</td>\n",
       "      <td>704.0</td>\n",
       "    </tr>\n",
       "    <tr>\n",
       "      <td>5</td>\n",
       "      <td>2015-12-01</td>\n",
       "      <td>1999-02-01</td>\n",
       "      <td>2017-01-01</td>\n",
       "      <td>2015-01-01</td>\n",
       "      <td>8.49</td>\n",
       "      <td>5.7</td>\n",
       "      <td>36 months</td>\n",
       "      <td>B</td>\n",
       "      <td>10+ years</td>\n",
       "      <td>MORTGAGE</td>\n",
       "      <td>Not Verified</td>\n",
       "      <td>Fully Paid</td>\n",
       "      <td>major_purchase</td>\n",
       "      <td>SC</td>\n",
       "      <td>20000.0</td>\n",
       "      <td>20000.0</td>\n",
       "      <td>631.26</td>\n",
       "      <td>85000.0</td>\n",
       "      <td>17.61</td>\n",
       "      <td>826.0</td>\n",
       "      <td>1.0</td>\n",
       "      <td>8.0</td>\n",
       "      <td>0.0</td>\n",
       "      <td>709.0</td>\n",
       "      <td>705.0</td>\n",
       "      <td>21538.508977</td>\n",
       "      <td>0.0</td>\n",
       "      <td>0</td>\n",
       "      <td>13.043389</td>\n",
       "      <td>4.929419</td>\n",
       "      <td>1.245759</td>\n",
       "      <td>2.916980</td>\n",
       "      <td>1</td>\n",
       "      <td>0</td>\n",
       "      <td>709.0</td>\n",
       "    </tr>\n",
       "    <tr>\n",
       "      <td>6</td>\n",
       "      <td>2015-12-01</td>\n",
       "      <td>1984-05-01</td>\n",
       "      <td>2017-05-01</td>\n",
       "      <td>2015-01-01</td>\n",
       "      <td>6.49</td>\n",
       "      <td>64.5</td>\n",
       "      <td>36 months</td>\n",
       "      <td>A</td>\n",
       "      <td>10+ years</td>\n",
       "      <td>MORTGAGE</td>\n",
       "      <td>Not Verified</td>\n",
       "      <td>Fully Paid</td>\n",
       "      <td>debt_consolidation</td>\n",
       "      <td>NC</td>\n",
       "      <td>28000.0</td>\n",
       "      <td>28000.0</td>\n",
       "      <td>858.05</td>\n",
       "      <td>92000.0</td>\n",
       "      <td>21.60</td>\n",
       "      <td>51507.0</td>\n",
       "      <td>0.0</td>\n",
       "      <td>16.0</td>\n",
       "      <td>0.0</td>\n",
       "      <td>724.0</td>\n",
       "      <td>720.0</td>\n",
       "      <td>29939.017729</td>\n",
       "      <td>0.0</td>\n",
       "      <td>0</td>\n",
       "      <td>16.985975</td>\n",
       "      <td>4.963788</td>\n",
       "      <td>1.334454</td>\n",
       "      <td>4.711866</td>\n",
       "      <td>0</td>\n",
       "      <td>0</td>\n",
       "      <td>724.0</td>\n",
       "    </tr>\n",
       "  </tbody>\n",
       "</table>\n",
       "</div>"
      ],
      "text/plain": [
       "     issue_d earliest_cr_line last_pymnt_d issue_year  int_rate  revol_util  \\\n",
       "0 2015-12-01       2005-01-01   2018-08-01 2015-01-01     13.99        87.4   \n",
       "3 2015-12-01       2002-04-01   2018-08-01 2015-01-01      6.49        34.5   \n",
       "4 2015-12-01       1994-11-01   2017-04-01 2015-01-01     11.48        39.1   \n",
       "5 2015-12-01       1999-02-01   2017-01-01 2015-01-01      8.49         5.7   \n",
       "6 2015-12-01       1984-05-01   2017-05-01 2015-01-01      6.49        64.5   \n",
       "\n",
       "         term grade emp_length home_ownership verification_status loan_status  \\\n",
       "0   60 months     C   < 1 year           RENT     Source Verified  Fully Paid   \n",
       "3   36 months     A    6 years           RENT        Not Verified  Fully Paid   \n",
       "4   36 months     B  10+ years       MORTGAGE        Not Verified  Fully Paid   \n",
       "5   36 months     B  10+ years       MORTGAGE        Not Verified  Fully Paid   \n",
       "6   36 months     A  10+ years       MORTGAGE        Not Verified  Fully Paid   \n",
       "\n",
       "              purpose addr_state  loan_amnt  funded_amnt  installment  \\\n",
       "0         credit_card         OH    21000.0      21000.0       488.53   \n",
       "3         credit_card         PA    10000.0      10000.0       306.45   \n",
       "4         credit_card         RI     8000.0       8000.0       263.74   \n",
       "5      major_purchase         SC    20000.0      20000.0       631.26   \n",
       "6  debt_consolidation         NC    28000.0      28000.0       858.05   \n",
       "\n",
       "   annual_inc    dti  revol_bal  delinq_2yrs  open_acc  pub_rec  \\\n",
       "0     52000.0  14.47    20374.0          0.0       5.0      0.0   \n",
       "3     85000.0  13.07    10464.0          0.0      14.0      1.0   \n",
       "4     42000.0  34.80     7034.0          0.0       8.0      0.0   \n",
       "5     85000.0  17.61      826.0          1.0       8.0      0.0   \n",
       "6     92000.0  21.60    51507.0          0.0      16.0      0.0   \n",
       "\n",
       "   fico_range_high  fico_range_low   total_pymnt  recoveries  target  \\\n",
       "0            684.0           680.0  27285.807861         0.0       0   \n",
       "3            689.0           685.0  10998.971575         0.0       0   \n",
       "4            704.0           700.0   8939.580503         0.0       0   \n",
       "5            709.0           705.0  21538.508977         0.0       0   \n",
       "6            724.0           720.0  29939.017729         0.0       0   \n",
       "\n",
       "   loan_period  log_annual_inc   log_dti  log_revol_bal  delinq_2yrs_str  \\\n",
       "0    32.000657        4.716003  1.160469       4.309076                0   \n",
       "3    32.000657        4.929419  1.116276       4.019698                0   \n",
       "4    16.000329        4.623249  1.541579       3.847202                0   \n",
       "5    13.043389        4.929419  1.245759       2.916980                1   \n",
       "6    16.985975        4.963788  1.334454       4.711866                0   \n",
       "\n",
       "   pub_rec_str   fico  \n",
       "0            0  684.0  \n",
       "3            1  689.0  \n",
       "4            0  704.0  \n",
       "5            0  709.0  \n",
       "6            0  724.0  "
      ]
     },
     "execution_count": 6,
     "metadata": {},
     "output_type": "execute_result"
    }
   ],
   "source": [
    "df.head()"
   ]
  },
  {
   "cell_type": "markdown",
   "metadata": {},
   "source": [
    "### 1. Distrubution of loan and funded amount "
   ]
  },
  {
   "cell_type": "code",
   "execution_count": 7,
   "metadata": {},
   "outputs": [],
   "source": [
    "df['issue_year'] = df['issue_year'].dt.year"
   ]
  },
  {
   "cell_type": "code",
   "execution_count": 8,
   "metadata": {},
   "outputs": [
    {
     "data": {
      "text/plain": [
       "Text(0, 0.5, 'Average loan amount issued')"
      ]
     },
     "execution_count": 8,
     "metadata": {},
     "output_type": "execute_result"
    },
    {
     "data": {
      "image/png": "[encoded data removed]",
      "text/plain": [
       "<Figure size 1080x288 with 2 Axes>"
      ]
     },
     "metadata": {
      "needs_background": "light"
     },
     "output_type": "display_data"
    }
   ],
   "source": [
    "fig, (ax1, ax2) = plt.subplots(1, 2, sharex=False, figsize=(15,4))\n",
    "sns.barplot('issue_year', 'loan_amnt', data=df, palette='tab10', ax=ax1)\n",
    "ax1.set_title('Loan Amout',fontsize=14)\n",
    "ax1.set_xlabel('Year', fontsize=14)\n",
    "ax1.set_ylabel('Average loan amount issued', fontsize=14)\n",
    "\n",
    "sns.barplot('issue_year', 'funded_amnt', data=df, palette='tab10', ax=ax2)\n",
    "ax2.set_title('Funded Amout',fontsize=14)\n",
    "ax2.set_xlabel('Year', fontsize=14)\n",
    "ax2.set_ylabel('Average loan amount issued', fontsize=14)"
   ]
  },
  {
   "cell_type": "code",
   "execution_count": 9,
   "metadata": {},
   "outputs": [
    {
     "data": {
      "text/plain": [
       "Text(0, 0.5, 'Average loan amount issued')"
      ]
     },
     "execution_count": 9,
     "metadata": {},
     "output_type": "execute_result"
    },
    {
     "data": {
      "image/png": "[encoded data removed]",
      "text/plain": [
       "<Figure size 1080x288 with 2 Axes>"
      ]
     },
     "metadata": {
      "needs_background": "light"
     },
     "output_type": "display_data"
    }
   ],
   "source": [
    "# Distribution for loan amount and funded amount\n",
    "fig, (ax1, ax2) = plt.subplots(1, 2, sharex=False, figsize=(15,4))\n",
    "sns.distplot(df['loan_amnt'].values, ax=ax1)\n",
    "ax1.set_title('Loan Amount', fontsize=14)\n",
    "ax1.set_xlabel('Year', fontsize=14)\n",
    "ax1.set_ylabel('Average loan amount issued', fontsize=14)\n",
    "\n",
    "sns.distplot(df['funded_amnt'].values, ax=ax2)\n",
    "ax2.set_title('Funded Amount', fontsize=14)\n",
    "ax2.set_xlabel('Year', fontsize=14)\n",
    "ax2.set_ylabel('Average loan amount issued', fontsize=14)\n"
   ]
  },
  {
   "cell_type": "markdown",
   "metadata": {},
   "source": [
    "- The average amount of loan and fund issued is similar in past 5 years. \n",
    "- Most of the loan issued around $10000.\n",
    "- The amount issued to the borrowers and the amount funded by investors have a similar distribution, meaning that it is most likely that qualified borrowers are going to get the loan they had applied for."
   ]
  },
  {
   "cell_type": "markdown",
   "metadata": {},
   "source": [
    "### 2.  Good vs bad loan over year"
   ]
  },
  {
   "cell_type": "code",
   "execution_count": null,
   "metadata": {},
   "outputs": [],
   "source": [
    "#df['loan_status']\n",
    "sns.barplot('loan_status', data=df)\n",
    "#ax1.set_title('Loan Amout',fontsize=14)\n",
    "#ax1.set_xlabel('Year', fontsize=14)\n",
    "#ax1.set_ylabel('Average loan amount issued', fontsize=14)\n"
   ]
  },
  {
   "cell_type": "code",
   "execution_count": null,
   "metadata": {},
   "outputs": [],
   "source": [
    "# Plotly visualizations\n",
    "from plotly import tools\n",
    "import plotly.plotly as py\n",
    "import plotly.figure_factory as ff\n",
    "import plotly.graph_objs as go\n",
    "from plotly.offline import download_plotlyjs, init_notebook_mode, plot, iplot\n",
    "init_notebook_mode(connected=True)\n",
    "# plotly.tools.set_credentials_file(username='AlexanderBach', api_key='o4fx6i1MtEIJQxfWYvU1')\n"
   ]
  },
  {
   "cell_type": "markdown",
   "metadata": {},
   "source": [
    "### 3 states"
   ]
  },
  {
   "cell_type": "code",
   "execution_count": 33,
   "metadata": {},
   "outputs": [
    {
     "name": "stdout",
     "output_type": "stream",
     "text": [
      "['OH' 'PA' 'RI' 'SC' 'NC' 'AZ' 'VA' 'NY' 'KS' 'AL' 'NM' 'TX' 'MD' 'WA'\n",
      " 'GA' 'LA' 'IL' 'CO' 'FL' 'MI' 'MO' 'IN' 'WI' 'CA' 'VT' 'TN' 'MA' 'NJ'\n",
      " 'OR' 'SD' 'MN' 'DC' 'DE' 'NH' 'NE' 'AR' 'NV' 'MT' 'WV' 'HI' 'OK' 'WY'\n",
      " 'KY' 'CT' 'MS' 'UT' 'ND' 'ME' 'AK' 'ID']\n"
     ]
    }
   ],
   "source": [
    "states = df['addr_state'].unique()\n",
    "print(states)"
   ]
  },
  {
   "cell_type": "code",
   "execution_count": 34,
   "metadata": {},
   "outputs": [
    {
     "data": {
      "text/plain": [
       "50"
      ]
     },
     "execution_count": 34,
     "metadata": {},
     "output_type": "execute_result"
    }
   ],
   "source": [
    "df['addr_state'].nunique()"
   ]
  },
  {
   "cell_type": "markdown",
   "metadata": {},
   "source": [
    "Census Bureau-designated regions and divisions\n",
    "https://en.wikipedia.org/wiki/List_of_regions_of_the_United_States\n"
   ]
  },
  {
   "cell_type": "code",
   "execution_count": 35,
   "metadata": {},
   "outputs": [],
   "source": [
    "# Make a list with each of the regions by state.\n",
    "\n",
    "northeast = ['CT','ME','MA','NH','RI','VT','NJ','NY','PA']\n",
    "midwest = ['IL','IN','MI','OH','WI','IA','KS','MN','MO','NE','ND','SD']\n",
    "south = ['DE','FL','GA','AZ','MD','NC','SC','VA','DC','WV','AL','KY','MS','TN','AR','LA','OK','TX']\n",
    "west = ['CO','ID','MT','NV','NM','UT','WY','AK','CA','HI','OR','WA']\n",
    "states_all = northeast + midwest + south + west\n",
    "assert len(states_all) == 51\n"
   ]
  },
  {
   "cell_type": "code",
   "execution_count": 38,
   "metadata": {},
   "outputs": [],
   "source": [
    "#set(states_all).intersection(set(states))"
   ]
  },
  {
   "cell_type": "code",
   "execution_count": 17,
   "metadata": {},
   "outputs": [],
   "source": [
    "# add region column\n",
    "df['region'] = np.nan\n",
    "\n",
    "def finding_regions(state):\n",
    "    if state in northeast:\n",
    "        return 'northeast'\n",
    "    elif state in midwest:\n",
    "        return 'midwest'\n",
    "    elif state in south:\n",
    "        return 'south'\n",
    "    elif state in west:\n",
    "        return 'west'\n",
    "    \n",
    "df['region'] = df['addr_state'].apply(finding_regions)"
   ]
  },
  {
   "cell_type": "code",
   "execution_count": 198,
   "metadata": {},
   "outputs": [],
   "source": [
    "\n",
    "df_state_loan_amnt = df.groupby(['region','addr_state'])['loan_amnt'].sum().sort_values(ascending=False).to_frame().reset_index()\n",
    "df_state_income = df.groupby(['region','addr_state'])['annual_inc'].median().sort_values(ascending=False).to_frame().reset_index()\n",
    "\n",
    "df_target = df.groupby(['region','addr_state'])['target'].value_counts(normalize=True).to_frame()\n",
    "df_target = df_target.iloc[df_target.index.get_level_values('target') == 1]\\\n",
    "    .rename(columns={\"target\": \"default_rate\"}).reset_index().sort_values(by=[\"default_rate\"], ascending=False)"
   ]
  },
  {
   "cell_type": "code",
   "execution_count": 213,
   "metadata": {},
   "outputs": [
    {
     "data": {
      "text/plain": [
       "Text(0, 0.5, 'Default rate')"
      ]
     },
     "execution_count": 213,
     "metadata": {},
     "output_type": "execute_result"
    },
    {
     "data": {
      "image/png": "[encoded data removed]",
      "text/plain": [
       "<Figure size 1440x1080 with 3 Axes>"
      ]
     },
     "metadata": {
      "needs_background": "light"
     },
     "output_type": "display_data"
    }
   ],
   "source": [
    "\n",
    "fig, (ax1, ax2, ax3) = plt.subplots(3, 1, sharex=False, figsize=(20,15))\n",
    "\n",
    "palette ={\"northeast\":\"C0\",\"midwest\":\"C1\",\"south\":\"C2\", \"west\":\"C3\"}\n",
    "\n",
    "sns.barplot('addr_state', 'loan_amnt', hue='region', dodge=False, \\\n",
    "            data=df_state_loan_amnt,ax=ax1, palette=palette)\n",
    "ax1.set_title('Total Loan Amount by States',fontsize=14)\n",
    "ax1.set_xlabel('')\n",
    "ax1.set_ylabel('Total loan amount issued', fontsize=14)\n",
    "\n",
    "sns.barplot('addr_state', 'annual_inc', hue='region',dodge=False, \\\n",
    "            data=df_state_income, ax=ax2, palette=palette) \n",
    "ax2.set_title('Median income by States',fontsize=14)\n",
    "ax2.set_xlabel('')\n",
    "ax2.set_ylabel('Median Annual income', fontsize=14)\n",
    "\n",
    "sns.barplot('addr_state', 'default_rate', hue='region',dodge=False, \\\n",
    "            data=df_target, ax=ax3,palette=palette)\n",
    "ax3.set_title('Default Rate by States',fontsize=14)\n",
    "ax3.set_xlabel('')\n",
    "ax3.set_ylabel('Default rate', fontsize=14)"
   ]
  },
  {
   "cell_type": "code",
   "execution_count": 222,
   "metadata": {},
   "outputs": [
    {
     "data": {
      "text/plain": [
       "Text(0, 0.5, 'Default rate')"
      ]
     },
     "execution_count": 222,
     "metadata": {},
     "output_type": "execute_result"
    },
    {
     "data": {
      "image/png": "[encoded data removed]",
      "text/plain": [
       "<Figure size 1440x360 with 3 Axes>"
      ]
     },
     "metadata": {
      "needs_background": "light"
     },
     "output_type": "display_data"
    }
   ],
   "source": [
    "fig, (ax1, ax2, ax3) = plt.subplots(1, 3, sharex=False, figsize=(20,5))\n",
    "\n",
    "palette ={\"northeast\":\"C0\",\"midwest\":\"C1\",\"south\":\"C2\", \"west\":\"C3\"}\n",
    "\n",
    "sns.barplot('region', 'loan_amnt', estimator=np.sum,\\\n",
    "            data=df_state_loan_amnt,ax=ax1, palette=palette)\n",
    "ax1.set_title('Total Loan Amount by States',fontsize=14)\n",
    "ax1.set_xlabel('')\n",
    "ax1.set_ylabel('Total loan amount issued', fontsize=14)\n",
    "\n",
    "sns.barplot('region', 'annual_inc', estimator=np.median, \\\n",
    "            data=df_state_income, ax=ax2, palette=palette) \n",
    "ax2.set_title('Median income by States',fontsize=14)\n",
    "ax2.set_xlabel('')\n",
    "ax2.set_ylabel('Median Annual income', fontsize=14)\n",
    "\n",
    "sns.barplot('region', 'default_rate', estimator=np.median,\\\n",
    "            data=df_target, ax=ax3,palette=palette)\n",
    "ax3.set_title('Default Rate by States',fontsize=14)\n",
    "ax3.set_xlabel('')\n",
    "ax3.set_ylabel('Default rate', fontsize=14)"
   ]
  },
  {
   "cell_type": "code",
   "execution_count": 31,
   "metadata": {},
   "outputs": [
    {
     "data": {
      "text/plain": [
       "addr_state\n",
       "NE    13514.986858\n",
       "VT    13610.301972\n",
       "MT    13643.980037\n",
       "AR    13833.861174\n",
       "KY    13834.424096\n",
       "          ...     \n",
       "NJ    15581.996387\n",
       "VA    15724.332100\n",
       "HI    15759.069245\n",
       "DC    15819.197761\n",
       "AK    17033.368441\n",
       "Name: loan_amnt, Length: 50, dtype: float64"
      ]
     },
     "execution_count": 31,
     "metadata": {},
     "output_type": "execute_result"
    }
   ],
   "source": [
    "df.groupby('addr_state')['loan_amnt'].mean().sort_values(ascending=True)"
   ]
  },
  {
   "cell_type": "code",
   "execution_count": 116,
   "metadata": {},
   "outputs": [
    {
     "data": {
      "text/html": [
       "<div>\n",
       "<style scoped>\n",
       "    .dataframe tbody tr th:only-of-type {\n",
       "        vertical-align: middle;\n",
       "    }\n",
       "\n",
       "    .dataframe tbody tr th {\n",
       "        vertical-align: top;\n",
       "    }\n",
       "\n",
       "    .dataframe thead th {\n",
       "        text-align: right;\n",
       "    }\n",
       "</style>\n",
       "<table border=\"1\" class=\"dataframe\">\n",
       "  <thead>\n",
       "    <tr style=\"text-align: right;\">\n",
       "      <th></th>\n",
       "      <th>region</th>\n",
       "      <th>addr_state</th>\n",
       "      <th>annual_inc</th>\n",
       "    </tr>\n",
       "  </thead>\n",
       "  <tbody>\n",
       "    <tr>\n",
       "      <td>0</td>\n",
       "      <td>south</td>\n",
       "      <td>DC</td>\n",
       "      <td>85000.0</td>\n",
       "    </tr>\n",
       "    <tr>\n",
       "      <td>1</td>\n",
       "      <td>south</td>\n",
       "      <td>MD</td>\n",
       "      <td>77000.0</td>\n",
       "    </tr>\n",
       "    <tr>\n",
       "      <td>2</td>\n",
       "      <td>south</td>\n",
       "      <td>VA</td>\n",
       "      <td>75000.0</td>\n",
       "    </tr>\n",
       "    <tr>\n",
       "      <td>3</td>\n",
       "      <td>northeast</td>\n",
       "      <td>NJ</td>\n",
       "      <td>75000.0</td>\n",
       "    </tr>\n",
       "    <tr>\n",
       "      <td>4</td>\n",
       "      <td>west</td>\n",
       "      <td>CA</td>\n",
       "      <td>75000.0</td>\n",
       "    </tr>\n",
       "  </tbody>\n",
       "</table>\n",
       "</div>"
      ],
      "text/plain": [
       "      region addr_state  annual_inc\n",
       "0      south         DC     85000.0\n",
       "1      south         MD     77000.0\n",
       "2      south         VA     75000.0\n",
       "3  northeast         NJ     75000.0\n",
       "4       west         CA     75000.0"
      ]
     },
     "execution_count": 116,
     "metadata": {},
     "output_type": "execute_result"
    }
   ],
   "source": []
  },
  {
   "cell_type": "code",
   "execution_count": null,
   "metadata": {},
   "outputs": [],
   "source": []
  },
  {
   "cell_type": "code",
   "execution_count": 40,
   "metadata": {},
   "outputs": [
    {
     "data": {
      "text/plain": [
       "Text(0, 0.5, 'Average fico')"
      ]
     },
     "execution_count": 40,
     "metadata": {},
     "output_type": "execute_result"
    },
    {
     "data": {
      "image/png": "[encoded data removed]",
      "text/plain": [
       "<Figure size 432x288 with 1 Axes>"
      ]
     },
     "metadata": {
      "needs_background": "light"
     },
     "output_type": "display_data"
    }
   ],
   "source": [
    "sns.barplot('region', 'fico', data=df)\n",
    "plt.title('fico by region',fontsize=14)\n",
    "plt.xlabel('Region', fontsize=14)\n",
    "plt.ylabel('Average fico', fontsize=14)"
   ]
  },
  {
   "cell_type": "code",
   "execution_count": 43,
   "metadata": {},
   "outputs": [
    {
     "data": {
      "text/plain": [
       "region\n",
       "west         701.033997\n",
       "south        701.078206\n",
       "midwest      701.269858\n",
       "northeast    702.049231\n",
       "Name: fico, dtype: float64"
      ]
     },
     "execution_count": 43,
     "metadata": {},
     "output_type": "execute_result"
    }
   ],
   "source": [
    "df.groupby('region')['fico'].mean().sort_values(ascending=True)"
   ]
  },
  {
   "cell_type": "code",
   "execution_count": 64,
   "metadata": {},
   "outputs": [
    {
     "data": {
      "text/plain": [
       "region     loan_status\n",
       "midwest    Fully Paid     0.803337\n",
       "           Charged Off    0.196663\n",
       "northeast  Fully Paid     0.789714\n",
       "           Charged Off    0.210286\n",
       "south      Fully Paid     0.791852\n",
       "           Charged Off    0.208148\n",
       "west       Fully Paid     0.809990\n",
       "           Charged Off    0.190010\n",
       "Name: loan_status, dtype: float64"
      ]
     },
     "execution_count": 64,
     "metadata": {},
     "output_type": "execute_result"
    }
   ],
   "source": [
    "df.groupby(['region'])['loan_status'].value_counts(normalize=True)#.sort_values(ascending=False)"
   ]
  },
  {
   "cell_type": "code",
   "execution_count": 39,
   "metadata": {},
   "outputs": [
    {
     "data": {
      "text/plain": [
       "Index(['issue_d', 'earliest_cr_line', 'last_pymnt_d', 'issue_year', 'int_rate',\n",
       "       'revol_util', 'term', 'grade', 'emp_length', 'home_ownership',\n",
       "       'verification_status', 'loan_status', 'purpose', 'addr_state',\n",
       "       'loan_amnt', 'funded_amnt', 'installment', 'annual_inc', 'dti',\n",
       "       'revol_bal', 'delinq_2yrs', 'open_acc', 'pub_rec', 'fico_range_high',\n",
       "       'fico_range_low', 'total_pymnt', 'recoveries', 'target', 'loan_period',\n",
       "       'log_annual_inc', 'log_dti', 'log_revol_bal', 'delinq_2yrs_str',\n",
       "       'pub_rec_str', 'fico', 'region'],\n",
       "      dtype='object')"
      ]
     },
     "execution_count": 39,
     "metadata": {},
     "output_type": "execute_result"
    }
   ],
   "source": [
    "df.columns#['addr_state']"
   ]
  },
  {
   "cell_type": "markdown",
   "metadata": {},
   "source": [
    "### 3 maps"
   ]
  },
  {
   "cell_type": "code",
   "execution_count": 68,
   "metadata": {},
   "outputs": [],
   "source": [
    "# Now it comes the part where we plot out plotly United States map\n",
    "import plotly as py\n",
    "import plotly.graph_objs as go\n"
   ]
  },
  {
   "cell_type": "code",
   "execution_count": 71,
   "metadata": {},
   "outputs": [],
   "source": [
    "group_loan_amnt = df.groupby('addr_state')['loan_amnt'].sum().sort_values()\n"
   ]
  },
  {
   "cell_type": "code",
   "execution_count": 72,
   "metadata": {},
   "outputs": [
    {
     "data": {
      "text/plain": [
       "addr_state\n",
       "SD    3.303305e+07\n",
       "VT    3.312748e+07\n",
       "ND    3.330028e+07\n",
       "ID    3.589325e+07\n",
       "WY    3.664650e+07\n",
       "          ...     \n",
       "IL    6.793398e+08\n",
       "FL    1.176397e+09\n",
       "NY    1.354495e+09\n",
       "TX    1.510895e+09\n",
       "CA    2.474906e+09\n",
       "Name: loan_amnt, Length: 50, dtype: float64"
      ]
     },
     "execution_count": 72,
     "metadata": {},
     "output_type": "execute_result"
    }
   ],
   "source": [
    "group_loan_amnt"
   ]
  },
  {
   "cell_type": "code",
   "execution_count": null,
   "metadata": {},
   "outputs": [],
   "source": [
    "by_loan_amount = df.groupby(['region','addr_state'], as_index=False).loan_amount.sum()\n",
    "by_interest_rate = df.groupby(['region', 'addr_state'], as_index=False).interest_rate.mean()\n",
    "by_income = df.groupby(['region', 'addr_state'], as_index=False).annual_income.mean()"
   ]
  }
 ],
 "metadata": {
  "kernelspec": {
   "display_name": "Python 3",
   "language": "python",
   "name": "python3"
  },
  "language_info": {
   "codemirror_mode": {
    "name": "ipython",
    "version": 3
   },
   "file_extension": ".py",
   "mimetype": "text/x-python",
   "name": "python",
   "nbconvert_exporter": "python",
   "pygments_lexer": "ipython3",
   "version": "3.7.4"
  }
 },
 "nbformat": 4,
 "nbformat_minor": 2
}
