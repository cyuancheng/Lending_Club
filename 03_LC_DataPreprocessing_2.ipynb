{
 "cells": [
  {
   "cell_type": "markdown",
   "metadata": {},
   "source": [
    "## 1 - Introduction\n",
    "This notebook is for clean the dataset downloaded from Lending Club website."
   ]
  },
  {
   "cell_type": "markdown",
   "metadata": {},
   "source": [
    "## 2 - Dataset\n",
    "\n",
    "The dataset was download from [Lending Club](https://www.lendingclub.com/statistics/additional-statistics?). It contains information from 2015 to 2019. \n",
    "\n",
    "**Data manipulation**: \n",
    "\n",
    "    - Concatenate data from 2015 to 2019\n",
    "    - Remove columns with >20% missing values\n",
    "    - Save to a new csv file\n",
    "\n"
   ]
  },
  {
   "cell_type": "code",
   "execution_count": 4,
   "metadata": {},
   "outputs": [
    {
     "name": "stdout",
     "output_type": "stream",
     "text": [
      "The autoreload extension is already loaded. To reload it, use:\n",
      "  %reload_ext autoreload\n"
     ]
    }
   ],
   "source": [
    "import pandas as pd\n",
    "import matplotlib.pyplot as plt\n",
    "import seaborn as sns\n",
    "import numpy as np\n",
    "from datetime import datetime\n",
    "import time\n",
    "\n",
    "# Options for pandas\n",
    "pd.options.display.max_columns = 50\n",
    "pd.options.display.max_rows = 30\n",
    "\n",
    "import warnings\n",
    "warnings.filterwarnings('ignore')\n",
    "%matplotlib inline\n",
    "\n",
    "%load_ext autoreload\n",
    "%autoreload 2"
   ]
  },
  {
   "cell_type": "code",
   "execution_count": 33,
   "metadata": {},
   "outputs": [
    {
     "name": "stdout",
     "output_type": "stream",
     "text": [
      "It takes  21.227231979370117 sec to read the data\n"
     ]
    }
   ],
   "source": [
    "# read data\n",
    "start = time.time()\n",
    "path = '/Users/cyuancheng/Documents/course/Springboard/Capstone1/data/'\n",
    "df = pd.read_csv(path+'data_col_pickup.csv', low_memory=True, index_col=0, \\\n",
    "                 parse_dates=['issue_d', 'earliest_cr_line', 'last_pymnt_d', 'issue_year'] )\n",
    "end = time.time()\n",
    "print('It takes  ' + str(end-start) +' sec to read the data')"
   ]
  },
  {
   "cell_type": "code",
   "execution_count": 34,
   "metadata": {},
   "outputs": [
    {
     "data": {
      "text/html": [
       "<div>\n",
       "<style scoped>\n",
       "    .dataframe tbody tr th:only-of-type {\n",
       "        vertical-align: middle;\n",
       "    }\n",
       "\n",
       "    .dataframe tbody tr th {\n",
       "        vertical-align: top;\n",
       "    }\n",
       "\n",
       "    .dataframe thead th {\n",
       "        text-align: right;\n",
       "    }\n",
       "</style>\n",
       "<table border=\"1\" class=\"dataframe\">\n",
       "  <thead>\n",
       "    <tr style=\"text-align: right;\">\n",
       "      <th></th>\n",
       "      <th>issue_d</th>\n",
       "      <th>earliest_cr_line</th>\n",
       "      <th>last_pymnt_d</th>\n",
       "      <th>issue_year</th>\n",
       "      <th>int_rate</th>\n",
       "      <th>revol_util</th>\n",
       "      <th>term</th>\n",
       "      <th>grade</th>\n",
       "      <th>emp_length</th>\n",
       "      <th>home_ownership</th>\n",
       "      <th>verification_status</th>\n",
       "      <th>loan_status</th>\n",
       "      <th>purpose</th>\n",
       "      <th>addr_state</th>\n",
       "      <th>loan_amnt</th>\n",
       "      <th>funded_amnt</th>\n",
       "      <th>installment</th>\n",
       "      <th>annual_inc</th>\n",
       "      <th>int_rate.1</th>\n",
       "      <th>dti</th>\n",
       "      <th>revol_bal</th>\n",
       "      <th>delinq_2yrs</th>\n",
       "      <th>open_acc</th>\n",
       "      <th>pub_rec</th>\n",
       "      <th>fico_range_high</th>\n",
       "      <th>fico_range_low</th>\n",
       "      <th>total_pymnt</th>\n",
       "      <th>recoveries</th>\n",
       "    </tr>\n",
       "  </thead>\n",
       "  <tbody>\n",
       "    <tr>\n",
       "      <td>0</td>\n",
       "      <td>2015-12-01</td>\n",
       "      <td>2005-01-01</td>\n",
       "      <td>2018-08-01</td>\n",
       "      <td>2015-01-01</td>\n",
       "      <td>13.99</td>\n",
       "      <td>87.4</td>\n",
       "      <td>60 months</td>\n",
       "      <td>C</td>\n",
       "      <td>&lt; 1 year</td>\n",
       "      <td>RENT</td>\n",
       "      <td>Source Verified</td>\n",
       "      <td>Fully Paid</td>\n",
       "      <td>credit_card</td>\n",
       "      <td>OH</td>\n",
       "      <td>21000.0</td>\n",
       "      <td>21000.0</td>\n",
       "      <td>488.53</td>\n",
       "      <td>52000.0</td>\n",
       "      <td>13.99</td>\n",
       "      <td>14.47</td>\n",
       "      <td>20374.0</td>\n",
       "      <td>0.0</td>\n",
       "      <td>5.0</td>\n",
       "      <td>0.0</td>\n",
       "      <td>684.0</td>\n",
       "      <td>680.0</td>\n",
       "      <td>27285.807861</td>\n",
       "      <td>0.0</td>\n",
       "    </tr>\n",
       "    <tr>\n",
       "      <td>1</td>\n",
       "      <td>2015-12-01</td>\n",
       "      <td>1997-06-01</td>\n",
       "      <td>2020-01-01</td>\n",
       "      <td>2015-01-01</td>\n",
       "      <td>12.88</td>\n",
       "      <td>24.1</td>\n",
       "      <td>60 months</td>\n",
       "      <td>C</td>\n",
       "      <td>10+ years</td>\n",
       "      <td>MORTGAGE</td>\n",
       "      <td>Not Verified</td>\n",
       "      <td>Current</td>\n",
       "      <td>debt_consolidation</td>\n",
       "      <td>MO</td>\n",
       "      <td>16800.0</td>\n",
       "      <td>16800.0</td>\n",
       "      <td>381.23</td>\n",
       "      <td>118000.0</td>\n",
       "      <td>12.88</td>\n",
       "      <td>34.29</td>\n",
       "      <td>7849.0</td>\n",
       "      <td>0.0</td>\n",
       "      <td>11.0</td>\n",
       "      <td>1.0</td>\n",
       "      <td>684.0</td>\n",
       "      <td>680.0</td>\n",
       "      <td>18650.220000</td>\n",
       "      <td>0.0</td>\n",
       "    </tr>\n",
       "    <tr>\n",
       "      <td>2</td>\n",
       "      <td>2015-12-01</td>\n",
       "      <td>1995-04-01</td>\n",
       "      <td>2020-01-01</td>\n",
       "      <td>2015-01-01</td>\n",
       "      <td>12.88</td>\n",
       "      <td>32.7</td>\n",
       "      <td>60 months</td>\n",
       "      <td>C</td>\n",
       "      <td>6 years</td>\n",
       "      <td>MORTGAGE</td>\n",
       "      <td>Not Verified</td>\n",
       "      <td>Current</td>\n",
       "      <td>debt_consolidation</td>\n",
       "      <td>SC</td>\n",
       "      <td>22400.0</td>\n",
       "      <td>22400.0</td>\n",
       "      <td>508.30</td>\n",
       "      <td>95000.0</td>\n",
       "      <td>12.88</td>\n",
       "      <td>22.98</td>\n",
       "      <td>13028.0</td>\n",
       "      <td>0.0</td>\n",
       "      <td>16.0</td>\n",
       "      <td>0.0</td>\n",
       "      <td>714.0</td>\n",
       "      <td>710.0</td>\n",
       "      <td>24866.630000</td>\n",
       "      <td>0.0</td>\n",
       "    </tr>\n",
       "    <tr>\n",
       "      <td>3</td>\n",
       "      <td>2015-12-01</td>\n",
       "      <td>2002-04-01</td>\n",
       "      <td>2018-08-01</td>\n",
       "      <td>2015-01-01</td>\n",
       "      <td>6.49</td>\n",
       "      <td>34.5</td>\n",
       "      <td>36 months</td>\n",
       "      <td>A</td>\n",
       "      <td>6 years</td>\n",
       "      <td>RENT</td>\n",
       "      <td>Not Verified</td>\n",
       "      <td>Fully Paid</td>\n",
       "      <td>credit_card</td>\n",
       "      <td>PA</td>\n",
       "      <td>10000.0</td>\n",
       "      <td>10000.0</td>\n",
       "      <td>306.45</td>\n",
       "      <td>85000.0</td>\n",
       "      <td>6.49</td>\n",
       "      <td>13.07</td>\n",
       "      <td>10464.0</td>\n",
       "      <td>0.0</td>\n",
       "      <td>14.0</td>\n",
       "      <td>1.0</td>\n",
       "      <td>689.0</td>\n",
       "      <td>685.0</td>\n",
       "      <td>10998.971575</td>\n",
       "      <td>0.0</td>\n",
       "    </tr>\n",
       "    <tr>\n",
       "      <td>4</td>\n",
       "      <td>2015-12-01</td>\n",
       "      <td>1994-11-01</td>\n",
       "      <td>2017-04-01</td>\n",
       "      <td>2015-01-01</td>\n",
       "      <td>11.48</td>\n",
       "      <td>39.1</td>\n",
       "      <td>36 months</td>\n",
       "      <td>B</td>\n",
       "      <td>10+ years</td>\n",
       "      <td>MORTGAGE</td>\n",
       "      <td>Not Verified</td>\n",
       "      <td>Fully Paid</td>\n",
       "      <td>credit_card</td>\n",
       "      <td>RI</td>\n",
       "      <td>8000.0</td>\n",
       "      <td>8000.0</td>\n",
       "      <td>263.74</td>\n",
       "      <td>42000.0</td>\n",
       "      <td>11.48</td>\n",
       "      <td>34.80</td>\n",
       "      <td>7034.0</td>\n",
       "      <td>0.0</td>\n",
       "      <td>8.0</td>\n",
       "      <td>0.0</td>\n",
       "      <td>704.0</td>\n",
       "      <td>700.0</td>\n",
       "      <td>8939.580503</td>\n",
       "      <td>0.0</td>\n",
       "    </tr>\n",
       "  </tbody>\n",
       "</table>\n",
       "</div>"
      ],
      "text/plain": [
       "     issue_d earliest_cr_line last_pymnt_d issue_year  int_rate  revol_util  \\\n",
       "0 2015-12-01       2005-01-01   2018-08-01 2015-01-01     13.99        87.4   \n",
       "1 2015-12-01       1997-06-01   2020-01-01 2015-01-01     12.88        24.1   \n",
       "2 2015-12-01       1995-04-01   2020-01-01 2015-01-01     12.88        32.7   \n",
       "3 2015-12-01       2002-04-01   2018-08-01 2015-01-01      6.49        34.5   \n",
       "4 2015-12-01       1994-11-01   2017-04-01 2015-01-01     11.48        39.1   \n",
       "\n",
       "         term grade emp_length home_ownership verification_status loan_status  \\\n",
       "0   60 months     C   < 1 year           RENT     Source Verified  Fully Paid   \n",
       "1   60 months     C  10+ years       MORTGAGE        Not Verified     Current   \n",
       "2   60 months     C    6 years       MORTGAGE        Not Verified     Current   \n",
       "3   36 months     A    6 years           RENT        Not Verified  Fully Paid   \n",
       "4   36 months     B  10+ years       MORTGAGE        Not Verified  Fully Paid   \n",
       "\n",
       "              purpose addr_state  loan_amnt  funded_amnt  installment  \\\n",
       "0         credit_card         OH    21000.0      21000.0       488.53   \n",
       "1  debt_consolidation         MO    16800.0      16800.0       381.23   \n",
       "2  debt_consolidation         SC    22400.0      22400.0       508.30   \n",
       "3         credit_card         PA    10000.0      10000.0       306.45   \n",
       "4         credit_card         RI     8000.0       8000.0       263.74   \n",
       "\n",
       "   annual_inc  int_rate.1    dti  revol_bal  delinq_2yrs  open_acc  pub_rec  \\\n",
       "0     52000.0       13.99  14.47    20374.0          0.0       5.0      0.0   \n",
       "1    118000.0       12.88  34.29     7849.0          0.0      11.0      1.0   \n",
       "2     95000.0       12.88  22.98    13028.0          0.0      16.0      0.0   \n",
       "3     85000.0        6.49  13.07    10464.0          0.0      14.0      1.0   \n",
       "4     42000.0       11.48  34.80     7034.0          0.0       8.0      0.0   \n",
       "\n",
       "   fico_range_high  fico_range_low   total_pymnt  recoveries  \n",
       "0            684.0           680.0  27285.807861         0.0  \n",
       "1            684.0           680.0  18650.220000         0.0  \n",
       "2            714.0           710.0  24866.630000         0.0  \n",
       "3            689.0           685.0  10998.971575         0.0  \n",
       "4            704.0           700.0   8939.580503         0.0  "
      ]
     },
     "execution_count": 34,
     "metadata": {},
     "output_type": "execute_result"
    }
   ],
   "source": [
    "df.head()"
   ]
  },
  {
   "cell_type": "code",
   "execution_count": 35,
   "metadata": {},
   "outputs": [
    {
     "name": "stdout",
     "output_type": "stream",
     "text": [
      "<class 'pandas.core.frame.DataFrame'>\n",
      "Int64Index: 2307030 entries, 0 to 2312461\n",
      "Data columns (total 28 columns):\n",
      "issue_d                datetime64[ns]\n",
      "earliest_cr_line       datetime64[ns]\n",
      "last_pymnt_d           datetime64[ns]\n",
      "issue_year             datetime64[ns]\n",
      "int_rate               float64\n",
      "revol_util             float64\n",
      "term                   object\n",
      "grade                  object\n",
      "emp_length             object\n",
      "home_ownership         object\n",
      "verification_status    object\n",
      "loan_status            object\n",
      "purpose                object\n",
      "addr_state             object\n",
      "loan_amnt              float64\n",
      "funded_amnt            float64\n",
      "installment            float64\n",
      "annual_inc             float64\n",
      "int_rate.1             float64\n",
      "dti                    float64\n",
      "revol_bal              float64\n",
      "delinq_2yrs            float64\n",
      "open_acc               float64\n",
      "pub_rec                float64\n",
      "fico_range_high        float64\n",
      "fico_range_low         float64\n",
      "total_pymnt            float64\n",
      "recoveries             float64\n",
      "dtypes: datetime64[ns](4), float64(16), object(8)\n",
      "memory usage: 510.4+ MB\n"
     ]
    }
   ],
   "source": [
    "df.info()"
   ]
  },
  {
   "cell_type": "code",
   "execution_count": 36,
   "metadata": {},
   "outputs": [
    {
     "name": "stdout",
     "output_type": "stream",
     "text": [
      "['addr_state', 'annual_inc', 'delinq_2yrs', 'dti', 'earliest_cr_line', 'emp_length', 'fico_range_high', 'fico_range_low', 'funded_amnt', 'grade', 'home_ownership', 'installment', 'int_rate', 'int_rate.1', 'issue_d', 'issue_year', 'last_pymnt_d', 'loan_amnt', 'loan_status', 'open_acc', 'pub_rec', 'purpose', 'recoveries', 'revol_bal', 'revol_util', 'term', 'total_pymnt', 'verification_status']\n"
     ]
    }
   ],
   "source": [
    "# check columns\n",
    "print(sorted(df.columns))"
   ]
  },
  {
   "cell_type": "code",
   "execution_count": 14,
   "metadata": {},
   "outputs": [
    {
     "name": "stdout",
     "output_type": "stream",
     "text": [
      "Dataset has 2307030 rows and 28 columns\n"
     ]
    }
   ],
   "source": [
    "print(\"Dataset has \" + str(df.shape[0]) + \" rows\" +' and ' + str(df.shape[1]) + ' columns')"
   ]
  },
  {
   "cell_type": "markdown",
   "metadata": {},
   "source": [
    "### Target"
   ]
  },
  {
   "cell_type": "code",
   "execution_count": 37,
   "metadata": {},
   "outputs": [
    {
     "data": {
      "text/plain": [
       "Current               1017797\n",
       "Fully Paid             994572\n",
       "Charged Off            256642\n",
       "Late (31-120 days)      22597\n",
       "In Grace Period         10744\n",
       "Late (16-30 days)        4619\n",
       "Default                    48\n",
       "Issued                     11\n",
       "Name: loan_status, dtype: int64"
      ]
     },
     "execution_count": 37,
     "metadata": {},
     "output_type": "execute_result"
    }
   ],
   "source": [
    "df['loan_status'].value_counts(dropna=False)"
   ]
  },
  {
   "cell_type": "code",
   "execution_count": 38,
   "metadata": {},
   "outputs": [],
   "source": [
    "df = df.loc[df['loan_status'].isin([\"Fully Paid\", \"Charged Off\"])]"
   ]
  },
  {
   "cell_type": "code",
   "execution_count": 39,
   "metadata": {},
   "outputs": [
    {
     "data": {
      "text/plain": [
       "0"
      ]
     },
     "execution_count": 39,
     "metadata": {},
     "output_type": "execute_result"
    }
   ],
   "source": [
    "# check missing value\n",
    "df['loan_status'].isnull().sum()"
   ]
  },
  {
   "cell_type": "code",
   "execution_count": 40,
   "metadata": {},
   "outputs": [
    {
     "data": {
      "text/plain": [
       "Fully Paid     0.794886\n",
       "Charged Off    0.205114\n",
       "Name: loan_status, dtype: float64"
      ]
     },
     "execution_count": 40,
     "metadata": {},
     "output_type": "execute_result"
    }
   ],
   "source": [
    "df['loan_status'].value_counts(normalize=True)"
   ]
  },
  {
   "cell_type": "markdown",
   "metadata": {},
   "source": [
    "Tag the 'Fully Paid' to 0; 'Charged Off' to 1"
   ]
  },
  {
   "cell_type": "code",
   "execution_count": 41,
   "metadata": {},
   "outputs": [
    {
     "data": {
      "text/plain": [
       "0    0.794886\n",
       "1    0.205114\n",
       "Name: target, dtype: float64"
      ]
     },
     "execution_count": 41,
     "metadata": {},
     "output_type": "execute_result"
    }
   ],
   "source": [
    "# fully paid: 0, charged off:1\n",
    "df['target'] = df['loan_status'].apply(lambda x:0 if x=='Fully Paid' else 1)\n",
    "df['target'].value_counts(normalize=True) "
   ]
  },
  {
   "cell_type": "markdown",
   "metadata": {},
   "source": [
    "### calculate loan period"
   ]
  },
  {
   "cell_type": "code",
   "execution_count": 43,
   "metadata": {},
   "outputs": [],
   "source": [
    "df['loan_period'] = (df['last_pymnt_d'] - df['issue_d']) / np.timedelta64(1, 'M')"
   ]
  },
  {
   "cell_type": "code",
   "execution_count": 44,
   "metadata": {},
   "outputs": [],
   "source": [
    "# remove loan_period = 0\n",
    "df = df[df['loan_period']!=0]"
   ]
  },
  {
   "cell_type": "code",
   "execution_count": 60,
   "metadata": {},
   "outputs": [
    {
     "data": {
      "text/plain": [
       "(0, 0.1)"
      ]
     },
     "execution_count": 60,
     "metadata": {},
     "output_type": "execute_result"
    },
    {
     "data": {
      "image/png": "[encoded data removed]",
      "text/plain": [
       "<Figure size 1080x360 with 2 Axes>"
      ]
     },
     "metadata": {
      "needs_background": "light"
     },
     "output_type": "display_data"
    }
   ],
   "source": [
    "fig, (ax1, ax2) = plt.subplots(1, 2, sharex=False, figsize=(15,5))\n",
    "\n",
    "sns.distplot(df[(df['target']==0) & (df['term']== ' 36 months')]['loan_period'], hist=False, \\\n",
    "             rug=False, label = 'Fully Paid', ax=ax1)\n",
    "sns.distplot(df[(df['target']==1) & (df['term']== ' 36 months')]['loan_period'], hist=False, \\\n",
    "             rug=False, label = 'Charged Off', ax=ax1)\n",
    "\n",
    "ax1.set_title('36 month loan')\n",
    "ax1.set_xlabel('loan period (month)')\n",
    "ax1.set_ylabel('frequency')\n",
    "ax1.set_ylim([0, 0.1])\n",
    "\n",
    "sns.distplot(df[(df['target']==0) & (df['term']== ' 60 months')]['loan_period'], hist=False, \\\n",
    "             rug=False, label = 'Fully Paid', ax=ax2)\n",
    "sns.distplot(df[(df['target']==1) & (df['term']== ' 60 months')]['loan_period'], hist=False, \\\n",
    "             rug=False, label = 'Charged Off', ax=ax2)\n",
    "\n",
    "ax2.set_title('60 month loan')\n",
    "ax2.set_xlabel('loan period (month)')\n",
    "ax2.set_ylabel('frequency')\n",
    "ax2.set_ylim([0, 0.1])"
   ]
  },
  {
   "cell_type": "markdown",
   "metadata": {},
   "source": [
    "For investors who have 36 month loan, they tend to pay off at the very end of their loans."
   ]
  },
  {
   "cell_type": "markdown",
   "metadata": {},
   "source": [
    "### Examine each column"
   ]
  },
  {
   "cell_type": "code",
   "execution_count": 91,
   "metadata": {},
   "outputs": [
    {
     "data": {
      "text/plain": [
       "Index(['issue_d', 'earliest_cr_line', 'last_pymnt_d', 'issue_year', 'int_rate',\n",
       "       'revol_util', 'term', 'grade', 'emp_length', 'home_ownership',\n",
       "       'verification_status', 'loan_status', 'purpose', 'addr_state',\n",
       "       'loan_amnt', 'funded_amnt', 'installment', 'annual_inc', 'int_rate.1',\n",
       "       'dti', 'revol_bal', 'delinq_2yrs', 'open_acc', 'pub_rec',\n",
       "       'fico_range_high', 'fico_range_low', 'total_pymnt', 'recoveries',\n",
       "       'target', 'loan_period'],\n",
       "      dtype='object')"
      ]
     },
     "execution_count": 91,
     "metadata": {},
     "output_type": "execute_result"
    }
   ],
   "source": [
    "df.columns"
   ]
  },
  {
   "cell_type": "markdown",
   "metadata": {},
   "source": [
    "List description for each column"
   ]
  },
  {
   "cell_type": "code",
   "execution_count": 80,
   "metadata": {},
   "outputs": [
    {
     "data": {
      "text/html": [
       "<style  type=\"text/css\" >\n",
       "    #T_7878d3fc_5a34_11ea_ad3e_c82a1444dee2row0_col1 {\n",
       "            width:  1000px;\n",
       "        }    #T_7878d3fc_5a34_11ea_ad3e_c82a1444dee2row1_col1 {\n",
       "            width:  1000px;\n",
       "        }    #T_7878d3fc_5a34_11ea_ad3e_c82a1444dee2row2_col1 {\n",
       "            width:  1000px;\n",
       "        }    #T_7878d3fc_5a34_11ea_ad3e_c82a1444dee2row3_col1 {\n",
       "            width:  1000px;\n",
       "        }    #T_7878d3fc_5a34_11ea_ad3e_c82a1444dee2row4_col1 {\n",
       "            width:  1000px;\n",
       "        }    #T_7878d3fc_5a34_11ea_ad3e_c82a1444dee2row5_col1 {\n",
       "            width:  1000px;\n",
       "        }    #T_7878d3fc_5a34_11ea_ad3e_c82a1444dee2row6_col1 {\n",
       "            width:  1000px;\n",
       "        }    #T_7878d3fc_5a34_11ea_ad3e_c82a1444dee2row7_col1 {\n",
       "            width:  1000px;\n",
       "        }    #T_7878d3fc_5a34_11ea_ad3e_c82a1444dee2row8_col1 {\n",
       "            width:  1000px;\n",
       "        }    #T_7878d3fc_5a34_11ea_ad3e_c82a1444dee2row9_col1 {\n",
       "            width:  1000px;\n",
       "        }    #T_7878d3fc_5a34_11ea_ad3e_c82a1444dee2row10_col1 {\n",
       "            width:  1000px;\n",
       "        }    #T_7878d3fc_5a34_11ea_ad3e_c82a1444dee2row11_col1 {\n",
       "            width:  1000px;\n",
       "        }    #T_7878d3fc_5a34_11ea_ad3e_c82a1444dee2row12_col1 {\n",
       "            width:  1000px;\n",
       "        }    #T_7878d3fc_5a34_11ea_ad3e_c82a1444dee2row13_col1 {\n",
       "            width:  1000px;\n",
       "        }    #T_7878d3fc_5a34_11ea_ad3e_c82a1444dee2row14_col1 {\n",
       "            width:  1000px;\n",
       "        }    #T_7878d3fc_5a34_11ea_ad3e_c82a1444dee2row15_col1 {\n",
       "            width:  1000px;\n",
       "        }    #T_7878d3fc_5a34_11ea_ad3e_c82a1444dee2row16_col1 {\n",
       "            width:  1000px;\n",
       "        }    #T_7878d3fc_5a34_11ea_ad3e_c82a1444dee2row17_col1 {\n",
       "            width:  1000px;\n",
       "        }    #T_7878d3fc_5a34_11ea_ad3e_c82a1444dee2row18_col1 {\n",
       "            width:  1000px;\n",
       "        }    #T_7878d3fc_5a34_11ea_ad3e_c82a1444dee2row19_col1 {\n",
       "            width:  1000px;\n",
       "        }    #T_7878d3fc_5a34_11ea_ad3e_c82a1444dee2row20_col1 {\n",
       "            width:  1000px;\n",
       "        }    #T_7878d3fc_5a34_11ea_ad3e_c82a1444dee2row21_col1 {\n",
       "            width:  1000px;\n",
       "        }    #T_7878d3fc_5a34_11ea_ad3e_c82a1444dee2row22_col1 {\n",
       "            width:  1000px;\n",
       "        }    #T_7878d3fc_5a34_11ea_ad3e_c82a1444dee2row23_col1 {\n",
       "            width:  1000px;\n",
       "        }    #T_7878d3fc_5a34_11ea_ad3e_c82a1444dee2row24_col1 {\n",
       "            width:  1000px;\n",
       "        }    #T_7878d3fc_5a34_11ea_ad3e_c82a1444dee2row25_col1 {\n",
       "            width:  1000px;\n",
       "        }</style><table id=\"T_7878d3fc_5a34_11ea_ad3e_c82a1444dee2\" ><thead>    <tr>        <th class=\"blank level0\" ></th>        <th class=\"col_heading level0 col0\" >LoanStatNew</th>        <th class=\"col_heading level0 col1\" >Description</th>    </tr></thead><tbody>\n",
       "                <tr>\n",
       "                        <th id=\"T_7878d3fc_5a34_11ea_ad3e_c82a1444dee2level0_row0\" class=\"row_heading level0 row0\" >2</th>\n",
       "                        <td id=\"T_7878d3fc_5a34_11ea_ad3e_c82a1444dee2row0_col0\" class=\"data row0 col0\" >addr_state</td>\n",
       "                        <td id=\"T_7878d3fc_5a34_11ea_ad3e_c82a1444dee2row0_col1\" class=\"data row0 col1\" >The state provided by the borrower in the loan application</td>\n",
       "            </tr>\n",
       "            <tr>\n",
       "                        <th id=\"T_7878d3fc_5a34_11ea_ad3e_c82a1444dee2level0_row1\" class=\"row_heading level0 row1\" >4</th>\n",
       "                        <td id=\"T_7878d3fc_5a34_11ea_ad3e_c82a1444dee2row1_col0\" class=\"data row1 col0\" >annual_inc</td>\n",
       "                        <td id=\"T_7878d3fc_5a34_11ea_ad3e_c82a1444dee2row1_col1\" class=\"data row1 col1\" >The self-reported annual income provided by the borrower during registration.</td>\n",
       "            </tr>\n",
       "            <tr>\n",
       "                        <th id=\"T_7878d3fc_5a34_11ea_ad3e_c82a1444dee2level0_row2\" class=\"row_heading level0 row2\" >13</th>\n",
       "                        <td id=\"T_7878d3fc_5a34_11ea_ad3e_c82a1444dee2row2_col0\" class=\"data row2 col0\" >delinq_2yrs</td>\n",
       "                        <td id=\"T_7878d3fc_5a34_11ea_ad3e_c82a1444dee2row2_col1\" class=\"data row2 col1\" >The number of 30+ days past-due incidences of delinquency in the borrower's credit file for the past 2 years</td>\n",
       "            </tr>\n",
       "            <tr>\n",
       "                        <th id=\"T_7878d3fc_5a34_11ea_ad3e_c82a1444dee2level0_row3\" class=\"row_heading level0 row3\" >16</th>\n",
       "                        <td id=\"T_7878d3fc_5a34_11ea_ad3e_c82a1444dee2row3_col0\" class=\"data row3 col0\" >dti</td>\n",
       "                        <td id=\"T_7878d3fc_5a34_11ea_ad3e_c82a1444dee2row3_col1\" class=\"data row3 col1\" >A ratio calculated using the borrower’s total monthly debt payments on the total debt obligations, excluding mortgage and the requested LC loan, divided by the borrower’s self-reported monthly income.</td>\n",
       "            </tr>\n",
       "            <tr>\n",
       "                        <th id=\"T_7878d3fc_5a34_11ea_ad3e_c82a1444dee2level0_row4\" class=\"row_heading level0 row4\" >18</th>\n",
       "                        <td id=\"T_7878d3fc_5a34_11ea_ad3e_c82a1444dee2row4_col0\" class=\"data row4 col0\" >earliest_cr_line</td>\n",
       "                        <td id=\"T_7878d3fc_5a34_11ea_ad3e_c82a1444dee2row4_col1\" class=\"data row4 col1\" >The month the borrower's earliest reported credit line was opened</td>\n",
       "            </tr>\n",
       "            <tr>\n",
       "                        <th id=\"T_7878d3fc_5a34_11ea_ad3e_c82a1444dee2level0_row5\" class=\"row_heading level0 row5\" >19</th>\n",
       "                        <td id=\"T_7878d3fc_5a34_11ea_ad3e_c82a1444dee2row5_col0\" class=\"data row5 col0\" >emp_length</td>\n",
       "                        <td id=\"T_7878d3fc_5a34_11ea_ad3e_c82a1444dee2row5_col1\" class=\"data row5 col1\" >Employment length in years. Possible values are between 0 and 10 where 0 means less than one year and 10 means ten or more years. </td>\n",
       "            </tr>\n",
       "            <tr>\n",
       "                        <th id=\"T_7878d3fc_5a34_11ea_ad3e_c82a1444dee2level0_row6\" class=\"row_heading level0 row6\" >21</th>\n",
       "                        <td id=\"T_7878d3fc_5a34_11ea_ad3e_c82a1444dee2row6_col0\" class=\"data row6 col0\" >fico_range_high</td>\n",
       "                        <td id=\"T_7878d3fc_5a34_11ea_ad3e_c82a1444dee2row6_col1\" class=\"data row6 col1\" >The upper boundary range the borrower’s FICO at loan origination belongs to.</td>\n",
       "            </tr>\n",
       "            <tr>\n",
       "                        <th id=\"T_7878d3fc_5a34_11ea_ad3e_c82a1444dee2level0_row7\" class=\"row_heading level0 row7\" >22</th>\n",
       "                        <td id=\"T_7878d3fc_5a34_11ea_ad3e_c82a1444dee2row7_col0\" class=\"data row7 col0\" >fico_range_low</td>\n",
       "                        <td id=\"T_7878d3fc_5a34_11ea_ad3e_c82a1444dee2row7_col1\" class=\"data row7 col1\" >The lower boundary range the borrower’s FICO at loan origination belongs to.</td>\n",
       "            </tr>\n",
       "            <tr>\n",
       "                        <th id=\"T_7878d3fc_5a34_11ea_ad3e_c82a1444dee2level0_row8\" class=\"row_heading level0 row8\" >23</th>\n",
       "                        <td id=\"T_7878d3fc_5a34_11ea_ad3e_c82a1444dee2row8_col0\" class=\"data row8 col0\" >funded_amnt</td>\n",
       "                        <td id=\"T_7878d3fc_5a34_11ea_ad3e_c82a1444dee2row8_col1\" class=\"data row8 col1\" >The total amount committed to that loan at that point in time.</td>\n",
       "            </tr>\n",
       "            <tr>\n",
       "                        <th id=\"T_7878d3fc_5a34_11ea_ad3e_c82a1444dee2level0_row9\" class=\"row_heading level0 row9\" >25</th>\n",
       "                        <td id=\"T_7878d3fc_5a34_11ea_ad3e_c82a1444dee2row9_col0\" class=\"data row9 col0\" >grade</td>\n",
       "                        <td id=\"T_7878d3fc_5a34_11ea_ad3e_c82a1444dee2row9_col1\" class=\"data row9 col1\" >LC assigned loan grade</td>\n",
       "            </tr>\n",
       "            <tr>\n",
       "                        <th id=\"T_7878d3fc_5a34_11ea_ad3e_c82a1444dee2level0_row10\" class=\"row_heading level0 row10\" >26</th>\n",
       "                        <td id=\"T_7878d3fc_5a34_11ea_ad3e_c82a1444dee2row10_col0\" class=\"data row10 col0\" >home_ownership</td>\n",
       "                        <td id=\"T_7878d3fc_5a34_11ea_ad3e_c82a1444dee2row10_col1\" class=\"data row10 col1\" >The home ownership status provided by the borrower during registration or obtained from the credit report. Our values are: RENT, OWN, MORTGAGE, OTHER</td>\n",
       "            </tr>\n",
       "            <tr>\n",
       "                        <th id=\"T_7878d3fc_5a34_11ea_ad3e_c82a1444dee2level0_row11\" class=\"row_heading level0 row11\" >33</th>\n",
       "                        <td id=\"T_7878d3fc_5a34_11ea_ad3e_c82a1444dee2row11_col0\" class=\"data row11 col0\" >installment</td>\n",
       "                        <td id=\"T_7878d3fc_5a34_11ea_ad3e_c82a1444dee2row11_col1\" class=\"data row11 col1\" >The monthly payment owed by the borrower if the loan originates.</td>\n",
       "            </tr>\n",
       "            <tr>\n",
       "                        <th id=\"T_7878d3fc_5a34_11ea_ad3e_c82a1444dee2level0_row12\" class=\"row_heading level0 row12\" >34</th>\n",
       "                        <td id=\"T_7878d3fc_5a34_11ea_ad3e_c82a1444dee2row12_col0\" class=\"data row12 col0\" >int_rate</td>\n",
       "                        <td id=\"T_7878d3fc_5a34_11ea_ad3e_c82a1444dee2row12_col1\" class=\"data row12 col1\" >Interest Rate on the loan</td>\n",
       "            </tr>\n",
       "            <tr>\n",
       "                        <th id=\"T_7878d3fc_5a34_11ea_ad3e_c82a1444dee2level0_row13\" class=\"row_heading level0 row13\" >35</th>\n",
       "                        <td id=\"T_7878d3fc_5a34_11ea_ad3e_c82a1444dee2row13_col0\" class=\"data row13 col0\" >issue_d</td>\n",
       "                        <td id=\"T_7878d3fc_5a34_11ea_ad3e_c82a1444dee2row13_col1\" class=\"data row13 col1\" >The month which the loan was funded</td>\n",
       "            </tr>\n",
       "            <tr>\n",
       "                        <th id=\"T_7878d3fc_5a34_11ea_ad3e_c82a1444dee2level0_row14\" class=\"row_heading level0 row14\" >40</th>\n",
       "                        <td id=\"T_7878d3fc_5a34_11ea_ad3e_c82a1444dee2row14_col0\" class=\"data row14 col0\" >last_pymnt_d</td>\n",
       "                        <td id=\"T_7878d3fc_5a34_11ea_ad3e_c82a1444dee2row14_col1\" class=\"data row14 col1\" >Last month payment was received</td>\n",
       "            </tr>\n",
       "            <tr>\n",
       "                        <th id=\"T_7878d3fc_5a34_11ea_ad3e_c82a1444dee2level0_row15\" class=\"row_heading level0 row15\" >41</th>\n",
       "                        <td id=\"T_7878d3fc_5a34_11ea_ad3e_c82a1444dee2row15_col0\" class=\"data row15 col0\" >loan_amnt</td>\n",
       "                        <td id=\"T_7878d3fc_5a34_11ea_ad3e_c82a1444dee2row15_col1\" class=\"data row15 col1\" >The listed amount of the loan applied for by the borrower. If at some point in time, the credit department reduces the loan amount, then it will be reflected in this value.</td>\n",
       "            </tr>\n",
       "            <tr>\n",
       "                        <th id=\"T_7878d3fc_5a34_11ea_ad3e_c82a1444dee2level0_row16\" class=\"row_heading level0 row16\" >42</th>\n",
       "                        <td id=\"T_7878d3fc_5a34_11ea_ad3e_c82a1444dee2row16_col0\" class=\"data row16 col0\" >loan_status</td>\n",
       "                        <td id=\"T_7878d3fc_5a34_11ea_ad3e_c82a1444dee2row16_col1\" class=\"data row16 col1\" >Current status of the loan</td>\n",
       "            </tr>\n",
       "            <tr>\n",
       "                        <th id=\"T_7878d3fc_5a34_11ea_ad3e_c82a1444dee2level0_row17\" class=\"row_heading level0 row17\" >73</th>\n",
       "                        <td id=\"T_7878d3fc_5a34_11ea_ad3e_c82a1444dee2row17_col0\" class=\"data row17 col0\" >open_acc</td>\n",
       "                        <td id=\"T_7878d3fc_5a34_11ea_ad3e_c82a1444dee2row17_col1\" class=\"data row17 col1\" >The number of open credit lines in the borrower's credit file.</td>\n",
       "            </tr>\n",
       "            <tr>\n",
       "                        <th id=\"T_7878d3fc_5a34_11ea_ad3e_c82a1444dee2level0_row18\" class=\"row_heading level0 row18\" >85</th>\n",
       "                        <td id=\"T_7878d3fc_5a34_11ea_ad3e_c82a1444dee2row18_col0\" class=\"data row18 col0\" >pub_rec</td>\n",
       "                        <td id=\"T_7878d3fc_5a34_11ea_ad3e_c82a1444dee2row18_col1\" class=\"data row18 col1\" >Number of derogatory public records</td>\n",
       "            </tr>\n",
       "            <tr>\n",
       "                        <th id=\"T_7878d3fc_5a34_11ea_ad3e_c82a1444dee2level0_row19\" class=\"row_heading level0 row19\" >87</th>\n",
       "                        <td id=\"T_7878d3fc_5a34_11ea_ad3e_c82a1444dee2row19_col0\" class=\"data row19 col0\" >purpose</td>\n",
       "                        <td id=\"T_7878d3fc_5a34_11ea_ad3e_c82a1444dee2row19_col1\" class=\"data row19 col1\" >A category provided by the borrower for the loan request. </td>\n",
       "            </tr>\n",
       "            <tr>\n",
       "                        <th id=\"T_7878d3fc_5a34_11ea_ad3e_c82a1444dee2level0_row20\" class=\"row_heading level0 row20\" >89</th>\n",
       "                        <td id=\"T_7878d3fc_5a34_11ea_ad3e_c82a1444dee2row20_col0\" class=\"data row20 col0\" >recoveries</td>\n",
       "                        <td id=\"T_7878d3fc_5a34_11ea_ad3e_c82a1444dee2row20_col1\" class=\"data row20 col1\" >post charge off gross recovery</td>\n",
       "            </tr>\n",
       "            <tr>\n",
       "                        <th id=\"T_7878d3fc_5a34_11ea_ad3e_c82a1444dee2level0_row21\" class=\"row_heading level0 row21\" >90</th>\n",
       "                        <td id=\"T_7878d3fc_5a34_11ea_ad3e_c82a1444dee2row21_col0\" class=\"data row21 col0\" >revol_bal</td>\n",
       "                        <td id=\"T_7878d3fc_5a34_11ea_ad3e_c82a1444dee2row21_col1\" class=\"data row21 col1\" >Total credit revolving balance</td>\n",
       "            </tr>\n",
       "            <tr>\n",
       "                        <th id=\"T_7878d3fc_5a34_11ea_ad3e_c82a1444dee2level0_row22\" class=\"row_heading level0 row22\" >91</th>\n",
       "                        <td id=\"T_7878d3fc_5a34_11ea_ad3e_c82a1444dee2row22_col0\" class=\"data row22 col0\" >revol_util</td>\n",
       "                        <td id=\"T_7878d3fc_5a34_11ea_ad3e_c82a1444dee2row22_col1\" class=\"data row22 col1\" >Revolving line utilization rate, or the amount of credit the borrower is using relative to all available revolving credit.</td>\n",
       "            </tr>\n",
       "            <tr>\n",
       "                        <th id=\"T_7878d3fc_5a34_11ea_ad3e_c82a1444dee2level0_row23\" class=\"row_heading level0 row23\" >94</th>\n",
       "                        <td id=\"T_7878d3fc_5a34_11ea_ad3e_c82a1444dee2row23_col0\" class=\"data row23 col0\" >term</td>\n",
       "                        <td id=\"T_7878d3fc_5a34_11ea_ad3e_c82a1444dee2row23_col1\" class=\"data row23 col1\" >The number of payments on the loan. Values are in months and can be either 36 or 60.</td>\n",
       "            </tr>\n",
       "            <tr>\n",
       "                        <th id=\"T_7878d3fc_5a34_11ea_ad3e_c82a1444dee2level0_row24\" class=\"row_heading level0 row24\" >105</th>\n",
       "                        <td id=\"T_7878d3fc_5a34_11ea_ad3e_c82a1444dee2row24_col0\" class=\"data row24 col0\" >total_pymnt</td>\n",
       "                        <td id=\"T_7878d3fc_5a34_11ea_ad3e_c82a1444dee2row24_col1\" class=\"data row24 col1\" >Payments received to date for total amount funded</td>\n",
       "            </tr>\n",
       "            <tr>\n",
       "                        <th id=\"T_7878d3fc_5a34_11ea_ad3e_c82a1444dee2level0_row25\" class=\"row_heading level0 row25\" >112</th>\n",
       "                        <td id=\"T_7878d3fc_5a34_11ea_ad3e_c82a1444dee2row25_col0\" class=\"data row25 col0\" >verification_status</td>\n",
       "                        <td id=\"T_7878d3fc_5a34_11ea_ad3e_c82a1444dee2row25_col1\" class=\"data row25 col1\" >Indicates if income was verified by LC, not verified, or if the income source was verified</td>\n",
       "            </tr>\n",
       "    </tbody></table>"
      ],
      "text/plain": [
       "<pandas.io.formats.style.Styler at 0x1a22967910>"
      ]
     },
     "execution_count": 80,
     "metadata": {},
     "output_type": "execute_result"
    }
   ],
   "source": [
    "df_description = pd.read_excel('LCDataDictionary.xlsx').dropna()\n",
    "df_description_pick = df_description[df_description['LoanStatNew'].isin(df.columns)]\n",
    "df_description_pick.style.set_properties(subset=['Description'], **{'width': '1000px'})"
   ]
  },
  {
   "cell_type": "code",
   "execution_count": 62,
   "metadata": {},
   "outputs": [],
   "source": [
    "# seperate dataframe: fully paid vs charged off\n",
    "df_fp = df.loc[df['loan_status'] == 'Fully Paid']\n",
    "df_co = df.loc[df['loan_status'] == 'Charged Off']"
   ]
  },
  {
   "cell_type": "code",
   "execution_count": 182,
   "metadata": {},
   "outputs": [],
   "source": [
    "# make general plots to examine each feature\n",
    "def plot_num(col_name, full_name):\n",
    "    \"\"\"\n",
    "    Visualize a variable with/without faceting on the loan status.\n",
    "    - col_name is the variable name in the dataframe\n",
    "    - full_name is the full variable name\n",
    "    \"\"\"\n",
    "\n",
    "    fig, (ax1, ax2) = plt.subplots(1, 2, sharex=False, figsize=(15,5))\n",
    "    # plot1: counts distribution of the variable\n",
    "    #sns.distplot(df.loc[df[col_name].notnull(), col_name], kde=False, ax=ax1)\n",
    "    sns.distplot(df[col_name], kde=True,ax=ax1)\n",
    "    sns.distplot(ls_fp[col_name], hist=False, rug=False, label = 'Fully Paid', ax=ax1)\n",
    "    sns.distplot(ls_co[col_name], hist=False, rug=False, label = 'Charged Off', ax=ax1)\n",
    "    \n",
    "    ax1.set_xlabel(full_name)\n",
    "    ax1.set_ylabel('Count')\n",
    "    ax1.set_title(full_name)\n",
    "    #plt.show()\n",
    "          \n",
    "    # plot2: box plot of the variable grouped by loan_status\n",
    "    sns.boxplot(x=col_name, y='loan_status', data=df, ax=ax2)\n",
    "    ax2.set_ylabel('')\n",
    "    ax2.set_title(full_name)\n",
    "  \n",
    "    plt.tight_layout()"
   ]
  },
  {
   "cell_type": "code",
   "execution_count": 183,
   "metadata": {},
   "outputs": [
    {
     "data": {
      "image/png": "[encoded data removed]",
      "text/plain": [
       "<Figure size 1080x360 with 2 Axes>"
      ]
     },
     "metadata": {
      "needs_background": "light"
     },
     "output_type": "display_data"
    }
   ],
   "source": [
    "plot_num('loan_amnt', 'loan amount')"
   ]
  },
  {
   "cell_type": "markdown",
   "metadata": {},
   "source": [
    "#### 1) issue_d \n",
    "- The month which the loan was funded\n"
   ]
  },
  {
   "cell_type": "code",
   "execution_count": 64,
   "metadata": {},
   "outputs": [
    {
     "data": {
      "text/plain": [
       "count                 1238903\n",
       "unique                     60\n",
       "top       2016-03-01 00:00:00\n",
       "freq                    56490\n",
       "first     2015-01-01 00:00:00\n",
       "last      2019-12-01 00:00:00\n",
       "Name: issue_d, dtype: object"
      ]
     },
     "execution_count": 64,
     "metadata": {},
     "output_type": "execute_result"
    }
   ],
   "source": [
    "df['issue_d'].describe()"
   ]
  },
  {
   "cell_type": "code",
   "execution_count": 81,
   "metadata": {},
   "outputs": [
    {
     "data": {
      "text/plain": [
       "0"
      ]
     },
     "execution_count": 81,
     "metadata": {},
     "output_type": "execute_result"
    }
   ],
   "source": [
    "df['issue_d'].isnull().sum()"
   ]
  },
  {
   "cell_type": "markdown",
   "metadata": {},
   "source": [
    "#### 2) 'earliest_cr_line'"
   ]
  },
  {
   "cell_type": "code",
   "execution_count": 82,
   "metadata": {},
   "outputs": [
    {
     "data": {
      "text/plain": [
       "count                 1238903\n",
       "unique                    742\n",
       "top       2004-09-01 00:00:00\n",
       "freq                     9181\n",
       "first     1933-03-01 00:00:00\n",
       "last      2016-10-01 00:00:00\n",
       "Name: earliest_cr_line, dtype: object"
      ]
     },
     "execution_count": 82,
     "metadata": {},
     "output_type": "execute_result"
    }
   ],
   "source": [
    "df['earliest_cr_line'].describe()"
   ]
  },
  {
   "cell_type": "code",
   "execution_count": 84,
   "metadata": {},
   "outputs": [
    {
     "data": {
      "text/plain": [
       "0"
      ]
     },
     "execution_count": 84,
     "metadata": {},
     "output_type": "execute_result"
    }
   ],
   "source": [
    "df['earliest_cr_line'].isnull().sum()"
   ]
  },
  {
   "cell_type": "markdown",
   "metadata": {},
   "source": [
    "#### 3) 'last_pymnt_d'\n",
    "- Last month payment was received"
   ]
  },
  {
   "cell_type": "code",
   "execution_count": 85,
   "metadata": {},
   "outputs": [
    {
     "data": {
      "text/plain": [
       "count                 1238903\n",
       "unique                     61\n",
       "top       2019-04-01 00:00:00\n",
       "freq                    39528\n",
       "first     2015-02-01 00:00:00\n",
       "last      2020-02-01 00:00:00\n",
       "Name: last_pymnt_d, dtype: object"
      ]
     },
     "execution_count": 85,
     "metadata": {},
     "output_type": "execute_result"
    }
   ],
   "source": [
    "df['last_pymnt_d'].describe()"
   ]
  },
  {
   "cell_type": "code",
   "execution_count": 86,
   "metadata": {},
   "outputs": [
    {
     "data": {
      "text/plain": [
       "0"
      ]
     },
     "execution_count": 86,
     "metadata": {},
     "output_type": "execute_result"
    }
   ],
   "source": [
    "df['last_pymnt_d'].isnull().sum()"
   ]
  },
  {
   "cell_type": "markdown",
   "metadata": {},
   "source": [
    "#### 4) 'issue_year'\n"
   ]
  },
  {
   "cell_type": "code",
   "execution_count": 87,
   "metadata": {},
   "outputs": [
    {
     "data": {
      "text/plain": [
       "count                 1238903\n",
       "unique                      5\n",
       "top       2016-01-01 00:00:00\n",
       "freq                   394433\n",
       "first     2015-01-01 00:00:00\n",
       "last      2019-01-01 00:00:00\n",
       "Name: issue_year, dtype: object"
      ]
     },
     "execution_count": 87,
     "metadata": {},
     "output_type": "execute_result"
    }
   ],
   "source": [
    "df['issue_year'].describe()"
   ]
  },
  {
   "cell_type": "markdown",
   "metadata": {},
   "source": [
    "#### 5) 'int_rate'\n",
    "- Interest Rate on the loan"
   ]
  },
  {
   "cell_type": "code",
   "execution_count": 88,
   "metadata": {},
   "outputs": [
    {
     "data": {
      "text/plain": [
       "count    1.238903e+06\n",
       "mean     1.293648e+01\n",
       "std      4.934891e+00\n",
       "min      5.310000e+00\n",
       "25%      9.170000e+00\n",
       "50%      1.229000e+01\n",
       "75%      1.561000e+01\n",
       "max      3.099000e+01\n",
       "Name: int_rate, dtype: float64"
      ]
     },
     "execution_count": 88,
     "metadata": {},
     "output_type": "execute_result"
    }
   ],
   "source": [
    "df['int_rate'].describe()"
   ]
  },
  {
   "cell_type": "code",
   "execution_count": 90,
   "metadata": {},
   "outputs": [
    {
     "data": {
      "text/plain": [
       "<matplotlib.axes._subplots.AxesSubplot at 0x1a24e415d0>"
      ]
     },
     "execution_count": 90,
     "metadata": {},
     "output_type": "execute_result"
    },
    {
     "data": {
      "image/png": "[encoded data removed]",
      "text/plain": [
       "<Figure size 432x288 with 1 Axes>"
      ]
     },
     "metadata": {
      "needs_background": "light"
     },
     "output_type": "display_data"
    }
   ],
   "source": [
    "sns.distplot(df['int_rate'])"
   ]
  },
  {
   "cell_type": "markdown",
   "metadata": {},
   "source": [
    "#### 6) 'revol_util'"
   ]
  },
  {
   "cell_type": "code",
   "execution_count": 92,
   "metadata": {},
   "outputs": [
    {
     "data": {
      "text/plain": [
       "count    1.238903e+06\n",
       "mean     4.893088e+01\n",
       "std      2.476853e+01\n",
       "min      0.000000e+00\n",
       "25%      3.000000e+01\n",
       "50%      4.850000e+01\n",
       "75%      6.780000e+01\n",
       "max      1.930000e+02\n",
       "Name: revol_util, dtype: float64"
      ]
     },
     "execution_count": 92,
     "metadata": {},
     "output_type": "execute_result"
    }
   ],
   "source": [
    "df['revol_util'].describe()"
   ]
  },
  {
   "cell_type": "code",
   "execution_count": null,
   "metadata": {},
   "outputs": [],
   "source": []
  }
 ],
 "metadata": {
  "kernelspec": {
   "display_name": "Python 3",
   "language": "python",
   "name": "python3"
  },
  "language_info": {
   "codemirror_mode": {
    "name": "ipython",
    "version": 3
   },
   "file_extension": ".py",
   "mimetype": "text/x-python",
   "name": "python",
   "nbconvert_exporter": "python",
   "pygments_lexer": "ipython3",
   "version": "3.7.4"
  }
 },
 "nbformat": 4,
 "nbformat_minor": 2
}
