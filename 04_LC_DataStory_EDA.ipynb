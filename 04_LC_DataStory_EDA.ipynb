{
 "cells": [
  {
   "cell_type": "markdown",
   "metadata": {},
   "source": [
    "## 1 - Introduction\n",
    "Data Storytelling \n",
    "\n",
    "How do you create a data story? You’ve learned the basics, but the information is probably a bit abstract at this point. Keep in mind that storytelling is an art, so you have to get your imagination bubbling. In this project, you’ll learn some pointers to get those creative juices flowing. In the following sections, we’ll work step-by-step to create your first data story. \n",
    "\n",
    "Steps:\n",
    "Ask the following questions and look for the answers using code and plots:\n",
    "- Can you count something interesting?\n",
    "- Can you find trends (e.g. high, low, increasing, decreasing, anomalies)?\n",
    "- Can you make a bar plot or a histogram?\n",
    "- Can you compare two related quantities?\n",
    "- Can you make a scatterplot?\n",
    "- Can you make a time-series plot?\n",
    "\n",
    "Looking at the plots, what are some insights you can make? Do you see any correlations? Is there a hypothesis you’d like to investigate further? What other questions do the insights lead you to ask?\n",
    "Now that you’ve asked questions, hopefully you’ve found some interesting insights. Is there a narrative or a way of presenting the insights using text and plots that tells a compelling story? What are some other trends/relationships you think will make the story more complete?"
   ]
  },
  {
   "cell_type": "code",
   "execution_count": 7,
   "metadata": {},
   "outputs": [],
   "source": [
    "import pandas as pd\n",
    "import matplotlib.pyplot as plt\n",
    "import seaborn as sns\n",
    "import numpy as np\n",
    "from datetime import datetime\n",
    "import time\n",
    "from scipy.stats import shapiro\n",
    "import statsmodels.api as sm\n",
    "# Options for pandas\n",
    "pd.options.display.max_columns = 50\n",
    "pd.options.display.max_rows = 30\n",
    "\n",
    "import warnings\n",
    "warnings.filterwarnings('ignore')\n",
    "%matplotlib inline\n",
    "\n",
    "#%load_ext autoreload\n",
    "#%autoreload 2"
   ]
  },
  {
   "cell_type": "code",
   "execution_count": 11,
   "metadata": {},
   "outputs": [
    {
     "name": "stdout",
     "output_type": "stream",
     "text": [
      "It takes  1559173227.4426227 min to read the data\n"
     ]
    }
   ],
   "source": [
    "# read data\n",
    "start = time.time()\n",
    "path = '/Users/cyuancheng/Documents/course/Springboard/Capstone1/data/'\n",
    "df = pd.read_csv(path+'data_2015_2019_rm.csv', low_memory=False, index_col=0, \\\n",
    "                 parse_dates=['issue_d', 'earliest_cr_line', 'last_pymnt_d', 'last_credit_pull_d'] )\n",
    "end = time.time()\n",
    "print('It takes  ' + str(end-start/60) +' min to read the data')"
   ]
  },
  {
   "cell_type": "code",
   "execution_count": null,
   "metadata": {},
   "outputs": [],
   "source": []
  },
  {
   "cell_type": "code",
   "execution_count": 17,
   "metadata": {},
   "outputs": [
    {
     "data": {
      "text/plain": [
       "mths_since_rcnt_il       19.804724\n",
       "open_acc_6m              17.310397\n",
       "total_cu_tl              17.310397\n",
       "inq_last_12m             17.310397\n",
       "open_act_il              17.310354\n",
       "open_il_24m              17.310354\n",
       "inq_fi                   17.310354\n",
       "all_util                 17.310354\n",
       "open_il_12m              17.310354\n",
       "open_rv_24m              17.310354\n",
       "open_rv_12m              17.310354\n",
       "total_bal_il             17.310354\n",
       "max_bal_bc               17.310354\n",
       "mths_since_recent_inq    11.469899\n",
       "emp_length                7.437294\n",
       "num_tl_120dpd_2m          3.564680\n",
       "mo_sin_old_il_acct        3.000917\n",
       "bc_util                   1.132252\n",
       "percent_bc_gt_75          1.109625\n",
       "bc_open_to_buy            1.093891\n",
       "mths_since_recent_bc      1.036153\n",
       "title                     1.007935\n",
       "dti                       0.123147\n",
       "pct_tl_nvr_dlq            0.000087\n",
       "inq_last_6mths            0.000043\n",
       "num_rev_accts             0.000043\n",
       "dtype: float64"
      ]
     },
     "execution_count": 17,
     "metadata": {},
     "output_type": "execute_result"
    }
   ],
   "source": [
    "# show missing data\n",
    "(df.isnull().sum()[df.isnull().sum() >0]/len(df)*100).sort_values(ascending=False)"
   ]
  },
  {
   "cell_type": "code",
   "execution_count": 14,
   "metadata": {},
   "outputs": [
    {
     "name": "stdout",
     "output_type": "stream",
     "text": [
      "<class 'pandas.core.frame.DataFrame'>\n",
      "Int64Index: 2306995 entries, 68367011 to 158206429\n",
      "Columns: 103 entries, issue_d to total_il_high_credit_limit\n",
      "dtypes: datetime64[ns](4), float64(84), object(15)\n",
      "memory usage: 1.8+ GB\n"
     ]
    }
   ],
   "source": [
    "df.info()"
   ]
  },
  {
   "cell_type": "code",
   "execution_count": 22,
   "metadata": {},
   "outputs": [
    {
     "data": {
      "text/plain": [
       "Index(['issue_d', 'earliest_cr_line', 'last_pymnt_d', 'last_credit_pull_d',\n",
       "       'int_rate', 'revol_util', 'hardship_flag', 'application_type', 'title',\n",
       "       'emp_length',\n",
       "       ...\n",
       "       'num_tl_90g_dpd_24m', 'num_tl_op_past_12m', 'pct_tl_nvr_dlq',\n",
       "       'percent_bc_gt_75', 'pub_rec_bankruptcies', 'tax_liens',\n",
       "       'tot_hi_cred_lim', 'total_bal_ex_mort', 'total_bc_limit',\n",
       "       'total_il_high_credit_limit'],\n",
       "      dtype='object', length=103)"
      ]
     },
     "execution_count": 22,
     "metadata": {},
     "output_type": "execute_result"
    }
   ],
   "source": [
    "df.columns"
   ]
  },
  {
   "cell_type": "markdown",
   "metadata": {},
   "source": [
    "## 2 - EDA\n",
    "\n",
    "The dataset was download from [Lending Club](https://www.lendingclub.com/statistics/additional-statistics?). It contains information from 2015 to 2019. \n",
    "\n",
    "**Data manipulation**: \n",
    "\n",
    "    - Deal with missing value \n",
    "    - check each feature\n",
    "        - observe distribution (normality for particular features)\n",
    "        - Remove outliner (standard deviation)\n",
    "\n"
   ]
  },
  {
   "cell_type": "code",
   "execution_count": 15,
   "metadata": {},
   "outputs": [
    {
     "data": {
      "text/html": [
       "<div>\n",
       "<style scoped>\n",
       "    .dataframe tbody tr th:only-of-type {\n",
       "        vertical-align: middle;\n",
       "    }\n",
       "\n",
       "    .dataframe tbody tr th {\n",
       "        vertical-align: top;\n",
       "    }\n",
       "\n",
       "    .dataframe thead th {\n",
       "        text-align: right;\n",
       "    }\n",
       "</style>\n",
       "<table border=\"1\" class=\"dataframe\">\n",
       "  <thead>\n",
       "    <tr style=\"text-align: right;\">\n",
       "      <th></th>\n",
       "      <th>issue_d</th>\n",
       "      <th>earliest_cr_line</th>\n",
       "      <th>last_pymnt_d</th>\n",
       "      <th>last_credit_pull_d</th>\n",
       "      <th>int_rate</th>\n",
       "      <th>revol_util</th>\n",
       "      <th>hardship_flag</th>\n",
       "      <th>application_type</th>\n",
       "      <th>title</th>\n",
       "      <th>emp_length</th>\n",
       "      <th>sub_grade</th>\n",
       "      <th>verification_status</th>\n",
       "      <th>pymnt_plan</th>\n",
       "      <th>debt_settlement_flag</th>\n",
       "      <th>grade</th>\n",
       "      <th>home_ownership</th>\n",
       "      <th>addr_state</th>\n",
       "      <th>initial_list_status</th>\n",
       "      <th>term</th>\n",
       "      <th>loan_status</th>\n",
       "      <th>purpose</th>\n",
       "      <th>loan_amnt</th>\n",
       "      <th>funded_amnt</th>\n",
       "      <th>funded_amnt_inv</th>\n",
       "      <th>int_rate.1</th>\n",
       "      <th>...</th>\n",
       "      <th>mort_acc</th>\n",
       "      <th>mths_since_recent_bc</th>\n",
       "      <th>mths_since_recent_inq</th>\n",
       "      <th>num_accts_ever_120_pd</th>\n",
       "      <th>num_actv_bc_tl</th>\n",
       "      <th>num_actv_rev_tl</th>\n",
       "      <th>num_bc_sats</th>\n",
       "      <th>num_bc_tl</th>\n",
       "      <th>num_il_tl</th>\n",
       "      <th>num_op_rev_tl</th>\n",
       "      <th>num_rev_accts</th>\n",
       "      <th>num_rev_tl_bal_gt_0</th>\n",
       "      <th>num_sats</th>\n",
       "      <th>num_tl_120dpd_2m</th>\n",
       "      <th>num_tl_30dpd</th>\n",
       "      <th>num_tl_90g_dpd_24m</th>\n",
       "      <th>num_tl_op_past_12m</th>\n",
       "      <th>pct_tl_nvr_dlq</th>\n",
       "      <th>percent_bc_gt_75</th>\n",
       "      <th>pub_rec_bankruptcies</th>\n",
       "      <th>tax_liens</th>\n",
       "      <th>tot_hi_cred_lim</th>\n",
       "      <th>total_bal_ex_mort</th>\n",
       "      <th>total_bc_limit</th>\n",
       "      <th>total_il_high_credit_limit</th>\n",
       "    </tr>\n",
       "    <tr>\n",
       "      <th>id</th>\n",
       "      <th></th>\n",
       "      <th></th>\n",
       "      <th></th>\n",
       "      <th></th>\n",
       "      <th></th>\n",
       "      <th></th>\n",
       "      <th></th>\n",
       "      <th></th>\n",
       "      <th></th>\n",
       "      <th></th>\n",
       "      <th></th>\n",
       "      <th></th>\n",
       "      <th></th>\n",
       "      <th></th>\n",
       "      <th></th>\n",
       "      <th></th>\n",
       "      <th></th>\n",
       "      <th></th>\n",
       "      <th></th>\n",
       "      <th></th>\n",
       "      <th></th>\n",
       "      <th></th>\n",
       "      <th></th>\n",
       "      <th></th>\n",
       "      <th></th>\n",
       "      <th></th>\n",
       "      <th></th>\n",
       "      <th></th>\n",
       "      <th></th>\n",
       "      <th></th>\n",
       "      <th></th>\n",
       "      <th></th>\n",
       "      <th></th>\n",
       "      <th></th>\n",
       "      <th></th>\n",
       "      <th></th>\n",
       "      <th></th>\n",
       "      <th></th>\n",
       "      <th></th>\n",
       "      <th></th>\n",
       "      <th></th>\n",
       "      <th></th>\n",
       "      <th></th>\n",
       "      <th></th>\n",
       "      <th></th>\n",
       "      <th></th>\n",
       "      <th></th>\n",
       "      <th></th>\n",
       "      <th></th>\n",
       "      <th></th>\n",
       "      <th></th>\n",
       "    </tr>\n",
       "  </thead>\n",
       "  <tbody>\n",
       "    <tr>\n",
       "      <td>68367011</td>\n",
       "      <td>2015-12-01</td>\n",
       "      <td>2005-01-01</td>\n",
       "      <td>2018-08-01</td>\n",
       "      <td>2020-01-01</td>\n",
       "      <td>13.99</td>\n",
       "      <td>87.4</td>\n",
       "      <td>N</td>\n",
       "      <td>Individual</td>\n",
       "      <td>Credit card refinancing</td>\n",
       "      <td>&lt; 1 year</td>\n",
       "      <td>C4</td>\n",
       "      <td>Source Verified</td>\n",
       "      <td>n</td>\n",
       "      <td>N</td>\n",
       "      <td>C</td>\n",
       "      <td>RENT</td>\n",
       "      <td>OH</td>\n",
       "      <td>w</td>\n",
       "      <td>60 months</td>\n",
       "      <td>Fully Paid</td>\n",
       "      <td>credit_card</td>\n",
       "      <td>21000.0</td>\n",
       "      <td>21000.0</td>\n",
       "      <td>21000.0</td>\n",
       "      <td>13.99</td>\n",
       "      <td>...</td>\n",
       "      <td>0.0</td>\n",
       "      <td>85.0</td>\n",
       "      <td>0.0</td>\n",
       "      <td>0.0</td>\n",
       "      <td>3.0</td>\n",
       "      <td>3.0</td>\n",
       "      <td>4.0</td>\n",
       "      <td>4.0</td>\n",
       "      <td>11.0</td>\n",
       "      <td>4.0</td>\n",
       "      <td>4.0</td>\n",
       "      <td>3.0</td>\n",
       "      <td>5.0</td>\n",
       "      <td>0.0</td>\n",
       "      <td>0.0</td>\n",
       "      <td>0.0</td>\n",
       "      <td>1.0</td>\n",
       "      <td>100.0</td>\n",
       "      <td>75.0</td>\n",
       "      <td>0.0</td>\n",
       "      <td>0.0</td>\n",
       "      <td>370357.0</td>\n",
       "      <td>372407.0</td>\n",
       "      <td>23300.0</td>\n",
       "      <td>347057.0</td>\n",
       "    </tr>\n",
       "    <tr>\n",
       "      <td>68537655</td>\n",
       "      <td>2015-12-01</td>\n",
       "      <td>1997-06-01</td>\n",
       "      <td>2020-01-01</td>\n",
       "      <td>2017-11-01</td>\n",
       "      <td>12.88</td>\n",
       "      <td>24.1</td>\n",
       "      <td>N</td>\n",
       "      <td>Individual</td>\n",
       "      <td>Debt consolidation</td>\n",
       "      <td>10+ years</td>\n",
       "      <td>C2</td>\n",
       "      <td>Not Verified</td>\n",
       "      <td>n</td>\n",
       "      <td>N</td>\n",
       "      <td>C</td>\n",
       "      <td>MORTGAGE</td>\n",
       "      <td>MO</td>\n",
       "      <td>w</td>\n",
       "      <td>60 months</td>\n",
       "      <td>Current</td>\n",
       "      <td>debt_consolidation</td>\n",
       "      <td>16800.0</td>\n",
       "      <td>16800.0</td>\n",
       "      <td>16800.0</td>\n",
       "      <td>12.88</td>\n",
       "      <td>...</td>\n",
       "      <td>4.0</td>\n",
       "      <td>11.0</td>\n",
       "      <td>11.0</td>\n",
       "      <td>12.0</td>\n",
       "      <td>3.0</td>\n",
       "      <td>3.0</td>\n",
       "      <td>4.0</td>\n",
       "      <td>22.0</td>\n",
       "      <td>12.0</td>\n",
       "      <td>5.0</td>\n",
       "      <td>28.0</td>\n",
       "      <td>3.0</td>\n",
       "      <td>11.0</td>\n",
       "      <td>0.0</td>\n",
       "      <td>0.0</td>\n",
       "      <td>0.0</td>\n",
       "      <td>1.0</td>\n",
       "      <td>64.4</td>\n",
       "      <td>25.0</td>\n",
       "      <td>0.0</td>\n",
       "      <td>0.0</td>\n",
       "      <td>412771.0</td>\n",
       "      <td>75808.0</td>\n",
       "      <td>12600.0</td>\n",
       "      <td>115941.0</td>\n",
       "    </tr>\n",
       "    <tr>\n",
       "      <td>68356421</td>\n",
       "      <td>2015-12-01</td>\n",
       "      <td>1995-04-01</td>\n",
       "      <td>2020-01-01</td>\n",
       "      <td>2020-01-01</td>\n",
       "      <td>12.88</td>\n",
       "      <td>32.7</td>\n",
       "      <td>N</td>\n",
       "      <td>Individual</td>\n",
       "      <td>Debt consolidation</td>\n",
       "      <td>6 years</td>\n",
       "      <td>C2</td>\n",
       "      <td>Not Verified</td>\n",
       "      <td>n</td>\n",
       "      <td>N</td>\n",
       "      <td>C</td>\n",
       "      <td>MORTGAGE</td>\n",
       "      <td>SC</td>\n",
       "      <td>w</td>\n",
       "      <td>60 months</td>\n",
       "      <td>Current</td>\n",
       "      <td>debt_consolidation</td>\n",
       "      <td>22400.0</td>\n",
       "      <td>22400.0</td>\n",
       "      <td>22400.0</td>\n",
       "      <td>12.88</td>\n",
       "      <td>...</td>\n",
       "      <td>5.0</td>\n",
       "      <td>1.0</td>\n",
       "      <td>14.0</td>\n",
       "      <td>2.0</td>\n",
       "      <td>3.0</td>\n",
       "      <td>8.0</td>\n",
       "      <td>4.0</td>\n",
       "      <td>5.0</td>\n",
       "      <td>15.0</td>\n",
       "      <td>10.0</td>\n",
       "      <td>15.0</td>\n",
       "      <td>8.0</td>\n",
       "      <td>16.0</td>\n",
       "      <td>0.0</td>\n",
       "      <td>0.0</td>\n",
       "      <td>0.0</td>\n",
       "      <td>3.0</td>\n",
       "      <td>97.0</td>\n",
       "      <td>25.0</td>\n",
       "      <td>0.0</td>\n",
       "      <td>0.0</td>\n",
       "      <td>436841.0</td>\n",
       "      <td>184356.0</td>\n",
       "      <td>21000.0</td>\n",
       "      <td>191682.0</td>\n",
       "    </tr>\n",
       "    <tr>\n",
       "      <td>68466926</td>\n",
       "      <td>2015-12-01</td>\n",
       "      <td>2002-04-01</td>\n",
       "      <td>2018-08-01</td>\n",
       "      <td>2020-01-01</td>\n",
       "      <td>6.49</td>\n",
       "      <td>34.5</td>\n",
       "      <td>N</td>\n",
       "      <td>Individual</td>\n",
       "      <td>Credit card refinancing</td>\n",
       "      <td>6 years</td>\n",
       "      <td>A2</td>\n",
       "      <td>Not Verified</td>\n",
       "      <td>n</td>\n",
       "      <td>N</td>\n",
       "      <td>A</td>\n",
       "      <td>RENT</td>\n",
       "      <td>PA</td>\n",
       "      <td>w</td>\n",
       "      <td>36 months</td>\n",
       "      <td>Fully Paid</td>\n",
       "      <td>credit_card</td>\n",
       "      <td>10000.0</td>\n",
       "      <td>10000.0</td>\n",
       "      <td>10000.0</td>\n",
       "      <td>6.49</td>\n",
       "      <td>...</td>\n",
       "      <td>1.0</td>\n",
       "      <td>4.0</td>\n",
       "      <td>1.0</td>\n",
       "      <td>0.0</td>\n",
       "      <td>6.0</td>\n",
       "      <td>9.0</td>\n",
       "      <td>7.0</td>\n",
       "      <td>10.0</td>\n",
       "      <td>3.0</td>\n",
       "      <td>13.0</td>\n",
       "      <td>19.0</td>\n",
       "      <td>9.0</td>\n",
       "      <td>14.0</td>\n",
       "      <td>0.0</td>\n",
       "      <td>0.0</td>\n",
       "      <td>0.0</td>\n",
       "      <td>2.0</td>\n",
       "      <td>95.7</td>\n",
       "      <td>28.6</td>\n",
       "      <td>1.0</td>\n",
       "      <td>0.0</td>\n",
       "      <td>61099.0</td>\n",
       "      <td>27957.0</td>\n",
       "      <td>16400.0</td>\n",
       "      <td>30799.0</td>\n",
       "    </tr>\n",
       "    <tr>\n",
       "      <td>68616873</td>\n",
       "      <td>2015-12-01</td>\n",
       "      <td>1994-11-01</td>\n",
       "      <td>2017-04-01</td>\n",
       "      <td>2018-11-01</td>\n",
       "      <td>11.48</td>\n",
       "      <td>39.1</td>\n",
       "      <td>N</td>\n",
       "      <td>Individual</td>\n",
       "      <td>Credit card refinancing</td>\n",
       "      <td>10+ years</td>\n",
       "      <td>B5</td>\n",
       "      <td>Not Verified</td>\n",
       "      <td>n</td>\n",
       "      <td>N</td>\n",
       "      <td>B</td>\n",
       "      <td>MORTGAGE</td>\n",
       "      <td>RI</td>\n",
       "      <td>w</td>\n",
       "      <td>36 months</td>\n",
       "      <td>Fully Paid</td>\n",
       "      <td>credit_card</td>\n",
       "      <td>8000.0</td>\n",
       "      <td>8000.0</td>\n",
       "      <td>8000.0</td>\n",
       "      <td>11.48</td>\n",
       "      <td>...</td>\n",
       "      <td>1.0</td>\n",
       "      <td>50.0</td>\n",
       "      <td>10.0</td>\n",
       "      <td>1.0</td>\n",
       "      <td>3.0</td>\n",
       "      <td>3.0</td>\n",
       "      <td>3.0</td>\n",
       "      <td>6.0</td>\n",
       "      <td>5.0</td>\n",
       "      <td>5.0</td>\n",
       "      <td>11.0</td>\n",
       "      <td>3.0</td>\n",
       "      <td>8.0</td>\n",
       "      <td>0.0</td>\n",
       "      <td>0.0</td>\n",
       "      <td>0.0</td>\n",
       "      <td>2.0</td>\n",
       "      <td>94.4</td>\n",
       "      <td>33.3</td>\n",
       "      <td>0.0</td>\n",
       "      <td>0.0</td>\n",
       "      <td>256513.0</td>\n",
       "      <td>113782.0</td>\n",
       "      <td>17000.0</td>\n",
       "      <td>135513.0</td>\n",
       "    </tr>\n",
       "  </tbody>\n",
       "</table>\n",
       "<p>5 rows × 103 columns</p>\n",
       "</div>"
      ],
      "text/plain": [
       "            issue_d earliest_cr_line last_pymnt_d last_credit_pull_d  \\\n",
       "id                                                                     \n",
       "68367011 2015-12-01       2005-01-01   2018-08-01         2020-01-01   \n",
       "68537655 2015-12-01       1997-06-01   2020-01-01         2017-11-01   \n",
       "68356421 2015-12-01       1995-04-01   2020-01-01         2020-01-01   \n",
       "68466926 2015-12-01       2002-04-01   2018-08-01         2020-01-01   \n",
       "68616873 2015-12-01       1994-11-01   2017-04-01         2018-11-01   \n",
       "\n",
       "          int_rate  revol_util hardship_flag application_type  \\\n",
       "id                                                              \n",
       "68367011     13.99        87.4             N       Individual   \n",
       "68537655     12.88        24.1             N       Individual   \n",
       "68356421     12.88        32.7             N       Individual   \n",
       "68466926      6.49        34.5             N       Individual   \n",
       "68616873     11.48        39.1             N       Individual   \n",
       "\n",
       "                            title emp_length sub_grade verification_status  \\\n",
       "id                                                                           \n",
       "68367011  Credit card refinancing   < 1 year        C4     Source Verified   \n",
       "68537655       Debt consolidation  10+ years        C2        Not Verified   \n",
       "68356421       Debt consolidation    6 years        C2        Not Verified   \n",
       "68466926  Credit card refinancing    6 years        A2        Not Verified   \n",
       "68616873  Credit card refinancing  10+ years        B5        Not Verified   \n",
       "\n",
       "         pymnt_plan debt_settlement_flag grade home_ownership addr_state  \\\n",
       "id                                                                         \n",
       "68367011          n                    N     C           RENT         OH   \n",
       "68537655          n                    N     C       MORTGAGE         MO   \n",
       "68356421          n                    N     C       MORTGAGE         SC   \n",
       "68466926          n                    N     A           RENT         PA   \n",
       "68616873          n                    N     B       MORTGAGE         RI   \n",
       "\n",
       "         initial_list_status        term loan_status             purpose  \\\n",
       "id                                                                         \n",
       "68367011                   w   60 months  Fully Paid         credit_card   \n",
       "68537655                   w   60 months     Current  debt_consolidation   \n",
       "68356421                   w   60 months     Current  debt_consolidation   \n",
       "68466926                   w   36 months  Fully Paid         credit_card   \n",
       "68616873                   w   36 months  Fully Paid         credit_card   \n",
       "\n",
       "          loan_amnt  funded_amnt  funded_amnt_inv  int_rate.1  ...  mort_acc  \\\n",
       "id                                                             ...             \n",
       "68367011    21000.0      21000.0          21000.0       13.99  ...       0.0   \n",
       "68537655    16800.0      16800.0          16800.0       12.88  ...       4.0   \n",
       "68356421    22400.0      22400.0          22400.0       12.88  ...       5.0   \n",
       "68466926    10000.0      10000.0          10000.0        6.49  ...       1.0   \n",
       "68616873     8000.0       8000.0           8000.0       11.48  ...       1.0   \n",
       "\n",
       "          mths_since_recent_bc  mths_since_recent_inq  num_accts_ever_120_pd  \\\n",
       "id                                                                             \n",
       "68367011                  85.0                    0.0                    0.0   \n",
       "68537655                  11.0                   11.0                   12.0   \n",
       "68356421                   1.0                   14.0                    2.0   \n",
       "68466926                   4.0                    1.0                    0.0   \n",
       "68616873                  50.0                   10.0                    1.0   \n",
       "\n",
       "          num_actv_bc_tl  num_actv_rev_tl  num_bc_sats  num_bc_tl  num_il_tl  \\\n",
       "id                                                                             \n",
       "68367011             3.0              3.0          4.0        4.0       11.0   \n",
       "68537655             3.0              3.0          4.0       22.0       12.0   \n",
       "68356421             3.0              8.0          4.0        5.0       15.0   \n",
       "68466926             6.0              9.0          7.0       10.0        3.0   \n",
       "68616873             3.0              3.0          3.0        6.0        5.0   \n",
       "\n",
       "          num_op_rev_tl  num_rev_accts  num_rev_tl_bal_gt_0  num_sats  \\\n",
       "id                                                                      \n",
       "68367011            4.0            4.0                  3.0       5.0   \n",
       "68537655            5.0           28.0                  3.0      11.0   \n",
       "68356421           10.0           15.0                  8.0      16.0   \n",
       "68466926           13.0           19.0                  9.0      14.0   \n",
       "68616873            5.0           11.0                  3.0       8.0   \n",
       "\n",
       "          num_tl_120dpd_2m  num_tl_30dpd  num_tl_90g_dpd_24m  \\\n",
       "id                                                             \n",
       "68367011               0.0           0.0                 0.0   \n",
       "68537655               0.0           0.0                 0.0   \n",
       "68356421               0.0           0.0                 0.0   \n",
       "68466926               0.0           0.0                 0.0   \n",
       "68616873               0.0           0.0                 0.0   \n",
       "\n",
       "          num_tl_op_past_12m  pct_tl_nvr_dlq  percent_bc_gt_75  \\\n",
       "id                                                               \n",
       "68367011                 1.0           100.0              75.0   \n",
       "68537655                 1.0            64.4              25.0   \n",
       "68356421                 3.0            97.0              25.0   \n",
       "68466926                 2.0            95.7              28.6   \n",
       "68616873                 2.0            94.4              33.3   \n",
       "\n",
       "          pub_rec_bankruptcies  tax_liens  tot_hi_cred_lim  total_bal_ex_mort  \\\n",
       "id                                                                              \n",
       "68367011                   0.0        0.0         370357.0           372407.0   \n",
       "68537655                   0.0        0.0         412771.0            75808.0   \n",
       "68356421                   0.0        0.0         436841.0           184356.0   \n",
       "68466926                   1.0        0.0          61099.0            27957.0   \n",
       "68616873                   0.0        0.0         256513.0           113782.0   \n",
       "\n",
       "          total_bc_limit  total_il_high_credit_limit  \n",
       "id                                                    \n",
       "68367011         23300.0                    347057.0  \n",
       "68537655         12600.0                    115941.0  \n",
       "68356421         21000.0                    191682.0  \n",
       "68466926         16400.0                     30799.0  \n",
       "68616873         17000.0                    135513.0  \n",
       "\n",
       "[5 rows x 103 columns]"
      ]
     },
     "execution_count": 15,
     "metadata": {},
     "output_type": "execute_result"
    }
   ],
   "source": [
    "df.head()"
   ]
  },
  {
   "cell_type": "code",
   "execution_count": 19,
   "metadata": {},
   "outputs": [
    {
     "data": {
      "text/plain": [
       "['hardship_flag',\n",
       " 'application_type',\n",
       " 'title',\n",
       " 'emp_length',\n",
       " 'sub_grade',\n",
       " 'verification_status',\n",
       " 'pymnt_plan',\n",
       " 'debt_settlement_flag',\n",
       " 'grade',\n",
       " 'home_ownership',\n",
       " 'addr_state',\n",
       " 'initial_list_status',\n",
       " 'term',\n",
       " 'loan_status',\n",
       " 'purpose']"
      ]
     },
     "execution_count": 19,
     "metadata": {},
     "output_type": "execute_result"
    }
   ],
   "source": [
    "df.select_dtypes('object').columns.to_list()"
   ]
  },
  {
   "cell_type": "code",
   "execution_count": 20,
   "metadata": {},
   "outputs": [
    {
     "data": {
      "text/plain": [
       "['int_rate',\n",
       " 'revol_util',\n",
       " 'loan_amnt',\n",
       " 'funded_amnt',\n",
       " 'funded_amnt_inv',\n",
       " 'int_rate.1',\n",
       " 'installment',\n",
       " 'annual_inc',\n",
       " 'dti',\n",
       " 'delinq_2yrs',\n",
       " 'fico_range_low',\n",
       " 'fico_range_high',\n",
       " 'inq_last_6mths',\n",
       " 'open_acc',\n",
       " 'pub_rec',\n",
       " 'revol_bal',\n",
       " 'revol_util.1',\n",
       " 'total_acc',\n",
       " 'out_prncp',\n",
       " 'out_prncp_inv',\n",
       " 'total_pymnt',\n",
       " 'total_pymnt_inv',\n",
       " 'total_rec_prncp',\n",
       " 'total_rec_int',\n",
       " 'total_rec_late_fee',\n",
       " 'recoveries',\n",
       " 'collection_recovery_fee',\n",
       " 'last_pymnt_amnt',\n",
       " 'last_fico_range_high',\n",
       " 'last_fico_range_low',\n",
       " 'collections_12_mths_ex_med',\n",
       " 'policy_code',\n",
       " 'acc_now_delinq',\n",
       " 'tot_coll_amt',\n",
       " 'tot_cur_bal',\n",
       " 'open_acc_6m',\n",
       " 'open_act_il',\n",
       " 'open_il_12m',\n",
       " 'open_il_24m',\n",
       " 'mths_since_rcnt_il',\n",
       " 'total_bal_il',\n",
       " 'open_rv_12m',\n",
       " 'open_rv_24m',\n",
       " 'max_bal_bc',\n",
       " 'all_util',\n",
       " 'total_rev_hi_lim',\n",
       " 'inq_fi',\n",
       " 'total_cu_tl',\n",
       " 'inq_last_12m',\n",
       " 'acc_open_past_24mths',\n",
       " 'avg_cur_bal',\n",
       " 'bc_open_to_buy',\n",
       " 'bc_util',\n",
       " 'chargeoff_within_12_mths',\n",
       " 'delinq_amnt',\n",
       " 'mo_sin_old_il_acct',\n",
       " 'mo_sin_old_rev_tl_op',\n",
       " 'mo_sin_rcnt_rev_tl_op',\n",
       " 'mo_sin_rcnt_tl',\n",
       " 'mort_acc',\n",
       " 'mths_since_recent_bc',\n",
       " 'mths_since_recent_inq',\n",
       " 'num_accts_ever_120_pd',\n",
       " 'num_actv_bc_tl',\n",
       " 'num_actv_rev_tl',\n",
       " 'num_bc_sats',\n",
       " 'num_bc_tl',\n",
       " 'num_il_tl',\n",
       " 'num_op_rev_tl',\n",
       " 'num_rev_accts',\n",
       " 'num_rev_tl_bal_gt_0',\n",
       " 'num_sats',\n",
       " 'num_tl_120dpd_2m',\n",
       " 'num_tl_30dpd',\n",
       " 'num_tl_90g_dpd_24m',\n",
       " 'num_tl_op_past_12m',\n",
       " 'pct_tl_nvr_dlq',\n",
       " 'percent_bc_gt_75',\n",
       " 'pub_rec_bankruptcies',\n",
       " 'tax_liens',\n",
       " 'tot_hi_cred_lim',\n",
       " 'total_bal_ex_mort',\n",
       " 'total_bc_limit',\n",
       " 'total_il_high_credit_limit']"
      ]
     },
     "execution_count": 20,
     "metadata": {},
     "output_type": "execute_result"
    }
   ],
   "source": [
    "df.select_dtypes('float').columns.to_list()"
   ]
  },
  {
   "cell_type": "code",
   "execution_count": 21,
   "metadata": {},
   "outputs": [
    {
     "data": {
      "text/plain": [
       "['issue_d', 'earliest_cr_line', 'last_pymnt_d', 'last_credit_pull_d']"
      ]
     },
     "execution_count": 21,
     "metadata": {},
     "output_type": "execute_result"
    }
   ],
   "source": [
    "df.select_dtypes('datetime').columns.to_list()"
   ]
  },
  {
   "cell_type": "markdown",
   "metadata": {},
   "source": [
    "### 1. Loan status"
   ]
  },
  {
   "cell_type": "code",
   "execution_count": 30,
   "metadata": {},
   "outputs": [
    {
     "data": {
      "text/plain": [
       "Current               44.117434\n",
       "Fully Paid            43.110193\n",
       "Charged Off           11.124385\n",
       "Late (31-120 days)     0.979499\n",
       "In Grace Period        0.465714\n",
       "Late (16-30 days)      0.200217\n",
       "Default                0.002081\n",
       "Issued                 0.000477\n",
       "Name: loan_status, dtype: float64"
      ]
     },
     "execution_count": 30,
     "metadata": {},
     "output_type": "execute_result"
    }
   ],
   "source": [
    "df['loan_status'].value_counts(normalize=True)*100"
   ]
  },
  {
   "cell_type": "code",
   "execution_count": 44,
   "metadata": {},
   "outputs": [
    {
     "data": {
      "text/html": [
       "<div>\n",
       "<style scoped>\n",
       "    .dataframe tbody tr th:only-of-type {\n",
       "        vertical-align: middle;\n",
       "    }\n",
       "\n",
       "    .dataframe tbody tr th {\n",
       "        vertical-align: top;\n",
       "    }\n",
       "\n",
       "    .dataframe thead th {\n",
       "        text-align: right;\n",
       "    }\n",
       "</style>\n",
       "<table border=\"1\" class=\"dataframe\">\n",
       "  <thead>\n",
       "    <tr style=\"text-align: right;\">\n",
       "      <th></th>\n",
       "      <th>loan_status</th>\n",
       "      <th>loan_amnt</th>\n",
       "      <th>int_rate</th>\n",
       "    </tr>\n",
       "    <tr>\n",
       "      <th>issue_d</th>\n",
       "      <th></th>\n",
       "      <th></th>\n",
       "      <th></th>\n",
       "    </tr>\n",
       "  </thead>\n",
       "  <tbody>\n",
       "    <tr>\n",
       "      <td>2015-12-01</td>\n",
       "      <td>Fully Paid</td>\n",
       "      <td>21000.0</td>\n",
       "      <td>13.99</td>\n",
       "    </tr>\n",
       "    <tr>\n",
       "      <td>2015-12-01</td>\n",
       "      <td>Current</td>\n",
       "      <td>16800.0</td>\n",
       "      <td>12.88</td>\n",
       "    </tr>\n",
       "    <tr>\n",
       "      <td>2015-12-01</td>\n",
       "      <td>Current</td>\n",
       "      <td>22400.0</td>\n",
       "      <td>12.88</td>\n",
       "    </tr>\n",
       "    <tr>\n",
       "      <td>2015-12-01</td>\n",
       "      <td>Fully Paid</td>\n",
       "      <td>10000.0</td>\n",
       "      <td>6.49</td>\n",
       "    </tr>\n",
       "    <tr>\n",
       "      <td>2015-12-01</td>\n",
       "      <td>Fully Paid</td>\n",
       "      <td>8000.0</td>\n",
       "      <td>11.48</td>\n",
       "    </tr>\n",
       "  </tbody>\n",
       "</table>\n",
       "</div>"
      ],
      "text/plain": [
       "           loan_status  loan_amnt  int_rate\n",
       "issue_d                                    \n",
       "2015-12-01  Fully Paid    21000.0     13.99\n",
       "2015-12-01     Current    16800.0     12.88\n",
       "2015-12-01     Current    22400.0     12.88\n",
       "2015-12-01  Fully Paid    10000.0      6.49\n",
       "2015-12-01  Fully Paid     8000.0     11.48"
      ]
     },
     "execution_count": 44,
     "metadata": {},
     "output_type": "execute_result"
    }
   ],
   "source": [
    "df_time = df[['issue_d','loan_status', 'loan_amnt']]\n",
    "df_time.set_index('issue_d',inplace=True)\n",
    "df_time.head() "
   ]
  },
  {
   "cell_type": "code",
   "execution_count": 174,
   "metadata": {},
   "outputs": [
    {
     "data": {
      "text/plain": [
       "<matplotlib.axes._subplots.AxesSubplot at 0x1c2cae32d0>"
      ]
     },
     "execution_count": 174,
     "metadata": {},
     "output_type": "execute_result"
    },
    {
     "data": {
      "image/png": "[encoded data removed]",
      "text/plain": [
       "<Figure size 432x288 with 1 Axes>"
      ]
     },
     "metadata": {
      "needs_background": "light"
     },
     "output_type": "display_data"
    }
   ],
   "source": [
    "# default rate over years\n",
    "df_time_default = df_time.query(\"loan_status == 'Fully Paid' or loan_status == 'Charged Off'\")\\\n",
    ".groupby('issue_d')['loan_status'].value_counts(normalize=True).to_frame()\n",
    "df_time_default.rename(columns={'loan_status':'default_ratio'}, inplace=True)\n",
    "df_time_default.reset_index(level=1,inplace=True)\n",
    "df_time_default.query(\" loan_status == 'Charged Off' \").rolling(3).mean().plot()\n",
    "#df_time_default.query(\" loan_status == 'Charged Off' \").head()\n",
    "#df_time_default.head()\n"
   ]
  },
  {
   "cell_type": "code",
   "execution_count": 178,
   "metadata": {},
   "outputs": [
    {
     "data": {
      "image/png": "[encoded data removed]",
      "text/plain": [
       "<Figure size 720x360 with 1 Axes>"
      ]
     },
     "metadata": {
      "needs_background": "light"
     },
     "output_type": "display_data"
    }
   ],
   "source": [
    "\n",
    "plt.figure(figsize=(10,5)) \n",
    "\n",
    "df_time.query(\" loan_status == 'Fully Paid' \")['loan_amnt']\\\n",
    "    .resample('M').sum().rolling(3).mean().plot(label='Fully Paid')\n",
    "df_time.query(\" loan_status == 'Charged Off' \")['loan_amnt']\\\n",
    "    .resample('M').sum().rolling(3).mean().plot(label='Charged Off')\n",
    "df_time.query(\" loan_status == 'Current' \")['loan_amnt']\\\n",
    "    .resample('M').sum().rolling(3).mean().plot(label='Current')\n",
    "\n",
    "plt.legend()\n",
    "plt.ylabel('total loan amount ($USD)')\n",
    "plt.xlabel('issue year')\n",
    "plt.show()\n",
    "\n",
    "#.sum().rolling(4).mean()"
   ]
  },
  {
   "cell_type": "markdown",
   "metadata": {},
   "source": [
    "Although there is available information on all the funded loans from 2012 to 2019, only loans\n",
    "funded until 2017 can be analyzed. It is because the status of later loans (defaulted or non-\n",
    "defaulted) is still unknown. This happens because the minimum maturity of Lending Club\n",
    "loans is 36 months. Therefore, for the LC data with 36 months term, we can only analyze the data until 2017. similarly, for the LC data with 60 months term, we can only analze the data until 2015.\n"
   ]
  },
  {
   "cell_type": "code",
   "execution_count": 176,
   "metadata": {},
   "outputs": [
    {
     "data": {
      "image/png": "[encoded data removed]",
      "text/plain": [
       "<Figure size 864x360 with 1 Axes>"
      ]
     },
     "metadata": {
      "needs_background": "light"
     },
     "output_type": "display_data"
    }
   ],
   "source": [
    "\n",
    "plt.figure(figsize=(12,5)) \n",
    "\n",
    "df_time.query(\" loan_status == 'Fully Paid' \")['int_rate']\\\n",
    "    .resample('M').median().rolling(3).mean().plot(label='Fully Paid')\n",
    "df_time.query(\" loan_status == 'Charged Off' \")['int_rate']\\\n",
    "    .resample('M').median().rolling(3).mean().plot(label='Charged Off')\n",
    "df_time.query(\" loan_status == 'Current' \")['int_rate']\\\n",
    "    .resample('M').median().rolling(3).mean().plot(label='Current')\n",
    "\n",
    "plt.legend()\n",
    "plt.ylabel('total loan amount ($USD)')\n",
    "plt.xlabel('issue year')\n",
    "plt.show()\n",
    "\n",
    "#.sum().rolling(4).mean()"
   ]
  },
  {
   "cell_type": "markdown",
   "metadata": {},
   "source": [
    "### 1. Distrubution of loan and funded amount "
   ]
  },
  {
   "cell_type": "code",
   "execution_count": 9,
   "metadata": {},
   "outputs": [
    {
     "data": {
      "text/plain": [
       "Text(0, 0.5, 'Average loan amount issued')"
      ]
     },
     "execution_count": 9,
     "metadata": {},
     "output_type": "execute_result"
    },
    {
     "data": {
      "image/png": "[encoded data removed]",
      "text/plain": [
       "<Figure size 1080x288 with 2 Axes>"
      ]
     },
     "metadata": {
      "needs_background": "light"
     },
     "output_type": "display_data"
    }
   ],
   "source": [
    "fig, (ax1, ax2) = plt.subplots(1, 2, sharex=False, figsize=(15,4))\n",
    "sns.barplot('issue_year', 'loan_amnt', data=df, palette='tab10', ax=ax1)\n",
    "ax1.set_title('Loan Amout',fontsize=14)\n",
    "ax1.set_xlabel('Year', fontsize=14)\n",
    "ax1.set_ylabel('Average loan amount issued', fontsize=14)\n",
    "\n",
    "sns.barplot('issue_year', 'funded_amnt', data=df, palette='tab10', ax=ax2)\n",
    "ax2.set_title('Funded Amout',fontsize=14)\n",
    "ax2.set_xlabel('Year', fontsize=14)\n",
    "ax2.set_ylabel('Average loan amount issued', fontsize=14)"
   ]
  },
  {
   "cell_type": "code",
   "execution_count": 15,
   "metadata": {},
   "outputs": [
    {
     "data": {
      "text/plain": [
       "Text(0, 0.5, 'Frequency')"
      ]
     },
     "execution_count": 15,
     "metadata": {},
     "output_type": "execute_result"
    },
    {
     "data": {
      "image/png": "[encoded data removed]",
      "text/plain": [
       "<Figure size 1080x288 with 2 Axes>"
      ]
     },
     "metadata": {
      "needs_background": "light"
     },
     "output_type": "display_data"
    }
   ],
   "source": [
    "# Distribution for loan amount and funded amount\n",
    "fig, (ax1, ax2) = plt.subplots(1, 2, sharex=False, figsize=(15,4))\n",
    "sns.distplot(df['loan_amnt'].values, bins=50, ax=ax1)\n",
    "ax1.set_title('Loan Amount', fontsize=14)\n",
    "ax1.set_xlabel('Average loan amount issued', fontsize=14)\n",
    "ax1.set_ylabel('Frequency', fontsize=14)\n",
    "\n",
    "sns.distplot(df['funded_amnt'].values, bins=50, ax=ax2)\n",
    "ax2.set_title('Funded Amount', fontsize=14)\n",
    "ax2.set_xlabel('Average funded amount issued', fontsize=14)\n",
    "ax2.set_ylabel('Frequency', fontsize=14)"
   ]
  },
  {
   "cell_type": "markdown",
   "metadata": {},
   "source": [
    "- The average amount of loan and fund issued is similar in past 5 years. \n",
    "- Most of the loan issued around $10000.\n",
    "- The amount issued to the borrowers and the amount funded by investors have a similar distribution, meaning that it is most likely that qualified borrowers are going to get the loan they had applied for."
   ]
  },
  {
   "cell_type": "markdown",
   "metadata": {},
   "source": [
    "### 2.  Good vs bad loan over year"
   ]
  },
  {
   "cell_type": "code",
   "execution_count": null,
   "metadata": {},
   "outputs": [],
   "source": [
    "#df['loan_status']\n",
    "sns.barplot('loan_status', data=df)\n",
    "#ax1.set_title('Loan Amout',fontsize=14)\n",
    "#ax1.set_xlabel('Year', fontsize=14)\n",
    "#ax1.set_ylabel('Average loan amount issued', fontsize=14)\n"
   ]
  },
  {
   "cell_type": "code",
   "execution_count": null,
   "metadata": {},
   "outputs": [],
   "source": [
    "# Plotly visualizations\n",
    "from plotly import tools\n",
    "import plotly.plotly as py\n",
    "import plotly.figure_factory as ff\n",
    "import plotly.graph_objs as go\n",
    "from plotly.offline import download_plotlyjs, init_notebook_mode, plot, iplot\n",
    "init_notebook_mode(connected=True)\n",
    "# plotly.tools.set_credentials_file(username='AlexanderBach', api_key='o4fx6i1MtEIJQxfWYvU1')\n"
   ]
  },
  {
   "cell_type": "markdown",
   "metadata": {},
   "source": [
    "### 3 states"
   ]
  },
  {
   "cell_type": "code",
   "execution_count": 16,
   "metadata": {},
   "outputs": [
    {
     "name": "stdout",
     "output_type": "stream",
     "text": [
      "['OH' 'PA' 'RI' 'SC' 'NC' 'AZ' 'VA' 'NY' 'KS' 'AL' 'NM' 'TX' 'MD' 'WA'\n",
      " 'GA' 'LA' 'IL' 'CO' 'FL' 'MI' 'MO' 'IN' 'WI' 'CA' 'VT' 'TN' 'MA' 'NJ'\n",
      " 'OR' 'SD' 'MN' 'DC' 'DE' 'NH' 'NE' 'AR' 'NV' 'MT' 'WV' 'HI' 'OK' 'WY'\n",
      " 'KY' 'CT' 'MS' 'UT' 'ND' 'ME' 'AK' 'ID']\n"
     ]
    }
   ],
   "source": [
    "states = df['addr_state'].unique()\n",
    "print(states)"
   ]
  },
  {
   "cell_type": "code",
   "execution_count": 17,
   "metadata": {},
   "outputs": [
    {
     "data": {
      "text/plain": [
       "50"
      ]
     },
     "execution_count": 17,
     "metadata": {},
     "output_type": "execute_result"
    }
   ],
   "source": [
    "df['addr_state'].nunique()"
   ]
  },
  {
   "cell_type": "markdown",
   "metadata": {},
   "source": [
    "Census Bureau-designated regions and divisions\n",
    "https://en.wikipedia.org/wiki/List_of_regions_of_the_United_States\n"
   ]
  },
  {
   "cell_type": "code",
   "execution_count": 18,
   "metadata": {},
   "outputs": [],
   "source": [
    "# Make a list with each of the regions by state.\n",
    "\n",
    "northeast = ['CT','ME','MA','NH','RI','VT','NJ','NY','PA']\n",
    "midwest = ['IL','IN','MI','OH','WI','IA','KS','MN','MO','NE','ND','SD']\n",
    "south = ['DE','FL','GA','AZ','MD','NC','SC','VA','DC','WV','AL','KY','MS','TN','AR','LA','OK','TX']\n",
    "west = ['CO','ID','MT','NV','NM','UT','WY','AK','CA','HI','OR','WA']\n",
    "states_all = northeast + midwest + south + west\n",
    "assert len(states_all) == 51\n"
   ]
  },
  {
   "cell_type": "code",
   "execution_count": 19,
   "metadata": {},
   "outputs": [
    {
     "data": {
      "text/plain": [
       "{'IA'}"
      ]
     },
     "execution_count": 19,
     "metadata": {},
     "output_type": "execute_result"
    }
   ],
   "source": [
    "# find out which state is missing\n",
    "set(states_all).difference(set(states))\n"
   ]
  },
  {
   "cell_type": "markdown",
   "metadata": {},
   "source": [
    "According to Lending club website, LC does not accept borrower resident in Iowa.\n",
    "https://blog.lendingclub.com/is-lending-club-available-in-my-state/\n"
   ]
  },
  {
   "cell_type": "code",
   "execution_count": 23,
   "metadata": {},
   "outputs": [],
   "source": [
    "# add region column\n",
    "df['region'] = np.nan\n",
    "\n",
    "def finding_regions(state):\n",
    "    if state in northeast:\n",
    "        return 'northeast'\n",
    "    elif state in midwest:\n",
    "        return 'midwest'\n",
    "    elif state in south:\n",
    "        return 'south'\n",
    "    elif state in west:\n",
    "        return 'west'\n",
    "    \n",
    "df['region'] = df['addr_state'].apply(finding_regions)"
   ]
  },
  {
   "cell_type": "code",
   "execution_count": 24,
   "metadata": {},
   "outputs": [],
   "source": [
    "df_state_loan_amnt = df.groupby(['region','addr_state'])['loan_amnt'].sum().sort_values(ascending=False).to_frame().reset_index()\n",
    "df_state_income = df.groupby(['region','addr_state'])['annual_inc'].median().sort_values(ascending=False).to_frame().reset_index()\n",
    "\n",
    "df_target = df.groupby(['region','addr_state'])['target'].value_counts(normalize=True).to_frame()\n",
    "df_target = df_target.iloc[df_target.index.get_level_values('target') == 1]\\\n",
    "    .rename(columns={\"target\": \"default_rate\"}).reset_index().sort_values(by=[\"default_rate\"], ascending=False)"
   ]
  },
  {
   "cell_type": "code",
   "execution_count": 58,
   "metadata": {},
   "outputs": [
    {
     "data": {
      "image/png": "[encoded data removed]",
      "text/plain": [
       "<Figure size 1440x1080 with 3 Axes>"
      ]
     },
     "metadata": {
      "needs_background": "light"
     },
     "output_type": "display_data"
    }
   ],
   "source": [
    "\n",
    "fig, (ax1, ax2, ax3) = plt.subplots(3, 1, sharex=False, figsize=(20,15))\n",
    "\n",
    "palette ={\"northeast\":\"C0\",\"midwest\":\"C1\",\"south\":\"C2\", \"west\":\"C3\"}\n",
    "\n",
    "sns.barplot('addr_state', 'loan_amnt', hue='region', dodge=False, \\\n",
    "            data=df_state_loan_amnt,ax=ax1, palette=palette)\n",
    "ax1.set_title('Total Loan Amount by States',fontsize=14)\n",
    "ax1.set_xlabel('')\n",
    "ax1.set_ylabel('Total loan amount issued', fontsize=14)\n",
    "\n",
    "sns.barplot('addr_state', 'annual_inc', hue='region',dodge=False, \\\n",
    "            data=df_state_income, ax=ax2, palette=palette) \n",
    "ax2.set_title('Median income by States',fontsize=14)\n",
    "ax2.set_xlabel('')\n",
    "ax2.set_ylabel('Median Annual income', fontsize=14)\n",
    "\n",
    "sns.barplot('addr_state', 'default_rate', hue='region',dodge=False, \\\n",
    "            data=df_target, ax=ax3,palette=palette)\n",
    "ax3.set_title('Default Rate by States',fontsize=14)\n",
    "ax3.set_xlabel('')\n",
    "ax3.set_ylabel('Default rate', fontsize=14)\n",
    "\n",
    "# adjust font size\n",
    "for ax in (ax1, ax2, ax3):\n",
    "    for tick in ax.xaxis.get_major_ticks():\n",
    "        tick.label.set_fontsize(13)"
   ]
  },
  {
   "cell_type": "code",
   "execution_count": 41,
   "metadata": {},
   "outputs": [],
   "source": [
    "df_region_loan_amnt = df.groupby(['region'])['loan_amnt'].sum().sort_values(ascending=False).to_frame().reset_index()\n",
    "df_region_income = df.groupby(['region'])['annual_inc'].median().sort_values(ascending=False).to_frame().reset_index()\n",
    "\n",
    "df_region_target = df.groupby(['region'])['target'].value_counts(normalize=True).to_frame()\n",
    "df_region_target = df_region_target.iloc[df_region_target.index.get_level_values('target') == 1]\\\n",
    "    .rename(columns={\"target\": \"default_rate\"}).reset_index().sort_values(by=[\"default_rate\"], ascending=False)"
   ]
  },
  {
   "cell_type": "code",
   "execution_count": 56,
   "metadata": {},
   "outputs": [
    {
     "data": {
      "image/png": "[encoded data removed]",
      "text/plain": [
       "<Figure size 1440x360 with 3 Axes>"
      ]
     },
     "metadata": {
      "needs_background": "light"
     },
     "output_type": "display_data"
    }
   ],
   "source": [
    "fig, (ax1, ax2, ax3) = plt.subplots(1, 3, sharex=False, figsize=(20,5))\n",
    "\n",
    "palette ={\"northeast\":\"C0\",\"midwest\":\"C1\",\"south\":\"C2\", \"west\":\"C3\"}\n",
    "\n",
    "sns.barplot(x='region', y='loan_amnt', data=df_region_loan_amnt, ax=ax1, palette=palette)\n",
    "ax1.set_title('Total Loan Amount by States',fontsize=14)\n",
    "ax1.set_xlabel('')\n",
    "ax1.set_ylabel('Total loan amount issued', fontsize=14)\n",
    "\n",
    "sns.barplot('region', 'annual_inc', data=df_region_income, ax=ax2, palette=palette) \n",
    "ax2.set_title('Median income by States',fontsize=14)\n",
    "ax2.set_xlabel('')\n",
    "ax2.set_ylabel('Median Annual income', fontsize=14)\n",
    "\n",
    "sns.barplot('region', 'default_rate', data=df_region_target , ax=ax3,palette=palette)\n",
    "ax3.set_title('Default Rate by States',fontsize=14)\n",
    "ax3.set_xlabel('')\n",
    "ax3.set_ylabel('Default rate', fontsize=14)\n",
    "\n",
    "# adjust font size\n",
    "for ax in (ax1, ax2, ax3):\n",
    "    for tick in ax.xaxis.get_major_ticks():\n",
    "        tick.label.set_fontsize(15)"
   ]
  },
  {
   "cell_type": "code",
   "execution_count": 110,
   "metadata": {},
   "outputs": [],
   "source": [
    "# join dataframes\n",
    "df_join = pd.merge(df_state_loan_amnt[['addr_state','loan_amnt']],\n",
    "                    df_state_income[['addr_state', 'annual_inc']],\n",
    "                    on='addr_state', how='inner')\n",
    "\n",
    "df_join = pd.merge(df_join, df_target[['addr_state', 'default_rate']],on='addr_state', how='inner')"
   ]
  },
  {
   "cell_type": "code",
   "execution_count": 111,
   "metadata": {},
   "outputs": [
    {
     "data": {
      "text/html": [
       "<div>\n",
       "<style scoped>\n",
       "    .dataframe tbody tr th:only-of-type {\n",
       "        vertical-align: middle;\n",
       "    }\n",
       "\n",
       "    .dataframe tbody tr th {\n",
       "        vertical-align: top;\n",
       "    }\n",
       "\n",
       "    .dataframe thead th {\n",
       "        text-align: right;\n",
       "    }\n",
       "</style>\n",
       "<table border=\"1\" class=\"dataframe\">\n",
       "  <thead>\n",
       "    <tr style=\"text-align: right;\">\n",
       "      <th></th>\n",
       "      <th>state</th>\n",
       "      <th>loan_amount</th>\n",
       "      <th>income</th>\n",
       "      <th>default_rate</th>\n",
       "    </tr>\n",
       "  </thead>\n",
       "  <tbody>\n",
       "    <tr>\n",
       "      <td>0</td>\n",
       "      <td>CA</td>\n",
       "      <td>2.474906e+09</td>\n",
       "      <td>75000.0</td>\n",
       "      <td>0.203983</td>\n",
       "    </tr>\n",
       "    <tr>\n",
       "      <td>1</td>\n",
       "      <td>TX</td>\n",
       "      <td>1.510895e+09</td>\n",
       "      <td>72000.0</td>\n",
       "      <td>0.206664</td>\n",
       "    </tr>\n",
       "    <tr>\n",
       "      <td>2</td>\n",
       "      <td>NY</td>\n",
       "      <td>1.354495e+09</td>\n",
       "      <td>70000.0</td>\n",
       "      <td>0.229015</td>\n",
       "    </tr>\n",
       "    <tr>\n",
       "      <td>3</td>\n",
       "      <td>FL</td>\n",
       "      <td>1.176397e+09</td>\n",
       "      <td>62000.0</td>\n",
       "      <td>0.218462</td>\n",
       "    </tr>\n",
       "    <tr>\n",
       "      <td>4</td>\n",
       "      <td>IL</td>\n",
       "      <td>6.793398e+08</td>\n",
       "      <td>70000.0</td>\n",
       "      <td>0.186607</td>\n",
       "    </tr>\n",
       "  </tbody>\n",
       "</table>\n",
       "</div>"
      ],
      "text/plain": [
       "  state   loan_amount   income  default_rate\n",
       "0    CA  2.474906e+09  75000.0      0.203983\n",
       "1    TX  1.510895e+09  72000.0      0.206664\n",
       "2    NY  1.354495e+09  70000.0      0.229015\n",
       "3    FL  1.176397e+09  62000.0      0.218462\n",
       "4    IL  6.793398e+08  70000.0      0.186607"
      ]
     },
     "execution_count": 111,
     "metadata": {},
     "output_type": "execute_result"
    }
   ],
   "source": [
    "df_join = df_join.rename(columns={'addr_state':'state', 'loan_amnt':'loan_amount', 'annual_inc': 'income'})\n",
    "df_join.head()"
   ]
  },
  {
   "cell_type": "code",
   "execution_count": 112,
   "metadata": {},
   "outputs": [],
   "source": [
    "# round default rate\n",
    "df_join['default_rate'] = df_join['default_rate'].apply(lambda x: round(x*100, 1))"
   ]
  },
  {
   "cell_type": "code",
   "execution_count": 124,
   "metadata": {},
   "outputs": [
    {
     "data": {
      "application/vnd.plotly.v1+json": {
       "config": {
        "linkText": "Export to plot.ly",
        "plotlyServerURL": "https://plot.ly",
        "showLink": false
       },
       "data": [
        {
         "autocolorscale": false,
         "colorbar": {
          "title": {
           "text": "$ USD"
          }
         },
         "colorscale": [
          [
           0,
           "rgb(255,245,240)"
          ],
          [
           0.125,
           "rgb(254,224,210)"
          ],
          [
           0.25,
           "rgb(252,187,161)"
          ],
          [
           0.375,
           "rgb(252,146,114)"
          ],
          [
           0.5,
           "rgb(251,106,74)"
          ],
          [
           0.625,
           "rgb(239,59,44)"
          ],
          [
           0.75,
           "rgb(203,24,29)"
          ],
          [
           0.875,
           "rgb(165,15,21)"
          ],
          [
           1,
           "rgb(103,0,13)"
          ]
         ],
         "locationmode": "USA-states",
         "locations": [
          "CA",
          "TX",
          "NY",
          "FL",
          "IL",
          "NJ",
          "GA",
          "PA",
          "OH",
          "VA",
          "NC",
          "MI",
          "MD",
          "MA",
          "AZ",
          "CO",
          "WA",
          "MN",
          "IN",
          "TN",
          "CT",
          "MO",
          "NV",
          "WI",
          "AL",
          "SC",
          "OR",
          "LA",
          "OK",
          "KY",
          "KS",
          "UT",
          "AR",
          "MS",
          "NM",
          "HI",
          "NH",
          "RI",
          "NE",
          "DE",
          "WV",
          "AK",
          "MT",
          "DC",
          "ME",
          "WY",
          "ID",
          "ND",
          "VT",
          "SD"
         ],
         "marker": {
          "line": {
           "color": "rgb(255,255,255)",
           "width": 2
          }
         },
         "text": [
          "CA<br>Mean default rate: 20.4 %<br>Median annual income: 75000.0",
          "TX<br>Mean default rate: 20.7 %<br>Median annual income: 72000.0",
          "NY<br>Mean default rate: 22.9 %<br>Median annual income: 70000.0",
          "FL<br>Mean default rate: 21.8 %<br>Median annual income: 62000.0",
          "IL<br>Mean default rate: 18.7 %<br>Median annual income: 70000.0",
          "NJ<br>Mean default rate: 21.5 %<br>Median annual income: 75000.0",
          "GA<br>Mean default rate: 19.1 %<br>Median annual income: 68000.0",
          "PA<br>Mean default rate: 20.8 %<br>Median annual income: 65000.0",
          "OH<br>Mean default rate: 19.8 %<br>Median annual income: 61000.0",
          "VA<br>Mean default rate: 19.8 %<br>Median annual income: 75000.0",
          "NC<br>Mean default rate: 20.5 %<br>Median annual income: 63000.0",
          "MI<br>Mean default rate: 19.7 %<br>Median annual income: 65000.0",
          "MD<br>Mean default rate: 22.0 %<br>Median annual income: 77000.0",
          "MA<br>Mean default rate: 19.3 %<br>Median annual income: 72000.0",
          "AZ<br>Mean default rate: 19.4 %<br>Median annual income: 65000.0",
          "CO<br>Mean default rate: 15.5 %<br>Median annual income: 68000.0",
          "WA<br>Mean default rate: 15.2 %<br>Median annual income: 70000.0",
          "MN<br>Mean default rate: 20.0 %<br>Median annual income: 63278.0",
          "IN<br>Mean default rate: 21.0 %<br>Median annual income: 61000.0",
          "TN<br>Mean default rate: 20.2 %<br>Median annual income: 60000.0",
          "CT<br>Mean default rate: 18.4 %<br>Median annual income: 71000.0",
          "MO<br>Mean default rate: 20.8 %<br>Median annual income: 60000.0",
          "NV<br>Mean default rate: 21.4 %<br>Median annual income: 65000.0",
          "WI<br>Mean default rate: 18.8 %<br>Median annual income: 60000.0",
          "AL<br>Mean default rate: 23.6 %<br>Median annual income: 62000.0",
          "SC<br>Mean default rate: 15.6 %<br>Median annual income: 64000.0",
          "OR<br>Mean default rate: 13.8 %<br>Median annual income: 62000.0",
          "LA<br>Mean default rate: 23.5 %<br>Median annual income: 65000.0",
          "OK<br>Mean default rate: 23.8 %<br>Median annual income: 64000.0",
          "KY<br>Mean default rate: 20.6 %<br>Median annual income: 60000.0",
          "KS<br>Mean default rate: 17.5 %<br>Median annual income: 62000.0",
          "UT<br>Mean default rate: 16.4 %<br>Median annual income: 65000.0",
          "AR<br>Mean default rate: 25.0 %<br>Median annual income: 60000.0",
          "MS<br>Mean default rate: 24.9 %<br>Median annual income: 61000.0",
          "NM<br>Mean default rate: 21.3 %<br>Median annual income: 64922.0",
          "HI<br>Mean default rate: 21.0 %<br>Median annual income: 68000.0",
          "NH<br>Mean default rate: 15.4 %<br>Median annual income: 69000.0",
          "RI<br>Mean default rate: 17.5 %<br>Median annual income: 66000.0",
          "NE<br>Mean default rate: 22.6 %<br>Median annual income: 56000.0",
          "DE<br>Mean default rate: 19.0 %<br>Median annual income: 65000.0",
          "WV<br>Mean default rate: 15.4 %<br>Median annual income: 62000.0",
          "AK<br>Mean default rate: 20.7 %<br>Median annual income: 74500.0",
          "MT<br>Mean default rate: 16.4 %<br>Median annual income: 56450.0",
          "DC<br>Mean default rate: 14.7 %<br>Median annual income: 85000.0",
          "ME<br>Mean default rate: 12.6 %<br>Median annual income: 60000.0",
          "WY<br>Mean default rate: 17.7 %<br>Median annual income: 66000.0",
          "ID<br>Mean default rate: 15.7 %<br>Median annual income: 57000.0",
          "ND<br>Mean default rate: 18.7 %<br>Median annual income: 60000.0",
          "VT<br>Mean default rate: 13.2 %<br>Median annual income: 60000.0",
          "SD<br>Mean default rate: 21.4 %<br>Median annual income: 55000.0"
         ],
         "type": "choropleth",
         "z": [
          "2474906475.0",
          "1510894725.0",
          "1354495100.0",
          "1176397325.0",
          "679339800.0",
          "638300900.0",
          "562462150.0",
          "555749225.0",
          "526174775.0",
          "497344900.0",
          "468425350.0",
          "425007725.0",
          "422178600.0",
          "417322825.0",
          "407641925.0",
          "392386925.0",
          "375923275.0",
          "301926500.0",
          "283455300.0",
          "268255175.0",
          "262163875.0",
          "259546550.0",
          "247264725.0",
          "220092025.0",
          "196142625.0",
          "193721825.0",
          "190558075.0",
          "188852750.0",
          "154659675.0",
          "151459275.0",
          "135463375.0",
          "127776025.0",
          "116190600.0",
          "100841925.0",
          "88034350.0",
          "87620425.0",
          "83724150.0",
          "71729425.0",
          "66845125.0",
          "47826100.0",
          "47195550.0",
          "44474125.0",
          "43742600.0",
          "42395450.0",
          "39804250.0",
          "36646500.0",
          "35893250.0",
          "33300275.0",
          "33127475.0",
          "33033050.0"
         ]
        }
       ],
       "layout": {
        "geo": {
         "lakecolor": "rgb(255, 255, 255)",
         "projection": {
          "type": "albers usa"
         },
         "scope": "usa",
         "showlakes": true
        },
        "template": {
         "data": {
          "bar": [
           {
            "error_x": {
             "color": "#2a3f5f"
            },
            "error_y": {
             "color": "#2a3f5f"
            },
            "marker": {
             "line": {
              "color": "#E5ECF6",
              "width": 0.5
             }
            },
            "type": "bar"
           }
          ],
          "barpolar": [
           {
            "marker": {
             "line": {
              "color": "#E5ECF6",
              "width": 0.5
             }
            },
            "type": "barpolar"
           }
          ],
          "carpet": [
           {
            "aaxis": {
             "endlinecolor": "#2a3f5f",
             "gridcolor": "white",
             "linecolor": "white",
             "minorgridcolor": "white",
             "startlinecolor": "#2a3f5f"
            },
            "baxis": {
             "endlinecolor": "#2a3f5f",
             "gridcolor": "white",
             "linecolor": "white",
             "minorgridcolor": "white",
             "startlinecolor": "#2a3f5f"
            },
            "type": "carpet"
           }
          ],
          "choropleth": [
           {
            "colorbar": {
             "outlinewidth": 0,
             "ticks": ""
            },
            "type": "choropleth"
           }
          ],
          "contour": [
           {
            "colorbar": {
             "outlinewidth": 0,
             "ticks": ""
            },
            "colorscale": [
             [
              0,
              "#0d0887"
             ],
             [
              0.1111111111111111,
              "#46039f"
             ],
             [
              0.2222222222222222,
              "#7201a8"
             ],
             [
              0.3333333333333333,
              "#9c179e"
             ],
             [
              0.4444444444444444,
              "#bd3786"
             ],
             [
              0.5555555555555556,
              "#d8576b"
             ],
             [
              0.6666666666666666,
              "#ed7953"
             ],
             [
              0.7777777777777778,
              "#fb9f3a"
             ],
             [
              0.8888888888888888,
              "#fdca26"
             ],
             [
              1,
              "#f0f921"
             ]
            ],
            "type": "contour"
           }
          ],
          "contourcarpet": [
           {
            "colorbar": {
             "outlinewidth": 0,
             "ticks": ""
            },
            "type": "contourcarpet"
           }
          ],
          "heatmap": [
           {
            "colorbar": {
             "outlinewidth": 0,
             "ticks": ""
            },
            "colorscale": [
             [
              0,
              "#0d0887"
             ],
             [
              0.1111111111111111,
              "#46039f"
             ],
             [
              0.2222222222222222,
              "#7201a8"
             ],
             [
              0.3333333333333333,
              "#9c179e"
             ],
             [
              0.4444444444444444,
              "#bd3786"
             ],
             [
              0.5555555555555556,
              "#d8576b"
             ],
             [
              0.6666666666666666,
              "#ed7953"
             ],
             [
              0.7777777777777778,
              "#fb9f3a"
             ],
             [
              0.8888888888888888,
              "#fdca26"
             ],
             [
              1,
              "#f0f921"
             ]
            ],
            "type": "heatmap"
           }
          ],
          "heatmapgl": [
           {
            "colorbar": {
             "outlinewidth": 0,
             "ticks": ""
            },
            "colorscale": [
             [
              0,
              "#0d0887"
             ],
             [
              0.1111111111111111,
              "#46039f"
             ],
             [
              0.2222222222222222,
              "#7201a8"
             ],
             [
              0.3333333333333333,
              "#9c179e"
             ],
             [
              0.4444444444444444,
              "#bd3786"
             ],
             [
              0.5555555555555556,
              "#d8576b"
             ],
             [
              0.6666666666666666,
              "#ed7953"
             ],
             [
              0.7777777777777778,
              "#fb9f3a"
             ],
             [
              0.8888888888888888,
              "#fdca26"
             ],
             [
              1,
              "#f0f921"
             ]
            ],
            "type": "heatmapgl"
           }
          ],
          "histogram": [
           {
            "marker": {
             "colorbar": {
              "outlinewidth": 0,
              "ticks": ""
             }
            },
            "type": "histogram"
           }
          ],
          "histogram2d": [
           {
            "colorbar": {
             "outlinewidth": 0,
             "ticks": ""
            },
            "colorscale": [
             [
              0,
              "#0d0887"
             ],
             [
              0.1111111111111111,
              "#46039f"
             ],
             [
              0.2222222222222222,
              "#7201a8"
             ],
             [
              0.3333333333333333,
              "#9c179e"
             ],
             [
              0.4444444444444444,
              "#bd3786"
             ],
             [
              0.5555555555555556,
              "#d8576b"
             ],
             [
              0.6666666666666666,
              "#ed7953"
             ],
             [
              0.7777777777777778,
              "#fb9f3a"
             ],
             [
              0.8888888888888888,
              "#fdca26"
             ],
             [
              1,
              "#f0f921"
             ]
            ],
            "type": "histogram2d"
           }
          ],
          "histogram2dcontour": [
           {
            "colorbar": {
             "outlinewidth": 0,
             "ticks": ""
            },
            "colorscale": [
             [
              0,
              "#0d0887"
             ],
             [
              0.1111111111111111,
              "#46039f"
             ],
             [
              0.2222222222222222,
              "#7201a8"
             ],
             [
              0.3333333333333333,
              "#9c179e"
             ],
             [
              0.4444444444444444,
              "#bd3786"
             ],
             [
              0.5555555555555556,
              "#d8576b"
             ],
             [
              0.6666666666666666,
              "#ed7953"
             ],
             [
              0.7777777777777778,
              "#fb9f3a"
             ],
             [
              0.8888888888888888,
              "#fdca26"
             ],
             [
              1,
              "#f0f921"
             ]
            ],
            "type": "histogram2dcontour"
           }
          ],
          "mesh3d": [
           {
            "colorbar": {
             "outlinewidth": 0,
             "ticks": ""
            },
            "type": "mesh3d"
           }
          ],
          "parcoords": [
           {
            "line": {
             "colorbar": {
              "outlinewidth": 0,
              "ticks": ""
             }
            },
            "type": "parcoords"
           }
          ],
          "pie": [
           {
            "automargin": true,
            "type": "pie"
           }
          ],
          "scatter": [
           {
            "marker": {
             "colorbar": {
              "outlinewidth": 0,
              "ticks": ""
             }
            },
            "type": "scatter"
           }
          ],
          "scatter3d": [
           {
            "line": {
             "colorbar": {
              "outlinewidth": 0,
              "ticks": ""
             }
            },
            "marker": {
             "colorbar": {
              "outlinewidth": 0,
              "ticks": ""
             }
            },
            "type": "scatter3d"
           }
          ],
          "scattercarpet": [
           {
            "marker": {
             "colorbar": {
              "outlinewidth": 0,
              "ticks": ""
             }
            },
            "type": "scattercarpet"
           }
          ],
          "scattergeo": [
           {
            "marker": {
             "colorbar": {
              "outlinewidth": 0,
              "ticks": ""
             }
            },
            "type": "scattergeo"
           }
          ],
          "scattergl": [
           {
            "marker": {
             "colorbar": {
              "outlinewidth": 0,
              "ticks": ""
             }
            },
            "type": "scattergl"
           }
          ],
          "scattermapbox": [
           {
            "marker": {
             "colorbar": {
              "outlinewidth": 0,
              "ticks": ""
             }
            },
            "type": "scattermapbox"
           }
          ],
          "scatterpolar": [
           {
            "marker": {
             "colorbar": {
              "outlinewidth": 0,
              "ticks": ""
             }
            },
            "type": "scatterpolar"
           }
          ],
          "scatterpolargl": [
           {
            "marker": {
             "colorbar": {
              "outlinewidth": 0,
              "ticks": ""
             }
            },
            "type": "scatterpolargl"
           }
          ],
          "scatterternary": [
           {
            "marker": {
             "colorbar": {
              "outlinewidth": 0,
              "ticks": ""
             }
            },
            "type": "scatterternary"
           }
          ],
          "surface": [
           {
            "colorbar": {
             "outlinewidth": 0,
             "ticks": ""
            },
            "colorscale": [
             [
              0,
              "#0d0887"
             ],
             [
              0.1111111111111111,
              "#46039f"
             ],
             [
              0.2222222222222222,
              "#7201a8"
             ],
             [
              0.3333333333333333,
              "#9c179e"
             ],
             [
              0.4444444444444444,
              "#bd3786"
             ],
             [
              0.5555555555555556,
              "#d8576b"
             ],
             [
              0.6666666666666666,
              "#ed7953"
             ],
             [
              0.7777777777777778,
              "#fb9f3a"
             ],
             [
              0.8888888888888888,
              "#fdca26"
             ],
             [
              1,
              "#f0f921"
             ]
            ],
            "type": "surface"
           }
          ],
          "table": [
           {
            "cells": {
             "fill": {
              "color": "#EBF0F8"
             },
             "line": {
              "color": "white"
             }
            },
            "header": {
             "fill": {
              "color": "#C8D4E3"
             },
             "line": {
              "color": "white"
             }
            },
            "type": "table"
           }
          ]
         },
         "layout": {
          "annotationdefaults": {
           "arrowcolor": "#2a3f5f",
           "arrowhead": 0,
           "arrowwidth": 1
          },
          "coloraxis": {
           "colorbar": {
            "outlinewidth": 0,
            "ticks": ""
           }
          },
          "colorscale": {
           "diverging": [
            [
             0,
             "#8e0152"
            ],
            [
             0.1,
             "#c51b7d"
            ],
            [
             0.2,
             "#de77ae"
            ],
            [
             0.3,
             "#f1b6da"
            ],
            [
             0.4,
             "#fde0ef"
            ],
            [
             0.5,
             "#f7f7f7"
            ],
            [
             0.6,
             "#e6f5d0"
            ],
            [
             0.7,
             "#b8e186"
            ],
            [
             0.8,
             "#7fbc41"
            ],
            [
             0.9,
             "#4d9221"
            ],
            [
             1,
             "#276419"
            ]
           ],
           "sequential": [
            [
             0,
             "#0d0887"
            ],
            [
             0.1111111111111111,
             "#46039f"
            ],
            [
             0.2222222222222222,
             "#7201a8"
            ],
            [
             0.3333333333333333,
             "#9c179e"
            ],
            [
             0.4444444444444444,
             "#bd3786"
            ],
            [
             0.5555555555555556,
             "#d8576b"
            ],
            [
             0.6666666666666666,
             "#ed7953"
            ],
            [
             0.7777777777777778,
             "#fb9f3a"
            ],
            [
             0.8888888888888888,
             "#fdca26"
            ],
            [
             1,
             "#f0f921"
            ]
           ],
           "sequentialminus": [
            [
             0,
             "#0d0887"
            ],
            [
             0.1111111111111111,
             "#46039f"
            ],
            [
             0.2222222222222222,
             "#7201a8"
            ],
            [
             0.3333333333333333,
             "#9c179e"
            ],
            [
             0.4444444444444444,
             "#bd3786"
            ],
            [
             0.5555555555555556,
             "#d8576b"
            ],
            [
             0.6666666666666666,
             "#ed7953"
            ],
            [
             0.7777777777777778,
             "#fb9f3a"
            ],
            [
             0.8888888888888888,
             "#fdca26"
            ],
            [
             1,
             "#f0f921"
            ]
           ]
          },
          "colorway": [
           "#636efa",
           "#EF553B",
           "#00cc96",
           "#ab63fa",
           "#FFA15A",
           "#19d3f3",
           "#FF6692",
           "#B6E880",
           "#FF97FF",
           "#FECB52"
          ],
          "font": {
           "color": "#2a3f5f"
          },
          "geo": {
           "bgcolor": "white",
           "lakecolor": "white",
           "landcolor": "#E5ECF6",
           "showlakes": true,
           "showland": true,
           "subunitcolor": "white"
          },
          "hoverlabel": {
           "align": "left"
          },
          "hovermode": "closest",
          "mapbox": {
           "style": "light"
          },
          "paper_bgcolor": "white",
          "plot_bgcolor": "#E5ECF6",
          "polar": {
           "angularaxis": {
            "gridcolor": "white",
            "linecolor": "white",
            "ticks": ""
           },
           "bgcolor": "#E5ECF6",
           "radialaxis": {
            "gridcolor": "white",
            "linecolor": "white",
            "ticks": ""
           }
          },
          "scene": {
           "xaxis": {
            "backgroundcolor": "#E5ECF6",
            "gridcolor": "white",
            "gridwidth": 2,
            "linecolor": "white",
            "showbackground": true,
            "ticks": "",
            "zerolinecolor": "white"
           },
           "yaxis": {
            "backgroundcolor": "#E5ECF6",
            "gridcolor": "white",
            "gridwidth": 2,
            "linecolor": "white",
            "showbackground": true,
            "ticks": "",
            "zerolinecolor": "white"
           },
           "zaxis": {
            "backgroundcolor": "#E5ECF6",
            "gridcolor": "white",
            "gridwidth": 2,
            "linecolor": "white",
            "showbackground": true,
            "ticks": "",
            "zerolinecolor": "white"
           }
          },
          "shapedefaults": {
           "line": {
            "color": "#2a3f5f"
           }
          },
          "ternary": {
           "aaxis": {
            "gridcolor": "white",
            "linecolor": "white",
            "ticks": ""
           },
           "baxis": {
            "gridcolor": "white",
            "linecolor": "white",
            "ticks": ""
           },
           "bgcolor": "#E5ECF6",
           "caxis": {
            "gridcolor": "white",
            "linecolor": "white",
            "ticks": ""
           }
          },
          "title": {
           "x": 0.05
          },
          "xaxis": {
           "automargin": true,
           "gridcolor": "white",
           "linecolor": "white",
           "ticks": "",
           "title": {
            "standoff": 15
           },
           "zerolinecolor": "white",
           "zerolinewidth": 2
          },
          "yaxis": {
           "automargin": true,
           "gridcolor": "white",
           "linecolor": "white",
           "ticks": "",
           "title": {
            "standoff": 15
           },
           "zerolinecolor": "white",
           "zerolinewidth": 2
          }
         }
        },
        "title": {
         "text": "Total Issued Loan Amount in USA<br>(2015-2019)"
        }
       }
      },
      "text/html": [
       "<div>\n",
       "        \n",
       "        \n",
       "            <div id=\"c514d80e-9f4d-4f14-a8fc-318e9d4b6c05\" class=\"plotly-graph-div\" style=\"height:525px; width:100%;\"></div>\n",
       "            <script type=\"text/javascript\">\n",
       "                require([\"plotly\"], function(Plotly) {\n",
       "                    window.PLOTLYENV=window.PLOTLYENV || {};\n",
       "                    \n",
       "                if (document.getElementById(\"c514d80e-9f4d-4f14-a8fc-318e9d4b6c05\")) {\n",
       "                    Plotly.newPlot(\n",
       "                        'c514d80e-9f4d-4f14-a8fc-318e9d4b6c05',\n",
       "                        [{\"autocolorscale\": false, \"colorbar\": {\"title\": {\"text\": \"$ USD\"}}, \"colorscale\": [[0.0, \"rgb(255,245,240)\"], [0.125, \"rgb(254,224,210)\"], [0.25, \"rgb(252,187,161)\"], [0.375, \"rgb(252,146,114)\"], [0.5, \"rgb(251,106,74)\"], [0.625, \"rgb(239,59,44)\"], [0.75, \"rgb(203,24,29)\"], [0.875, \"rgb(165,15,21)\"], [1.0, \"rgb(103,0,13)\"]], \"locationmode\": \"USA-states\", \"locations\": [\"CA\", \"TX\", \"NY\", \"FL\", \"IL\", \"NJ\", \"GA\", \"PA\", \"OH\", \"VA\", \"NC\", \"MI\", \"MD\", \"MA\", \"AZ\", \"CO\", \"WA\", \"MN\", \"IN\", \"TN\", \"CT\", \"MO\", \"NV\", \"WI\", \"AL\", \"SC\", \"OR\", \"LA\", \"OK\", \"KY\", \"KS\", \"UT\", \"AR\", \"MS\", \"NM\", \"HI\", \"NH\", \"RI\", \"NE\", \"DE\", \"WV\", \"AK\", \"MT\", \"DC\", \"ME\", \"WY\", \"ID\", \"ND\", \"VT\", \"SD\"], \"marker\": {\"line\": {\"color\": \"rgb(255,255,255)\", \"width\": 2}}, \"text\": [\"CA<br>Mean default rate: 20.4 %<br>Median annual income: 75000.0\", \"TX<br>Mean default rate: 20.7 %<br>Median annual income: 72000.0\", \"NY<br>Mean default rate: 22.9 %<br>Median annual income: 70000.0\", \"FL<br>Mean default rate: 21.8 %<br>Median annual income: 62000.0\", \"IL<br>Mean default rate: 18.7 %<br>Median annual income: 70000.0\", \"NJ<br>Mean default rate: 21.5 %<br>Median annual income: 75000.0\", \"GA<br>Mean default rate: 19.1 %<br>Median annual income: 68000.0\", \"PA<br>Mean default rate: 20.8 %<br>Median annual income: 65000.0\", \"OH<br>Mean default rate: 19.8 %<br>Median annual income: 61000.0\", \"VA<br>Mean default rate: 19.8 %<br>Median annual income: 75000.0\", \"NC<br>Mean default rate: 20.5 %<br>Median annual income: 63000.0\", \"MI<br>Mean default rate: 19.7 %<br>Median annual income: 65000.0\", \"MD<br>Mean default rate: 22.0 %<br>Median annual income: 77000.0\", \"MA<br>Mean default rate: 19.3 %<br>Median annual income: 72000.0\", \"AZ<br>Mean default rate: 19.4 %<br>Median annual income: 65000.0\", \"CO<br>Mean default rate: 15.5 %<br>Median annual income: 68000.0\", \"WA<br>Mean default rate: 15.2 %<br>Median annual income: 70000.0\", \"MN<br>Mean default rate: 20.0 %<br>Median annual income: 63278.0\", \"IN<br>Mean default rate: 21.0 %<br>Median annual income: 61000.0\", \"TN<br>Mean default rate: 20.2 %<br>Median annual income: 60000.0\", \"CT<br>Mean default rate: 18.4 %<br>Median annual income: 71000.0\", \"MO<br>Mean default rate: 20.8 %<br>Median annual income: 60000.0\", \"NV<br>Mean default rate: 21.4 %<br>Median annual income: 65000.0\", \"WI<br>Mean default rate: 18.8 %<br>Median annual income: 60000.0\", \"AL<br>Mean default rate: 23.6 %<br>Median annual income: 62000.0\", \"SC<br>Mean default rate: 15.6 %<br>Median annual income: 64000.0\", \"OR<br>Mean default rate: 13.8 %<br>Median annual income: 62000.0\", \"LA<br>Mean default rate: 23.5 %<br>Median annual income: 65000.0\", \"OK<br>Mean default rate: 23.8 %<br>Median annual income: 64000.0\", \"KY<br>Mean default rate: 20.6 %<br>Median annual income: 60000.0\", \"KS<br>Mean default rate: 17.5 %<br>Median annual income: 62000.0\", \"UT<br>Mean default rate: 16.4 %<br>Median annual income: 65000.0\", \"AR<br>Mean default rate: 25.0 %<br>Median annual income: 60000.0\", \"MS<br>Mean default rate: 24.9 %<br>Median annual income: 61000.0\", \"NM<br>Mean default rate: 21.3 %<br>Median annual income: 64922.0\", \"HI<br>Mean default rate: 21.0 %<br>Median annual income: 68000.0\", \"NH<br>Mean default rate: 15.4 %<br>Median annual income: 69000.0\", \"RI<br>Mean default rate: 17.5 %<br>Median annual income: 66000.0\", \"NE<br>Mean default rate: 22.6 %<br>Median annual income: 56000.0\", \"DE<br>Mean default rate: 19.0 %<br>Median annual income: 65000.0\", \"WV<br>Mean default rate: 15.4 %<br>Median annual income: 62000.0\", \"AK<br>Mean default rate: 20.7 %<br>Median annual income: 74500.0\", \"MT<br>Mean default rate: 16.4 %<br>Median annual income: 56450.0\", \"DC<br>Mean default rate: 14.7 %<br>Median annual income: 85000.0\", \"ME<br>Mean default rate: 12.6 %<br>Median annual income: 60000.0\", \"WY<br>Mean default rate: 17.7 %<br>Median annual income: 66000.0\", \"ID<br>Mean default rate: 15.7 %<br>Median annual income: 57000.0\", \"ND<br>Mean default rate: 18.7 %<br>Median annual income: 60000.0\", \"VT<br>Mean default rate: 13.2 %<br>Median annual income: 60000.0\", \"SD<br>Mean default rate: 21.4 %<br>Median annual income: 55000.0\"], \"type\": \"choropleth\", \"z\": [\"2474906475.0\", \"1510894725.0\", \"1354495100.0\", \"1176397325.0\", \"679339800.0\", \"638300900.0\", \"562462150.0\", \"555749225.0\", \"526174775.0\", \"497344900.0\", \"468425350.0\", \"425007725.0\", \"422178600.0\", \"417322825.0\", \"407641925.0\", \"392386925.0\", \"375923275.0\", \"301926500.0\", \"283455300.0\", \"268255175.0\", \"262163875.0\", \"259546550.0\", \"247264725.0\", \"220092025.0\", \"196142625.0\", \"193721825.0\", \"190558075.0\", \"188852750.0\", \"154659675.0\", \"151459275.0\", \"135463375.0\", \"127776025.0\", \"116190600.0\", \"100841925.0\", \"88034350.0\", \"87620425.0\", \"83724150.0\", \"71729425.0\", \"66845125.0\", \"47826100.0\", \"47195550.0\", \"44474125.0\", \"43742600.0\", \"42395450.0\", \"39804250.0\", \"36646500.0\", \"35893250.0\", \"33300275.0\", \"33127475.0\", \"33033050.0\"]}],\n",
       "                        {\"geo\": {\"lakecolor\": \"rgb(255, 255, 255)\", \"projection\": {\"type\": \"albers usa\"}, \"scope\": \"usa\", \"showlakes\": true}, \"template\": {\"data\": {\"bar\": [{\"error_x\": {\"color\": \"#2a3f5f\"}, \"error_y\": {\"color\": \"#2a3f5f\"}, \"marker\": {\"line\": {\"color\": \"#E5ECF6\", \"width\": 0.5}}, \"type\": \"bar\"}], \"barpolar\": [{\"marker\": {\"line\": {\"color\": \"#E5ECF6\", \"width\": 0.5}}, \"type\": \"barpolar\"}], \"carpet\": [{\"aaxis\": {\"endlinecolor\": \"#2a3f5f\", \"gridcolor\": \"white\", \"linecolor\": \"white\", \"minorgridcolor\": \"white\", \"startlinecolor\": \"#2a3f5f\"}, \"baxis\": {\"endlinecolor\": \"#2a3f5f\", \"gridcolor\": \"white\", \"linecolor\": \"white\", \"minorgridcolor\": \"white\", \"startlinecolor\": \"#2a3f5f\"}, \"type\": \"carpet\"}], \"choropleth\": [{\"colorbar\": {\"outlinewidth\": 0, \"ticks\": \"\"}, \"type\": \"choropleth\"}], \"contour\": [{\"colorbar\": {\"outlinewidth\": 0, \"ticks\": \"\"}, \"colorscale\": [[0.0, \"#0d0887\"], [0.1111111111111111, \"#46039f\"], [0.2222222222222222, \"#7201a8\"], [0.3333333333333333, \"#9c179e\"], [0.4444444444444444, \"#bd3786\"], [0.5555555555555556, \"#d8576b\"], [0.6666666666666666, \"#ed7953\"], [0.7777777777777778, \"#fb9f3a\"], [0.8888888888888888, \"#fdca26\"], [1.0, \"#f0f921\"]], \"type\": \"contour\"}], \"contourcarpet\": [{\"colorbar\": {\"outlinewidth\": 0, \"ticks\": \"\"}, \"type\": \"contourcarpet\"}], \"heatmap\": [{\"colorbar\": {\"outlinewidth\": 0, \"ticks\": \"\"}, \"colorscale\": [[0.0, \"#0d0887\"], [0.1111111111111111, \"#46039f\"], [0.2222222222222222, \"#7201a8\"], [0.3333333333333333, \"#9c179e\"], [0.4444444444444444, \"#bd3786\"], [0.5555555555555556, \"#d8576b\"], [0.6666666666666666, \"#ed7953\"], [0.7777777777777778, \"#fb9f3a\"], [0.8888888888888888, \"#fdca26\"], [1.0, \"#f0f921\"]], \"type\": \"heatmap\"}], \"heatmapgl\": [{\"colorbar\": {\"outlinewidth\": 0, \"ticks\": \"\"}, \"colorscale\": [[0.0, \"#0d0887\"], [0.1111111111111111, \"#46039f\"], [0.2222222222222222, \"#7201a8\"], [0.3333333333333333, \"#9c179e\"], [0.4444444444444444, \"#bd3786\"], [0.5555555555555556, \"#d8576b\"], [0.6666666666666666, \"#ed7953\"], [0.7777777777777778, \"#fb9f3a\"], [0.8888888888888888, \"#fdca26\"], [1.0, \"#f0f921\"]], \"type\": \"heatmapgl\"}], \"histogram\": [{\"marker\": {\"colorbar\": {\"outlinewidth\": 0, \"ticks\": \"\"}}, \"type\": \"histogram\"}], \"histogram2d\": [{\"colorbar\": {\"outlinewidth\": 0, \"ticks\": \"\"}, \"colorscale\": [[0.0, \"#0d0887\"], [0.1111111111111111, \"#46039f\"], [0.2222222222222222, \"#7201a8\"], [0.3333333333333333, \"#9c179e\"], [0.4444444444444444, \"#bd3786\"], [0.5555555555555556, \"#d8576b\"], [0.6666666666666666, \"#ed7953\"], [0.7777777777777778, \"#fb9f3a\"], [0.8888888888888888, \"#fdca26\"], [1.0, \"#f0f921\"]], \"type\": \"histogram2d\"}], \"histogram2dcontour\": [{\"colorbar\": {\"outlinewidth\": 0, \"ticks\": \"\"}, \"colorscale\": [[0.0, \"#0d0887\"], [0.1111111111111111, \"#46039f\"], [0.2222222222222222, \"#7201a8\"], [0.3333333333333333, \"#9c179e\"], [0.4444444444444444, \"#bd3786\"], [0.5555555555555556, \"#d8576b\"], [0.6666666666666666, \"#ed7953\"], [0.7777777777777778, \"#fb9f3a\"], [0.8888888888888888, \"#fdca26\"], [1.0, \"#f0f921\"]], \"type\": \"histogram2dcontour\"}], \"mesh3d\": [{\"colorbar\": {\"outlinewidth\": 0, \"ticks\": \"\"}, \"type\": \"mesh3d\"}], \"parcoords\": [{\"line\": {\"colorbar\": {\"outlinewidth\": 0, \"ticks\": \"\"}}, \"type\": \"parcoords\"}], \"pie\": [{\"automargin\": true, \"type\": \"pie\"}], \"scatter\": [{\"marker\": {\"colorbar\": {\"outlinewidth\": 0, \"ticks\": \"\"}}, \"type\": \"scatter\"}], \"scatter3d\": [{\"line\": {\"colorbar\": {\"outlinewidth\": 0, \"ticks\": \"\"}}, \"marker\": {\"colorbar\": {\"outlinewidth\": 0, \"ticks\": \"\"}}, \"type\": \"scatter3d\"}], \"scattercarpet\": [{\"marker\": {\"colorbar\": {\"outlinewidth\": 0, \"ticks\": \"\"}}, \"type\": \"scattercarpet\"}], \"scattergeo\": [{\"marker\": {\"colorbar\": {\"outlinewidth\": 0, \"ticks\": \"\"}}, \"type\": \"scattergeo\"}], \"scattergl\": [{\"marker\": {\"colorbar\": {\"outlinewidth\": 0, \"ticks\": \"\"}}, \"type\": \"scattergl\"}], \"scattermapbox\": [{\"marker\": {\"colorbar\": {\"outlinewidth\": 0, \"ticks\": \"\"}}, \"type\": \"scattermapbox\"}], \"scatterpolar\": [{\"marker\": {\"colorbar\": {\"outlinewidth\": 0, \"ticks\": \"\"}}, \"type\": \"scatterpolar\"}], \"scatterpolargl\": [{\"marker\": {\"colorbar\": {\"outlinewidth\": 0, \"ticks\": \"\"}}, \"type\": \"scatterpolargl\"}], \"scatterternary\": [{\"marker\": {\"colorbar\": {\"outlinewidth\": 0, \"ticks\": \"\"}}, \"type\": \"scatterternary\"}], \"surface\": [{\"colorbar\": {\"outlinewidth\": 0, \"ticks\": \"\"}, \"colorscale\": [[0.0, \"#0d0887\"], [0.1111111111111111, \"#46039f\"], [0.2222222222222222, \"#7201a8\"], [0.3333333333333333, \"#9c179e\"], [0.4444444444444444, \"#bd3786\"], [0.5555555555555556, \"#d8576b\"], [0.6666666666666666, \"#ed7953\"], [0.7777777777777778, \"#fb9f3a\"], [0.8888888888888888, \"#fdca26\"], [1.0, \"#f0f921\"]], \"type\": \"surface\"}], \"table\": [{\"cells\": {\"fill\": {\"color\": \"#EBF0F8\"}, \"line\": {\"color\": \"white\"}}, \"header\": {\"fill\": {\"color\": \"#C8D4E3\"}, \"line\": {\"color\": \"white\"}}, \"type\": \"table\"}]}, \"layout\": {\"annotationdefaults\": {\"arrowcolor\": \"#2a3f5f\", \"arrowhead\": 0, \"arrowwidth\": 1}, \"coloraxis\": {\"colorbar\": {\"outlinewidth\": 0, \"ticks\": \"\"}}, \"colorscale\": {\"diverging\": [[0, \"#8e0152\"], [0.1, \"#c51b7d\"], [0.2, \"#de77ae\"], [0.3, \"#f1b6da\"], [0.4, \"#fde0ef\"], [0.5, \"#f7f7f7\"], [0.6, \"#e6f5d0\"], [0.7, \"#b8e186\"], [0.8, \"#7fbc41\"], [0.9, \"#4d9221\"], [1, \"#276419\"]], \"sequential\": [[0.0, \"#0d0887\"], [0.1111111111111111, \"#46039f\"], [0.2222222222222222, \"#7201a8\"], [0.3333333333333333, \"#9c179e\"], [0.4444444444444444, \"#bd3786\"], [0.5555555555555556, \"#d8576b\"], [0.6666666666666666, \"#ed7953\"], [0.7777777777777778, \"#fb9f3a\"], [0.8888888888888888, \"#fdca26\"], [1.0, \"#f0f921\"]], \"sequentialminus\": [[0.0, \"#0d0887\"], [0.1111111111111111, \"#46039f\"], [0.2222222222222222, \"#7201a8\"], [0.3333333333333333, \"#9c179e\"], [0.4444444444444444, \"#bd3786\"], [0.5555555555555556, \"#d8576b\"], [0.6666666666666666, \"#ed7953\"], [0.7777777777777778, \"#fb9f3a\"], [0.8888888888888888, \"#fdca26\"], [1.0, \"#f0f921\"]]}, \"colorway\": [\"#636efa\", \"#EF553B\", \"#00cc96\", \"#ab63fa\", \"#FFA15A\", \"#19d3f3\", \"#FF6692\", \"#B6E880\", \"#FF97FF\", \"#FECB52\"], \"font\": {\"color\": \"#2a3f5f\"}, \"geo\": {\"bgcolor\": \"white\", \"lakecolor\": \"white\", \"landcolor\": \"#E5ECF6\", \"showlakes\": true, \"showland\": true, \"subunitcolor\": \"white\"}, \"hoverlabel\": {\"align\": \"left\"}, \"hovermode\": \"closest\", \"mapbox\": {\"style\": \"light\"}, \"paper_bgcolor\": \"white\", \"plot_bgcolor\": \"#E5ECF6\", \"polar\": {\"angularaxis\": {\"gridcolor\": \"white\", \"linecolor\": \"white\", \"ticks\": \"\"}, \"bgcolor\": \"#E5ECF6\", \"radialaxis\": {\"gridcolor\": \"white\", \"linecolor\": \"white\", \"ticks\": \"\"}}, \"scene\": {\"xaxis\": {\"backgroundcolor\": \"#E5ECF6\", \"gridcolor\": \"white\", \"gridwidth\": 2, \"linecolor\": \"white\", \"showbackground\": true, \"ticks\": \"\", \"zerolinecolor\": \"white\"}, \"yaxis\": {\"backgroundcolor\": \"#E5ECF6\", \"gridcolor\": \"white\", \"gridwidth\": 2, \"linecolor\": \"white\", \"showbackground\": true, \"ticks\": \"\", \"zerolinecolor\": \"white\"}, \"zaxis\": {\"backgroundcolor\": \"#E5ECF6\", \"gridcolor\": \"white\", \"gridwidth\": 2, \"linecolor\": \"white\", \"showbackground\": true, \"ticks\": \"\", \"zerolinecolor\": \"white\"}}, \"shapedefaults\": {\"line\": {\"color\": \"#2a3f5f\"}}, \"ternary\": {\"aaxis\": {\"gridcolor\": \"white\", \"linecolor\": \"white\", \"ticks\": \"\"}, \"baxis\": {\"gridcolor\": \"white\", \"linecolor\": \"white\", \"ticks\": \"\"}, \"bgcolor\": \"#E5ECF6\", \"caxis\": {\"gridcolor\": \"white\", \"linecolor\": \"white\", \"ticks\": \"\"}}, \"title\": {\"x\": 0.05}, \"xaxis\": {\"automargin\": true, \"gridcolor\": \"white\", \"linecolor\": \"white\", \"ticks\": \"\", \"title\": {\"standoff\": 15}, \"zerolinecolor\": \"white\", \"zerolinewidth\": 2}, \"yaxis\": {\"automargin\": true, \"gridcolor\": \"white\", \"linecolor\": \"white\", \"ticks\": \"\", \"title\": {\"standoff\": 15}, \"zerolinecolor\": \"white\", \"zerolinewidth\": 2}}}, \"title\": {\"text\": \"Total Issued Loan Amount in USA<br>(2015-2019)\"}},\n",
       "                        {\"responsive\": true}\n",
       "                    ).then(function(){\n",
       "                            \n",
       "var gd = document.getElementById('c514d80e-9f4d-4f14-a8fc-318e9d4b6c05');\n",
       "var x = new MutationObserver(function (mutations, observer) {{\n",
       "        var display = window.getComputedStyle(gd).display;\n",
       "        if (!display || display === 'none') {{\n",
       "            console.log([gd, 'removed!']);\n",
       "            Plotly.purge(gd);\n",
       "            observer.disconnect();\n",
       "        }}\n",
       "}});\n",
       "\n",
       "// Listen for the removal of the full notebook cells\n",
       "var notebookContainer = gd.closest('#notebook-container');\n",
       "if (notebookContainer) {{\n",
       "    x.observe(notebookContainer, {childList: true});\n",
       "}}\n",
       "\n",
       "// Listen for the clearing of the current output cell\n",
       "var outputEl = gd.closest('.output');\n",
       "if (outputEl) {{\n",
       "    x.observe(outputEl, {childList: true});\n",
       "}}\n",
       "\n",
       "                        })\n",
       "                };\n",
       "                });\n",
       "            </script>\n",
       "        </div>"
      ]
     },
     "metadata": {},
     "output_type": "display_data"
    }
   ],
   "source": [
    "# Now it comes the part where we plot out plotly United States map\n",
    "import plotly as py\n",
    "from plotly.offline import download_plotlyjs, init_notebook_mode, plot, iplot\n",
    "import plotly.graph_objs as go\n",
    "\n",
    "df_map1=df_join.copy()\n",
    "\n",
    "# convert to values to string\n",
    "for col in df_map1.columns:\n",
    "    df_map1[col] = df_map1[col].astype(str)\n",
    "    \n",
    "df_map1['text'] = df_map1['state'] + '<br>' +\\\n",
    "'Mean default rate: ' + df_map1['default_rate'] + ' %' +'<br>'+\\\n",
    "'Median annual income: ' + df_map1['income'] \n",
    "\n",
    "\n",
    "data = [ dict(\n",
    "        type='choropleth',\n",
    "        colorscale = 'Reds', # discrete color for the map\n",
    "        autocolorscale = False,\n",
    "        locations = df_map1['state'],\n",
    "        z = df_map1['loan_amount'], \n",
    "        locationmode = 'USA-states',\n",
    "        text = df_map1['text'],\n",
    "        marker = dict(\n",
    "            line = dict (\n",
    "                color = 'rgb(255,255,255)',\n",
    "                width = 2\n",
    "            ) ),\n",
    "        colorbar = dict(\n",
    "            title = \"$ USD\")\n",
    "        ) ]\n",
    "\n",
    "\n",
    "layout = dict(\n",
    "    title = 'Total Issued Loan Amount in USA'+'<br>' +'(2015-2019)',\n",
    "    geo = dict(\n",
    "        scope = 'usa',\n",
    "        projection=dict(type='albers usa'),\n",
    "        showlakes = True,\n",
    "        lakecolor = 'rgb(255, 255, 255)')\n",
    ")\n",
    "\n",
    "fig = dict(data=data, layout=layout)\n",
    "iplot(fig, filename='d3-cloropleth-map')"
   ]
  },
  {
   "cell_type": "markdown",
   "metadata": {},
   "source": [
    "#### risk analysis"
   ]
  },
  {
   "cell_type": "code",
   "execution_count": 126,
   "metadata": {},
   "outputs": [
    {
     "data": {
      "text/plain": [
       "Index(['issue_d', 'earliest_cr_line', 'last_pymnt_d', 'issue_year', 'int_rate',\n",
       "       'revol_util', 'term', 'grade', 'emp_length', 'home_ownership',\n",
       "       'verification_status', 'loan_status', 'purpose', 'addr_state',\n",
       "       'loan_amnt', 'funded_amnt', 'installment', 'annual_inc', 'dti',\n",
       "       'revol_bal', 'delinq_2yrs', 'open_acc', 'pub_rec', 'fico_range_high',\n",
       "       'fico_range_low', 'total_pymnt', 'recoveries', 'target', 'loan_period',\n",
       "       'log_annual_inc', 'log_dti', 'log_revol_bal', 'delinq_2yrs_str',\n",
       "       'pub_rec_str', 'fico', 'region'],\n",
       "      dtype='object')"
      ]
     },
     "execution_count": 126,
     "metadata": {},
     "output_type": "execute_result"
    }
   ],
   "source": [
    "#average_dti\taverage_emp_length, fico\n",
    "df.columns"
   ]
  },
  {
   "cell_type": "code",
   "execution_count": 129,
   "metadata": {},
   "outputs": [
    {
     "data": {
      "text/plain": [
       "0    684.0\n",
       "3    689.0\n",
       "4    704.0\n",
       "5    709.0\n",
       "6    724.0\n",
       "Name: fico, dtype: float64"
      ]
     },
     "execution_count": 129,
     "metadata": {},
     "output_type": "execute_result"
    }
   ],
   "source": [
    "df['fico'].head()"
   ]
  },
  {
   "cell_type": "code",
   "execution_count": 131,
   "metadata": {},
   "outputs": [
    {
     "data": {
      "text/plain": [
       "array(['< 1 year', '6 years', '10+ years', '8 years', '2 years',\n",
       "       '9 years', '1 year', '5 years', '4 years', '7 years', '3 years'],\n",
       "      dtype=object)"
      ]
     },
     "execution_count": 131,
     "metadata": {},
     "output_type": "execute_result"
    }
   ],
   "source": [
    "df['emp_length'].unique()"
   ]
  },
  {
   "cell_type": "code",
   "execution_count": 135,
   "metadata": {},
   "outputs": [],
   "source": [
    "def finding_emp_length(emp_length):\n",
    "    if emp_length == '< 1 year':\n",
    "        return 0\n",
    "    elif emp_length == '1 year':\n",
    "        return 1\n",
    "    elif emp_length == '2 years':\n",
    "        return 2\n",
    "    elif emp_length == '3 years':\n",
    "        return 3\n",
    "    elif emp_length == '4 years':\n",
    "        return 4\n",
    "    elif emp_length == '5 years':\n",
    "        return 5\n",
    "    elif emp_length == '6 years':\n",
    "        return 6\n",
    "    elif emp_length == '7 years':\n",
    "        return 7\n",
    "    elif emp_length == '8 years':\n",
    "        return 8\n",
    "    elif emp_length == '9 years':\n",
    "        return 9\n",
    "    elif emp_length == '10+ years':\n",
    "        return 10\n",
    "\n",
    "    \n",
    "df['emp_length_num'] = df['emp_length'].apply(finding_emp_length)"
   ]
  },
  {
   "cell_type": "code",
   "execution_count": 137,
   "metadata": {},
   "outputs": [],
   "source": [
    "df_state_emp_length_num = df.groupby(['region','addr_state'])['emp_length_num'].median().sort_values(ascending=False).to_frame().reset_index()\n",
    "df_state_fico = df.groupby(['region','addr_state'])['fico'].median().sort_values(ascending=False).to_frame().reset_index()\n",
    "df_state_dti = df.groupby(['region','addr_state'])['dti'].median().sort_values(ascending=False).to_frame().reset_index()"
   ]
  },
  {
   "cell_type": "code",
   "execution_count": 142,
   "metadata": {},
   "outputs": [],
   "source": [
    "# join dataframes\n",
    "df_join_2 = pd.merge(df_state_emp_length_num[['addr_state','emp_length_num']],\n",
    "                    df_state_fico[['addr_state', 'fico']],\n",
    "                     on='addr_state', how='inner')\n",
    "\n",
    "df_join_2 = pd.merge(df_join_2, df_state_dti[['addr_state', 'dti']],on='addr_state', how='inner')\n",
    "df_join_2 = pd.merge(df_join_2, df_target[['addr_state', 'default_rate']],on='addr_state', how='inner')"
   ]
  },
  {
   "cell_type": "code",
   "execution_count": 145,
   "metadata": {},
   "outputs": [
    {
     "data": {
      "text/html": [
       "<div>\n",
       "<style scoped>\n",
       "    .dataframe tbody tr th:only-of-type {\n",
       "        vertical-align: middle;\n",
       "    }\n",
       "\n",
       "    .dataframe tbody tr th {\n",
       "        vertical-align: top;\n",
       "    }\n",
       "\n",
       "    .dataframe thead th {\n",
       "        text-align: right;\n",
       "    }\n",
       "</style>\n",
       "<table border=\"1\" class=\"dataframe\">\n",
       "  <thead>\n",
       "    <tr style=\"text-align: right;\">\n",
       "      <th></th>\n",
       "      <th>state</th>\n",
       "      <th>employee_length</th>\n",
       "      <th>fico</th>\n",
       "      <th>dti</th>\n",
       "      <th>default_rate</th>\n",
       "    </tr>\n",
       "  </thead>\n",
       "  <tbody>\n",
       "    <tr>\n",
       "      <td>0</td>\n",
       "      <td>HI</td>\n",
       "      <td>8</td>\n",
       "      <td>694.0</td>\n",
       "      <td>19.140</td>\n",
       "      <td>0.209532</td>\n",
       "    </tr>\n",
       "    <tr>\n",
       "      <td>1</td>\n",
       "      <td>DE</td>\n",
       "      <td>7</td>\n",
       "      <td>694.0</td>\n",
       "      <td>18.705</td>\n",
       "      <td>0.190000</td>\n",
       "    </tr>\n",
       "    <tr>\n",
       "      <td>2</td>\n",
       "      <td>WI</td>\n",
       "      <td>7</td>\n",
       "      <td>694.0</td>\n",
       "      <td>19.110</td>\n",
       "      <td>0.188421</td>\n",
       "    </tr>\n",
       "    <tr>\n",
       "      <td>3</td>\n",
       "      <td>VT</td>\n",
       "      <td>7</td>\n",
       "      <td>699.0</td>\n",
       "      <td>19.960</td>\n",
       "      <td>0.132293</td>\n",
       "    </tr>\n",
       "    <tr>\n",
       "      <td>4</td>\n",
       "      <td>RI</td>\n",
       "      <td>7</td>\n",
       "      <td>694.0</td>\n",
       "      <td>17.040</td>\n",
       "      <td>0.174566</td>\n",
       "    </tr>\n",
       "  </tbody>\n",
       "</table>\n",
       "</div>"
      ],
      "text/plain": [
       "  state  employee_length   fico     dti  default_rate\n",
       "0    HI                8  694.0  19.140      0.209532\n",
       "1    DE                7  694.0  18.705      0.190000\n",
       "2    WI                7  694.0  19.110      0.188421\n",
       "3    VT                7  699.0  19.960      0.132293\n",
       "4    RI                7  694.0  17.040      0.174566"
      ]
     },
     "execution_count": 145,
     "metadata": {},
     "output_type": "execute_result"
    }
   ],
   "source": [
    "df_join_2 = df_join_2.rename(columns={'addr_state':'state', 'emp_length_num':'employee_length'})\n",
    "df_join_2.head()"
   ]
  },
  {
   "cell_type": "code",
   "execution_count": 153,
   "metadata": {},
   "outputs": [
    {
     "data": {
      "application/vnd.plotly.v1+json": {
       "config": {
        "linkText": "Export to plot.ly",
        "plotlyServerURL": "https://plot.ly",
        "showLink": false
       },
       "data": [
        {
         "autocolorscale": false,
         "colorbar": {
          "title": {
           "text": "%"
          }
         },
         "colorscale": [
          [
           0,
           "rgb(247,251,255)"
          ],
          [
           0.125,
           "rgb(222,235,247)"
          ],
          [
           0.25,
           "rgb(198,219,239)"
          ],
          [
           0.375,
           "rgb(158,202,225)"
          ],
          [
           0.5,
           "rgb(107,174,214)"
          ],
          [
           0.625,
           "rgb(66,146,198)"
          ],
          [
           0.75,
           "rgb(33,113,181)"
          ],
          [
           0.875,
           "rgb(8,81,156)"
          ],
          [
           1,
           "rgb(8,48,107)"
          ]
         ],
         "locationmode": "USA-states",
         "locations": [
          "HI",
          "DE",
          "WI",
          "VT",
          "RI",
          "KY",
          "MD",
          "MS",
          "AR",
          "WV",
          "CT",
          "OH",
          "NM",
          "MI",
          "AL",
          "SD",
          "MO",
          "MA",
          "ME",
          "NH",
          "NJ",
          "NY",
          "MN",
          "PA",
          "KS",
          "IN",
          "WY",
          "VA",
          "SC",
          "NV",
          "MT",
          "CA",
          "AK",
          "TN",
          "IL",
          "OK",
          "NC",
          "LA",
          "GA",
          "FL",
          "WA",
          "TX",
          "CO",
          "NE",
          "ID",
          "OR",
          "UT",
          "AZ",
          "DC",
          "ND"
         ],
         "marker": {
          "line": {
           "color": "rgb(255,255,255)",
           "width": 2
          }
         },
         "text": [
          "HI<br>Median Credit Scores: 694.0<br>Median Debit-to-income: 19.14<br>Median Employee Length: 8 years",
          "DE<br>Median Credit Scores: 694.0<br>Median Debit-to-income: 18.705<br>Median Employee Length: 7 years",
          "WI<br>Median Credit Scores: 694.0<br>Median Debit-to-income: 19.11<br>Median Employee Length: 7 years",
          "VT<br>Median Credit Scores: 699.0<br>Median Debit-to-income: 19.96<br>Median Employee Length: 7 years",
          "RI<br>Median Credit Scores: 694.0<br>Median Debit-to-income: 17.04<br>Median Employee Length: 7 years",
          "KY<br>Median Credit Scores: 694.0<br>Median Debit-to-income: 19.22<br>Median Employee Length: 7 years",
          "MD<br>Median Credit Scores: 694.0<br>Median Debit-to-income: 17.37<br>Median Employee Length: 7 years",
          "MS<br>Median Credit Scores: 694.0<br>Median Debit-to-income: 20.12<br>Median Employee Length: 7 years",
          "AR<br>Median Credit Scores: 694.0<br>Median Debit-to-income: 20.4<br>Median Employee Length: 7 years",
          "WV<br>Median Credit Scores: 694.0<br>Median Debit-to-income: 20.02<br>Median Employee Length: 7 years",
          "CT<br>Median Credit Scores: 694.0<br>Median Debit-to-income: 16.74<br>Median Employee Length: 7 years",
          "OH<br>Median Credit Scores: 694.0<br>Median Debit-to-income: 19.49<br>Median Employee Length: 7 years",
          "NM<br>Median Credit Scores: 694.0<br>Median Debit-to-income: 20.1<br>Median Employee Length: 7 years",
          "MI<br>Median Credit Scores: 694.0<br>Median Debit-to-income: 18.31<br>Median Employee Length: 7 years",
          "AL<br>Median Credit Scores: 694.0<br>Median Debit-to-income: 20.15<br>Median Employee Length: 7 years",
          "SD<br>Median Credit Scores: 694.0<br>Median Debit-to-income: 20.47<br>Median Employee Length: 6 years",
          "MO<br>Median Credit Scores: 694.0<br>Median Debit-to-income: 19.26<br>Median Employee Length: 6 years",
          "MA<br>Median Credit Scores: 694.0<br>Median Debit-to-income: 16.44<br>Median Employee Length: 6 years",
          "ME<br>Median Credit Scores: 694.0<br>Median Debit-to-income: 19.15<br>Median Employee Length: 6 years",
          "NH<br>Median Credit Scores: 694.0<br>Median Debit-to-income: 18.74<br>Median Employee Length: 6 years",
          "NJ<br>Median Credit Scores: 694.0<br>Median Debit-to-income: 16.45<br>Median Employee Length: 6 years",
          "NY<br>Median Credit Scores: 694.0<br>Median Debit-to-income: 15.9<br>Median Employee Length: 6 years",
          "MN<br>Median Credit Scores: 694.0<br>Median Debit-to-income: 18.54<br>Median Employee Length: 6 years",
          "PA<br>Median Credit Scores: 694.0<br>Median Debit-to-income: 19.04<br>Median Employee Length: 6 years",
          "KS<br>Median Credit Scores: 694.0<br>Median Debit-to-income: 19.66<br>Median Employee Length: 6 years",
          "IN<br>Median Credit Scores: 694.0<br>Median Debit-to-income: 19.31<br>Median Employee Length: 6 years",
          "WY<br>Median Credit Scores: 694.0<br>Median Debit-to-income: 20.55<br>Median Employee Length: 6 years",
          "VA<br>Median Credit Scores: 694.0<br>Median Debit-to-income: 18.25<br>Median Employee Length: 6 years",
          "SC<br>Median Credit Scores: 694.0<br>Median Debit-to-income: 18.98<br>Median Employee Length: 6 years",
          "NV<br>Median Credit Scores: 694.0<br>Median Debit-to-income: 18.31<br>Median Employee Length: 6 years",
          "MT<br>Median Credit Scores: 699.0<br>Median Debit-to-income: 19.53<br>Median Employee Length: 6 years",
          "CA<br>Median Credit Scores: 694.0<br>Median Debit-to-income: 16.22<br>Median Employee Length: 6 years",
          "AK<br>Median Credit Scores: 694.0<br>Median Debit-to-income: 18.26<br>Median Employee Length: 6 years",
          "TN<br>Median Credit Scores: 694.0<br>Median Debit-to-income: 19.63<br>Median Employee Length: 6 years",
          "IL<br>Median Credit Scores: 694.0<br>Median Debit-to-income: 17.85<br>Median Employee Length: 6 years",
          "OK<br>Median Credit Scores: 694.0<br>Median Debit-to-income: 19.5<br>Median Employee Length: 6 years",
          "NC<br>Median Credit Scores: 694.0<br>Median Debit-to-income: 18.57<br>Median Employee Length: 6 years",
          "LA<br>Median Credit Scores: 694.0<br>Median Debit-to-income: 19.24<br>Median Employee Length: 6 years",
          "GA<br>Median Credit Scores: 694.0<br>Median Debit-to-income: 18.54<br>Median Employee Length: 6 years",
          "FL<br>Median Credit Scores: 689.0<br>Median Debit-to-income: 18.15<br>Median Employee Length: 6 years",
          "WA<br>Median Credit Scores: 694.0<br>Median Debit-to-income: 17.855<br>Median Employee Length: 6 years",
          "TX<br>Median Credit Scores: 694.0<br>Median Debit-to-income: 19.01<br>Median Employee Length: 5 years",
          "CO<br>Median Credit Scores: 694.0<br>Median Debit-to-income: 17.69<br>Median Employee Length: 5 years",
          "NE<br>Median Credit Scores: 694.0<br>Median Debit-to-income: 19.35<br>Median Employee Length: 5 years",
          "ID<br>Median Credit Scores: 689.0<br>Median Debit-to-income: 19.05<br>Median Employee Length: 5 years",
          "OR<br>Median Credit Scores: 694.0<br>Median Debit-to-income: 17.43<br>Median Employee Length: 5 years",
          "UT<br>Median Credit Scores: 694.0<br>Median Debit-to-income: 18.75<br>Median Employee Length: 5 years",
          "AZ<br>Median Credit Scores: 694.0<br>Median Debit-to-income: 18.07<br>Median Employee Length: 5 years",
          "DC<br>Median Credit Scores: 694.0<br>Median Debit-to-income: 14.84<br>Median Employee Length: 4 years",
          "ND<br>Median Credit Scores: 694.0<br>Median Debit-to-income: 19.945<br>Median Employee Length: 4 years"
         ],
         "type": "choropleth",
         "z": [
          "0.20953237410071943",
          "0.19",
          "0.18842064813628795",
          "0.1322925225965489",
          "0.17456602301540863",
          "0.2062477164778955",
          "0.21967417626770383",
          "0.24890583086262882",
          "0.24991070365519705",
          "0.15358255451713396",
          "0.18447939386981976",
          "0.19837065040866855",
          "0.21267860075546066",
          "0.19732843546501921",
          "0.2359640214710576",
          "0.21386306001690616",
          "0.20797549368196488",
          "0.19326451804544778",
          "0.1261164701679171",
          "0.15400881057268723",
          "0.21467630114246655",
          "0.22901492537313434",
          "0.199753741238871",
          "0.20848497452427991",
          "0.17453733248245054",
          "0.21015507753876939",
          "0.17733166039314094",
          "0.19807771349078376",
          "0.1555737339183461",
          "0.21405657626130067",
          "0.16406737367436058",
          "0.20398290037799816",
          "0.20681731137495213",
          "0.20213387122458729",
          "0.18660712301984048",
          "0.2376855441051338",
          "0.2048028295740126",
          "0.2353575001924113",
          "0.1909764812543331",
          "0.2184620234746338",
          "0.15197443880058986",
          "0.2066640749682858",
          "0.1553549664838513",
          "0.2260412454508694",
          "0.15687820260149785",
          "0.13763169609734383",
          "0.1640855893131576",
          "0.19403513743270048",
          "0.14701492537313432",
          "0.18672566371681415"
         ]
        }
       ],
       "layout": {
        "geo": {
         "lakecolor": "rgb(255, 255, 255)",
         "projection": {
          "type": "albers usa"
         },
         "scope": "usa",
         "showlakes": true
        },
        "template": {
         "data": {
          "bar": [
           {
            "error_x": {
             "color": "#2a3f5f"
            },
            "error_y": {
             "color": "#2a3f5f"
            },
            "marker": {
             "line": {
              "color": "#E5ECF6",
              "width": 0.5
             }
            },
            "type": "bar"
           }
          ],
          "barpolar": [
           {
            "marker": {
             "line": {
              "color": "#E5ECF6",
              "width": 0.5
             }
            },
            "type": "barpolar"
           }
          ],
          "carpet": [
           {
            "aaxis": {
             "endlinecolor": "#2a3f5f",
             "gridcolor": "white",
             "linecolor": "white",
             "minorgridcolor": "white",
             "startlinecolor": "#2a3f5f"
            },
            "baxis": {
             "endlinecolor": "#2a3f5f",
             "gridcolor": "white",
             "linecolor": "white",
             "minorgridcolor": "white",
             "startlinecolor": "#2a3f5f"
            },
            "type": "carpet"
           }
          ],
          "choropleth": [
           {
            "colorbar": {
             "outlinewidth": 0,
             "ticks": ""
            },
            "type": "choropleth"
           }
          ],
          "contour": [
           {
            "colorbar": {
             "outlinewidth": 0,
             "ticks": ""
            },
            "colorscale": [
             [
              0,
              "#0d0887"
             ],
             [
              0.1111111111111111,
              "#46039f"
             ],
             [
              0.2222222222222222,
              "#7201a8"
             ],
             [
              0.3333333333333333,
              "#9c179e"
             ],
             [
              0.4444444444444444,
              "#bd3786"
             ],
             [
              0.5555555555555556,
              "#d8576b"
             ],
             [
              0.6666666666666666,
              "#ed7953"
             ],
             [
              0.7777777777777778,
              "#fb9f3a"
             ],
             [
              0.8888888888888888,
              "#fdca26"
             ],
             [
              1,
              "#f0f921"
             ]
            ],
            "type": "contour"
           }
          ],
          "contourcarpet": [
           {
            "colorbar": {
             "outlinewidth": 0,
             "ticks": ""
            },
            "type": "contourcarpet"
           }
          ],
          "heatmap": [
           {
            "colorbar": {
             "outlinewidth": 0,
             "ticks": ""
            },
            "colorscale": [
             [
              0,
              "#0d0887"
             ],
             [
              0.1111111111111111,
              "#46039f"
             ],
             [
              0.2222222222222222,
              "#7201a8"
             ],
             [
              0.3333333333333333,
              "#9c179e"
             ],
             [
              0.4444444444444444,
              "#bd3786"
             ],
             [
              0.5555555555555556,
              "#d8576b"
             ],
             [
              0.6666666666666666,
              "#ed7953"
             ],
             [
              0.7777777777777778,
              "#fb9f3a"
             ],
             [
              0.8888888888888888,
              "#fdca26"
             ],
             [
              1,
              "#f0f921"
             ]
            ],
            "type": "heatmap"
           }
          ],
          "heatmapgl": [
           {
            "colorbar": {
             "outlinewidth": 0,
             "ticks": ""
            },
            "colorscale": [
             [
              0,
              "#0d0887"
             ],
             [
              0.1111111111111111,
              "#46039f"
             ],
             [
              0.2222222222222222,
              "#7201a8"
             ],
             [
              0.3333333333333333,
              "#9c179e"
             ],
             [
              0.4444444444444444,
              "#bd3786"
             ],
             [
              0.5555555555555556,
              "#d8576b"
             ],
             [
              0.6666666666666666,
              "#ed7953"
             ],
             [
              0.7777777777777778,
              "#fb9f3a"
             ],
             [
              0.8888888888888888,
              "#fdca26"
             ],
             [
              1,
              "#f0f921"
             ]
            ],
            "type": "heatmapgl"
           }
          ],
          "histogram": [
           {
            "marker": {
             "colorbar": {
              "outlinewidth": 0,
              "ticks": ""
             }
            },
            "type": "histogram"
           }
          ],
          "histogram2d": [
           {
            "colorbar": {
             "outlinewidth": 0,
             "ticks": ""
            },
            "colorscale": [
             [
              0,
              "#0d0887"
             ],
             [
              0.1111111111111111,
              "#46039f"
             ],
             [
              0.2222222222222222,
              "#7201a8"
             ],
             [
              0.3333333333333333,
              "#9c179e"
             ],
             [
              0.4444444444444444,
              "#bd3786"
             ],
             [
              0.5555555555555556,
              "#d8576b"
             ],
             [
              0.6666666666666666,
              "#ed7953"
             ],
             [
              0.7777777777777778,
              "#fb9f3a"
             ],
             [
              0.8888888888888888,
              "#fdca26"
             ],
             [
              1,
              "#f0f921"
             ]
            ],
            "type": "histogram2d"
           }
          ],
          "histogram2dcontour": [
           {
            "colorbar": {
             "outlinewidth": 0,
             "ticks": ""
            },
            "colorscale": [
             [
              0,
              "#0d0887"
             ],
             [
              0.1111111111111111,
              "#46039f"
             ],
             [
              0.2222222222222222,
              "#7201a8"
             ],
             [
              0.3333333333333333,
              "#9c179e"
             ],
             [
              0.4444444444444444,
              "#bd3786"
             ],
             [
              0.5555555555555556,
              "#d8576b"
             ],
             [
              0.6666666666666666,
              "#ed7953"
             ],
             [
              0.7777777777777778,
              "#fb9f3a"
             ],
             [
              0.8888888888888888,
              "#fdca26"
             ],
             [
              1,
              "#f0f921"
             ]
            ],
            "type": "histogram2dcontour"
           }
          ],
          "mesh3d": [
           {
            "colorbar": {
             "outlinewidth": 0,
             "ticks": ""
            },
            "type": "mesh3d"
           }
          ],
          "parcoords": [
           {
            "line": {
             "colorbar": {
              "outlinewidth": 0,
              "ticks": ""
             }
            },
            "type": "parcoords"
           }
          ],
          "pie": [
           {
            "automargin": true,
            "type": "pie"
           }
          ],
          "scatter": [
           {
            "marker": {
             "colorbar": {
              "outlinewidth": 0,
              "ticks": ""
             }
            },
            "type": "scatter"
           }
          ],
          "scatter3d": [
           {
            "line": {
             "colorbar": {
              "outlinewidth": 0,
              "ticks": ""
             }
            },
            "marker": {
             "colorbar": {
              "outlinewidth": 0,
              "ticks": ""
             }
            },
            "type": "scatter3d"
           }
          ],
          "scattercarpet": [
           {
            "marker": {
             "colorbar": {
              "outlinewidth": 0,
              "ticks": ""
             }
            },
            "type": "scattercarpet"
           }
          ],
          "scattergeo": [
           {
            "marker": {
             "colorbar": {
              "outlinewidth": 0,
              "ticks": ""
             }
            },
            "type": "scattergeo"
           }
          ],
          "scattergl": [
           {
            "marker": {
             "colorbar": {
              "outlinewidth": 0,
              "ticks": ""
             }
            },
            "type": "scattergl"
           }
          ],
          "scattermapbox": [
           {
            "marker": {
             "colorbar": {
              "outlinewidth": 0,
              "ticks": ""
             }
            },
            "type": "scattermapbox"
           }
          ],
          "scatterpolar": [
           {
            "marker": {
             "colorbar": {
              "outlinewidth": 0,
              "ticks": ""
             }
            },
            "type": "scatterpolar"
           }
          ],
          "scatterpolargl": [
           {
            "marker": {
             "colorbar": {
              "outlinewidth": 0,
              "ticks": ""
             }
            },
            "type": "scatterpolargl"
           }
          ],
          "scatterternary": [
           {
            "marker": {
             "colorbar": {
              "outlinewidth": 0,
              "ticks": ""
             }
            },
            "type": "scatterternary"
           }
          ],
          "surface": [
           {
            "colorbar": {
             "outlinewidth": 0,
             "ticks": ""
            },
            "colorscale": [
             [
              0,
              "#0d0887"
             ],
             [
              0.1111111111111111,
              "#46039f"
             ],
             [
              0.2222222222222222,
              "#7201a8"
             ],
             [
              0.3333333333333333,
              "#9c179e"
             ],
             [
              0.4444444444444444,
              "#bd3786"
             ],
             [
              0.5555555555555556,
              "#d8576b"
             ],
             [
              0.6666666666666666,
              "#ed7953"
             ],
             [
              0.7777777777777778,
              "#fb9f3a"
             ],
             [
              0.8888888888888888,
              "#fdca26"
             ],
             [
              1,
              "#f0f921"
             ]
            ],
            "type": "surface"
           }
          ],
          "table": [
           {
            "cells": {
             "fill": {
              "color": "#EBF0F8"
             },
             "line": {
              "color": "white"
             }
            },
            "header": {
             "fill": {
              "color": "#C8D4E3"
             },
             "line": {
              "color": "white"
             }
            },
            "type": "table"
           }
          ]
         },
         "layout": {
          "annotationdefaults": {
           "arrowcolor": "#2a3f5f",
           "arrowhead": 0,
           "arrowwidth": 1
          },
          "coloraxis": {
           "colorbar": {
            "outlinewidth": 0,
            "ticks": ""
           }
          },
          "colorscale": {
           "diverging": [
            [
             0,
             "#8e0152"
            ],
            [
             0.1,
             "#c51b7d"
            ],
            [
             0.2,
             "#de77ae"
            ],
            [
             0.3,
             "#f1b6da"
            ],
            [
             0.4,
             "#fde0ef"
            ],
            [
             0.5,
             "#f7f7f7"
            ],
            [
             0.6,
             "#e6f5d0"
            ],
            [
             0.7,
             "#b8e186"
            ],
            [
             0.8,
             "#7fbc41"
            ],
            [
             0.9,
             "#4d9221"
            ],
            [
             1,
             "#276419"
            ]
           ],
           "sequential": [
            [
             0,
             "#0d0887"
            ],
            [
             0.1111111111111111,
             "#46039f"
            ],
            [
             0.2222222222222222,
             "#7201a8"
            ],
            [
             0.3333333333333333,
             "#9c179e"
            ],
            [
             0.4444444444444444,
             "#bd3786"
            ],
            [
             0.5555555555555556,
             "#d8576b"
            ],
            [
             0.6666666666666666,
             "#ed7953"
            ],
            [
             0.7777777777777778,
             "#fb9f3a"
            ],
            [
             0.8888888888888888,
             "#fdca26"
            ],
            [
             1,
             "#f0f921"
            ]
           ],
           "sequentialminus": [
            [
             0,
             "#0d0887"
            ],
            [
             0.1111111111111111,
             "#46039f"
            ],
            [
             0.2222222222222222,
             "#7201a8"
            ],
            [
             0.3333333333333333,
             "#9c179e"
            ],
            [
             0.4444444444444444,
             "#bd3786"
            ],
            [
             0.5555555555555556,
             "#d8576b"
            ],
            [
             0.6666666666666666,
             "#ed7953"
            ],
            [
             0.7777777777777778,
             "#fb9f3a"
            ],
            [
             0.8888888888888888,
             "#fdca26"
            ],
            [
             1,
             "#f0f921"
            ]
           ]
          },
          "colorway": [
           "#636efa",
           "#EF553B",
           "#00cc96",
           "#ab63fa",
           "#FFA15A",
           "#19d3f3",
           "#FF6692",
           "#B6E880",
           "#FF97FF",
           "#FECB52"
          ],
          "font": {
           "color": "#2a3f5f"
          },
          "geo": {
           "bgcolor": "white",
           "lakecolor": "white",
           "landcolor": "#E5ECF6",
           "showlakes": true,
           "showland": true,
           "subunitcolor": "white"
          },
          "hoverlabel": {
           "align": "left"
          },
          "hovermode": "closest",
          "mapbox": {
           "style": "light"
          },
          "paper_bgcolor": "white",
          "plot_bgcolor": "#E5ECF6",
          "polar": {
           "angularaxis": {
            "gridcolor": "white",
            "linecolor": "white",
            "ticks": ""
           },
           "bgcolor": "#E5ECF6",
           "radialaxis": {
            "gridcolor": "white",
            "linecolor": "white",
            "ticks": ""
           }
          },
          "scene": {
           "xaxis": {
            "backgroundcolor": "#E5ECF6",
            "gridcolor": "white",
            "gridwidth": 2,
            "linecolor": "white",
            "showbackground": true,
            "ticks": "",
            "zerolinecolor": "white"
           },
           "yaxis": {
            "backgroundcolor": "#E5ECF6",
            "gridcolor": "white",
            "gridwidth": 2,
            "linecolor": "white",
            "showbackground": true,
            "ticks": "",
            "zerolinecolor": "white"
           },
           "zaxis": {
            "backgroundcolor": "#E5ECF6",
            "gridcolor": "white",
            "gridwidth": 2,
            "linecolor": "white",
            "showbackground": true,
            "ticks": "",
            "zerolinecolor": "white"
           }
          },
          "shapedefaults": {
           "line": {
            "color": "#2a3f5f"
           }
          },
          "ternary": {
           "aaxis": {
            "gridcolor": "white",
            "linecolor": "white",
            "ticks": ""
           },
           "baxis": {
            "gridcolor": "white",
            "linecolor": "white",
            "ticks": ""
           },
           "bgcolor": "#E5ECF6",
           "caxis": {
            "gridcolor": "white",
            "linecolor": "white",
            "ticks": ""
           }
          },
          "title": {
           "x": 0.05
          },
          "xaxis": {
           "automargin": true,
           "gridcolor": "white",
           "linecolor": "white",
           "ticks": "",
           "title": {
            "standoff": 15
           },
           "zerolinecolor": "white",
           "zerolinewidth": 2
          },
          "yaxis": {
           "automargin": true,
           "gridcolor": "white",
           "linecolor": "white",
           "ticks": "",
           "title": {
            "standoff": 15
           },
           "zerolinecolor": "white",
           "zerolinewidth": 2
          }
         }
        },
        "title": {
         "text": "Default Rate in USA<br>(2015-2019)"
        }
       }
      },
      "text/html": [
       "<div>\n",
       "        \n",
       "        \n",
       "            <div id=\"09b16d3f-56d4-4de0-acf7-5c621f6ec366\" class=\"plotly-graph-div\" style=\"height:525px; width:100%;\"></div>\n",
       "            <script type=\"text/javascript\">\n",
       "                require([\"plotly\"], function(Plotly) {\n",
       "                    window.PLOTLYENV=window.PLOTLYENV || {};\n",
       "                    \n",
       "                if (document.getElementById(\"09b16d3f-56d4-4de0-acf7-5c621f6ec366\")) {\n",
       "                    Plotly.newPlot(\n",
       "                        '09b16d3f-56d4-4de0-acf7-5c621f6ec366',\n",
       "                        [{\"autocolorscale\": false, \"colorbar\": {\"title\": {\"text\": \"%\"}}, \"colorscale\": [[0.0, \"rgb(247,251,255)\"], [0.125, \"rgb(222,235,247)\"], [0.25, \"rgb(198,219,239)\"], [0.375, \"rgb(158,202,225)\"], [0.5, \"rgb(107,174,214)\"], [0.625, \"rgb(66,146,198)\"], [0.75, \"rgb(33,113,181)\"], [0.875, \"rgb(8,81,156)\"], [1.0, \"rgb(8,48,107)\"]], \"locationmode\": \"USA-states\", \"locations\": [\"HI\", \"DE\", \"WI\", \"VT\", \"RI\", \"KY\", \"MD\", \"MS\", \"AR\", \"WV\", \"CT\", \"OH\", \"NM\", \"MI\", \"AL\", \"SD\", \"MO\", \"MA\", \"ME\", \"NH\", \"NJ\", \"NY\", \"MN\", \"PA\", \"KS\", \"IN\", \"WY\", \"VA\", \"SC\", \"NV\", \"MT\", \"CA\", \"AK\", \"TN\", \"IL\", \"OK\", \"NC\", \"LA\", \"GA\", \"FL\", \"WA\", \"TX\", \"CO\", \"NE\", \"ID\", \"OR\", \"UT\", \"AZ\", \"DC\", \"ND\"], \"marker\": {\"line\": {\"color\": \"rgb(255,255,255)\", \"width\": 2}}, \"text\": [\"HI<br>Median Credit Scores: 694.0<br>Median Debit-to-income: 19.14<br>Median Employee Length: 8 years\", \"DE<br>Median Credit Scores: 694.0<br>Median Debit-to-income: 18.705<br>Median Employee Length: 7 years\", \"WI<br>Median Credit Scores: 694.0<br>Median Debit-to-income: 19.11<br>Median Employee Length: 7 years\", \"VT<br>Median Credit Scores: 699.0<br>Median Debit-to-income: 19.96<br>Median Employee Length: 7 years\", \"RI<br>Median Credit Scores: 694.0<br>Median Debit-to-income: 17.04<br>Median Employee Length: 7 years\", \"KY<br>Median Credit Scores: 694.0<br>Median Debit-to-income: 19.22<br>Median Employee Length: 7 years\", \"MD<br>Median Credit Scores: 694.0<br>Median Debit-to-income: 17.37<br>Median Employee Length: 7 years\", \"MS<br>Median Credit Scores: 694.0<br>Median Debit-to-income: 20.12<br>Median Employee Length: 7 years\", \"AR<br>Median Credit Scores: 694.0<br>Median Debit-to-income: 20.4<br>Median Employee Length: 7 years\", \"WV<br>Median Credit Scores: 694.0<br>Median Debit-to-income: 20.02<br>Median Employee Length: 7 years\", \"CT<br>Median Credit Scores: 694.0<br>Median Debit-to-income: 16.74<br>Median Employee Length: 7 years\", \"OH<br>Median Credit Scores: 694.0<br>Median Debit-to-income: 19.49<br>Median Employee Length: 7 years\", \"NM<br>Median Credit Scores: 694.0<br>Median Debit-to-income: 20.1<br>Median Employee Length: 7 years\", \"MI<br>Median Credit Scores: 694.0<br>Median Debit-to-income: 18.31<br>Median Employee Length: 7 years\", \"AL<br>Median Credit Scores: 694.0<br>Median Debit-to-income: 20.15<br>Median Employee Length: 7 years\", \"SD<br>Median Credit Scores: 694.0<br>Median Debit-to-income: 20.47<br>Median Employee Length: 6 years\", \"MO<br>Median Credit Scores: 694.0<br>Median Debit-to-income: 19.26<br>Median Employee Length: 6 years\", \"MA<br>Median Credit Scores: 694.0<br>Median Debit-to-income: 16.44<br>Median Employee Length: 6 years\", \"ME<br>Median Credit Scores: 694.0<br>Median Debit-to-income: 19.15<br>Median Employee Length: 6 years\", \"NH<br>Median Credit Scores: 694.0<br>Median Debit-to-income: 18.74<br>Median Employee Length: 6 years\", \"NJ<br>Median Credit Scores: 694.0<br>Median Debit-to-income: 16.45<br>Median Employee Length: 6 years\", \"NY<br>Median Credit Scores: 694.0<br>Median Debit-to-income: 15.9<br>Median Employee Length: 6 years\", \"MN<br>Median Credit Scores: 694.0<br>Median Debit-to-income: 18.54<br>Median Employee Length: 6 years\", \"PA<br>Median Credit Scores: 694.0<br>Median Debit-to-income: 19.04<br>Median Employee Length: 6 years\", \"KS<br>Median Credit Scores: 694.0<br>Median Debit-to-income: 19.66<br>Median Employee Length: 6 years\", \"IN<br>Median Credit Scores: 694.0<br>Median Debit-to-income: 19.31<br>Median Employee Length: 6 years\", \"WY<br>Median Credit Scores: 694.0<br>Median Debit-to-income: 20.55<br>Median Employee Length: 6 years\", \"VA<br>Median Credit Scores: 694.0<br>Median Debit-to-income: 18.25<br>Median Employee Length: 6 years\", \"SC<br>Median Credit Scores: 694.0<br>Median Debit-to-income: 18.98<br>Median Employee Length: 6 years\", \"NV<br>Median Credit Scores: 694.0<br>Median Debit-to-income: 18.31<br>Median Employee Length: 6 years\", \"MT<br>Median Credit Scores: 699.0<br>Median Debit-to-income: 19.53<br>Median Employee Length: 6 years\", \"CA<br>Median Credit Scores: 694.0<br>Median Debit-to-income: 16.22<br>Median Employee Length: 6 years\", \"AK<br>Median Credit Scores: 694.0<br>Median Debit-to-income: 18.26<br>Median Employee Length: 6 years\", \"TN<br>Median Credit Scores: 694.0<br>Median Debit-to-income: 19.63<br>Median Employee Length: 6 years\", \"IL<br>Median Credit Scores: 694.0<br>Median Debit-to-income: 17.85<br>Median Employee Length: 6 years\", \"OK<br>Median Credit Scores: 694.0<br>Median Debit-to-income: 19.5<br>Median Employee Length: 6 years\", \"NC<br>Median Credit Scores: 694.0<br>Median Debit-to-income: 18.57<br>Median Employee Length: 6 years\", \"LA<br>Median Credit Scores: 694.0<br>Median Debit-to-income: 19.24<br>Median Employee Length: 6 years\", \"GA<br>Median Credit Scores: 694.0<br>Median Debit-to-income: 18.54<br>Median Employee Length: 6 years\", \"FL<br>Median Credit Scores: 689.0<br>Median Debit-to-income: 18.15<br>Median Employee Length: 6 years\", \"WA<br>Median Credit Scores: 694.0<br>Median Debit-to-income: 17.855<br>Median Employee Length: 6 years\", \"TX<br>Median Credit Scores: 694.0<br>Median Debit-to-income: 19.01<br>Median Employee Length: 5 years\", \"CO<br>Median Credit Scores: 694.0<br>Median Debit-to-income: 17.69<br>Median Employee Length: 5 years\", \"NE<br>Median Credit Scores: 694.0<br>Median Debit-to-income: 19.35<br>Median Employee Length: 5 years\", \"ID<br>Median Credit Scores: 689.0<br>Median Debit-to-income: 19.05<br>Median Employee Length: 5 years\", \"OR<br>Median Credit Scores: 694.0<br>Median Debit-to-income: 17.43<br>Median Employee Length: 5 years\", \"UT<br>Median Credit Scores: 694.0<br>Median Debit-to-income: 18.75<br>Median Employee Length: 5 years\", \"AZ<br>Median Credit Scores: 694.0<br>Median Debit-to-income: 18.07<br>Median Employee Length: 5 years\", \"DC<br>Median Credit Scores: 694.0<br>Median Debit-to-income: 14.84<br>Median Employee Length: 4 years\", \"ND<br>Median Credit Scores: 694.0<br>Median Debit-to-income: 19.945<br>Median Employee Length: 4 years\"], \"type\": \"choropleth\", \"z\": [\"0.20953237410071943\", \"0.19\", \"0.18842064813628795\", \"0.1322925225965489\", \"0.17456602301540863\", \"0.2062477164778955\", \"0.21967417626770383\", \"0.24890583086262882\", \"0.24991070365519705\", \"0.15358255451713396\", \"0.18447939386981976\", \"0.19837065040866855\", \"0.21267860075546066\", \"0.19732843546501921\", \"0.2359640214710576\", \"0.21386306001690616\", \"0.20797549368196488\", \"0.19326451804544778\", \"0.1261164701679171\", \"0.15400881057268723\", \"0.21467630114246655\", \"0.22901492537313434\", \"0.199753741238871\", \"0.20848497452427991\", \"0.17453733248245054\", \"0.21015507753876939\", \"0.17733166039314094\", \"0.19807771349078376\", \"0.1555737339183461\", \"0.21405657626130067\", \"0.16406737367436058\", \"0.20398290037799816\", \"0.20681731137495213\", \"0.20213387122458729\", \"0.18660712301984048\", \"0.2376855441051338\", \"0.2048028295740126\", \"0.2353575001924113\", \"0.1909764812543331\", \"0.2184620234746338\", \"0.15197443880058986\", \"0.2066640749682858\", \"0.1553549664838513\", \"0.2260412454508694\", \"0.15687820260149785\", \"0.13763169609734383\", \"0.1640855893131576\", \"0.19403513743270048\", \"0.14701492537313432\", \"0.18672566371681415\"]}],\n",
       "                        {\"geo\": {\"lakecolor\": \"rgb(255, 255, 255)\", \"projection\": {\"type\": \"albers usa\"}, \"scope\": \"usa\", \"showlakes\": true}, \"template\": {\"data\": {\"bar\": [{\"error_x\": {\"color\": \"#2a3f5f\"}, \"error_y\": {\"color\": \"#2a3f5f\"}, \"marker\": {\"line\": {\"color\": \"#E5ECF6\", \"width\": 0.5}}, \"type\": \"bar\"}], \"barpolar\": [{\"marker\": {\"line\": {\"color\": \"#E5ECF6\", \"width\": 0.5}}, \"type\": \"barpolar\"}], \"carpet\": [{\"aaxis\": {\"endlinecolor\": \"#2a3f5f\", \"gridcolor\": \"white\", \"linecolor\": \"white\", \"minorgridcolor\": \"white\", \"startlinecolor\": \"#2a3f5f\"}, \"baxis\": {\"endlinecolor\": \"#2a3f5f\", \"gridcolor\": \"white\", \"linecolor\": \"white\", \"minorgridcolor\": \"white\", \"startlinecolor\": \"#2a3f5f\"}, \"type\": \"carpet\"}], \"choropleth\": [{\"colorbar\": {\"outlinewidth\": 0, \"ticks\": \"\"}, \"type\": \"choropleth\"}], \"contour\": [{\"colorbar\": {\"outlinewidth\": 0, \"ticks\": \"\"}, \"colorscale\": [[0.0, \"#0d0887\"], [0.1111111111111111, \"#46039f\"], [0.2222222222222222, \"#7201a8\"], [0.3333333333333333, \"#9c179e\"], [0.4444444444444444, \"#bd3786\"], [0.5555555555555556, \"#d8576b\"], [0.6666666666666666, \"#ed7953\"], [0.7777777777777778, \"#fb9f3a\"], [0.8888888888888888, \"#fdca26\"], [1.0, \"#f0f921\"]], \"type\": \"contour\"}], \"contourcarpet\": [{\"colorbar\": {\"outlinewidth\": 0, \"ticks\": \"\"}, \"type\": \"contourcarpet\"}], \"heatmap\": [{\"colorbar\": {\"outlinewidth\": 0, \"ticks\": \"\"}, \"colorscale\": [[0.0, \"#0d0887\"], [0.1111111111111111, \"#46039f\"], [0.2222222222222222, \"#7201a8\"], [0.3333333333333333, \"#9c179e\"], [0.4444444444444444, \"#bd3786\"], [0.5555555555555556, \"#d8576b\"], [0.6666666666666666, \"#ed7953\"], [0.7777777777777778, \"#fb9f3a\"], [0.8888888888888888, \"#fdca26\"], [1.0, \"#f0f921\"]], \"type\": \"heatmap\"}], \"heatmapgl\": [{\"colorbar\": {\"outlinewidth\": 0, \"ticks\": \"\"}, \"colorscale\": [[0.0, \"#0d0887\"], [0.1111111111111111, \"#46039f\"], [0.2222222222222222, \"#7201a8\"], [0.3333333333333333, \"#9c179e\"], [0.4444444444444444, \"#bd3786\"], [0.5555555555555556, \"#d8576b\"], [0.6666666666666666, \"#ed7953\"], [0.7777777777777778, \"#fb9f3a\"], [0.8888888888888888, \"#fdca26\"], [1.0, \"#f0f921\"]], \"type\": \"heatmapgl\"}], \"histogram\": [{\"marker\": {\"colorbar\": {\"outlinewidth\": 0, \"ticks\": \"\"}}, \"type\": \"histogram\"}], \"histogram2d\": [{\"colorbar\": {\"outlinewidth\": 0, \"ticks\": \"\"}, \"colorscale\": [[0.0, \"#0d0887\"], [0.1111111111111111, \"#46039f\"], [0.2222222222222222, \"#7201a8\"], [0.3333333333333333, \"#9c179e\"], [0.4444444444444444, \"#bd3786\"], [0.5555555555555556, \"#d8576b\"], [0.6666666666666666, \"#ed7953\"], [0.7777777777777778, \"#fb9f3a\"], [0.8888888888888888, \"#fdca26\"], [1.0, \"#f0f921\"]], \"type\": \"histogram2d\"}], \"histogram2dcontour\": [{\"colorbar\": {\"outlinewidth\": 0, \"ticks\": \"\"}, \"colorscale\": [[0.0, \"#0d0887\"], [0.1111111111111111, \"#46039f\"], [0.2222222222222222, \"#7201a8\"], [0.3333333333333333, \"#9c179e\"], [0.4444444444444444, \"#bd3786\"], [0.5555555555555556, \"#d8576b\"], [0.6666666666666666, \"#ed7953\"], [0.7777777777777778, \"#fb9f3a\"], [0.8888888888888888, \"#fdca26\"], [1.0, \"#f0f921\"]], \"type\": \"histogram2dcontour\"}], \"mesh3d\": [{\"colorbar\": {\"outlinewidth\": 0, \"ticks\": \"\"}, \"type\": \"mesh3d\"}], \"parcoords\": [{\"line\": {\"colorbar\": {\"outlinewidth\": 0, \"ticks\": \"\"}}, \"type\": \"parcoords\"}], \"pie\": [{\"automargin\": true, \"type\": \"pie\"}], \"scatter\": [{\"marker\": {\"colorbar\": {\"outlinewidth\": 0, \"ticks\": \"\"}}, \"type\": \"scatter\"}], \"scatter3d\": [{\"line\": {\"colorbar\": {\"outlinewidth\": 0, \"ticks\": \"\"}}, \"marker\": {\"colorbar\": {\"outlinewidth\": 0, \"ticks\": \"\"}}, \"type\": \"scatter3d\"}], \"scattercarpet\": [{\"marker\": {\"colorbar\": {\"outlinewidth\": 0, \"ticks\": \"\"}}, \"type\": \"scattercarpet\"}], \"scattergeo\": [{\"marker\": {\"colorbar\": {\"outlinewidth\": 0, \"ticks\": \"\"}}, \"type\": \"scattergeo\"}], \"scattergl\": [{\"marker\": {\"colorbar\": {\"outlinewidth\": 0, \"ticks\": \"\"}}, \"type\": \"scattergl\"}], \"scattermapbox\": [{\"marker\": {\"colorbar\": {\"outlinewidth\": 0, \"ticks\": \"\"}}, \"type\": \"scattermapbox\"}], \"scatterpolar\": [{\"marker\": {\"colorbar\": {\"outlinewidth\": 0, \"ticks\": \"\"}}, \"type\": \"scatterpolar\"}], \"scatterpolargl\": [{\"marker\": {\"colorbar\": {\"outlinewidth\": 0, \"ticks\": \"\"}}, \"type\": \"scatterpolargl\"}], \"scatterternary\": [{\"marker\": {\"colorbar\": {\"outlinewidth\": 0, \"ticks\": \"\"}}, \"type\": \"scatterternary\"}], \"surface\": [{\"colorbar\": {\"outlinewidth\": 0, \"ticks\": \"\"}, \"colorscale\": [[0.0, \"#0d0887\"], [0.1111111111111111, \"#46039f\"], [0.2222222222222222, \"#7201a8\"], [0.3333333333333333, \"#9c179e\"], [0.4444444444444444, \"#bd3786\"], [0.5555555555555556, \"#d8576b\"], [0.6666666666666666, \"#ed7953\"], [0.7777777777777778, \"#fb9f3a\"], [0.8888888888888888, \"#fdca26\"], [1.0, \"#f0f921\"]], \"type\": \"surface\"}], \"table\": [{\"cells\": {\"fill\": {\"color\": \"#EBF0F8\"}, \"line\": {\"color\": \"white\"}}, \"header\": {\"fill\": {\"color\": \"#C8D4E3\"}, \"line\": {\"color\": \"white\"}}, \"type\": \"table\"}]}, \"layout\": {\"annotationdefaults\": {\"arrowcolor\": \"#2a3f5f\", \"arrowhead\": 0, \"arrowwidth\": 1}, \"coloraxis\": {\"colorbar\": {\"outlinewidth\": 0, \"ticks\": \"\"}}, \"colorscale\": {\"diverging\": [[0, \"#8e0152\"], [0.1, \"#c51b7d\"], [0.2, \"#de77ae\"], [0.3, \"#f1b6da\"], [0.4, \"#fde0ef\"], [0.5, \"#f7f7f7\"], [0.6, \"#e6f5d0\"], [0.7, \"#b8e186\"], [0.8, \"#7fbc41\"], [0.9, \"#4d9221\"], [1, \"#276419\"]], \"sequential\": [[0.0, \"#0d0887\"], [0.1111111111111111, \"#46039f\"], [0.2222222222222222, \"#7201a8\"], [0.3333333333333333, \"#9c179e\"], [0.4444444444444444, \"#bd3786\"], [0.5555555555555556, \"#d8576b\"], [0.6666666666666666, \"#ed7953\"], [0.7777777777777778, \"#fb9f3a\"], [0.8888888888888888, \"#fdca26\"], [1.0, \"#f0f921\"]], \"sequentialminus\": [[0.0, \"#0d0887\"], [0.1111111111111111, \"#46039f\"], [0.2222222222222222, \"#7201a8\"], [0.3333333333333333, \"#9c179e\"], [0.4444444444444444, \"#bd3786\"], [0.5555555555555556, \"#d8576b\"], [0.6666666666666666, \"#ed7953\"], [0.7777777777777778, \"#fb9f3a\"], [0.8888888888888888, \"#fdca26\"], [1.0, \"#f0f921\"]]}, \"colorway\": [\"#636efa\", \"#EF553B\", \"#00cc96\", \"#ab63fa\", \"#FFA15A\", \"#19d3f3\", \"#FF6692\", \"#B6E880\", \"#FF97FF\", \"#FECB52\"], \"font\": {\"color\": \"#2a3f5f\"}, \"geo\": {\"bgcolor\": \"white\", \"lakecolor\": \"white\", \"landcolor\": \"#E5ECF6\", \"showlakes\": true, \"showland\": true, \"subunitcolor\": \"white\"}, \"hoverlabel\": {\"align\": \"left\"}, \"hovermode\": \"closest\", \"mapbox\": {\"style\": \"light\"}, \"paper_bgcolor\": \"white\", \"plot_bgcolor\": \"#E5ECF6\", \"polar\": {\"angularaxis\": {\"gridcolor\": \"white\", \"linecolor\": \"white\", \"ticks\": \"\"}, \"bgcolor\": \"#E5ECF6\", \"radialaxis\": {\"gridcolor\": \"white\", \"linecolor\": \"white\", \"ticks\": \"\"}}, \"scene\": {\"xaxis\": {\"backgroundcolor\": \"#E5ECF6\", \"gridcolor\": \"white\", \"gridwidth\": 2, \"linecolor\": \"white\", \"showbackground\": true, \"ticks\": \"\", \"zerolinecolor\": \"white\"}, \"yaxis\": {\"backgroundcolor\": \"#E5ECF6\", \"gridcolor\": \"white\", \"gridwidth\": 2, \"linecolor\": \"white\", \"showbackground\": true, \"ticks\": \"\", \"zerolinecolor\": \"white\"}, \"zaxis\": {\"backgroundcolor\": \"#E5ECF6\", \"gridcolor\": \"white\", \"gridwidth\": 2, \"linecolor\": \"white\", \"showbackground\": true, \"ticks\": \"\", \"zerolinecolor\": \"white\"}}, \"shapedefaults\": {\"line\": {\"color\": \"#2a3f5f\"}}, \"ternary\": {\"aaxis\": {\"gridcolor\": \"white\", \"linecolor\": \"white\", \"ticks\": \"\"}, \"baxis\": {\"gridcolor\": \"white\", \"linecolor\": \"white\", \"ticks\": \"\"}, \"bgcolor\": \"#E5ECF6\", \"caxis\": {\"gridcolor\": \"white\", \"linecolor\": \"white\", \"ticks\": \"\"}}, \"title\": {\"x\": 0.05}, \"xaxis\": {\"automargin\": true, \"gridcolor\": \"white\", \"linecolor\": \"white\", \"ticks\": \"\", \"title\": {\"standoff\": 15}, \"zerolinecolor\": \"white\", \"zerolinewidth\": 2}, \"yaxis\": {\"automargin\": true, \"gridcolor\": \"white\", \"linecolor\": \"white\", \"ticks\": \"\", \"title\": {\"standoff\": 15}, \"zerolinecolor\": \"white\", \"zerolinewidth\": 2}}}, \"title\": {\"text\": \"Default Rate in USA<br>(2015-2019)\"}},\n",
       "                        {\"responsive\": true}\n",
       "                    ).then(function(){\n",
       "                            \n",
       "var gd = document.getElementById('09b16d3f-56d4-4de0-acf7-5c621f6ec366');\n",
       "var x = new MutationObserver(function (mutations, observer) {{\n",
       "        var display = window.getComputedStyle(gd).display;\n",
       "        if (!display || display === 'none') {{\n",
       "            console.log([gd, 'removed!']);\n",
       "            Plotly.purge(gd);\n",
       "            observer.disconnect();\n",
       "        }}\n",
       "}});\n",
       "\n",
       "// Listen for the removal of the full notebook cells\n",
       "var notebookContainer = gd.closest('#notebook-container');\n",
       "if (notebookContainer) {{\n",
       "    x.observe(notebookContainer, {childList: true});\n",
       "}}\n",
       "\n",
       "// Listen for the clearing of the current output cell\n",
       "var outputEl = gd.closest('.output');\n",
       "if (outputEl) {{\n",
       "    x.observe(outputEl, {childList: true});\n",
       "}}\n",
       "\n",
       "                        })\n",
       "                };\n",
       "                });\n",
       "            </script>\n",
       "        </div>"
      ]
     },
     "metadata": {},
     "output_type": "display_data"
    }
   ],
   "source": [
    "# Now it comes the part where we plot out plotly United States map\n",
    "import plotly as py\n",
    "from plotly.offline import download_plotlyjs, init_notebook_mode, plot, iplot\n",
    "import plotly.graph_objs as go\n",
    "\n",
    "df_map2=df_join_2.copy()\n",
    "\n",
    "# convert to values to string\n",
    "for col in df_map2.columns:\n",
    "    df_map2[col] = df_map2[col].astype(str)\n",
    "    \n",
    "df_map2['text'] = df_map2['state'] + '<br>' +\\\n",
    "'Median Credit Scores: ' + df_map2['fico'] +'<br>'+\\\n",
    "'Median Debit-to-income: ' + df_map2['dti'] +'<br>'+\\\n",
    "'Median Employee Length: ' + df_map2['employee_length'] +' years'\n",
    "\n",
    "\n",
    "data = [ dict(\n",
    "        type='choropleth',\n",
    "        colorscale = 'Blues', # discrete color for the map\n",
    "        autocolorscale = False,\n",
    "        locations = df_map2['state'],\n",
    "        z = df_map2['default_rate'], \n",
    "        locationmode = 'USA-states',\n",
    "        text = df_map2['text'],\n",
    "        marker = dict(\n",
    "            line = dict (\n",
    "                color = 'rgb(255,255,255)',\n",
    "                width = 2\n",
    "            ) ),\n",
    "        colorbar = dict(\n",
    "            title = \"%\")\n",
    "        ) ]\n",
    "\n",
    "\n",
    "layout = dict(\n",
    "    title = 'Default Rate in USA' +'<br>' + '(2015-2019)' ,\n",
    "    geo = dict(\n",
    "        scope = 'usa',\n",
    "        projection=dict(type='albers usa'),\n",
    "        showlakes = True,\n",
    "        lakecolor = 'rgb(255, 255, 255)')\n",
    ")\n",
    "\n",
    "fig = dict(data=data, layout=layout)\n",
    "iplot(fig, filename='d3-cloropleth-map-2')"
   ]
  },
  {
   "cell_type": "code",
   "execution_count": 40,
   "metadata": {},
   "outputs": [
    {
     "data": {
      "text/plain": [
       "Text(0, 0.5, 'Average fico')"
      ]
     },
     "execution_count": 40,
     "metadata": {},
     "output_type": "execute_result"
    },
    {
     "data": {
      "image/png": "[encoded data removed]",
      "text/plain": [
       "<Figure size 432x288 with 1 Axes>"
      ]
     },
     "metadata": {
      "needs_background": "light"
     },
     "output_type": "display_data"
    }
   ],
   "source": [
    "sns.barplot('region', 'fico', data=df)\n",
    "plt.title('fico by region',fontsize=14)\n",
    "plt.xlabel('Region', fontsize=14)\n",
    "plt.ylabel('Average fico', fontsize=14)"
   ]
  },
  {
   "cell_type": "code",
   "execution_count": 43,
   "metadata": {},
   "outputs": [
    {
     "data": {
      "text/plain": [
       "region\n",
       "west         701.033997\n",
       "south        701.078206\n",
       "midwest      701.269858\n",
       "northeast    702.049231\n",
       "Name: fico, dtype: float64"
      ]
     },
     "execution_count": 43,
     "metadata": {},
     "output_type": "execute_result"
    }
   ],
   "source": [
    "df.groupby('region')['fico'].mean().sort_values(ascending=True)"
   ]
  },
  {
   "cell_type": "code",
   "execution_count": 64,
   "metadata": {},
   "outputs": [
    {
     "data": {
      "text/plain": [
       "region     loan_status\n",
       "midwest    Fully Paid     0.803337\n",
       "           Charged Off    0.196663\n",
       "northeast  Fully Paid     0.789714\n",
       "           Charged Off    0.210286\n",
       "south      Fully Paid     0.791852\n",
       "           Charged Off    0.208148\n",
       "west       Fully Paid     0.809990\n",
       "           Charged Off    0.190010\n",
       "Name: loan_status, dtype: float64"
      ]
     },
     "execution_count": 64,
     "metadata": {},
     "output_type": "execute_result"
    }
   ],
   "source": [
    "df.groupby(['region'])['loan_status'].value_counts(normalize=True)#.sort_values(ascending=False)"
   ]
  },
  {
   "cell_type": "code",
   "execution_count": 39,
   "metadata": {},
   "outputs": [
    {
     "data": {
      "text/plain": [
       "Index(['issue_d', 'earliest_cr_line', 'last_pymnt_d', 'issue_year', 'int_rate',\n",
       "       'revol_util', 'term', 'grade', 'emp_length', 'home_ownership',\n",
       "       'verification_status', 'loan_status', 'purpose', 'addr_state',\n",
       "       'loan_amnt', 'funded_amnt', 'installment', 'annual_inc', 'dti',\n",
       "       'revol_bal', 'delinq_2yrs', 'open_acc', 'pub_rec', 'fico_range_high',\n",
       "       'fico_range_low', 'total_pymnt', 'recoveries', 'target', 'loan_period',\n",
       "       'log_annual_inc', 'log_dti', 'log_revol_bal', 'delinq_2yrs_str',\n",
       "       'pub_rec_str', 'fico', 'region'],\n",
       "      dtype='object')"
      ]
     },
     "execution_count": 39,
     "metadata": {},
     "output_type": "execute_result"
    }
   ],
   "source": [
    "df.columns#['addr_state']"
   ]
  },
  {
   "cell_type": "markdown",
   "metadata": {},
   "source": [
    "### 3 maps"
   ]
  },
  {
   "cell_type": "code",
   "execution_count": 68,
   "metadata": {},
   "outputs": [],
   "source": [
    "# Now it comes the part where we plot out plotly United States map\n",
    "import plotly as py\n",
    "import plotly.graph_objs as go\n"
   ]
  },
  {
   "cell_type": "code",
   "execution_count": 71,
   "metadata": {},
   "outputs": [],
   "source": [
    "group_loan_amnt = df.groupby('addr_state')['loan_amnt'].sum().sort_values()\n"
   ]
  },
  {
   "cell_type": "code",
   "execution_count": 72,
   "metadata": {},
   "outputs": [
    {
     "data": {
      "text/plain": [
       "addr_state\n",
       "SD    3.303305e+07\n",
       "VT    3.312748e+07\n",
       "ND    3.330028e+07\n",
       "ID    3.589325e+07\n",
       "WY    3.664650e+07\n",
       "          ...     \n",
       "IL    6.793398e+08\n",
       "FL    1.176397e+09\n",
       "NY    1.354495e+09\n",
       "TX    1.510895e+09\n",
       "CA    2.474906e+09\n",
       "Name: loan_amnt, Length: 50, dtype: float64"
      ]
     },
     "execution_count": 72,
     "metadata": {},
     "output_type": "execute_result"
    }
   ],
   "source": [
    "group_loan_amnt"
   ]
  },
  {
   "cell_type": "code",
   "execution_count": null,
   "metadata": {},
   "outputs": [],
   "source": [
    "by_loan_amount = df.groupby(['region','addr_state'], as_index=False).loan_amount.sum()\n",
    "by_interest_rate = df.groupby(['region', 'addr_state'], as_index=False).interest_rate.mean()\n",
    "by_income = df.groupby(['region', 'addr_state'], as_index=False).annual_income.mean()"
   ]
  }
 ],
 "metadata": {
  "kernelspec": {
   "display_name": "Python 3",
   "language": "python",
   "name": "python3"
  },
  "language_info": {
   "codemirror_mode": {
    "name": "ipython",
    "version": 3
   },
   "file_extension": ".py",
   "mimetype": "text/x-python",
   "name": "python",
   "nbconvert_exporter": "python",
   "pygments_lexer": "ipython3",
   "version": "3.7.4"
  }
 },
 "nbformat": 4,
 "nbformat_minor": 2
}
