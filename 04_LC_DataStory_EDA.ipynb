{
 "cells": [
  {
   "cell_type": "markdown",
   "metadata": {},
   "source": [
    "## 1 - Introduction\n",
    "Data Storytelling \n",
    "\n",
    "How do you create a data story? You’ve learned the basics, but the information is probably a bit abstract at this point. Keep in mind that storytelling is an art, so you have to get your imagination bubbling. In this project, you’ll learn some pointers to get those creative juices flowing. In the following sections, we’ll work step-by-step to create your first data story. \n",
    "\n",
    "Steps:\n",
    "Ask the following questions and look for the answers using code and plots:\n",
    "- Can you count something interesting?\n",
    "- Can you find trends (e.g. high, low, increasing, decreasing, anomalies)?\n",
    "- Can you make a bar plot or a histogram?\n",
    "- Can you compare two related quantities?\n",
    "- Can you make a scatterplot?\n",
    "- Can you make a time-series plot?\n",
    "\n",
    "Looking at the plots, what are some insights you can make? Do you see any correlations? Is there a hypothesis you’d like to investigate further? What other questions do the insights lead you to ask?\n",
    "Now that you’ve asked questions, hopefully you’ve found some interesting insights. Is there a narrative or a way of presenting the insights using text and plots that tells a compelling story? What are some other trends/relationships you think will make the story more complete?"
   ]
  },
  {
   "cell_type": "code",
   "execution_count": 179,
   "metadata": {},
   "outputs": [],
   "source": [
    "import pandas as pd\n",
    "import matplotlib.pyplot as plt\n",
    "import seaborn as sns\n",
    "import numpy as np\n",
    "from datetime import datetime\n",
    "import time\n",
    "from scipy.stats import shapiro\n",
    "import statsmodels.api as sm\n",
    "# Options for pandas\n",
    "pd.options.display.max_columns = 50\n",
    "pd.options.display.max_rows = 30\n",
    "\n",
    "import warnings\n",
    "warnings.filterwarnings('ignore')\n",
    "%matplotlib inline\n",
    "\n",
    "#%load_ext autoreload\n",
    "#%autoreload 2"
   ]
  },
  {
   "cell_type": "code",
   "execution_count": 180,
   "metadata": {},
   "outputs": [
    {
     "name": "stdout",
     "output_type": "stream",
     "text": [
      "It takes  36.7 min to read the data\n"
     ]
    }
   ],
   "source": [
    "# read data\n",
    "start = time.time()\n",
    "path = '/Users/cyuancheng/Documents/course/Springboard/Capstone1/data/'\n",
    "df = pd.read_csv(path+'data_2012_2019_rm.csv', low_memory=False, index_col=0, \\\n",
    "                 parse_dates=['issue_d', 'earliest_cr_line', 'last_pymnt_d', 'last_credit_pull_d'] )\n",
    "end = time.time()\n",
    "print('It takes  ' + str(round((end-start)/60,1)) +' min to read the data')"
   ]
  },
  {
   "cell_type": "code",
   "execution_count": 181,
   "metadata": {},
   "outputs": [
    {
     "data": {
      "text/plain": [
       "mths_since_recent_inq    11.503325\n",
       "emp_length                7.012418\n",
       "num_tl_120dpd_2m          4.322716\n",
       "mo_sin_old_il_acct        4.035890\n",
       "bc_util                   1.375966\n",
       "                           ...    \n",
       "mort_acc                  0.273494\n",
       "total_bal_ex_mort         0.273494\n",
       "total_bc_limit            0.273494\n",
       "dti                       0.104057\n",
       "inq_last_6mths            0.000037\n",
       "Length: 38, dtype: float64"
      ]
     },
     "execution_count": 181,
     "metadata": {},
     "output_type": "execute_result"
    }
   ],
   "source": [
    "# show missing data\n",
    "(df.isnull().sum()[df.isnull().sum() >0]/len(df)*100).sort_values(ascending=False)"
   ]
  },
  {
   "cell_type": "markdown",
   "metadata": {},
   "source": [
    "## 2 - EDA\n",
    "\n",
    "The dataset was download from [Lending Club](https://www.lendingclub.com/statistics/additional-statistics?). It contains information from 2015 to 2019. \n",
    "\n",
    "**Data manipulation**: \n",
    "\n",
    "    - Deal with missing value \n",
    "    - check each feature\n",
    "        - observe distribution (normality for particular features)\n",
    "        - Remove outliner (standard deviation)\n",
    "\n"
   ]
  },
  {
   "cell_type": "code",
   "execution_count": 15,
   "metadata": {},
   "outputs": [
    {
     "data": {
      "text/html": [
       "<div>\n",
       "<style scoped>\n",
       "    .dataframe tbody tr th:only-of-type {\n",
       "        vertical-align: middle;\n",
       "    }\n",
       "\n",
       "    .dataframe tbody tr th {\n",
       "        vertical-align: top;\n",
       "    }\n",
       "\n",
       "    .dataframe thead th {\n",
       "        text-align: right;\n",
       "    }\n",
       "</style>\n",
       "<table border=\"1\" class=\"dataframe\">\n",
       "  <thead>\n",
       "    <tr style=\"text-align: right;\">\n",
       "      <th></th>\n",
       "      <th>issue_d</th>\n",
       "      <th>earliest_cr_line</th>\n",
       "      <th>last_pymnt_d</th>\n",
       "      <th>last_credit_pull_d</th>\n",
       "      <th>int_rate</th>\n",
       "      <th>revol_util</th>\n",
       "      <th>hardship_flag</th>\n",
       "      <th>application_type</th>\n",
       "      <th>title</th>\n",
       "      <th>emp_length</th>\n",
       "      <th>sub_grade</th>\n",
       "      <th>verification_status</th>\n",
       "      <th>pymnt_plan</th>\n",
       "      <th>debt_settlement_flag</th>\n",
       "      <th>grade</th>\n",
       "      <th>home_ownership</th>\n",
       "      <th>addr_state</th>\n",
       "      <th>initial_list_status</th>\n",
       "      <th>term</th>\n",
       "      <th>loan_status</th>\n",
       "      <th>purpose</th>\n",
       "      <th>loan_amnt</th>\n",
       "      <th>funded_amnt</th>\n",
       "      <th>funded_amnt_inv</th>\n",
       "      <th>int_rate.1</th>\n",
       "      <th>...</th>\n",
       "      <th>mort_acc</th>\n",
       "      <th>mths_since_recent_bc</th>\n",
       "      <th>mths_since_recent_inq</th>\n",
       "      <th>num_accts_ever_120_pd</th>\n",
       "      <th>num_actv_bc_tl</th>\n",
       "      <th>num_actv_rev_tl</th>\n",
       "      <th>num_bc_sats</th>\n",
       "      <th>num_bc_tl</th>\n",
       "      <th>num_il_tl</th>\n",
       "      <th>num_op_rev_tl</th>\n",
       "      <th>num_rev_accts</th>\n",
       "      <th>num_rev_tl_bal_gt_0</th>\n",
       "      <th>num_sats</th>\n",
       "      <th>num_tl_120dpd_2m</th>\n",
       "      <th>num_tl_30dpd</th>\n",
       "      <th>num_tl_90g_dpd_24m</th>\n",
       "      <th>num_tl_op_past_12m</th>\n",
       "      <th>pct_tl_nvr_dlq</th>\n",
       "      <th>percent_bc_gt_75</th>\n",
       "      <th>pub_rec_bankruptcies</th>\n",
       "      <th>tax_liens</th>\n",
       "      <th>tot_hi_cred_lim</th>\n",
       "      <th>total_bal_ex_mort</th>\n",
       "      <th>total_bc_limit</th>\n",
       "      <th>total_il_high_credit_limit</th>\n",
       "    </tr>\n",
       "    <tr>\n",
       "      <th>id</th>\n",
       "      <th></th>\n",
       "      <th></th>\n",
       "      <th></th>\n",
       "      <th></th>\n",
       "      <th></th>\n",
       "      <th></th>\n",
       "      <th></th>\n",
       "      <th></th>\n",
       "      <th></th>\n",
       "      <th></th>\n",
       "      <th></th>\n",
       "      <th></th>\n",
       "      <th></th>\n",
       "      <th></th>\n",
       "      <th></th>\n",
       "      <th></th>\n",
       "      <th></th>\n",
       "      <th></th>\n",
       "      <th></th>\n",
       "      <th></th>\n",
       "      <th></th>\n",
       "      <th></th>\n",
       "      <th></th>\n",
       "      <th></th>\n",
       "      <th></th>\n",
       "      <th></th>\n",
       "      <th></th>\n",
       "      <th></th>\n",
       "      <th></th>\n",
       "      <th></th>\n",
       "      <th></th>\n",
       "      <th></th>\n",
       "      <th></th>\n",
       "      <th></th>\n",
       "      <th></th>\n",
       "      <th></th>\n",
       "      <th></th>\n",
       "      <th></th>\n",
       "      <th></th>\n",
       "      <th></th>\n",
       "      <th></th>\n",
       "      <th></th>\n",
       "      <th></th>\n",
       "      <th></th>\n",
       "      <th></th>\n",
       "      <th></th>\n",
       "      <th></th>\n",
       "      <th></th>\n",
       "      <th></th>\n",
       "      <th></th>\n",
       "      <th></th>\n",
       "    </tr>\n",
       "  </thead>\n",
       "  <tbody>\n",
       "    <tr>\n",
       "      <td>68367011</td>\n",
       "      <td>2015-12-01</td>\n",
       "      <td>2005-01-01</td>\n",
       "      <td>2018-08-01</td>\n",
       "      <td>2020-01-01</td>\n",
       "      <td>13.99</td>\n",
       "      <td>87.4</td>\n",
       "      <td>N</td>\n",
       "      <td>Individual</td>\n",
       "      <td>Credit card refinancing</td>\n",
       "      <td>&lt; 1 year</td>\n",
       "      <td>C4</td>\n",
       "      <td>Source Verified</td>\n",
       "      <td>n</td>\n",
       "      <td>N</td>\n",
       "      <td>C</td>\n",
       "      <td>RENT</td>\n",
       "      <td>OH</td>\n",
       "      <td>w</td>\n",
       "      <td>60 months</td>\n",
       "      <td>Fully Paid</td>\n",
       "      <td>credit_card</td>\n",
       "      <td>21000.0</td>\n",
       "      <td>21000.0</td>\n",
       "      <td>21000.0</td>\n",
       "      <td>13.99</td>\n",
       "      <td>...</td>\n",
       "      <td>0.0</td>\n",
       "      <td>85.0</td>\n",
       "      <td>0.0</td>\n",
       "      <td>0.0</td>\n",
       "      <td>3.0</td>\n",
       "      <td>3.0</td>\n",
       "      <td>4.0</td>\n",
       "      <td>4.0</td>\n",
       "      <td>11.0</td>\n",
       "      <td>4.0</td>\n",
       "      <td>4.0</td>\n",
       "      <td>3.0</td>\n",
       "      <td>5.0</td>\n",
       "      <td>0.0</td>\n",
       "      <td>0.0</td>\n",
       "      <td>0.0</td>\n",
       "      <td>1.0</td>\n",
       "      <td>100.0</td>\n",
       "      <td>75.0</td>\n",
       "      <td>0.0</td>\n",
       "      <td>0.0</td>\n",
       "      <td>370357.0</td>\n",
       "      <td>372407.0</td>\n",
       "      <td>23300.0</td>\n",
       "      <td>347057.0</td>\n",
       "    </tr>\n",
       "    <tr>\n",
       "      <td>68537655</td>\n",
       "      <td>2015-12-01</td>\n",
       "      <td>1997-06-01</td>\n",
       "      <td>2020-01-01</td>\n",
       "      <td>2017-11-01</td>\n",
       "      <td>12.88</td>\n",
       "      <td>24.1</td>\n",
       "      <td>N</td>\n",
       "      <td>Individual</td>\n",
       "      <td>Debt consolidation</td>\n",
       "      <td>10+ years</td>\n",
       "      <td>C2</td>\n",
       "      <td>Not Verified</td>\n",
       "      <td>n</td>\n",
       "      <td>N</td>\n",
       "      <td>C</td>\n",
       "      <td>MORTGAGE</td>\n",
       "      <td>MO</td>\n",
       "      <td>w</td>\n",
       "      <td>60 months</td>\n",
       "      <td>Current</td>\n",
       "      <td>debt_consolidation</td>\n",
       "      <td>16800.0</td>\n",
       "      <td>16800.0</td>\n",
       "      <td>16800.0</td>\n",
       "      <td>12.88</td>\n",
       "      <td>...</td>\n",
       "      <td>4.0</td>\n",
       "      <td>11.0</td>\n",
       "      <td>11.0</td>\n",
       "      <td>12.0</td>\n",
       "      <td>3.0</td>\n",
       "      <td>3.0</td>\n",
       "      <td>4.0</td>\n",
       "      <td>22.0</td>\n",
       "      <td>12.0</td>\n",
       "      <td>5.0</td>\n",
       "      <td>28.0</td>\n",
       "      <td>3.0</td>\n",
       "      <td>11.0</td>\n",
       "      <td>0.0</td>\n",
       "      <td>0.0</td>\n",
       "      <td>0.0</td>\n",
       "      <td>1.0</td>\n",
       "      <td>64.4</td>\n",
       "      <td>25.0</td>\n",
       "      <td>0.0</td>\n",
       "      <td>0.0</td>\n",
       "      <td>412771.0</td>\n",
       "      <td>75808.0</td>\n",
       "      <td>12600.0</td>\n",
       "      <td>115941.0</td>\n",
       "    </tr>\n",
       "    <tr>\n",
       "      <td>68356421</td>\n",
       "      <td>2015-12-01</td>\n",
       "      <td>1995-04-01</td>\n",
       "      <td>2020-01-01</td>\n",
       "      <td>2020-01-01</td>\n",
       "      <td>12.88</td>\n",
       "      <td>32.7</td>\n",
       "      <td>N</td>\n",
       "      <td>Individual</td>\n",
       "      <td>Debt consolidation</td>\n",
       "      <td>6 years</td>\n",
       "      <td>C2</td>\n",
       "      <td>Not Verified</td>\n",
       "      <td>n</td>\n",
       "      <td>N</td>\n",
       "      <td>C</td>\n",
       "      <td>MORTGAGE</td>\n",
       "      <td>SC</td>\n",
       "      <td>w</td>\n",
       "      <td>60 months</td>\n",
       "      <td>Current</td>\n",
       "      <td>debt_consolidation</td>\n",
       "      <td>22400.0</td>\n",
       "      <td>22400.0</td>\n",
       "      <td>22400.0</td>\n",
       "      <td>12.88</td>\n",
       "      <td>...</td>\n",
       "      <td>5.0</td>\n",
       "      <td>1.0</td>\n",
       "      <td>14.0</td>\n",
       "      <td>2.0</td>\n",
       "      <td>3.0</td>\n",
       "      <td>8.0</td>\n",
       "      <td>4.0</td>\n",
       "      <td>5.0</td>\n",
       "      <td>15.0</td>\n",
       "      <td>10.0</td>\n",
       "      <td>15.0</td>\n",
       "      <td>8.0</td>\n",
       "      <td>16.0</td>\n",
       "      <td>0.0</td>\n",
       "      <td>0.0</td>\n",
       "      <td>0.0</td>\n",
       "      <td>3.0</td>\n",
       "      <td>97.0</td>\n",
       "      <td>25.0</td>\n",
       "      <td>0.0</td>\n",
       "      <td>0.0</td>\n",
       "      <td>436841.0</td>\n",
       "      <td>184356.0</td>\n",
       "      <td>21000.0</td>\n",
       "      <td>191682.0</td>\n",
       "    </tr>\n",
       "    <tr>\n",
       "      <td>68466926</td>\n",
       "      <td>2015-12-01</td>\n",
       "      <td>2002-04-01</td>\n",
       "      <td>2018-08-01</td>\n",
       "      <td>2020-01-01</td>\n",
       "      <td>6.49</td>\n",
       "      <td>34.5</td>\n",
       "      <td>N</td>\n",
       "      <td>Individual</td>\n",
       "      <td>Credit card refinancing</td>\n",
       "      <td>6 years</td>\n",
       "      <td>A2</td>\n",
       "      <td>Not Verified</td>\n",
       "      <td>n</td>\n",
       "      <td>N</td>\n",
       "      <td>A</td>\n",
       "      <td>RENT</td>\n",
       "      <td>PA</td>\n",
       "      <td>w</td>\n",
       "      <td>36 months</td>\n",
       "      <td>Fully Paid</td>\n",
       "      <td>credit_card</td>\n",
       "      <td>10000.0</td>\n",
       "      <td>10000.0</td>\n",
       "      <td>10000.0</td>\n",
       "      <td>6.49</td>\n",
       "      <td>...</td>\n",
       "      <td>1.0</td>\n",
       "      <td>4.0</td>\n",
       "      <td>1.0</td>\n",
       "      <td>0.0</td>\n",
       "      <td>6.0</td>\n",
       "      <td>9.0</td>\n",
       "      <td>7.0</td>\n",
       "      <td>10.0</td>\n",
       "      <td>3.0</td>\n",
       "      <td>13.0</td>\n",
       "      <td>19.0</td>\n",
       "      <td>9.0</td>\n",
       "      <td>14.0</td>\n",
       "      <td>0.0</td>\n",
       "      <td>0.0</td>\n",
       "      <td>0.0</td>\n",
       "      <td>2.0</td>\n",
       "      <td>95.7</td>\n",
       "      <td>28.6</td>\n",
       "      <td>1.0</td>\n",
       "      <td>0.0</td>\n",
       "      <td>61099.0</td>\n",
       "      <td>27957.0</td>\n",
       "      <td>16400.0</td>\n",
       "      <td>30799.0</td>\n",
       "    </tr>\n",
       "    <tr>\n",
       "      <td>68616873</td>\n",
       "      <td>2015-12-01</td>\n",
       "      <td>1994-11-01</td>\n",
       "      <td>2017-04-01</td>\n",
       "      <td>2018-11-01</td>\n",
       "      <td>11.48</td>\n",
       "      <td>39.1</td>\n",
       "      <td>N</td>\n",
       "      <td>Individual</td>\n",
       "      <td>Credit card refinancing</td>\n",
       "      <td>10+ years</td>\n",
       "      <td>B5</td>\n",
       "      <td>Not Verified</td>\n",
       "      <td>n</td>\n",
       "      <td>N</td>\n",
       "      <td>B</td>\n",
       "      <td>MORTGAGE</td>\n",
       "      <td>RI</td>\n",
       "      <td>w</td>\n",
       "      <td>36 months</td>\n",
       "      <td>Fully Paid</td>\n",
       "      <td>credit_card</td>\n",
       "      <td>8000.0</td>\n",
       "      <td>8000.0</td>\n",
       "      <td>8000.0</td>\n",
       "      <td>11.48</td>\n",
       "      <td>...</td>\n",
       "      <td>1.0</td>\n",
       "      <td>50.0</td>\n",
       "      <td>10.0</td>\n",
       "      <td>1.0</td>\n",
       "      <td>3.0</td>\n",
       "      <td>3.0</td>\n",
       "      <td>3.0</td>\n",
       "      <td>6.0</td>\n",
       "      <td>5.0</td>\n",
       "      <td>5.0</td>\n",
       "      <td>11.0</td>\n",
       "      <td>3.0</td>\n",
       "      <td>8.0</td>\n",
       "      <td>0.0</td>\n",
       "      <td>0.0</td>\n",
       "      <td>0.0</td>\n",
       "      <td>2.0</td>\n",
       "      <td>94.4</td>\n",
       "      <td>33.3</td>\n",
       "      <td>0.0</td>\n",
       "      <td>0.0</td>\n",
       "      <td>256513.0</td>\n",
       "      <td>113782.0</td>\n",
       "      <td>17000.0</td>\n",
       "      <td>135513.0</td>\n",
       "    </tr>\n",
       "  </tbody>\n",
       "</table>\n",
       "<p>5 rows × 103 columns</p>\n",
       "</div>"
      ],
      "text/plain": [
       "            issue_d earliest_cr_line last_pymnt_d last_credit_pull_d  \\\n",
       "id                                                                     \n",
       "68367011 2015-12-01       2005-01-01   2018-08-01         2020-01-01   \n",
       "68537655 2015-12-01       1997-06-01   2020-01-01         2017-11-01   \n",
       "68356421 2015-12-01       1995-04-01   2020-01-01         2020-01-01   \n",
       "68466926 2015-12-01       2002-04-01   2018-08-01         2020-01-01   \n",
       "68616873 2015-12-01       1994-11-01   2017-04-01         2018-11-01   \n",
       "\n",
       "          int_rate  revol_util hardship_flag application_type  \\\n",
       "id                                                              \n",
       "68367011     13.99        87.4             N       Individual   \n",
       "68537655     12.88        24.1             N       Individual   \n",
       "68356421     12.88        32.7             N       Individual   \n",
       "68466926      6.49        34.5             N       Individual   \n",
       "68616873     11.48        39.1             N       Individual   \n",
       "\n",
       "                            title emp_length sub_grade verification_status  \\\n",
       "id                                                                           \n",
       "68367011  Credit card refinancing   < 1 year        C4     Source Verified   \n",
       "68537655       Debt consolidation  10+ years        C2        Not Verified   \n",
       "68356421       Debt consolidation    6 years        C2        Not Verified   \n",
       "68466926  Credit card refinancing    6 years        A2        Not Verified   \n",
       "68616873  Credit card refinancing  10+ years        B5        Not Verified   \n",
       "\n",
       "         pymnt_plan debt_settlement_flag grade home_ownership addr_state  \\\n",
       "id                                                                         \n",
       "68367011          n                    N     C           RENT         OH   \n",
       "68537655          n                    N     C       MORTGAGE         MO   \n",
       "68356421          n                    N     C       MORTGAGE         SC   \n",
       "68466926          n                    N     A           RENT         PA   \n",
       "68616873          n                    N     B       MORTGAGE         RI   \n",
       "\n",
       "         initial_list_status        term loan_status             purpose  \\\n",
       "id                                                                         \n",
       "68367011                   w   60 months  Fully Paid         credit_card   \n",
       "68537655                   w   60 months     Current  debt_consolidation   \n",
       "68356421                   w   60 months     Current  debt_consolidation   \n",
       "68466926                   w   36 months  Fully Paid         credit_card   \n",
       "68616873                   w   36 months  Fully Paid         credit_card   \n",
       "\n",
       "          loan_amnt  funded_amnt  funded_amnt_inv  int_rate.1  ...  mort_acc  \\\n",
       "id                                                             ...             \n",
       "68367011    21000.0      21000.0          21000.0       13.99  ...       0.0   \n",
       "68537655    16800.0      16800.0          16800.0       12.88  ...       4.0   \n",
       "68356421    22400.0      22400.0          22400.0       12.88  ...       5.0   \n",
       "68466926    10000.0      10000.0          10000.0        6.49  ...       1.0   \n",
       "68616873     8000.0       8000.0           8000.0       11.48  ...       1.0   \n",
       "\n",
       "          mths_since_recent_bc  mths_since_recent_inq  num_accts_ever_120_pd  \\\n",
       "id                                                                             \n",
       "68367011                  85.0                    0.0                    0.0   \n",
       "68537655                  11.0                   11.0                   12.0   \n",
       "68356421                   1.0                   14.0                    2.0   \n",
       "68466926                   4.0                    1.0                    0.0   \n",
       "68616873                  50.0                   10.0                    1.0   \n",
       "\n",
       "          num_actv_bc_tl  num_actv_rev_tl  num_bc_sats  num_bc_tl  num_il_tl  \\\n",
       "id                                                                             \n",
       "68367011             3.0              3.0          4.0        4.0       11.0   \n",
       "68537655             3.0              3.0          4.0       22.0       12.0   \n",
       "68356421             3.0              8.0          4.0        5.0       15.0   \n",
       "68466926             6.0              9.0          7.0       10.0        3.0   \n",
       "68616873             3.0              3.0          3.0        6.0        5.0   \n",
       "\n",
       "          num_op_rev_tl  num_rev_accts  num_rev_tl_bal_gt_0  num_sats  \\\n",
       "id                                                                      \n",
       "68367011            4.0            4.0                  3.0       5.0   \n",
       "68537655            5.0           28.0                  3.0      11.0   \n",
       "68356421           10.0           15.0                  8.0      16.0   \n",
       "68466926           13.0           19.0                  9.0      14.0   \n",
       "68616873            5.0           11.0                  3.0       8.0   \n",
       "\n",
       "          num_tl_120dpd_2m  num_tl_30dpd  num_tl_90g_dpd_24m  \\\n",
       "id                                                             \n",
       "68367011               0.0           0.0                 0.0   \n",
       "68537655               0.0           0.0                 0.0   \n",
       "68356421               0.0           0.0                 0.0   \n",
       "68466926               0.0           0.0                 0.0   \n",
       "68616873               0.0           0.0                 0.0   \n",
       "\n",
       "          num_tl_op_past_12m  pct_tl_nvr_dlq  percent_bc_gt_75  \\\n",
       "id                                                               \n",
       "68367011                 1.0           100.0              75.0   \n",
       "68537655                 1.0            64.4              25.0   \n",
       "68356421                 3.0            97.0              25.0   \n",
       "68466926                 2.0            95.7              28.6   \n",
       "68616873                 2.0            94.4              33.3   \n",
       "\n",
       "          pub_rec_bankruptcies  tax_liens  tot_hi_cred_lim  total_bal_ex_mort  \\\n",
       "id                                                                              \n",
       "68367011                   0.0        0.0         370357.0           372407.0   \n",
       "68537655                   0.0        0.0         412771.0            75808.0   \n",
       "68356421                   0.0        0.0         436841.0           184356.0   \n",
       "68466926                   1.0        0.0          61099.0            27957.0   \n",
       "68616873                   0.0        0.0         256513.0           113782.0   \n",
       "\n",
       "          total_bc_limit  total_il_high_credit_limit  \n",
       "id                                                    \n",
       "68367011         23300.0                    347057.0  \n",
       "68537655         12600.0                    115941.0  \n",
       "68356421         21000.0                    191682.0  \n",
       "68466926         16400.0                     30799.0  \n",
       "68616873         17000.0                    135513.0  \n",
       "\n",
       "[5 rows x 103 columns]"
      ]
     },
     "execution_count": 15,
     "metadata": {},
     "output_type": "execute_result"
    }
   ],
   "source": [
    "df.head()"
   ]
  },
  {
   "cell_type": "code",
   "execution_count": 332,
   "metadata": {},
   "outputs": [
    {
     "data": {
      "text/plain": [
       "Index(['hardship_flag', 'application_type', 'title', 'emp_length', 'sub_grade',\n",
       "       'verification_status', 'pymnt_plan', 'debt_settlement_flag', 'grade',\n",
       "       'home_ownership', 'addr_state', 'initial_list_status', 'term',\n",
       "       'loan_status', 'purpose'],\n",
       "      dtype='object')"
      ]
     },
     "execution_count": 332,
     "metadata": {},
     "output_type": "execute_result"
    }
   ],
   "source": [
    "df.select_dtypes('object').columns"
   ]
  },
  {
   "cell_type": "code",
   "execution_count": 333,
   "metadata": {},
   "outputs": [
    {
     "data": {
      "text/plain": [
       "Index(['int_rate', 'revol_util', 'loan_amnt', 'funded_amnt', 'funded_amnt_inv',\n",
       "       'int_rate.1', 'installment', 'annual_inc', 'dti', 'delinq_2yrs',\n",
       "       'fico_range_low', 'fico_range_high', 'inq_last_6mths', 'open_acc',\n",
       "       'pub_rec', 'revol_bal', 'revol_util.1', 'total_acc', 'out_prncp',\n",
       "       'out_prncp_inv', 'total_pymnt', 'total_pymnt_inv', 'total_rec_prncp',\n",
       "       'total_rec_int', 'total_rec_late_fee', 'recoveries',\n",
       "       'collection_recovery_fee', 'last_pymnt_amnt', 'last_fico_range_high',\n",
       "       'last_fico_range_low', 'collections_12_mths_ex_med', 'policy_code',\n",
       "       'acc_now_delinq', 'tot_coll_amt', 'tot_cur_bal', 'total_rev_hi_lim',\n",
       "       'acc_open_past_24mths', 'avg_cur_bal', 'bc_open_to_buy', 'bc_util',\n",
       "       'chargeoff_within_12_mths', 'delinq_amnt', 'mo_sin_old_il_acct',\n",
       "       'mo_sin_old_rev_tl_op', 'mo_sin_rcnt_rev_tl_op', 'mo_sin_rcnt_tl',\n",
       "       'mort_acc', 'mths_since_recent_bc', 'mths_since_recent_inq',\n",
       "       'num_accts_ever_120_pd', 'num_actv_bc_tl', 'num_actv_rev_tl',\n",
       "       'num_bc_sats', 'num_bc_tl', 'num_il_tl', 'num_op_rev_tl',\n",
       "       'num_rev_accts', 'num_rev_tl_bal_gt_0', 'num_sats', 'num_tl_120dpd_2m',\n",
       "       'num_tl_30dpd', 'num_tl_90g_dpd_24m', 'num_tl_op_past_12m',\n",
       "       'pct_tl_nvr_dlq', 'percent_bc_gt_75', 'pub_rec_bankruptcies',\n",
       "       'tax_liens', 'tot_hi_cred_lim', 'total_bal_ex_mort', 'total_bc_limit',\n",
       "       'total_il_high_credit_limit'],\n",
       "      dtype='object')"
      ]
     },
     "execution_count": 333,
     "metadata": {},
     "output_type": "execute_result"
    }
   ],
   "source": [
    "df.select_dtypes('float').columns"
   ]
  },
  {
   "cell_type": "code",
   "execution_count": 21,
   "metadata": {},
   "outputs": [
    {
     "data": {
      "text/plain": [
       "['issue_d', 'earliest_cr_line', 'last_pymnt_d', 'last_credit_pull_d']"
      ]
     },
     "execution_count": 21,
     "metadata": {},
     "output_type": "execute_result"
    }
   ],
   "source": [
    "df.select_dtypes('datetime').columns.to_list()"
   ]
  },
  {
   "cell_type": "markdown",
   "metadata": {},
   "source": [
    "## 1- Loan status"
   ]
  },
  {
   "cell_type": "code",
   "execution_count": 366,
   "metadata": {},
   "outputs": [
    {
     "data": {
      "image/png": "[encoded data removed]",
      "text/plain": [
       "<Figure size 1080x360 with 2 Axes>"
      ]
     },
     "metadata": {
      "needs_background": "light"
     },
     "output_type": "display_data"
    }
   ],
   "source": [
    "# Look at loan status (2012-2019)\n",
    "fig, ax = plt.subplots(1,2, figsize=(15,5))\n",
    "plt.rcParams.update({'font.size': 12})\n",
    "(df['loan_status'].value_counts(normalize=True)*100).sort_values().plot.barh(ax=ax[0])\n",
    "ax[0].set_xlabel('Population (%)')\n",
    "ax[0].set_title('Loan Status (2012-2019)')\n",
    "\n",
    "(df.query(\"loan_status in ['Fully Paid', 'Charged Off']\")['loan_status'].value_counts(normalize=True)*100)\\\n",
    ".sort_values().plot.barh(ax=ax[1])\n",
    "ax[1].set_xlabel('Population (%)')\n",
    "ax[1].set_title('Fully Paid vs. Charged Off (2012-2019)')\n",
    "plt.subplots_adjust(bottom=0.1, right=0.8, top=0.9, wspace = 0.5)"
   ]
  },
  {
   "cell_type": "markdown",
   "metadata": {},
   "source": [
    "- The data is imbalanced. Fully Paid is 80%, whereas Charged off is 20%.\n",
    "- In the loan status, only fully paid and charged off \n",
    "\n"
   ]
  },
  {
   "cell_type": "code",
   "execution_count": 288,
   "metadata": {},
   "outputs": [
    {
     "data": {
      "text/html": [
       "<div>\n",
       "<style scoped>\n",
       "    .dataframe tbody tr th:only-of-type {\n",
       "        vertical-align: middle;\n",
       "    }\n",
       "\n",
       "    .dataframe tbody tr th {\n",
       "        vertical-align: top;\n",
       "    }\n",
       "\n",
       "    .dataframe thead th {\n",
       "        text-align: right;\n",
       "    }\n",
       "</style>\n",
       "<table border=\"1\" class=\"dataframe\">\n",
       "  <thead>\n",
       "    <tr style=\"text-align: right;\">\n",
       "      <th></th>\n",
       "      <th>loan_status</th>\n",
       "      <th>term</th>\n",
       "      <th>loan_amnt</th>\n",
       "    </tr>\n",
       "    <tr>\n",
       "      <th>issue_d</th>\n",
       "      <th></th>\n",
       "      <th></th>\n",
       "      <th></th>\n",
       "    </tr>\n",
       "  </thead>\n",
       "  <tbody>\n",
       "    <tr>\n",
       "      <td>2013-12-01</td>\n",
       "      <td>Fully Paid</td>\n",
       "      <td>36 months</td>\n",
       "      <td>11100.0</td>\n",
       "    </tr>\n",
       "    <tr>\n",
       "      <td>2013-12-01</td>\n",
       "      <td>Fully Paid</td>\n",
       "      <td>36 months</td>\n",
       "      <td>12000.0</td>\n",
       "    </tr>\n",
       "    <tr>\n",
       "      <td>2013-12-01</td>\n",
       "      <td>Fully Paid</td>\n",
       "      <td>36 months</td>\n",
       "      <td>27050.0</td>\n",
       "    </tr>\n",
       "    <tr>\n",
       "      <td>2013-12-01</td>\n",
       "      <td>Fully Paid</td>\n",
       "      <td>36 months</td>\n",
       "      <td>12000.0</td>\n",
       "    </tr>\n",
       "    <tr>\n",
       "      <td>2013-12-01</td>\n",
       "      <td>Fully Paid</td>\n",
       "      <td>36 months</td>\n",
       "      <td>4800.0</td>\n",
       "    </tr>\n",
       "  </tbody>\n",
       "</table>\n",
       "</div>"
      ],
      "text/plain": [
       "           loan_status        term  loan_amnt\n",
       "issue_d                                      \n",
       "2013-12-01  Fully Paid   36 months    11100.0\n",
       "2013-12-01  Fully Paid   36 months    12000.0\n",
       "2013-12-01  Fully Paid   36 months    27050.0\n",
       "2013-12-01  Fully Paid   36 months    12000.0\n",
       "2013-12-01  Fully Paid   36 months     4800.0"
      ]
     },
     "execution_count": 288,
     "metadata": {},
     "output_type": "execute_result"
    }
   ],
   "source": [
    "df_time = df[['issue_d','loan_status','term','loan_amnt']]\n",
    "df_time.set_index('issue_d',inplace=True)\n",
    "df_time.head() "
   ]
  },
  {
   "cell_type": "code",
   "execution_count": 357,
   "metadata": {},
   "outputs": [
    {
     "data": {
      "text/plain": [
       "<Figure size 1440x360 with 0 Axes>"
      ]
     },
     "metadata": {},
     "output_type": "display_data"
    },
    {
     "data": {
      "image/png": "[encoded data removed]",
      "text/plain": [
       "<Figure size 432x288 with 1 Axes>"
      ]
     },
     "metadata": {
      "needs_background": "light"
     },
     "output_type": "display_data"
    }
   ],
   "source": [
    "# default rate over years\n",
    "plt.figure(figsize=(20,5)) \n",
    "\n",
    "plt.rcParams.update({'font.size': 12})\n",
    "df_time_default_60m = df_time.query(\"loan_status in ['Fully Paid', 'Charged Off'] & term == ' 60 months'\")\\\n",
    ".groupby('issue_d')['loan_status'].value_counts(normalize=True).to_frame()\n",
    "df_time_default_60m.rename(columns={'loan_status':'60 months'}, inplace=True)\n",
    "df_time_default_60m.reset_index(level=1,inplace=True)\n",
    "ax = df_time_default_60m.query(\" loan_status == 'Charged Off' \").rolling(2).mean().plot(label='60 months')\n",
    "\n",
    "df_time_default_36m = df_time.query(\"loan_status in ['Fully Paid', 'Charged Off'] & term == ' 36 months'\")\\\n",
    ".groupby('issue_d')['loan_status'].value_counts(normalize=True).to_frame()\n",
    "df_time_default_36m.rename(columns={'loan_status':'36 months'}, inplace=True)\n",
    "df_time_default_36m.reset_index(level=1,inplace=True)\n",
    "df_time_default_36m.query(\" loan_status == 'Charged Off' \").rolling(2).mean().plot(label='36 months', ax=ax)\n",
    "\n",
    "ax.axvline(\"2017-01-01\", color=\"black\", linestyle=\"-\")\n",
    "ax.axvline(\"2015-01-01\", color=\"black\", linestyle=\"--\")\n",
    "\n",
    "plt.xlabel('Issue Date')\n",
    "plt.ylabel('default rate')\n",
    "plt.legend()\n",
    "plt.show()"
   ]
  },
  {
   "cell_type": "code",
   "execution_count": 331,
   "metadata": {},
   "outputs": [
    {
     "data": {
      "text/plain": [
       "Text(0.5, 1.0, '36 m')"
      ]
     },
     "execution_count": 331,
     "metadata": {},
     "output_type": "execute_result"
    },
    {
     "data": {
      "image/png": "[encoded data removed]",
      "text/plain": [
       "<Figure size 1080x360 with 2 Axes>"
      ]
     },
     "metadata": {
      "needs_background": "light"
     },
     "output_type": "display_data"
    }
   ],
   "source": [
    "\n",
    "fig, ax = plt.subplots(1,2, figsize=(15,5)) \n",
    "\n",
    "plt.rcParams.update({'font.size': 12})\n",
    "\n",
    "df_time.query(\" loan_status == 'Fully Paid' & term == ' 60 months' \")['loan_amnt']\\\n",
    "    .resample('M').sum().rolling(3).mean().plot(label='Fully Paid', ax=ax[0])\n",
    "df_time.query(\" loan_status == 'Charged Off' & term == ' 60 months' \")['loan_amnt']\\\n",
    "    .resample('M').sum().rolling(3).mean().plot(label='Charged Off', ax=ax[0])\n",
    "df_time.query(\" loan_status == 'Current' & term == ' 60 months' \")['loan_amnt']\\\n",
    "    .resample('M').sum().rolling(3).mean().plot(label='Current', ax=ax[0])\n",
    "\n",
    "ax[0].axvline(\"2015-01-01\", color=\"red\", linestyle=\"--\")\n",
    "ax[0].legend()\n",
    "ax[0].set_ylabel('total loan amount ($USD)')\n",
    "ax[0].set_xlabel('issue year')\n",
    "ax[0].set_title('60 m')\n",
    "\n",
    "df_time.query(\" loan_status == 'Fully Paid' & term == ' 36 months' \")['loan_amnt']\\\n",
    "    .resample('M').sum().rolling(3).mean().plot(label='Fully Paid', ax=ax[1])\n",
    "df_time.query(\" loan_status == 'Charged Off' & term == ' 36 months' \")['loan_amnt']\\\n",
    "    .resample('M').sum().rolling(3).mean().plot(label='Charged Off', ax=ax[1])\n",
    "df_time.query(\" loan_status == 'Current' & term == ' 36 months' \")['loan_amnt']\\\n",
    "    .resample('M').sum().rolling(3).mean().plot(label='Current', ax=ax[1])\n",
    "\n",
    "ax[1].axvline(\"2017-01-01\", color=\"red\", linestyle=\"--\")\n",
    "ax[1].legend()\n",
    "ax[1].set_ylabel('total loan amount ($USD)')\n",
    "ax[1].set_xlabel('issue year')\n",
    "ax[1].set_title('36 m')\n"
   ]
  },
  {
   "cell_type": "markdown",
   "metadata": {},
   "source": [
    "Although there is available information on all the funded loans from 2012 to 2019, only loans\n",
    "funded until 2017 can be analyzed. It is because the status of later loans (defaulted or non-\n",
    "defaulted) is still unknown. This happens because the minimum maturity of Lending Club\n",
    "loans is 36 months. Therefore, for the LC data with 36 months term, we can only analyze the data until 2017. similarly, for the LC data with 60 months term, we can only analze the data until 2015.\n"
   ]
  },
  {
   "cell_type": "code",
   "execution_count": 377,
   "metadata": {},
   "outputs": [
    {
     "data": {
      "text/plain": [
       "(1674326, 91)"
      ]
     },
     "execution_count": 377,
     "metadata": {},
     "output_type": "execute_result"
    }
   ],
   "source": [
    "# only select either 'Fully Paid' or 'Charged Off' for Target\n",
    "df_fc = df.query(\"loan_status in ['Fully Paid', 'Charged Off'] \")\n",
    "df_fc.shape"
   ]
  },
  {
   "cell_type": "code",
   "execution_count": 401,
   "metadata": {},
   "outputs": [
    {
     "data": {
      "text/plain": [
       "(423137, 92)"
      ]
     },
     "execution_count": 401,
     "metadata": {},
     "output_type": "execute_result"
    }
   ],
   "source": [
    "# filter years 2012, 2013, 2014\n",
    "df_fc_1 = df_fc[df_fc['issue_d'].dt.year.isin([2012,2013,2014])]\n",
    "df_fc_1.shape"
   ]
  },
  {
   "cell_type": "code",
   "execution_count": 431,
   "metadata": {},
   "outputs": [
    {
     "data": {
      "text/plain": [
       "Fully Paid     0.804281\n",
       "Charged Off    0.195719\n",
       "Name: loan_status, dtype: float64"
      ]
     },
     "execution_count": 431,
     "metadata": {},
     "output_type": "execute_result"
    }
   ],
   "source": [
    "# check distribution for binary classification\n",
    "df_fc['loan_status'].value_counts(normalize=True)"
   ]
  },
  {
   "cell_type": "code",
   "execution_count": 433,
   "metadata": {},
   "outputs": [
    {
     "data": {
      "text/plain": [
       "0    0.804281\n",
       "1    0.195719\n",
       "Name: target, dtype: float64"
      ]
     },
     "execution_count": 433,
     "metadata": {},
     "output_type": "execute_result"
    }
   ],
   "source": [
    "# fully paid: 0, charged off:1\n",
    "df_fc['target'] = df_fc['loan_status'].apply(lambda x:0 if x=='Fully Paid' else 1)\n",
    "df_fc['target'].value_counts(normalize=True) "
   ]
  },
  {
   "cell_type": "code",
   "execution_count": 462,
   "metadata": {},
   "outputs": [
    {
     "data": {
      "text/html": [
       "<div>\n",
       "<style scoped>\n",
       "    .dataframe tbody tr th:only-of-type {\n",
       "        vertical-align: middle;\n",
       "    }\n",
       "\n",
       "    .dataframe tbody tr th {\n",
       "        vertical-align: top;\n",
       "    }\n",
       "\n",
       "    .dataframe thead th {\n",
       "        text-align: right;\n",
       "    }\n",
       "</style>\n",
       "<table border=\"1\" class=\"dataframe\">\n",
       "  <thead>\n",
       "    <tr style=\"text-align: right;\">\n",
       "      <th></th>\n",
       "      <th>issue_d</th>\n",
       "      <th>earliest_cr_line</th>\n",
       "      <th>last_pymnt_d</th>\n",
       "      <th>last_credit_pull_d</th>\n",
       "      <th>int_rate</th>\n",
       "      <th>revol_util</th>\n",
       "      <th>hardship_flag</th>\n",
       "      <th>application_type</th>\n",
       "      <th>title</th>\n",
       "      <th>emp_length</th>\n",
       "      <th>sub_grade</th>\n",
       "      <th>verification_status</th>\n",
       "      <th>pymnt_plan</th>\n",
       "      <th>debt_settlement_flag</th>\n",
       "      <th>grade</th>\n",
       "      <th>home_ownership</th>\n",
       "      <th>addr_state</th>\n",
       "      <th>initial_list_status</th>\n",
       "      <th>term</th>\n",
       "      <th>loan_status</th>\n",
       "      <th>purpose</th>\n",
       "      <th>loan_amnt</th>\n",
       "      <th>funded_amnt</th>\n",
       "      <th>funded_amnt_inv</th>\n",
       "      <th>int_rate.1</th>\n",
       "      <th>...</th>\n",
       "      <th>mths_since_recent_inq</th>\n",
       "      <th>num_accts_ever_120_pd</th>\n",
       "      <th>num_actv_bc_tl</th>\n",
       "      <th>num_actv_rev_tl</th>\n",
       "      <th>num_bc_sats</th>\n",
       "      <th>num_bc_tl</th>\n",
       "      <th>num_il_tl</th>\n",
       "      <th>num_op_rev_tl</th>\n",
       "      <th>num_rev_accts</th>\n",
       "      <th>num_rev_tl_bal_gt_0</th>\n",
       "      <th>num_sats</th>\n",
       "      <th>num_tl_120dpd_2m</th>\n",
       "      <th>num_tl_30dpd</th>\n",
       "      <th>num_tl_90g_dpd_24m</th>\n",
       "      <th>num_tl_op_past_12m</th>\n",
       "      <th>pct_tl_nvr_dlq</th>\n",
       "      <th>percent_bc_gt_75</th>\n",
       "      <th>pub_rec_bankruptcies</th>\n",
       "      <th>tax_liens</th>\n",
       "      <th>tot_hi_cred_lim</th>\n",
       "      <th>total_bal_ex_mort</th>\n",
       "      <th>total_bc_limit</th>\n",
       "      <th>total_il_high_credit_limit</th>\n",
       "      <th>region</th>\n",
       "      <th>emp_length_num</th>\n",
       "    </tr>\n",
       "    <tr>\n",
       "      <th>id</th>\n",
       "      <th></th>\n",
       "      <th></th>\n",
       "      <th></th>\n",
       "      <th></th>\n",
       "      <th></th>\n",
       "      <th></th>\n",
       "      <th></th>\n",
       "      <th></th>\n",
       "      <th></th>\n",
       "      <th></th>\n",
       "      <th></th>\n",
       "      <th></th>\n",
       "      <th></th>\n",
       "      <th></th>\n",
       "      <th></th>\n",
       "      <th></th>\n",
       "      <th></th>\n",
       "      <th></th>\n",
       "      <th></th>\n",
       "      <th></th>\n",
       "      <th></th>\n",
       "      <th></th>\n",
       "      <th></th>\n",
       "      <th></th>\n",
       "      <th></th>\n",
       "      <th></th>\n",
       "      <th></th>\n",
       "      <th></th>\n",
       "      <th></th>\n",
       "      <th></th>\n",
       "      <th></th>\n",
       "      <th></th>\n",
       "      <th></th>\n",
       "      <th></th>\n",
       "      <th></th>\n",
       "      <th></th>\n",
       "      <th></th>\n",
       "      <th></th>\n",
       "      <th></th>\n",
       "      <th></th>\n",
       "      <th></th>\n",
       "      <th></th>\n",
       "      <th></th>\n",
       "      <th></th>\n",
       "      <th></th>\n",
       "      <th></th>\n",
       "      <th></th>\n",
       "      <th></th>\n",
       "      <th></th>\n",
       "      <th></th>\n",
       "      <th></th>\n",
       "    </tr>\n",
       "  </thead>\n",
       "  <tbody>\n",
       "    <tr>\n",
       "      <td>7705836</td>\n",
       "      <td>2013-10-01</td>\n",
       "      <td>2008-03-01</td>\n",
       "      <td>2015-06-01</td>\n",
       "      <td>2016-10-01</td>\n",
       "      <td>15.61</td>\n",
       "      <td>69.1</td>\n",
       "      <td>N</td>\n",
       "      <td>Individual</td>\n",
       "      <td>debt consolidation</td>\n",
       "      <td>&lt; 1 year</td>\n",
       "      <td>C3</td>\n",
       "      <td>Not Verified</td>\n",
       "      <td>n</td>\n",
       "      <td>N</td>\n",
       "      <td>C</td>\n",
       "      <td>MORTGAGE</td>\n",
       "      <td>IA</td>\n",
       "      <td>f</td>\n",
       "      <td>36 months</td>\n",
       "      <td>Charged Off</td>\n",
       "      <td>debt_consolidation</td>\n",
       "      <td>7200.0</td>\n",
       "      <td>7200.0</td>\n",
       "      <td>7200.0</td>\n",
       "      <td>15.61</td>\n",
       "      <td>...</td>\n",
       "      <td>16.0</td>\n",
       "      <td>0.0</td>\n",
       "      <td>0.0</td>\n",
       "      <td>3.0</td>\n",
       "      <td>0.0</td>\n",
       "      <td>0.0</td>\n",
       "      <td>6.0</td>\n",
       "      <td>3.0</td>\n",
       "      <td>6.0</td>\n",
       "      <td>3.0</td>\n",
       "      <td>6.0</td>\n",
       "      <td>0.0</td>\n",
       "      <td>0.0</td>\n",
       "      <td>0.0</td>\n",
       "      <td>1.0</td>\n",
       "      <td>100.0</td>\n",
       "      <td>NaN</td>\n",
       "      <td>0.0</td>\n",
       "      <td>0.0</td>\n",
       "      <td>49146.0</td>\n",
       "      <td>34037.0</td>\n",
       "      <td>0.0</td>\n",
       "      <td>29146.0</td>\n",
       "      <td>midwest</td>\n",
       "      <td>0.0</td>\n",
       "    </tr>\n",
       "    <tr>\n",
       "      <td>13006761</td>\n",
       "      <td>2014-03-01</td>\n",
       "      <td>2006-01-01</td>\n",
       "      <td>2016-09-01</td>\n",
       "      <td>2016-10-01</td>\n",
       "      <td>15.61</td>\n",
       "      <td>38.5</td>\n",
       "      <td>N</td>\n",
       "      <td>Individual</td>\n",
       "      <td>Car financing</td>\n",
       "      <td>1 year</td>\n",
       "      <td>C5</td>\n",
       "      <td>Source Verified</td>\n",
       "      <td>n</td>\n",
       "      <td>N</td>\n",
       "      <td>C</td>\n",
       "      <td>RENT</td>\n",
       "      <td>IA</td>\n",
       "      <td>w</td>\n",
       "      <td>36 months</td>\n",
       "      <td>Fully Paid</td>\n",
       "      <td>car</td>\n",
       "      <td>6725.0</td>\n",
       "      <td>6725.0</td>\n",
       "      <td>6725.0</td>\n",
       "      <td>15.61</td>\n",
       "      <td>...</td>\n",
       "      <td>10.0</td>\n",
       "      <td>1.0</td>\n",
       "      <td>4.0</td>\n",
       "      <td>4.0</td>\n",
       "      <td>4.0</td>\n",
       "      <td>6.0</td>\n",
       "      <td>3.0</td>\n",
       "      <td>6.0</td>\n",
       "      <td>9.0</td>\n",
       "      <td>4.0</td>\n",
       "      <td>7.0</td>\n",
       "      <td>0.0</td>\n",
       "      <td>0.0</td>\n",
       "      <td>0.0</td>\n",
       "      <td>2.0</td>\n",
       "      <td>76.9</td>\n",
       "      <td>50.0</td>\n",
       "      <td>0.0</td>\n",
       "      <td>0.0</td>\n",
       "      <td>21883.0</td>\n",
       "      <td>15134.0</td>\n",
       "      <td>2900.0</td>\n",
       "      <td>16483.0</td>\n",
       "      <td>midwest</td>\n",
       "      <td>1.0</td>\n",
       "    </tr>\n",
       "  </tbody>\n",
       "</table>\n",
       "<p>2 rows × 92 columns</p>\n",
       "</div>"
      ],
      "text/plain": [
       "            issue_d earliest_cr_line last_pymnt_d last_credit_pull_d  \\\n",
       "id                                                                     \n",
       "7705836  2013-10-01       2008-03-01   2015-06-01         2016-10-01   \n",
       "13006761 2014-03-01       2006-01-01   2016-09-01         2016-10-01   \n",
       "\n",
       "          int_rate  revol_util hardship_flag application_type  \\\n",
       "id                                                              \n",
       "7705836      15.61        69.1             N       Individual   \n",
       "13006761     15.61        38.5             N       Individual   \n",
       "\n",
       "                       title emp_length sub_grade verification_status  \\\n",
       "id                                                                      \n",
       "7705836   debt consolidation   < 1 year        C3        Not Verified   \n",
       "13006761       Car financing     1 year        C5     Source Verified   \n",
       "\n",
       "         pymnt_plan debt_settlement_flag grade home_ownership addr_state  \\\n",
       "id                                                                         \n",
       "7705836           n                    N     C       MORTGAGE         IA   \n",
       "13006761          n                    N     C           RENT         IA   \n",
       "\n",
       "         initial_list_status        term  loan_status             purpose  \\\n",
       "id                                                                          \n",
       "7705836                    f   36 months  Charged Off  debt_consolidation   \n",
       "13006761                   w   36 months   Fully Paid                 car   \n",
       "\n",
       "          loan_amnt  funded_amnt  funded_amnt_inv  int_rate.1  ...  \\\n",
       "id                                                             ...   \n",
       "7705836      7200.0       7200.0           7200.0       15.61  ...   \n",
       "13006761     6725.0       6725.0           6725.0       15.61  ...   \n",
       "\n",
       "          mths_since_recent_inq  num_accts_ever_120_pd  num_actv_bc_tl  \\\n",
       "id                                                                       \n",
       "7705836                    16.0                    0.0             0.0   \n",
       "13006761                   10.0                    1.0             4.0   \n",
       "\n",
       "          num_actv_rev_tl  num_bc_sats  num_bc_tl  num_il_tl  num_op_rev_tl  \\\n",
       "id                                                                            \n",
       "7705836               3.0          0.0        0.0        6.0            3.0   \n",
       "13006761              4.0          4.0        6.0        3.0            6.0   \n",
       "\n",
       "          num_rev_accts  num_rev_tl_bal_gt_0  num_sats  num_tl_120dpd_2m  \\\n",
       "id                                                                         \n",
       "7705836             6.0                  3.0       6.0               0.0   \n",
       "13006761            9.0                  4.0       7.0               0.0   \n",
       "\n",
       "          num_tl_30dpd  num_tl_90g_dpd_24m  num_tl_op_past_12m  \\\n",
       "id                                                               \n",
       "7705836            0.0                 0.0                 1.0   \n",
       "13006761           0.0                 0.0                 2.0   \n",
       "\n",
       "          pct_tl_nvr_dlq  percent_bc_gt_75  pub_rec_bankruptcies  tax_liens  \\\n",
       "id                                                                            \n",
       "7705836            100.0               NaN                   0.0        0.0   \n",
       "13006761            76.9              50.0                   0.0        0.0   \n",
       "\n",
       "          tot_hi_cred_lim  total_bal_ex_mort  total_bc_limit  \\\n",
       "id                                                             \n",
       "7705836           49146.0            34037.0             0.0   \n",
       "13006761          21883.0            15134.0          2900.0   \n",
       "\n",
       "          total_il_high_credit_limit   region  emp_length_num  \n",
       "id                                                             \n",
       "7705836                      29146.0  midwest             0.0  \n",
       "13006761                     16483.0  midwest             1.0  \n",
       "\n",
       "[2 rows x 92 columns]"
      ]
     },
     "execution_count": 462,
     "metadata": {},
     "output_type": "execute_result"
    }
   ],
   "source": [
    "df.query(\"addr_state == 'IA'\").head()"
   ]
  },
  {
   "cell_type": "markdown",
   "metadata": {},
   "source": [
    "IA has the highest default rate, but it only has two data points. We have to remove this, because it is an outlier. "
   ]
  },
  {
   "cell_type": "code",
   "execution_count": 471,
   "metadata": {},
   "outputs": [],
   "source": [
    "# remove IA from addr_state\n",
    "df_fc = df_fc[df_fc['addr_state'] != 'IA']"
   ]
  },
  {
   "cell_type": "markdown",
   "metadata": {},
   "source": [
    "## 2- Loan Issued by States"
   ]
  },
  {
   "cell_type": "code",
   "execution_count": 472,
   "metadata": {},
   "outputs": [
    {
     "name": "stdout",
     "output_type": "stream",
     "text": [
      "['NY' 'TX' 'MI' 'NC' 'CT' 'FL' 'CA' 'CO' 'NM' 'MA' 'NJ' 'PA' 'UT' 'SC'\n",
      " 'OH' 'IN' 'AZ' 'DE' 'KY' 'GA' 'WI' 'IL' 'MO' 'WY' 'TN' 'WA' 'MD' 'VA'\n",
      " 'MN' 'NH' 'NV' 'KS' 'AL' 'RI' 'OR' 'WV' 'LA' 'VT' 'AR' 'OK' 'HI' 'MT'\n",
      " 'AK' 'SD' 'DC' 'NE' 'MS' 'ID' 'ME' 'ND']\n",
      "50\n"
     ]
    }
   ],
   "source": [
    "states = df_fc['addr_state'].unique()\n",
    "print(states)\n",
    "print(len(states))"
   ]
  },
  {
   "cell_type": "markdown",
   "metadata": {},
   "source": [
    "Census Bureau-designated regions and divisions\n",
    "https://en.wikipedia.org/wiki/List_of_regions_of_the_United_States\n"
   ]
  },
  {
   "cell_type": "code",
   "execution_count": 473,
   "metadata": {},
   "outputs": [],
   "source": [
    "# Make a list with each of the regions by state.\n",
    "\n",
    "northeast = ['CT','ME','MA','NH','RI','VT','NJ','NY','PA']\n",
    "midwest = ['IL','IN','MI','OH','WI','IA','KS','MN','MO','NE','ND','SD']\n",
    "south = ['DE','FL','GA','AZ','MD','NC','SC','VA','DC','WV','AL','KY','MS','TN','AR','LA','OK','TX']\n",
    "west = ['CO','ID','MT','NV','NM','UT','WY','AK','CA','HI','OR','WA']\n",
    "states_all = northeast + midwest + south + west\n",
    "assert len(states_all) == 51\n"
   ]
  },
  {
   "cell_type": "code",
   "execution_count": 474,
   "metadata": {},
   "outputs": [
    {
     "data": {
      "text/plain": [
       "{'IA'}"
      ]
     },
     "execution_count": 474,
     "metadata": {},
     "output_type": "execute_result"
    }
   ],
   "source": [
    "# find out which state is missing\n",
    "set(states_all).difference(set(states))\n"
   ]
  },
  {
   "cell_type": "markdown",
   "metadata": {},
   "source": [
    "According to Lending club website, LC does not accept borrower resident in Iowa.\n",
    "https://blog.lendingclub.com/is-lending-club-available-in-my-state/\n"
   ]
  },
  {
   "cell_type": "code",
   "execution_count": 475,
   "metadata": {},
   "outputs": [],
   "source": [
    "# add region column\n",
    "df_fc['region'] = np.nan\n",
    "\n",
    "def finding_regions(state):\n",
    "    if state in northeast:\n",
    "        return 'northeast'\n",
    "    elif state in midwest:\n",
    "        return 'midwest'\n",
    "    elif state in south:\n",
    "        return 'south'\n",
    "    elif state in west:\n",
    "        return 'west'\n",
    "    \n",
    "df_fc['region'] = df_fc['addr_state'].apply(finding_regions)"
   ]
  },
  {
   "cell_type": "code",
   "execution_count": 476,
   "metadata": {},
   "outputs": [],
   "source": [
    "df_state_loan_amnt = df_fc.groupby(['region','addr_state'])['loan_amnt'].sum().sort_values(ascending=False).to_frame().reset_index()\n",
    "df_state_income = df_fc.groupby(['region','addr_state'])['annual_inc'].median().sort_values(ascending=False).to_frame().reset_index()\n",
    "\n",
    "df_target = df_fc.groupby(['region','addr_state'])['target'].value_counts(normalize=True).to_frame()\n",
    "df_target = df_target.iloc[df_target.index.get_level_values('target') == 1]\\\n",
    "    .rename(columns={\"target\": \"default_rate\"}).reset_index().sort_values(by=[\"default_rate\"], ascending=False)"
   ]
  },
  {
   "cell_type": "code",
   "execution_count": 478,
   "metadata": {},
   "outputs": [
    {
     "data": {
      "image/png": "[encoded data removed]",
      "text/plain": [
       "<Figure size 1440x1080 with 3 Axes>"
      ]
     },
     "metadata": {
      "needs_background": "light"
     },
     "output_type": "display_data"
    }
   ],
   "source": [
    "fig, (ax1, ax2, ax3) = plt.subplots(3, 1, sharex=False, figsize=(20,15))\n",
    "\n",
    "palette ={\"northeast\":\"C0\",\"midwest\":\"C1\",\"south\":\"C2\", \"west\":\"C3\"}\n",
    "\n",
    "sns.barplot('addr_state', 'loan_amnt', hue='region', dodge=False, \\\n",
    "            data=df_state_loan_amnt,ax=ax1, palette=palette)\n",
    "ax1.set_title('Total Loan Amount by States',fontsize=14)\n",
    "ax1.set_xlabel('')\n",
    "ax1.set_ylabel('Total loan amount issued', fontsize=14)\n",
    "\n",
    "sns.barplot('addr_state', 'annual_inc', hue='region',dodge=False, \\\n",
    "            data=df_state_income, ax=ax2, palette=palette) \n",
    "ax2.set_title('Median income by States',fontsize=14)\n",
    "ax2.set_xlabel('')\n",
    "ax2.set_ylabel('Median Annual income', fontsize=14)\n",
    "\n",
    "sns.barplot('addr_state', 'default_rate', hue='region',dodge=False, \\\n",
    "            data=df_target, ax=ax3,palette=palette)\n",
    "ax3.set_title('Default Rate by States',fontsize=14)\n",
    "ax3.set_xlabel('')\n",
    "ax3.set_ylabel('Default rate', fontsize=14)\n",
    "\n",
    "# adjust font size\n",
    "for ax in (ax1, ax2, ax3):\n",
    "    for tick in ax.xaxis.get_major_ticks():\n",
    "        tick.label.set_fontsize(13)"
   ]
  },
  {
   "cell_type": "code",
   "execution_count": 479,
   "metadata": {},
   "outputs": [],
   "source": [
    "df_region_loan_amnt = df_fc.groupby(['region'])['loan_amnt'].sum().sort_values(ascending=False).to_frame().reset_index()\n",
    "df_region_income = df_fc.groupby(['region'])['annual_inc'].median().sort_values(ascending=False).to_frame().reset_index()\n",
    "\n",
    "df_region_target = df_fc.groupby(['region'])['target'].value_counts(normalize=True).to_frame()\n",
    "df_region_target = df_region_target.iloc[df_region_target.index.get_level_values('target') == 1]\\\n",
    "    .rename(columns={\"target\": \"default_rate\"}).reset_index().sort_values(by=[\"default_rate\"], ascending=False)"
   ]
  },
  {
   "cell_type": "code",
   "execution_count": 485,
   "metadata": {},
   "outputs": [
    {
     "data": {
      "image/png": "[encoded data removed]",
      "text/plain": [
       "<Figure size 1440x360 with 3 Axes>"
      ]
     },
     "metadata": {
      "needs_background": "light"
     },
     "output_type": "display_data"
    }
   ],
   "source": [
    "fig, (ax1, ax2, ax3) = plt.subplots(1, 3, sharex=False, figsize=(20,5))\n",
    "\n",
    "palette ={\"northeast\":\"C0\",\"midwest\":\"C1\",\"south\":\"C2\", \"west\":\"C3\"}\n",
    "\n",
    "sns.barplot(x='region', y='loan_amnt', data=df_region_loan_amnt, ax=ax1, palette=palette)\n",
    "ax1.set_title('Total Loan Amount by Region',fontsize=14)\n",
    "ax1.set_xlabel('')\n",
    "ax1.set_ylabel('Total loan amount issued', fontsize=14)\n",
    "\n",
    "sns.barplot('region', 'annual_inc', data=df_region_income, ax=ax2, palette=palette) \n",
    "ax2.set_title('Median income by Regions',fontsize=14)\n",
    "ax2.set_xlabel('')\n",
    "ax2.set_ylabel('Median Annual income', fontsize=14)\n",
    "\n",
    "sns.barplot('region', 'default_rate', data=df_region_target , ax=ax3,palette=palette)\n",
    "ax3.set_title('Default Rate by Regions',fontsize=14)\n",
    "ax3.set_xlabel('')\n",
    "ax3.set_ylabel('Default rate', fontsize=14)\n",
    "\n",
    "# adjust font size\n",
    "for ax in (ax1, ax2, ax3):\n",
    "    for tick in ax.xaxis.get_major_ticks():\n",
    "        tick.label.set_fontsize(15)"
   ]
  },
  {
   "cell_type": "code",
   "execution_count": 486,
   "metadata": {},
   "outputs": [],
   "source": [
    "# join dataframes\n",
    "df_join = pd.merge(df_state_loan_amnt[['addr_state','loan_amnt']],\n",
    "                    df_state_income[['addr_state', 'annual_inc']],\n",
    "                    on='addr_state', how='inner')\n",
    "\n",
    "df_join = pd.merge(df_join, df_target[['addr_state', 'default_rate']],on='addr_state', how='inner')"
   ]
  },
  {
   "cell_type": "code",
   "execution_count": 487,
   "metadata": {},
   "outputs": [
    {
     "data": {
      "text/html": [
       "<div>\n",
       "<style scoped>\n",
       "    .dataframe tbody tr th:only-of-type {\n",
       "        vertical-align: middle;\n",
       "    }\n",
       "\n",
       "    .dataframe tbody tr th {\n",
       "        vertical-align: top;\n",
       "    }\n",
       "\n",
       "    .dataframe thead th {\n",
       "        text-align: right;\n",
       "    }\n",
       "</style>\n",
       "<table border=\"1\" class=\"dataframe\">\n",
       "  <thead>\n",
       "    <tr style=\"text-align: right;\">\n",
       "      <th></th>\n",
       "      <th>state</th>\n",
       "      <th>loan_amount</th>\n",
       "      <th>income</th>\n",
       "      <th>default_rate</th>\n",
       "    </tr>\n",
       "  </thead>\n",
       "  <tbody>\n",
       "    <tr>\n",
       "      <td>0</td>\n",
       "      <td>CA</td>\n",
       "      <td>3.554573e+09</td>\n",
       "      <td>70000.0</td>\n",
       "      <td>0.194140</td>\n",
       "    </tr>\n",
       "    <tr>\n",
       "      <td>1</td>\n",
       "      <td>TX</td>\n",
       "      <td>2.112651e+09</td>\n",
       "      <td>70000.0</td>\n",
       "      <td>0.196030</td>\n",
       "    </tr>\n",
       "    <tr>\n",
       "      <td>2</td>\n",
       "      <td>NY</td>\n",
       "      <td>1.967311e+09</td>\n",
       "      <td>65500.0</td>\n",
       "      <td>0.218457</td>\n",
       "    </tr>\n",
       "    <tr>\n",
       "      <td>3</td>\n",
       "      <td>FL</td>\n",
       "      <td>1.677667e+09</td>\n",
       "      <td>60000.0</td>\n",
       "      <td>0.212373</td>\n",
       "    </tr>\n",
       "    <tr>\n",
       "      <td>4</td>\n",
       "      <td>IL</td>\n",
       "      <td>9.747600e+08</td>\n",
       "      <td>67250.0</td>\n",
       "      <td>0.177545</td>\n",
       "    </tr>\n",
       "  </tbody>\n",
       "</table>\n",
       "</div>"
      ],
      "text/plain": [
       "  state   loan_amount   income  default_rate\n",
       "0    CA  3.554573e+09  70000.0      0.194140\n",
       "1    TX  2.112651e+09  70000.0      0.196030\n",
       "2    NY  1.967311e+09  65500.0      0.218457\n",
       "3    FL  1.677667e+09  60000.0      0.212373\n",
       "4    IL  9.747600e+08  67250.0      0.177545"
      ]
     },
     "execution_count": 487,
     "metadata": {},
     "output_type": "execute_result"
    }
   ],
   "source": [
    "df_join = df_join.rename(columns={'addr_state':'state', 'loan_amnt':'loan_amount', 'annual_inc': 'income'})\n",
    "df_join.head()"
   ]
  },
  {
   "cell_type": "code",
   "execution_count": 488,
   "metadata": {},
   "outputs": [],
   "source": [
    "# round default rate\n",
    "df_join['default_rate'] = df_join['default_rate'].apply(lambda x: round(x*100, 1))"
   ]
  },
  {
   "cell_type": "code",
   "execution_count": 498,
   "metadata": {},
   "outputs": [
    {
     "data": {
      "application/vnd.plotly.v1+json": {
       "config": {
        "linkText": "Export to plot.ly",
        "plotlyServerURL": "https://plot.ly",
        "showLink": false
       },
       "data": [
        {
         "autocolorscale": false,
         "colorbar": {
          "title": {
           "text": "$ USD"
          }
         },
         "colorscale": [
          [
           0,
           "rgb(255,245,240)"
          ],
          [
           0.125,
           "rgb(254,224,210)"
          ],
          [
           0.25,
           "rgb(252,187,161)"
          ],
          [
           0.375,
           "rgb(252,146,114)"
          ],
          [
           0.5,
           "rgb(251,106,74)"
          ],
          [
           0.625,
           "rgb(239,59,44)"
          ],
          [
           0.75,
           "rgb(203,24,29)"
          ],
          [
           0.875,
           "rgb(165,15,21)"
          ],
          [
           1,
           "rgb(103,0,13)"
          ]
         ],
         "locationmode": "USA-states",
         "locations": [
          "CA",
          "TX",
          "NY",
          "FL",
          "IL",
          "NJ",
          "GA",
          "PA",
          "OH",
          "VA",
          "NC",
          "MI",
          "MD",
          "MA",
          "AZ",
          "CO",
          "WA",
          "MN",
          "IN",
          "TN",
          "MO",
          "CT",
          "NV",
          "WI",
          "AL",
          "SC",
          "OR",
          "LA",
          "KY",
          "OK",
          "KS",
          "UT",
          "AR",
          "NM",
          "MS",
          "HI",
          "NH",
          "RI",
          "WV",
          "NE",
          "DE",
          "AK",
          "MT",
          "DC",
          "WY",
          "SD",
          "VT",
          "ME",
          "ID",
          "ND"
         ],
         "marker": {
          "line": {
           "color": "rgb(255,255,255)",
           "width": 2
          }
         },
         "text": [
          "CA<br>Mean default rate: 19.4 %<br>Median annual income: 70000.0",
          "TX<br>Mean default rate: 19.6 %<br>Median annual income: 70000.0",
          "NY<br>Mean default rate: 21.8 %<br>Median annual income: 65500.0",
          "FL<br>Mean default rate: 21.2 %<br>Median annual income: 60000.0",
          "IL<br>Mean default rate: 17.8 %<br>Median annual income: 67250.0",
          "NJ<br>Mean default rate: 20.5 %<br>Median annual income: 74000.0",
          "GA<br>Mean default rate: 18.4 %<br>Median annual income: 65000.0",
          "PA<br>Mean default rate: 20.3 %<br>Median annual income: 62000.0",
          "OH<br>Mean default rate: 19.6 %<br>Median annual income: 60000.0",
          "VA<br>Mean default rate: 19.5 %<br>Median annual income: 71064.0",
          "NC<br>Mean default rate: 20.1 %<br>Median annual income: 60000.0",
          "MI<br>Mean default rate: 19.6 %<br>Median annual income: 60000.0",
          "MD<br>Mean default rate: 21.0 %<br>Median annual income: 75000.0",
          "MA<br>Mean default rate: 18.7 %<br>Median annual income: 70000.0",
          "AZ<br>Mean default rate: 19.2 %<br>Median annual income: 62000.0",
          "CO<br>Mean default rate: 15.2 %<br>Median annual income: 65000.0",
          "WA<br>Mean default rate: 15.2 %<br>Median annual income: 66067.0",
          "MN<br>Mean default rate: 19.3 %<br>Median annual income: 60528.925",
          "IN<br>Mean default rate: 20.5 %<br>Median annual income: 60000.0",
          "TN<br>Mean default rate: 20.5 %<br>Median annual income: 60000.0",
          "MO<br>Mean default rate: 20.5 %<br>Median annual income: 60000.0",
          "CT<br>Mean default rate: 17.7 %<br>Median annual income: 70000.0",
          "NV<br>Mean default rate: 21.1 %<br>Median annual income: 61000.0",
          "WI<br>Mean default rate: 18.5 %<br>Median annual income: 60000.0",
          "AL<br>Mean default rate: 23.1 %<br>Median annual income: 60000.0",
          "SC<br>Mean default rate: 15.5 %<br>Median annual income: 60000.0",
          "OR<br>Mean default rate: 14.2 %<br>Median annual income: 60000.0",
          "LA<br>Mean default rate: 22.5 %<br>Median annual income: 65000.0",
          "KY<br>Mean default rate: 20.1 %<br>Median annual income: 60000.0",
          "OK<br>Mean default rate: 22.9 %<br>Median annual income: 61000.0",
          "KS<br>Mean default rate: 16.6 %<br>Median annual income: 60000.0",
          "UT<br>Mean default rate: 16.3 %<br>Median annual income: 62200.0",
          "AR<br>Mean default rate: 23.8 %<br>Median annual income: 57000.0",
          "NM<br>Mean default rate: 20.8 %<br>Median annual income: 62000.0",
          "MS<br>Mean default rate: 25.1 %<br>Median annual income: 60000.0",
          "HI<br>Mean default rate: 20.1 %<br>Median annual income: 65000.0",
          "NH<br>Mean default rate: 14.7 %<br>Median annual income: 65000.0",
          "RI<br>Mean default rate: 17.5 %<br>Median annual income: 65000.0",
          "WV<br>Mean default rate: 14.7 %<br>Median annual income: 60000.0",
          "NE<br>Mean default rate: 22.8 %<br>Median annual income: 55000.0",
          "DE<br>Mean default rate: 19.2 %<br>Median annual income: 65000.0",
          "AK<br>Mean default rate: 19.1 %<br>Median annual income: 72000.0",
          "MT<br>Mean default rate: 16.2 %<br>Median annual income: 55000.0",
          "DC<br>Mean default rate: 13.6 %<br>Median annual income: 82000.0",
          "WY<br>Mean default rate: 16.5 %<br>Median annual income: 65000.0",
          "SD<br>Mean default rate: 20.2 %<br>Median annual income: 54000.0",
          "VT<br>Mean default rate: 13.3 %<br>Median annual income: 59000.0",
          "ME<br>Mean default rate: 13.1 %<br>Median annual income: 59000.0",
          "ID<br>Mean default rate: 16.0 %<br>Median annual income: 55000.0",
          "ND<br>Mean default rate: 18.8 %<br>Median annual income: 60000.0"
         ],
         "type": "choropleth",
         "z": [
          "3554572925.0",
          "2112651275.0",
          "1967310925.0",
          "1677667300.0",
          "974759975.0",
          "922348575.0",
          "805941800.0",
          "802309075.0",
          "762102850.0",
          "724857125.0",
          "677072425.0",
          "615532900.0",
          "599781150.0",
          "590969475.0",
          "580315125.0",
          "545221425.0",
          "541055450.0",
          "421091375.0",
          "398128200.0",
          "378240175.0",
          "374718350.0",
          "370874300.0",
          "354702075.0",
          "311505850.0",
          "292058400.0",
          "287843775.0",
          "279322250.0",
          "274462125.0",
          "221852975.0",
          "221601050.0",
          "199981375.0",
          "181097525.0",
          "172272550.0",
          "131710425.0",
          "127519075.0",
          "127282375.0",
          "118257125.0",
          "101791625.0",
          "84087900.0",
          "70928750.0",
          "68380900.0",
          "66005450.0",
          "64786825.0",
          "62259575.0",
          "54721850.0",
          "47099875.0",
          "46753575.0",
          "43462600.0",
          "39451825.0",
          "34606500.0"
         ]
        }
       ],
       "layout": {
        "geo": {
         "lakecolor": "rgb(255, 255, 255)",
         "projection": {
          "type": "albers usa"
         },
         "scope": "usa",
         "showlakes": true
        },
        "template": {
         "data": {
          "bar": [
           {
            "error_x": {
             "color": "#2a3f5f"
            },
            "error_y": {
             "color": "#2a3f5f"
            },
            "marker": {
             "line": {
              "color": "#E5ECF6",
              "width": 0.5
             }
            },
            "type": "bar"
           }
          ],
          "barpolar": [
           {
            "marker": {
             "line": {
              "color": "#E5ECF6",
              "width": 0.5
             }
            },
            "type": "barpolar"
           }
          ],
          "carpet": [
           {
            "aaxis": {
             "endlinecolor": "#2a3f5f",
             "gridcolor": "white",
             "linecolor": "white",
             "minorgridcolor": "white",
             "startlinecolor": "#2a3f5f"
            },
            "baxis": {
             "endlinecolor": "#2a3f5f",
             "gridcolor": "white",
             "linecolor": "white",
             "minorgridcolor": "white",
             "startlinecolor": "#2a3f5f"
            },
            "type": "carpet"
           }
          ],
          "choropleth": [
           {
            "colorbar": {
             "outlinewidth": 0,
             "ticks": ""
            },
            "type": "choropleth"
           }
          ],
          "contour": [
           {
            "colorbar": {
             "outlinewidth": 0,
             "ticks": ""
            },
            "colorscale": [
             [
              0,
              "#0d0887"
             ],
             [
              0.1111111111111111,
              "#46039f"
             ],
             [
              0.2222222222222222,
              "#7201a8"
             ],
             [
              0.3333333333333333,
              "#9c179e"
             ],
             [
              0.4444444444444444,
              "#bd3786"
             ],
             [
              0.5555555555555556,
              "#d8576b"
             ],
             [
              0.6666666666666666,
              "#ed7953"
             ],
             [
              0.7777777777777778,
              "#fb9f3a"
             ],
             [
              0.8888888888888888,
              "#fdca26"
             ],
             [
              1,
              "#f0f921"
             ]
            ],
            "type": "contour"
           }
          ],
          "contourcarpet": [
           {
            "colorbar": {
             "outlinewidth": 0,
             "ticks": ""
            },
            "type": "contourcarpet"
           }
          ],
          "heatmap": [
           {
            "colorbar": {
             "outlinewidth": 0,
             "ticks": ""
            },
            "colorscale": [
             [
              0,
              "#0d0887"
             ],
             [
              0.1111111111111111,
              "#46039f"
             ],
             [
              0.2222222222222222,
              "#7201a8"
             ],
             [
              0.3333333333333333,
              "#9c179e"
             ],
             [
              0.4444444444444444,
              "#bd3786"
             ],
             [
              0.5555555555555556,
              "#d8576b"
             ],
             [
              0.6666666666666666,
              "#ed7953"
             ],
             [
              0.7777777777777778,
              "#fb9f3a"
             ],
             [
              0.8888888888888888,
              "#fdca26"
             ],
             [
              1,
              "#f0f921"
             ]
            ],
            "type": "heatmap"
           }
          ],
          "heatmapgl": [
           {
            "colorbar": {
             "outlinewidth": 0,
             "ticks": ""
            },
            "colorscale": [
             [
              0,
              "#0d0887"
             ],
             [
              0.1111111111111111,
              "#46039f"
             ],
             [
              0.2222222222222222,
              "#7201a8"
             ],
             [
              0.3333333333333333,
              "#9c179e"
             ],
             [
              0.4444444444444444,
              "#bd3786"
             ],
             [
              0.5555555555555556,
              "#d8576b"
             ],
             [
              0.6666666666666666,
              "#ed7953"
             ],
             [
              0.7777777777777778,
              "#fb9f3a"
             ],
             [
              0.8888888888888888,
              "#fdca26"
             ],
             [
              1,
              "#f0f921"
             ]
            ],
            "type": "heatmapgl"
           }
          ],
          "histogram": [
           {
            "marker": {
             "colorbar": {
              "outlinewidth": 0,
              "ticks": ""
             }
            },
            "type": "histogram"
           }
          ],
          "histogram2d": [
           {
            "colorbar": {
             "outlinewidth": 0,
             "ticks": ""
            },
            "colorscale": [
             [
              0,
              "#0d0887"
             ],
             [
              0.1111111111111111,
              "#46039f"
             ],
             [
              0.2222222222222222,
              "#7201a8"
             ],
             [
              0.3333333333333333,
              "#9c179e"
             ],
             [
              0.4444444444444444,
              "#bd3786"
             ],
             [
              0.5555555555555556,
              "#d8576b"
             ],
             [
              0.6666666666666666,
              "#ed7953"
             ],
             [
              0.7777777777777778,
              "#fb9f3a"
             ],
             [
              0.8888888888888888,
              "#fdca26"
             ],
             [
              1,
              "#f0f921"
             ]
            ],
            "type": "histogram2d"
           }
          ],
          "histogram2dcontour": [
           {
            "colorbar": {
             "outlinewidth": 0,
             "ticks": ""
            },
            "colorscale": [
             [
              0,
              "#0d0887"
             ],
             [
              0.1111111111111111,
              "#46039f"
             ],
             [
              0.2222222222222222,
              "#7201a8"
             ],
             [
              0.3333333333333333,
              "#9c179e"
             ],
             [
              0.4444444444444444,
              "#bd3786"
             ],
             [
              0.5555555555555556,
              "#d8576b"
             ],
             [
              0.6666666666666666,
              "#ed7953"
             ],
             [
              0.7777777777777778,
              "#fb9f3a"
             ],
             [
              0.8888888888888888,
              "#fdca26"
             ],
             [
              1,
              "#f0f921"
             ]
            ],
            "type": "histogram2dcontour"
           }
          ],
          "mesh3d": [
           {
            "colorbar": {
             "outlinewidth": 0,
             "ticks": ""
            },
            "type": "mesh3d"
           }
          ],
          "parcoords": [
           {
            "line": {
             "colorbar": {
              "outlinewidth": 0,
              "ticks": ""
             }
            },
            "type": "parcoords"
           }
          ],
          "pie": [
           {
            "automargin": true,
            "type": "pie"
           }
          ],
          "scatter": [
           {
            "marker": {
             "colorbar": {
              "outlinewidth": 0,
              "ticks": ""
             }
            },
            "type": "scatter"
           }
          ],
          "scatter3d": [
           {
            "line": {
             "colorbar": {
              "outlinewidth": 0,
              "ticks": ""
             }
            },
            "marker": {
             "colorbar": {
              "outlinewidth": 0,
              "ticks": ""
             }
            },
            "type": "scatter3d"
           }
          ],
          "scattercarpet": [
           {
            "marker": {
             "colorbar": {
              "outlinewidth": 0,
              "ticks": ""
             }
            },
            "type": "scattercarpet"
           }
          ],
          "scattergeo": [
           {
            "marker": {
             "colorbar": {
              "outlinewidth": 0,
              "ticks": ""
             }
            },
            "type": "scattergeo"
           }
          ],
          "scattergl": [
           {
            "marker": {
             "colorbar": {
              "outlinewidth": 0,
              "ticks": ""
             }
            },
            "type": "scattergl"
           }
          ],
          "scattermapbox": [
           {
            "marker": {
             "colorbar": {
              "outlinewidth": 0,
              "ticks": ""
             }
            },
            "type": "scattermapbox"
           }
          ],
          "scatterpolar": [
           {
            "marker": {
             "colorbar": {
              "outlinewidth": 0,
              "ticks": ""
             }
            },
            "type": "scatterpolar"
           }
          ],
          "scatterpolargl": [
           {
            "marker": {
             "colorbar": {
              "outlinewidth": 0,
              "ticks": ""
             }
            },
            "type": "scatterpolargl"
           }
          ],
          "scatterternary": [
           {
            "marker": {
             "colorbar": {
              "outlinewidth": 0,
              "ticks": ""
             }
            },
            "type": "scatterternary"
           }
          ],
          "surface": [
           {
            "colorbar": {
             "outlinewidth": 0,
             "ticks": ""
            },
            "colorscale": [
             [
              0,
              "#0d0887"
             ],
             [
              0.1111111111111111,
              "#46039f"
             ],
             [
              0.2222222222222222,
              "#7201a8"
             ],
             [
              0.3333333333333333,
              "#9c179e"
             ],
             [
              0.4444444444444444,
              "#bd3786"
             ],
             [
              0.5555555555555556,
              "#d8576b"
             ],
             [
              0.6666666666666666,
              "#ed7953"
             ],
             [
              0.7777777777777778,
              "#fb9f3a"
             ],
             [
              0.8888888888888888,
              "#fdca26"
             ],
             [
              1,
              "#f0f921"
             ]
            ],
            "type": "surface"
           }
          ],
          "table": [
           {
            "cells": {
             "fill": {
              "color": "#EBF0F8"
             },
             "line": {
              "color": "white"
             }
            },
            "header": {
             "fill": {
              "color": "#C8D4E3"
             },
             "line": {
              "color": "white"
             }
            },
            "type": "table"
           }
          ]
         },
         "layout": {
          "annotationdefaults": {
           "arrowcolor": "#2a3f5f",
           "arrowhead": 0,
           "arrowwidth": 1
          },
          "coloraxis": {
           "colorbar": {
            "outlinewidth": 0,
            "ticks": ""
           }
          },
          "colorscale": {
           "diverging": [
            [
             0,
             "#8e0152"
            ],
            [
             0.1,
             "#c51b7d"
            ],
            [
             0.2,
             "#de77ae"
            ],
            [
             0.3,
             "#f1b6da"
            ],
            [
             0.4,
             "#fde0ef"
            ],
            [
             0.5,
             "#f7f7f7"
            ],
            [
             0.6,
             "#e6f5d0"
            ],
            [
             0.7,
             "#b8e186"
            ],
            [
             0.8,
             "#7fbc41"
            ],
            [
             0.9,
             "#4d9221"
            ],
            [
             1,
             "#276419"
            ]
           ],
           "sequential": [
            [
             0,
             "#0d0887"
            ],
            [
             0.1111111111111111,
             "#46039f"
            ],
            [
             0.2222222222222222,
             "#7201a8"
            ],
            [
             0.3333333333333333,
             "#9c179e"
            ],
            [
             0.4444444444444444,
             "#bd3786"
            ],
            [
             0.5555555555555556,
             "#d8576b"
            ],
            [
             0.6666666666666666,
             "#ed7953"
            ],
            [
             0.7777777777777778,
             "#fb9f3a"
            ],
            [
             0.8888888888888888,
             "#fdca26"
            ],
            [
             1,
             "#f0f921"
            ]
           ],
           "sequentialminus": [
            [
             0,
             "#0d0887"
            ],
            [
             0.1111111111111111,
             "#46039f"
            ],
            [
             0.2222222222222222,
             "#7201a8"
            ],
            [
             0.3333333333333333,
             "#9c179e"
            ],
            [
             0.4444444444444444,
             "#bd3786"
            ],
            [
             0.5555555555555556,
             "#d8576b"
            ],
            [
             0.6666666666666666,
             "#ed7953"
            ],
            [
             0.7777777777777778,
             "#fb9f3a"
            ],
            [
             0.8888888888888888,
             "#fdca26"
            ],
            [
             1,
             "#f0f921"
            ]
           ]
          },
          "colorway": [
           "#636efa",
           "#EF553B",
           "#00cc96",
           "#ab63fa",
           "#FFA15A",
           "#19d3f3",
           "#FF6692",
           "#B6E880",
           "#FF97FF",
           "#FECB52"
          ],
          "font": {
           "color": "#2a3f5f"
          },
          "geo": {
           "bgcolor": "white",
           "lakecolor": "white",
           "landcolor": "#E5ECF6",
           "showlakes": true,
           "showland": true,
           "subunitcolor": "white"
          },
          "hoverlabel": {
           "align": "left"
          },
          "hovermode": "closest",
          "mapbox": {
           "style": "light"
          },
          "paper_bgcolor": "white",
          "plot_bgcolor": "#E5ECF6",
          "polar": {
           "angularaxis": {
            "gridcolor": "white",
            "linecolor": "white",
            "ticks": ""
           },
           "bgcolor": "#E5ECF6",
           "radialaxis": {
            "gridcolor": "white",
            "linecolor": "white",
            "ticks": ""
           }
          },
          "scene": {
           "xaxis": {
            "backgroundcolor": "#E5ECF6",
            "gridcolor": "white",
            "gridwidth": 2,
            "linecolor": "white",
            "showbackground": true,
            "ticks": "",
            "zerolinecolor": "white"
           },
           "yaxis": {
            "backgroundcolor": "#E5ECF6",
            "gridcolor": "white",
            "gridwidth": 2,
            "linecolor": "white",
            "showbackground": true,
            "ticks": "",
            "zerolinecolor": "white"
           },
           "zaxis": {
            "backgroundcolor": "#E5ECF6",
            "gridcolor": "white",
            "gridwidth": 2,
            "linecolor": "white",
            "showbackground": true,
            "ticks": "",
            "zerolinecolor": "white"
           }
          },
          "shapedefaults": {
           "line": {
            "color": "#2a3f5f"
           }
          },
          "ternary": {
           "aaxis": {
            "gridcolor": "white",
            "linecolor": "white",
            "ticks": ""
           },
           "baxis": {
            "gridcolor": "white",
            "linecolor": "white",
            "ticks": ""
           },
           "bgcolor": "#E5ECF6",
           "caxis": {
            "gridcolor": "white",
            "linecolor": "white",
            "ticks": ""
           }
          },
          "title": {
           "x": 0.05
          },
          "xaxis": {
           "automargin": true,
           "gridcolor": "white",
           "linecolor": "white",
           "ticks": "",
           "title": {
            "standoff": 15
           },
           "zerolinecolor": "white",
           "zerolinewidth": 2
          },
          "yaxis": {
           "automargin": true,
           "gridcolor": "white",
           "linecolor": "white",
           "ticks": "",
           "title": {
            "standoff": 15
           },
           "zerolinecolor": "white",
           "zerolinewidth": 2
          }
         }
        },
        "title": {
         "text": "Total Issued Loan Amount in USA<br>(2012-2019)"
        }
       }
      },
      "text/html": [
       "<div>\n",
       "        \n",
       "        \n",
       "            <div id=\"1af72773-8918-4667-9948-5c7f9b55e7b6\" class=\"plotly-graph-div\" style=\"height:525px; width:100%;\"></div>\n",
       "            <script type=\"text/javascript\">\n",
       "                require([\"plotly\"], function(Plotly) {\n",
       "                    window.PLOTLYENV=window.PLOTLYENV || {};\n",
       "                    \n",
       "                if (document.getElementById(\"1af72773-8918-4667-9948-5c7f9b55e7b6\")) {\n",
       "                    Plotly.newPlot(\n",
       "                        '1af72773-8918-4667-9948-5c7f9b55e7b6',\n",
       "                        [{\"autocolorscale\": false, \"colorbar\": {\"title\": {\"text\": \"$ USD\"}}, \"colorscale\": [[0.0, \"rgb(255,245,240)\"], [0.125, \"rgb(254,224,210)\"], [0.25, \"rgb(252,187,161)\"], [0.375, \"rgb(252,146,114)\"], [0.5, \"rgb(251,106,74)\"], [0.625, \"rgb(239,59,44)\"], [0.75, \"rgb(203,24,29)\"], [0.875, \"rgb(165,15,21)\"], [1.0, \"rgb(103,0,13)\"]], \"locationmode\": \"USA-states\", \"locations\": [\"CA\", \"TX\", \"NY\", \"FL\", \"IL\", \"NJ\", \"GA\", \"PA\", \"OH\", \"VA\", \"NC\", \"MI\", \"MD\", \"MA\", \"AZ\", \"CO\", \"WA\", \"MN\", \"IN\", \"TN\", \"MO\", \"CT\", \"NV\", \"WI\", \"AL\", \"SC\", \"OR\", \"LA\", \"KY\", \"OK\", \"KS\", \"UT\", \"AR\", \"NM\", \"MS\", \"HI\", \"NH\", \"RI\", \"WV\", \"NE\", \"DE\", \"AK\", \"MT\", \"DC\", \"WY\", \"SD\", \"VT\", \"ME\", \"ID\", \"ND\"], \"marker\": {\"line\": {\"color\": \"rgb(255,255,255)\", \"width\": 2}}, \"text\": [\"CA<br>Mean default rate: 19.4 %<br>Median annual income: 70000.0\", \"TX<br>Mean default rate: 19.6 %<br>Median annual income: 70000.0\", \"NY<br>Mean default rate: 21.8 %<br>Median annual income: 65500.0\", \"FL<br>Mean default rate: 21.2 %<br>Median annual income: 60000.0\", \"IL<br>Mean default rate: 17.8 %<br>Median annual income: 67250.0\", \"NJ<br>Mean default rate: 20.5 %<br>Median annual income: 74000.0\", \"GA<br>Mean default rate: 18.4 %<br>Median annual income: 65000.0\", \"PA<br>Mean default rate: 20.3 %<br>Median annual income: 62000.0\", \"OH<br>Mean default rate: 19.6 %<br>Median annual income: 60000.0\", \"VA<br>Mean default rate: 19.5 %<br>Median annual income: 71064.0\", \"NC<br>Mean default rate: 20.1 %<br>Median annual income: 60000.0\", \"MI<br>Mean default rate: 19.6 %<br>Median annual income: 60000.0\", \"MD<br>Mean default rate: 21.0 %<br>Median annual income: 75000.0\", \"MA<br>Mean default rate: 18.7 %<br>Median annual income: 70000.0\", \"AZ<br>Mean default rate: 19.2 %<br>Median annual income: 62000.0\", \"CO<br>Mean default rate: 15.2 %<br>Median annual income: 65000.0\", \"WA<br>Mean default rate: 15.2 %<br>Median annual income: 66067.0\", \"MN<br>Mean default rate: 19.3 %<br>Median annual income: 60528.925\", \"IN<br>Mean default rate: 20.5 %<br>Median annual income: 60000.0\", \"TN<br>Mean default rate: 20.5 %<br>Median annual income: 60000.0\", \"MO<br>Mean default rate: 20.5 %<br>Median annual income: 60000.0\", \"CT<br>Mean default rate: 17.7 %<br>Median annual income: 70000.0\", \"NV<br>Mean default rate: 21.1 %<br>Median annual income: 61000.0\", \"WI<br>Mean default rate: 18.5 %<br>Median annual income: 60000.0\", \"AL<br>Mean default rate: 23.1 %<br>Median annual income: 60000.0\", \"SC<br>Mean default rate: 15.5 %<br>Median annual income: 60000.0\", \"OR<br>Mean default rate: 14.2 %<br>Median annual income: 60000.0\", \"LA<br>Mean default rate: 22.5 %<br>Median annual income: 65000.0\", \"KY<br>Mean default rate: 20.1 %<br>Median annual income: 60000.0\", \"OK<br>Mean default rate: 22.9 %<br>Median annual income: 61000.0\", \"KS<br>Mean default rate: 16.6 %<br>Median annual income: 60000.0\", \"UT<br>Mean default rate: 16.3 %<br>Median annual income: 62200.0\", \"AR<br>Mean default rate: 23.8 %<br>Median annual income: 57000.0\", \"NM<br>Mean default rate: 20.8 %<br>Median annual income: 62000.0\", \"MS<br>Mean default rate: 25.1 %<br>Median annual income: 60000.0\", \"HI<br>Mean default rate: 20.1 %<br>Median annual income: 65000.0\", \"NH<br>Mean default rate: 14.7 %<br>Median annual income: 65000.0\", \"RI<br>Mean default rate: 17.5 %<br>Median annual income: 65000.0\", \"WV<br>Mean default rate: 14.7 %<br>Median annual income: 60000.0\", \"NE<br>Mean default rate: 22.8 %<br>Median annual income: 55000.0\", \"DE<br>Mean default rate: 19.2 %<br>Median annual income: 65000.0\", \"AK<br>Mean default rate: 19.1 %<br>Median annual income: 72000.0\", \"MT<br>Mean default rate: 16.2 %<br>Median annual income: 55000.0\", \"DC<br>Mean default rate: 13.6 %<br>Median annual income: 82000.0\", \"WY<br>Mean default rate: 16.5 %<br>Median annual income: 65000.0\", \"SD<br>Mean default rate: 20.2 %<br>Median annual income: 54000.0\", \"VT<br>Mean default rate: 13.3 %<br>Median annual income: 59000.0\", \"ME<br>Mean default rate: 13.1 %<br>Median annual income: 59000.0\", \"ID<br>Mean default rate: 16.0 %<br>Median annual income: 55000.0\", \"ND<br>Mean default rate: 18.8 %<br>Median annual income: 60000.0\"], \"type\": \"choropleth\", \"z\": [\"3554572925.0\", \"2112651275.0\", \"1967310925.0\", \"1677667300.0\", \"974759975.0\", \"922348575.0\", \"805941800.0\", \"802309075.0\", \"762102850.0\", \"724857125.0\", \"677072425.0\", \"615532900.0\", \"599781150.0\", \"590969475.0\", \"580315125.0\", \"545221425.0\", \"541055450.0\", \"421091375.0\", \"398128200.0\", \"378240175.0\", \"374718350.0\", \"370874300.0\", \"354702075.0\", \"311505850.0\", \"292058400.0\", \"287843775.0\", \"279322250.0\", \"274462125.0\", \"221852975.0\", \"221601050.0\", \"199981375.0\", \"181097525.0\", \"172272550.0\", \"131710425.0\", \"127519075.0\", \"127282375.0\", \"118257125.0\", \"101791625.0\", \"84087900.0\", \"70928750.0\", \"68380900.0\", \"66005450.0\", \"64786825.0\", \"62259575.0\", \"54721850.0\", \"47099875.0\", \"46753575.0\", \"43462600.0\", \"39451825.0\", \"34606500.0\"]}],\n",
       "                        {\"geo\": {\"lakecolor\": \"rgb(255, 255, 255)\", \"projection\": {\"type\": \"albers usa\"}, \"scope\": \"usa\", \"showlakes\": true}, \"template\": {\"data\": {\"bar\": [{\"error_x\": {\"color\": \"#2a3f5f\"}, \"error_y\": {\"color\": \"#2a3f5f\"}, \"marker\": {\"line\": {\"color\": \"#E5ECF6\", \"width\": 0.5}}, \"type\": \"bar\"}], \"barpolar\": [{\"marker\": {\"line\": {\"color\": \"#E5ECF6\", \"width\": 0.5}}, \"type\": \"barpolar\"}], \"carpet\": [{\"aaxis\": {\"endlinecolor\": \"#2a3f5f\", \"gridcolor\": \"white\", \"linecolor\": \"white\", \"minorgridcolor\": \"white\", \"startlinecolor\": \"#2a3f5f\"}, \"baxis\": {\"endlinecolor\": \"#2a3f5f\", \"gridcolor\": \"white\", \"linecolor\": \"white\", \"minorgridcolor\": \"white\", \"startlinecolor\": \"#2a3f5f\"}, \"type\": \"carpet\"}], \"choropleth\": [{\"colorbar\": {\"outlinewidth\": 0, \"ticks\": \"\"}, \"type\": \"choropleth\"}], \"contour\": [{\"colorbar\": {\"outlinewidth\": 0, \"ticks\": \"\"}, \"colorscale\": [[0.0, \"#0d0887\"], [0.1111111111111111, \"#46039f\"], [0.2222222222222222, \"#7201a8\"], [0.3333333333333333, \"#9c179e\"], [0.4444444444444444, \"#bd3786\"], [0.5555555555555556, \"#d8576b\"], [0.6666666666666666, \"#ed7953\"], [0.7777777777777778, \"#fb9f3a\"], [0.8888888888888888, \"#fdca26\"], [1.0, \"#f0f921\"]], \"type\": \"contour\"}], \"contourcarpet\": [{\"colorbar\": {\"outlinewidth\": 0, \"ticks\": \"\"}, \"type\": \"contourcarpet\"}], \"heatmap\": [{\"colorbar\": {\"outlinewidth\": 0, \"ticks\": \"\"}, \"colorscale\": [[0.0, \"#0d0887\"], [0.1111111111111111, \"#46039f\"], [0.2222222222222222, \"#7201a8\"], [0.3333333333333333, \"#9c179e\"], [0.4444444444444444, \"#bd3786\"], [0.5555555555555556, \"#d8576b\"], [0.6666666666666666, \"#ed7953\"], [0.7777777777777778, \"#fb9f3a\"], [0.8888888888888888, \"#fdca26\"], [1.0, \"#f0f921\"]], \"type\": \"heatmap\"}], \"heatmapgl\": [{\"colorbar\": {\"outlinewidth\": 0, \"ticks\": \"\"}, \"colorscale\": [[0.0, \"#0d0887\"], [0.1111111111111111, \"#46039f\"], [0.2222222222222222, \"#7201a8\"], [0.3333333333333333, \"#9c179e\"], [0.4444444444444444, \"#bd3786\"], [0.5555555555555556, \"#d8576b\"], [0.6666666666666666, \"#ed7953\"], [0.7777777777777778, \"#fb9f3a\"], [0.8888888888888888, \"#fdca26\"], [1.0, \"#f0f921\"]], \"type\": \"heatmapgl\"}], \"histogram\": [{\"marker\": {\"colorbar\": {\"outlinewidth\": 0, \"ticks\": \"\"}}, \"type\": \"histogram\"}], \"histogram2d\": [{\"colorbar\": {\"outlinewidth\": 0, \"ticks\": \"\"}, \"colorscale\": [[0.0, \"#0d0887\"], [0.1111111111111111, \"#46039f\"], [0.2222222222222222, \"#7201a8\"], [0.3333333333333333, \"#9c179e\"], [0.4444444444444444, \"#bd3786\"], [0.5555555555555556, \"#d8576b\"], [0.6666666666666666, \"#ed7953\"], [0.7777777777777778, \"#fb9f3a\"], [0.8888888888888888, \"#fdca26\"], [1.0, \"#f0f921\"]], \"type\": \"histogram2d\"}], \"histogram2dcontour\": [{\"colorbar\": {\"outlinewidth\": 0, \"ticks\": \"\"}, \"colorscale\": [[0.0, \"#0d0887\"], [0.1111111111111111, \"#46039f\"], [0.2222222222222222, \"#7201a8\"], [0.3333333333333333, \"#9c179e\"], [0.4444444444444444, \"#bd3786\"], [0.5555555555555556, \"#d8576b\"], [0.6666666666666666, \"#ed7953\"], [0.7777777777777778, \"#fb9f3a\"], [0.8888888888888888, \"#fdca26\"], [1.0, \"#f0f921\"]], \"type\": \"histogram2dcontour\"}], \"mesh3d\": [{\"colorbar\": {\"outlinewidth\": 0, \"ticks\": \"\"}, \"type\": \"mesh3d\"}], \"parcoords\": [{\"line\": {\"colorbar\": {\"outlinewidth\": 0, \"ticks\": \"\"}}, \"type\": \"parcoords\"}], \"pie\": [{\"automargin\": true, \"type\": \"pie\"}], \"scatter\": [{\"marker\": {\"colorbar\": {\"outlinewidth\": 0, \"ticks\": \"\"}}, \"type\": \"scatter\"}], \"scatter3d\": [{\"line\": {\"colorbar\": {\"outlinewidth\": 0, \"ticks\": \"\"}}, \"marker\": {\"colorbar\": {\"outlinewidth\": 0, \"ticks\": \"\"}}, \"type\": \"scatter3d\"}], \"scattercarpet\": [{\"marker\": {\"colorbar\": {\"outlinewidth\": 0, \"ticks\": \"\"}}, \"type\": \"scattercarpet\"}], \"scattergeo\": [{\"marker\": {\"colorbar\": {\"outlinewidth\": 0, \"ticks\": \"\"}}, \"type\": \"scattergeo\"}], \"scattergl\": [{\"marker\": {\"colorbar\": {\"outlinewidth\": 0, \"ticks\": \"\"}}, \"type\": \"scattergl\"}], \"scattermapbox\": [{\"marker\": {\"colorbar\": {\"outlinewidth\": 0, \"ticks\": \"\"}}, \"type\": \"scattermapbox\"}], \"scatterpolar\": [{\"marker\": {\"colorbar\": {\"outlinewidth\": 0, \"ticks\": \"\"}}, \"type\": \"scatterpolar\"}], \"scatterpolargl\": [{\"marker\": {\"colorbar\": {\"outlinewidth\": 0, \"ticks\": \"\"}}, \"type\": \"scatterpolargl\"}], \"scatterternary\": [{\"marker\": {\"colorbar\": {\"outlinewidth\": 0, \"ticks\": \"\"}}, \"type\": \"scatterternary\"}], \"surface\": [{\"colorbar\": {\"outlinewidth\": 0, \"ticks\": \"\"}, \"colorscale\": [[0.0, \"#0d0887\"], [0.1111111111111111, \"#46039f\"], [0.2222222222222222, \"#7201a8\"], [0.3333333333333333, \"#9c179e\"], [0.4444444444444444, \"#bd3786\"], [0.5555555555555556, \"#d8576b\"], [0.6666666666666666, \"#ed7953\"], [0.7777777777777778, \"#fb9f3a\"], [0.8888888888888888, \"#fdca26\"], [1.0, \"#f0f921\"]], \"type\": \"surface\"}], \"table\": [{\"cells\": {\"fill\": {\"color\": \"#EBF0F8\"}, \"line\": {\"color\": \"white\"}}, \"header\": {\"fill\": {\"color\": \"#C8D4E3\"}, \"line\": {\"color\": \"white\"}}, \"type\": \"table\"}]}, \"layout\": {\"annotationdefaults\": {\"arrowcolor\": \"#2a3f5f\", \"arrowhead\": 0, \"arrowwidth\": 1}, \"coloraxis\": {\"colorbar\": {\"outlinewidth\": 0, \"ticks\": \"\"}}, \"colorscale\": {\"diverging\": [[0, \"#8e0152\"], [0.1, \"#c51b7d\"], [0.2, \"#de77ae\"], [0.3, \"#f1b6da\"], [0.4, \"#fde0ef\"], [0.5, \"#f7f7f7\"], [0.6, \"#e6f5d0\"], [0.7, \"#b8e186\"], [0.8, \"#7fbc41\"], [0.9, \"#4d9221\"], [1, \"#276419\"]], \"sequential\": [[0.0, \"#0d0887\"], [0.1111111111111111, \"#46039f\"], [0.2222222222222222, \"#7201a8\"], [0.3333333333333333, \"#9c179e\"], [0.4444444444444444, \"#bd3786\"], [0.5555555555555556, \"#d8576b\"], [0.6666666666666666, \"#ed7953\"], [0.7777777777777778, \"#fb9f3a\"], [0.8888888888888888, \"#fdca26\"], [1.0, \"#f0f921\"]], \"sequentialminus\": [[0.0, \"#0d0887\"], [0.1111111111111111, \"#46039f\"], [0.2222222222222222, \"#7201a8\"], [0.3333333333333333, \"#9c179e\"], [0.4444444444444444, \"#bd3786\"], [0.5555555555555556, \"#d8576b\"], [0.6666666666666666, \"#ed7953\"], [0.7777777777777778, \"#fb9f3a\"], [0.8888888888888888, \"#fdca26\"], [1.0, \"#f0f921\"]]}, \"colorway\": [\"#636efa\", \"#EF553B\", \"#00cc96\", \"#ab63fa\", \"#FFA15A\", \"#19d3f3\", \"#FF6692\", \"#B6E880\", \"#FF97FF\", \"#FECB52\"], \"font\": {\"color\": \"#2a3f5f\"}, \"geo\": {\"bgcolor\": \"white\", \"lakecolor\": \"white\", \"landcolor\": \"#E5ECF6\", \"showlakes\": true, \"showland\": true, \"subunitcolor\": \"white\"}, \"hoverlabel\": {\"align\": \"left\"}, \"hovermode\": \"closest\", \"mapbox\": {\"style\": \"light\"}, \"paper_bgcolor\": \"white\", \"plot_bgcolor\": \"#E5ECF6\", \"polar\": {\"angularaxis\": {\"gridcolor\": \"white\", \"linecolor\": \"white\", \"ticks\": \"\"}, \"bgcolor\": \"#E5ECF6\", \"radialaxis\": {\"gridcolor\": \"white\", \"linecolor\": \"white\", \"ticks\": \"\"}}, \"scene\": {\"xaxis\": {\"backgroundcolor\": \"#E5ECF6\", \"gridcolor\": \"white\", \"gridwidth\": 2, \"linecolor\": \"white\", \"showbackground\": true, \"ticks\": \"\", \"zerolinecolor\": \"white\"}, \"yaxis\": {\"backgroundcolor\": \"#E5ECF6\", \"gridcolor\": \"white\", \"gridwidth\": 2, \"linecolor\": \"white\", \"showbackground\": true, \"ticks\": \"\", \"zerolinecolor\": \"white\"}, \"zaxis\": {\"backgroundcolor\": \"#E5ECF6\", \"gridcolor\": \"white\", \"gridwidth\": 2, \"linecolor\": \"white\", \"showbackground\": true, \"ticks\": \"\", \"zerolinecolor\": \"white\"}}, \"shapedefaults\": {\"line\": {\"color\": \"#2a3f5f\"}}, \"ternary\": {\"aaxis\": {\"gridcolor\": \"white\", \"linecolor\": \"white\", \"ticks\": \"\"}, \"baxis\": {\"gridcolor\": \"white\", \"linecolor\": \"white\", \"ticks\": \"\"}, \"bgcolor\": \"#E5ECF6\", \"caxis\": {\"gridcolor\": \"white\", \"linecolor\": \"white\", \"ticks\": \"\"}}, \"title\": {\"x\": 0.05}, \"xaxis\": {\"automargin\": true, \"gridcolor\": \"white\", \"linecolor\": \"white\", \"ticks\": \"\", \"title\": {\"standoff\": 15}, \"zerolinecolor\": \"white\", \"zerolinewidth\": 2}, \"yaxis\": {\"automargin\": true, \"gridcolor\": \"white\", \"linecolor\": \"white\", \"ticks\": \"\", \"title\": {\"standoff\": 15}, \"zerolinecolor\": \"white\", \"zerolinewidth\": 2}}}, \"title\": {\"text\": \"Total Issued Loan Amount in USA<br>(2012-2019)\"}},\n",
       "                        {\"responsive\": true}\n",
       "                    ).then(function(){\n",
       "                            \n",
       "var gd = document.getElementById('1af72773-8918-4667-9948-5c7f9b55e7b6');\n",
       "var x = new MutationObserver(function (mutations, observer) {{\n",
       "        var display = window.getComputedStyle(gd).display;\n",
       "        if (!display || display === 'none') {{\n",
       "            console.log([gd, 'removed!']);\n",
       "            Plotly.purge(gd);\n",
       "            observer.disconnect();\n",
       "        }}\n",
       "}});\n",
       "\n",
       "// Listen for the removal of the full notebook cells\n",
       "var notebookContainer = gd.closest('#notebook-container');\n",
       "if (notebookContainer) {{\n",
       "    x.observe(notebookContainer, {childList: true});\n",
       "}}\n",
       "\n",
       "// Listen for the clearing of the current output cell\n",
       "var outputEl = gd.closest('.output');\n",
       "if (outputEl) {{\n",
       "    x.observe(outputEl, {childList: true});\n",
       "}}\n",
       "\n",
       "                        })\n",
       "                };\n",
       "                });\n",
       "            </script>\n",
       "        </div>"
      ]
     },
     "metadata": {},
     "output_type": "display_data"
    }
   ],
   "source": [
    "# Now it comes the part where we plot out plotly United States map\n",
    "import plotly as py\n",
    "from plotly.offline import download_plotlyjs, init_notebook_mode, plot, iplot\n",
    "import plotly.graph_objs as go\n",
    "\n",
    "df_map1=df_join.copy()\n",
    "\n",
    "# convert to values to string\n",
    "for col in df_map1.columns:\n",
    "    df_map1[col] = df_map1[col].astype(str)\n",
    "    \n",
    "df_map1['text'] = df_map1['state'] + '<br>' +\\\n",
    "'Mean default rate: ' + df_map1['default_rate'] + ' %' +'<br>'+\\\n",
    "'Median annual income: ' + df_map1['income'] \n",
    "\n",
    "\n",
    "data = [ dict(\n",
    "        type='choropleth',\n",
    "        colorscale = 'Reds', # discrete color for the map\n",
    "        autocolorscale = False,\n",
    "        locations = df_map1['state'],\n",
    "        z = df_map1['loan_amount'], \n",
    "        locationmode = 'USA-states',\n",
    "        text = df_map1['text'],\n",
    "        marker = dict(\n",
    "            line = dict (\n",
    "                color = 'rgb(255,255,255)',\n",
    "                width = 2\n",
    "            ) ),\n",
    "        colorbar = dict(\n",
    "            title = \"$ USD\")\n",
    "        ) ]\n",
    "\n",
    "\n",
    "layout = dict(\n",
    "    title = 'Total Issued Loan Amount in USA'+'<br>' +'(2012-2019)',\n",
    "    geo = dict(\n",
    "        scope = 'usa',\n",
    "        projection=dict(type='albers usa'),\n",
    "        showlakes = True,\n",
    "        lakecolor = 'rgb(255, 255, 255)')\n",
    ")\n",
    "\n",
    "fig = dict(data=data, layout=layout)\n",
    "iplot(fig, filename='d3-cloropleth-map')"
   ]
  },
  {
   "cell_type": "markdown",
   "metadata": {},
   "source": [
    "#### risk analysis"
   ]
  },
  {
   "cell_type": "code",
   "execution_count": 450,
   "metadata": {},
   "outputs": [
    {
     "data": {
      "text/plain": [
       "Index(['issue_d', 'earliest_cr_line', 'last_pymnt_d', 'last_credit_pull_d',\n",
       "       'int_rate', 'revol_util', 'hardship_flag', 'application_type', 'title',\n",
       "       'emp_length', 'sub_grade', 'verification_status', 'pymnt_plan',\n",
       "       'debt_settlement_flag', 'grade', 'home_ownership', 'addr_state',\n",
       "       'initial_list_status', 'term', 'loan_status', 'purpose', 'loan_amnt',\n",
       "       'funded_amnt', 'funded_amnt_inv', 'int_rate.1', 'installment',\n",
       "       'annual_inc', 'dti', 'delinq_2yrs', 'fico_range_low', 'fico_range_high',\n",
       "       'inq_last_6mths', 'open_acc', 'pub_rec', 'revol_bal', 'revol_util.1',\n",
       "       'total_acc', 'out_prncp', 'out_prncp_inv', 'total_pymnt',\n",
       "       'total_pymnt_inv', 'total_rec_prncp', 'total_rec_int',\n",
       "       'total_rec_late_fee', 'recoveries', 'collection_recovery_fee',\n",
       "       'last_pymnt_amnt', 'last_fico_range_high', 'last_fico_range_low',\n",
       "       'collections_12_mths_ex_med', 'policy_code', 'acc_now_delinq',\n",
       "       'tot_coll_amt', 'tot_cur_bal', 'total_rev_hi_lim',\n",
       "       'acc_open_past_24mths', 'avg_cur_bal', 'bc_open_to_buy', 'bc_util',\n",
       "       'chargeoff_within_12_mths', 'delinq_amnt', 'mo_sin_old_il_acct',\n",
       "       'mo_sin_old_rev_tl_op', 'mo_sin_rcnt_rev_tl_op', 'mo_sin_rcnt_tl',\n",
       "       'mort_acc', 'mths_since_recent_bc', 'mths_since_recent_inq',\n",
       "       'num_accts_ever_120_pd', 'num_actv_bc_tl', 'num_actv_rev_tl',\n",
       "       'num_bc_sats', 'num_bc_tl', 'num_il_tl', 'num_op_rev_tl',\n",
       "       'num_rev_accts', 'num_rev_tl_bal_gt_0', 'num_sats', 'num_tl_120dpd_2m',\n",
       "       'num_tl_30dpd', 'num_tl_90g_dpd_24m', 'num_tl_op_past_12m',\n",
       "       'pct_tl_nvr_dlq', 'percent_bc_gt_75', 'pub_rec_bankruptcies',\n",
       "       'tax_liens', 'tot_hi_cred_lim', 'total_bal_ex_mort', 'total_bc_limit',\n",
       "       'total_il_high_credit_limit', 'region', 'target'],\n",
       "      dtype='object')"
      ]
     },
     "execution_count": 450,
     "metadata": {},
     "output_type": "execute_result"
    }
   ],
   "source": [
    "#average_dti\taverage_emp_length, fico\n",
    "df_fc.columns"
   ]
  },
  {
   "cell_type": "code",
   "execution_count": 490,
   "metadata": {},
   "outputs": [
    {
     "data": {
      "text/plain": [
       "698.7766155176656"
      ]
     },
     "execution_count": 490,
     "metadata": {},
     "output_type": "execute_result"
    }
   ],
   "source": [
    "df_fc['fico'] = (df_fc['fico_range_high']+df_fc['fico_range_low'])/2\n",
    "df_fc['fico'].mean()"
   ]
  },
  {
   "cell_type": "code",
   "execution_count": 491,
   "metadata": {},
   "outputs": [
    {
     "data": {
      "text/plain": [
       "array(['10+ years', '3 years', '4 years', '2 years', '5 years', '6 years',\n",
       "       '1 year', '7 years', '8 years', '< 1 year', '9 years', nan],\n",
       "      dtype=object)"
      ]
     },
     "execution_count": 491,
     "metadata": {},
     "output_type": "execute_result"
    }
   ],
   "source": [
    "df_fc['emp_length'].unique()"
   ]
  },
  {
   "cell_type": "code",
   "execution_count": 492,
   "metadata": {},
   "outputs": [],
   "source": [
    "def finding_emp_length(emp_length):\n",
    "    if emp_length == '< 1 year':\n",
    "        return 0\n",
    "    elif emp_length == '1 year':\n",
    "        return 1\n",
    "    elif emp_length == '2 years':\n",
    "        return 2\n",
    "    elif emp_length == '3 years':\n",
    "        return 3\n",
    "    elif emp_length == '4 years':\n",
    "        return 4\n",
    "    elif emp_length == '5 years':\n",
    "        return 5\n",
    "    elif emp_length == '6 years':\n",
    "        return 6\n",
    "    elif emp_length == '7 years':\n",
    "        return 7\n",
    "    elif emp_length == '8 years':\n",
    "        return 8\n",
    "    elif emp_length == '9 years':\n",
    "        return 9\n",
    "    elif emp_length == '10+ years':\n",
    "        return 10\n",
    "\n",
    "    \n",
    "df_fc['emp_length_num'] = df_fc['emp_length'].apply(finding_emp_length)"
   ]
  },
  {
   "cell_type": "code",
   "execution_count": 493,
   "metadata": {},
   "outputs": [],
   "source": [
    "df_state_emp_length_num = df_fc.groupby(['region','addr_state'])['emp_length_num'].median().sort_values(ascending=False).to_frame().reset_index()\n",
    "df_state_fico = df_fc.groupby(['region','addr_state'])['fico_range_high'].median().sort_values(ascending=False).to_frame().reset_index()\n",
    "df_state_dti = df_fc.groupby(['region','addr_state'])['dti'].median().sort_values(ascending=False).to_frame().reset_index()"
   ]
  },
  {
   "cell_type": "code",
   "execution_count": 494,
   "metadata": {},
   "outputs": [],
   "source": [
    "# join dataframes\n",
    "df_join_2 = pd.merge(df_state_emp_length_num[['addr_state','emp_length_num']],\n",
    "                    df_state_fico[['addr_state', 'fico_range_high']],\n",
    "                     on='addr_state', how='inner')\n",
    "\n",
    "df_join_2 = pd.merge(df_join_2, df_state_dti[['addr_state', 'dti']],on='addr_state', how='inner')\n",
    "df_join_2 = pd.merge(df_join_2, df_target[['addr_state', 'default_rate']],on='addr_state', how='inner')"
   ]
  },
  {
   "cell_type": "code",
   "execution_count": 495,
   "metadata": {},
   "outputs": [
    {
     "data": {
      "text/html": [
       "<div>\n",
       "<style scoped>\n",
       "    .dataframe tbody tr th:only-of-type {\n",
       "        vertical-align: middle;\n",
       "    }\n",
       "\n",
       "    .dataframe tbody tr th {\n",
       "        vertical-align: top;\n",
       "    }\n",
       "\n",
       "    .dataframe thead th {\n",
       "        text-align: right;\n",
       "    }\n",
       "</style>\n",
       "<table border=\"1\" class=\"dataframe\">\n",
       "  <thead>\n",
       "    <tr style=\"text-align: right;\">\n",
       "      <th></th>\n",
       "      <th>state</th>\n",
       "      <th>employee_length</th>\n",
       "      <th>fico_range_high</th>\n",
       "      <th>dti</th>\n",
       "      <th>default_rate</th>\n",
       "    </tr>\n",
       "  </thead>\n",
       "  <tbody>\n",
       "    <tr>\n",
       "      <td>0</td>\n",
       "      <td>HI</td>\n",
       "      <td>8.0</td>\n",
       "      <td>689.0</td>\n",
       "      <td>18.925</td>\n",
       "      <td>0.201215</td>\n",
       "    </tr>\n",
       "    <tr>\n",
       "      <td>1</td>\n",
       "      <td>DE</td>\n",
       "      <td>7.0</td>\n",
       "      <td>694.0</td>\n",
       "      <td>18.620</td>\n",
       "      <td>0.192154</td>\n",
       "    </tr>\n",
       "    <tr>\n",
       "      <td>2</td>\n",
       "      <td>WV</td>\n",
       "      <td>7.0</td>\n",
       "      <td>694.0</td>\n",
       "      <td>19.790</td>\n",
       "      <td>0.147256</td>\n",
       "    </tr>\n",
       "    <tr>\n",
       "      <td>3</td>\n",
       "      <td>VT</td>\n",
       "      <td>7.0</td>\n",
       "      <td>694.0</td>\n",
       "      <td>19.695</td>\n",
       "      <td>0.132718</td>\n",
       "    </tr>\n",
       "    <tr>\n",
       "      <td>4</td>\n",
       "      <td>RI</td>\n",
       "      <td>7.0</td>\n",
       "      <td>694.0</td>\n",
       "      <td>17.000</td>\n",
       "      <td>0.175020</td>\n",
       "    </tr>\n",
       "  </tbody>\n",
       "</table>\n",
       "</div>"
      ],
      "text/plain": [
       "  state  employee_length  fico_range_high     dti  default_rate\n",
       "0    HI              8.0            689.0  18.925      0.201215\n",
       "1    DE              7.0            694.0  18.620      0.192154\n",
       "2    WV              7.0            694.0  19.790      0.147256\n",
       "3    VT              7.0            694.0  19.695      0.132718\n",
       "4    RI              7.0            694.0  17.000      0.175020"
      ]
     },
     "execution_count": 495,
     "metadata": {},
     "output_type": "execute_result"
    }
   ],
   "source": [
    "df_join_2 = df_join_2.rename(columns={'addr_state':'state', 'emp_length_num':'employee_length'})\n",
    "df_join_2.head()"
   ]
  },
  {
   "cell_type": "code",
   "execution_count": 497,
   "metadata": {},
   "outputs": [
    {
     "data": {
      "application/vnd.plotly.v1+json": {
       "config": {
        "linkText": "Export to plot.ly",
        "plotlyServerURL": "https://plot.ly",
        "showLink": false
       },
       "data": [
        {
         "autocolorscale": false,
         "colorbar": {
          "title": {
           "text": "%"
          }
         },
         "colorscale": [
          [
           0,
           "rgb(247,251,255)"
          ],
          [
           0.125,
           "rgb(222,235,247)"
          ],
          [
           0.25,
           "rgb(198,219,239)"
          ],
          [
           0.375,
           "rgb(158,202,225)"
          ],
          [
           0.5,
           "rgb(107,174,214)"
          ],
          [
           0.625,
           "rgb(66,146,198)"
          ],
          [
           0.75,
           "rgb(33,113,181)"
          ],
          [
           0.875,
           "rgb(8,81,156)"
          ],
          [
           1,
           "rgb(8,48,107)"
          ]
         ],
         "locationmode": "USA-states",
         "locations": [
          "HI",
          "DE",
          "WV",
          "VT",
          "RI",
          "KY",
          "MD",
          "MS",
          "NH",
          "ME",
          "AR",
          "CT",
          "WI",
          "OH",
          "MO",
          "NM",
          "MI",
          "KS",
          "IN",
          "AL",
          "SD",
          "MA",
          "NJ",
          "NY",
          "MN",
          "PA",
          "WY",
          "VA",
          "TN",
          "UT",
          "OR",
          "NV",
          "MT",
          "CA",
          "AK",
          "TX",
          "IL",
          "SC",
          "OK",
          "NC",
          "LA",
          "GA",
          "FL",
          "WA",
          "CO",
          "NE",
          "ID",
          "AZ",
          "DC",
          "ND"
         ],
         "marker": {
          "line": {
           "color": "rgb(255,255,255)",
           "width": 2
          }
         },
         "text": [
          "HI<br>Median Credit Scores: 689.0<br>Median Debit-to-income: 18.925<br>Median Employee Length: 8.0 years",
          "DE<br>Median Credit Scores: 694.0<br>Median Debit-to-income: 18.62<br>Median Employee Length: 7.0 years",
          "WV<br>Median Credit Scores: 694.0<br>Median Debit-to-income: 19.79<br>Median Employee Length: 7.0 years",
          "VT<br>Median Credit Scores: 694.0<br>Median Debit-to-income: 19.695<br>Median Employee Length: 7.0 years",
          "RI<br>Median Credit Scores: 694.0<br>Median Debit-to-income: 17.0<br>Median Employee Length: 7.0 years",
          "KY<br>Median Credit Scores: 694.0<br>Median Debit-to-income: 19.155<br>Median Employee Length: 7.0 years",
          "MD<br>Median Credit Scores: 694.0<br>Median Debit-to-income: 17.3<br>Median Employee Length: 7.0 years",
          "MS<br>Median Credit Scores: 694.0<br>Median Debit-to-income: 20.18<br>Median Employee Length: 7.0 years",
          "NH<br>Median Credit Scores: 694.0<br>Median Debit-to-income: 18.56<br>Median Employee Length: 7.0 years",
          "ME<br>Median Credit Scores: 694.0<br>Median Debit-to-income: 19.225<br>Median Employee Length: 7.0 years",
          "AR<br>Median Credit Scores: 694.0<br>Median Debit-to-income: 20.07<br>Median Employee Length: 7.0 years",
          "CT<br>Median Credit Scores: 694.0<br>Median Debit-to-income: 16.57<br>Median Employee Length: 7.0 years",
          "WI<br>Median Credit Scores: 694.0<br>Median Debit-to-income: 18.87<br>Median Employee Length: 7.0 years",
          "OH<br>Median Credit Scores: 694.0<br>Median Debit-to-income: 19.34<br>Median Employee Length: 7.0 years",
          "MO<br>Median Credit Scores: 694.0<br>Median Debit-to-income: 19.13<br>Median Employee Length: 7.0 years",
          "NM<br>Median Credit Scores: 694.0<br>Median Debit-to-income: 19.87<br>Median Employee Length: 7.0 years",
          "MI<br>Median Credit Scores: 694.0<br>Median Debit-to-income: 18.35<br>Median Employee Length: 7.0 years",
          "KS<br>Median Credit Scores: 694.0<br>Median Debit-to-income: 19.31<br>Median Employee Length: 7.0 years",
          "IN<br>Median Credit Scores: 694.0<br>Median Debit-to-income: 19.21<br>Median Employee Length: 7.0 years",
          "AL<br>Median Credit Scores: 694.0<br>Median Debit-to-income: 20.07<br>Median Employee Length: 7.0 years",
          "SD<br>Median Credit Scores: 694.0<br>Median Debit-to-income: 20.53<br>Median Employee Length: 6.0 years",
          "MA<br>Median Credit Scores: 694.0<br>Median Debit-to-income: 16.31<br>Median Employee Length: 6.0 years",
          "NJ<br>Median Credit Scores: 694.0<br>Median Debit-to-income: 16.29<br>Median Employee Length: 6.0 years",
          "NY<br>Median Credit Scores: 694.0<br>Median Debit-to-income: 15.87<br>Median Employee Length: 6.0 years",
          "MN<br>Median Credit Scores: 694.0<br>Median Debit-to-income: 18.23<br>Median Employee Length: 6.0 years",
          "PA<br>Median Credit Scores: 694.0<br>Median Debit-to-income: 18.84<br>Median Employee Length: 6.0 years",
          "WY<br>Median Credit Scores: 694.0<br>Median Debit-to-income: 20.23<br>Median Employee Length: 6.0 years",
          "VA<br>Median Credit Scores: 694.0<br>Median Debit-to-income: 18.04<br>Median Employee Length: 6.0 years",
          "TN<br>Median Credit Scores: 694.0<br>Median Debit-to-income: 19.52<br>Median Employee Length: 6.0 years",
          "UT<br>Median Credit Scores: 694.0<br>Median Debit-to-income: 18.46<br>Median Employee Length: 6.0 years",
          "OR<br>Median Credit Scores: 694.0<br>Median Debit-to-income: 17.28<br>Median Employee Length: 6.0 years",
          "NV<br>Median Credit Scores: 689.0<br>Median Debit-to-income: 18.08<br>Median Employee Length: 6.0 years",
          "MT<br>Median Credit Scores: 694.0<br>Median Debit-to-income: 19.34<br>Median Employee Length: 6.0 years",
          "CA<br>Median Credit Scores: 694.0<br>Median Debit-to-income: 16.11<br>Median Employee Length: 6.0 years",
          "AK<br>Median Credit Scores: 694.0<br>Median Debit-to-income: 18.17<br>Median Employee Length: 6.0 years",
          "TX<br>Median Credit Scores: 694.0<br>Median Debit-to-income: 18.9<br>Median Employee Length: 6.0 years",
          "IL<br>Median Credit Scores: 694.0<br>Median Debit-to-income: 17.59<br>Median Employee Length: 6.0 years",
          "SC<br>Median Credit Scores: 694.0<br>Median Debit-to-income: 19.09<br>Median Employee Length: 6.0 years",
          "OK<br>Median Credit Scores: 694.0<br>Median Debit-to-income: 19.475<br>Median Employee Length: 6.0 years",
          "NC<br>Median Credit Scores: 694.0<br>Median Debit-to-income: 18.45<br>Median Employee Length: 6.0 years",
          "LA<br>Median Credit Scores: 694.0<br>Median Debit-to-income: 19.11<br>Median Employee Length: 6.0 years",
          "GA<br>Median Credit Scores: 694.0<br>Median Debit-to-income: 18.45<br>Median Employee Length: 6.0 years",
          "FL<br>Median Credit Scores: 689.0<br>Median Debit-to-income: 18.1<br>Median Employee Length: 6.0 years",
          "WA<br>Median Credit Scores: 694.0<br>Median Debit-to-income: 17.66<br>Median Employee Length: 6.0 years",
          "CO<br>Median Credit Scores: 694.0<br>Median Debit-to-income: 17.66<br>Median Employee Length: 5.0 years",
          "NE<br>Median Credit Scores: 694.0<br>Median Debit-to-income: 19.3<br>Median Employee Length: 5.0 years",
          "ID<br>Median Credit Scores: 689.0<br>Median Debit-to-income: 19.2<br>Median Employee Length: 5.0 years",
          "AZ<br>Median Credit Scores: 694.0<br>Median Debit-to-income: 17.92<br>Median Employee Length: 5.0 years",
          "DC<br>Median Credit Scores: 694.0<br>Median Debit-to-income: 14.67<br>Median Employee Length: 4.0 years",
          "ND<br>Median Credit Scores: 694.0<br>Median Debit-to-income: 19.99<br>Median Employee Length: 4.0 years"
         ],
         "type": "choropleth",
         "z": [
          "0.20121506682867557",
          "0.19215355410251003",
          "0.1472561500086014",
          "0.13271783035199078",
          "0.17502043040043586",
          "0.20130353817504656",
          "0.21027846027846028",
          "0.2505545696539485",
          "0.14681269997538765",
          "0.13089509143407121",
          "0.23813297408669468",
          "0.1766562774714297",
          "0.18454781751366856",
          "0.19581984210717793",
          "0.20453181272509002",
          "0.2084522502744237",
          "0.19565855752072464",
          "0.16635687732342008",
          "0.20512274726834115",
          "0.23083268633540371",
          "0.20245398773006135",
          "0.1872472293712905",
          "0.20503783386506758",
          "0.21845697941852923",
          "0.1934877475662974",
          "0.20307146027518863",
          "0.16466312552418227",
          "0.1953749033754187",
          "0.20461214355578963",
          "0.16297144727153726",
          "0.14160339217039739",
          "0.21143242492760522",
          "0.16229817571817992",
          "0.19414007170447334",
          "0.19102269829125224",
          "0.19603004681206226",
          "0.17754473115312083",
          "0.1549905463230172",
          "0.22936798119613477",
          "0.2009909795451658",
          "0.22495005782777835",
          "0.1835385946503194",
          "0.2123731609377343",
          "0.1523714261898808",
          "0.15244614674164017",
          "0.22752120640904808",
          "0.15976123595505617",
          "0.19165812466442134",
          "0.13593439363817097",
          "0.18797629127857748"
         ]
        }
       ],
       "layout": {
        "geo": {
         "lakecolor": "rgb(255, 255, 255)",
         "projection": {
          "type": "albers usa"
         },
         "scope": "usa",
         "showlakes": true
        },
        "template": {
         "data": {
          "bar": [
           {
            "error_x": {
             "color": "#2a3f5f"
            },
            "error_y": {
             "color": "#2a3f5f"
            },
            "marker": {
             "line": {
              "color": "#E5ECF6",
              "width": 0.5
             }
            },
            "type": "bar"
           }
          ],
          "barpolar": [
           {
            "marker": {
             "line": {
              "color": "#E5ECF6",
              "width": 0.5
             }
            },
            "type": "barpolar"
           }
          ],
          "carpet": [
           {
            "aaxis": {
             "endlinecolor": "#2a3f5f",
             "gridcolor": "white",
             "linecolor": "white",
             "minorgridcolor": "white",
             "startlinecolor": "#2a3f5f"
            },
            "baxis": {
             "endlinecolor": "#2a3f5f",
             "gridcolor": "white",
             "linecolor": "white",
             "minorgridcolor": "white",
             "startlinecolor": "#2a3f5f"
            },
            "type": "carpet"
           }
          ],
          "choropleth": [
           {
            "colorbar": {
             "outlinewidth": 0,
             "ticks": ""
            },
            "type": "choropleth"
           }
          ],
          "contour": [
           {
            "colorbar": {
             "outlinewidth": 0,
             "ticks": ""
            },
            "colorscale": [
             [
              0,
              "#0d0887"
             ],
             [
              0.1111111111111111,
              "#46039f"
             ],
             [
              0.2222222222222222,
              "#7201a8"
             ],
             [
              0.3333333333333333,
              "#9c179e"
             ],
             [
              0.4444444444444444,
              "#bd3786"
             ],
             [
              0.5555555555555556,
              "#d8576b"
             ],
             [
              0.6666666666666666,
              "#ed7953"
             ],
             [
              0.7777777777777778,
              "#fb9f3a"
             ],
             [
              0.8888888888888888,
              "#fdca26"
             ],
             [
              1,
              "#f0f921"
             ]
            ],
            "type": "contour"
           }
          ],
          "contourcarpet": [
           {
            "colorbar": {
             "outlinewidth": 0,
             "ticks": ""
            },
            "type": "contourcarpet"
           }
          ],
          "heatmap": [
           {
            "colorbar": {
             "outlinewidth": 0,
             "ticks": ""
            },
            "colorscale": [
             [
              0,
              "#0d0887"
             ],
             [
              0.1111111111111111,
              "#46039f"
             ],
             [
              0.2222222222222222,
              "#7201a8"
             ],
             [
              0.3333333333333333,
              "#9c179e"
             ],
             [
              0.4444444444444444,
              "#bd3786"
             ],
             [
              0.5555555555555556,
              "#d8576b"
             ],
             [
              0.6666666666666666,
              "#ed7953"
             ],
             [
              0.7777777777777778,
              "#fb9f3a"
             ],
             [
              0.8888888888888888,
              "#fdca26"
             ],
             [
              1,
              "#f0f921"
             ]
            ],
            "type": "heatmap"
           }
          ],
          "heatmapgl": [
           {
            "colorbar": {
             "outlinewidth": 0,
             "ticks": ""
            },
            "colorscale": [
             [
              0,
              "#0d0887"
             ],
             [
              0.1111111111111111,
              "#46039f"
             ],
             [
              0.2222222222222222,
              "#7201a8"
             ],
             [
              0.3333333333333333,
              "#9c179e"
             ],
             [
              0.4444444444444444,
              "#bd3786"
             ],
             [
              0.5555555555555556,
              "#d8576b"
             ],
             [
              0.6666666666666666,
              "#ed7953"
             ],
             [
              0.7777777777777778,
              "#fb9f3a"
             ],
             [
              0.8888888888888888,
              "#fdca26"
             ],
             [
              1,
              "#f0f921"
             ]
            ],
            "type": "heatmapgl"
           }
          ],
          "histogram": [
           {
            "marker": {
             "colorbar": {
              "outlinewidth": 0,
              "ticks": ""
             }
            },
            "type": "histogram"
           }
          ],
          "histogram2d": [
           {
            "colorbar": {
             "outlinewidth": 0,
             "ticks": ""
            },
            "colorscale": [
             [
              0,
              "#0d0887"
             ],
             [
              0.1111111111111111,
              "#46039f"
             ],
             [
              0.2222222222222222,
              "#7201a8"
             ],
             [
              0.3333333333333333,
              "#9c179e"
             ],
             [
              0.4444444444444444,
              "#bd3786"
             ],
             [
              0.5555555555555556,
              "#d8576b"
             ],
             [
              0.6666666666666666,
              "#ed7953"
             ],
             [
              0.7777777777777778,
              "#fb9f3a"
             ],
             [
              0.8888888888888888,
              "#fdca26"
             ],
             [
              1,
              "#f0f921"
             ]
            ],
            "type": "histogram2d"
           }
          ],
          "histogram2dcontour": [
           {
            "colorbar": {
             "outlinewidth": 0,
             "ticks": ""
            },
            "colorscale": [
             [
              0,
              "#0d0887"
             ],
             [
              0.1111111111111111,
              "#46039f"
             ],
             [
              0.2222222222222222,
              "#7201a8"
             ],
             [
              0.3333333333333333,
              "#9c179e"
             ],
             [
              0.4444444444444444,
              "#bd3786"
             ],
             [
              0.5555555555555556,
              "#d8576b"
             ],
             [
              0.6666666666666666,
              "#ed7953"
             ],
             [
              0.7777777777777778,
              "#fb9f3a"
             ],
             [
              0.8888888888888888,
              "#fdca26"
             ],
             [
              1,
              "#f0f921"
             ]
            ],
            "type": "histogram2dcontour"
           }
          ],
          "mesh3d": [
           {
            "colorbar": {
             "outlinewidth": 0,
             "ticks": ""
            },
            "type": "mesh3d"
           }
          ],
          "parcoords": [
           {
            "line": {
             "colorbar": {
              "outlinewidth": 0,
              "ticks": ""
             }
            },
            "type": "parcoords"
           }
          ],
          "pie": [
           {
            "automargin": true,
            "type": "pie"
           }
          ],
          "scatter": [
           {
            "marker": {
             "colorbar": {
              "outlinewidth": 0,
              "ticks": ""
             }
            },
            "type": "scatter"
           }
          ],
          "scatter3d": [
           {
            "line": {
             "colorbar": {
              "outlinewidth": 0,
              "ticks": ""
             }
            },
            "marker": {
             "colorbar": {
              "outlinewidth": 0,
              "ticks": ""
             }
            },
            "type": "scatter3d"
           }
          ],
          "scattercarpet": [
           {
            "marker": {
             "colorbar": {
              "outlinewidth": 0,
              "ticks": ""
             }
            },
            "type": "scattercarpet"
           }
          ],
          "scattergeo": [
           {
            "marker": {
             "colorbar": {
              "outlinewidth": 0,
              "ticks": ""
             }
            },
            "type": "scattergeo"
           }
          ],
          "scattergl": [
           {
            "marker": {
             "colorbar": {
              "outlinewidth": 0,
              "ticks": ""
             }
            },
            "type": "scattergl"
           }
          ],
          "scattermapbox": [
           {
            "marker": {
             "colorbar": {
              "outlinewidth": 0,
              "ticks": ""
             }
            },
            "type": "scattermapbox"
           }
          ],
          "scatterpolar": [
           {
            "marker": {
             "colorbar": {
              "outlinewidth": 0,
              "ticks": ""
             }
            },
            "type": "scatterpolar"
           }
          ],
          "scatterpolargl": [
           {
            "marker": {
             "colorbar": {
              "outlinewidth": 0,
              "ticks": ""
             }
            },
            "type": "scatterpolargl"
           }
          ],
          "scatterternary": [
           {
            "marker": {
             "colorbar": {
              "outlinewidth": 0,
              "ticks": ""
             }
            },
            "type": "scatterternary"
           }
          ],
          "surface": [
           {
            "colorbar": {
             "outlinewidth": 0,
             "ticks": ""
            },
            "colorscale": [
             [
              0,
              "#0d0887"
             ],
             [
              0.1111111111111111,
              "#46039f"
             ],
             [
              0.2222222222222222,
              "#7201a8"
             ],
             [
              0.3333333333333333,
              "#9c179e"
             ],
             [
              0.4444444444444444,
              "#bd3786"
             ],
             [
              0.5555555555555556,
              "#d8576b"
             ],
             [
              0.6666666666666666,
              "#ed7953"
             ],
             [
              0.7777777777777778,
              "#fb9f3a"
             ],
             [
              0.8888888888888888,
              "#fdca26"
             ],
             [
              1,
              "#f0f921"
             ]
            ],
            "type": "surface"
           }
          ],
          "table": [
           {
            "cells": {
             "fill": {
              "color": "#EBF0F8"
             },
             "line": {
              "color": "white"
             }
            },
            "header": {
             "fill": {
              "color": "#C8D4E3"
             },
             "line": {
              "color": "white"
             }
            },
            "type": "table"
           }
          ]
         },
         "layout": {
          "annotationdefaults": {
           "arrowcolor": "#2a3f5f",
           "arrowhead": 0,
           "arrowwidth": 1
          },
          "coloraxis": {
           "colorbar": {
            "outlinewidth": 0,
            "ticks": ""
           }
          },
          "colorscale": {
           "diverging": [
            [
             0,
             "#8e0152"
            ],
            [
             0.1,
             "#c51b7d"
            ],
            [
             0.2,
             "#de77ae"
            ],
            [
             0.3,
             "#f1b6da"
            ],
            [
             0.4,
             "#fde0ef"
            ],
            [
             0.5,
             "#f7f7f7"
            ],
            [
             0.6,
             "#e6f5d0"
            ],
            [
             0.7,
             "#b8e186"
            ],
            [
             0.8,
             "#7fbc41"
            ],
            [
             0.9,
             "#4d9221"
            ],
            [
             1,
             "#276419"
            ]
           ],
           "sequential": [
            [
             0,
             "#0d0887"
            ],
            [
             0.1111111111111111,
             "#46039f"
            ],
            [
             0.2222222222222222,
             "#7201a8"
            ],
            [
             0.3333333333333333,
             "#9c179e"
            ],
            [
             0.4444444444444444,
             "#bd3786"
            ],
            [
             0.5555555555555556,
             "#d8576b"
            ],
            [
             0.6666666666666666,
             "#ed7953"
            ],
            [
             0.7777777777777778,
             "#fb9f3a"
            ],
            [
             0.8888888888888888,
             "#fdca26"
            ],
            [
             1,
             "#f0f921"
            ]
           ],
           "sequentialminus": [
            [
             0,
             "#0d0887"
            ],
            [
             0.1111111111111111,
             "#46039f"
            ],
            [
             0.2222222222222222,
             "#7201a8"
            ],
            [
             0.3333333333333333,
             "#9c179e"
            ],
            [
             0.4444444444444444,
             "#bd3786"
            ],
            [
             0.5555555555555556,
             "#d8576b"
            ],
            [
             0.6666666666666666,
             "#ed7953"
            ],
            [
             0.7777777777777778,
             "#fb9f3a"
            ],
            [
             0.8888888888888888,
             "#fdca26"
            ],
            [
             1,
             "#f0f921"
            ]
           ]
          },
          "colorway": [
           "#636efa",
           "#EF553B",
           "#00cc96",
           "#ab63fa",
           "#FFA15A",
           "#19d3f3",
           "#FF6692",
           "#B6E880",
           "#FF97FF",
           "#FECB52"
          ],
          "font": {
           "color": "#2a3f5f"
          },
          "geo": {
           "bgcolor": "white",
           "lakecolor": "white",
           "landcolor": "#E5ECF6",
           "showlakes": true,
           "showland": true,
           "subunitcolor": "white"
          },
          "hoverlabel": {
           "align": "left"
          },
          "hovermode": "closest",
          "mapbox": {
           "style": "light"
          },
          "paper_bgcolor": "white",
          "plot_bgcolor": "#E5ECF6",
          "polar": {
           "angularaxis": {
            "gridcolor": "white",
            "linecolor": "white",
            "ticks": ""
           },
           "bgcolor": "#E5ECF6",
           "radialaxis": {
            "gridcolor": "white",
            "linecolor": "white",
            "ticks": ""
           }
          },
          "scene": {
           "xaxis": {
            "backgroundcolor": "#E5ECF6",
            "gridcolor": "white",
            "gridwidth": 2,
            "linecolor": "white",
            "showbackground": true,
            "ticks": "",
            "zerolinecolor": "white"
           },
           "yaxis": {
            "backgroundcolor": "#E5ECF6",
            "gridcolor": "white",
            "gridwidth": 2,
            "linecolor": "white",
            "showbackground": true,
            "ticks": "",
            "zerolinecolor": "white"
           },
           "zaxis": {
            "backgroundcolor": "#E5ECF6",
            "gridcolor": "white",
            "gridwidth": 2,
            "linecolor": "white",
            "showbackground": true,
            "ticks": "",
            "zerolinecolor": "white"
           }
          },
          "shapedefaults": {
           "line": {
            "color": "#2a3f5f"
           }
          },
          "ternary": {
           "aaxis": {
            "gridcolor": "white",
            "linecolor": "white",
            "ticks": ""
           },
           "baxis": {
            "gridcolor": "white",
            "linecolor": "white",
            "ticks": ""
           },
           "bgcolor": "#E5ECF6",
           "caxis": {
            "gridcolor": "white",
            "linecolor": "white",
            "ticks": ""
           }
          },
          "title": {
           "x": 0.05
          },
          "xaxis": {
           "automargin": true,
           "gridcolor": "white",
           "linecolor": "white",
           "ticks": "",
           "title": {
            "standoff": 15
           },
           "zerolinecolor": "white",
           "zerolinewidth": 2
          },
          "yaxis": {
           "automargin": true,
           "gridcolor": "white",
           "linecolor": "white",
           "ticks": "",
           "title": {
            "standoff": 15
           },
           "zerolinecolor": "white",
           "zerolinewidth": 2
          }
         }
        },
        "title": {
         "text": "Default Rate in USA<br>(2012-2019)"
        }
       }
      },
      "text/html": [
       "<div>\n",
       "        \n",
       "        \n",
       "            <div id=\"c46524ba-75c4-4efd-ab2a-505f7756c998\" class=\"plotly-graph-div\" style=\"height:525px; width:100%;\"></div>\n",
       "            <script type=\"text/javascript\">\n",
       "                require([\"plotly\"], function(Plotly) {\n",
       "                    window.PLOTLYENV=window.PLOTLYENV || {};\n",
       "                    \n",
       "                if (document.getElementById(\"c46524ba-75c4-4efd-ab2a-505f7756c998\")) {\n",
       "                    Plotly.newPlot(\n",
       "                        'c46524ba-75c4-4efd-ab2a-505f7756c998',\n",
       "                        [{\"autocolorscale\": false, \"colorbar\": {\"title\": {\"text\": \"%\"}}, \"colorscale\": [[0.0, \"rgb(247,251,255)\"], [0.125, \"rgb(222,235,247)\"], [0.25, \"rgb(198,219,239)\"], [0.375, \"rgb(158,202,225)\"], [0.5, \"rgb(107,174,214)\"], [0.625, \"rgb(66,146,198)\"], [0.75, \"rgb(33,113,181)\"], [0.875, \"rgb(8,81,156)\"], [1.0, \"rgb(8,48,107)\"]], \"locationmode\": \"USA-states\", \"locations\": [\"HI\", \"DE\", \"WV\", \"VT\", \"RI\", \"KY\", \"MD\", \"MS\", \"NH\", \"ME\", \"AR\", \"CT\", \"WI\", \"OH\", \"MO\", \"NM\", \"MI\", \"KS\", \"IN\", \"AL\", \"SD\", \"MA\", \"NJ\", \"NY\", \"MN\", \"PA\", \"WY\", \"VA\", \"TN\", \"UT\", \"OR\", \"NV\", \"MT\", \"CA\", \"AK\", \"TX\", \"IL\", \"SC\", \"OK\", \"NC\", \"LA\", \"GA\", \"FL\", \"WA\", \"CO\", \"NE\", \"ID\", \"AZ\", \"DC\", \"ND\"], \"marker\": {\"line\": {\"color\": \"rgb(255,255,255)\", \"width\": 2}}, \"text\": [\"HI<br>Median Credit Scores: 689.0<br>Median Debit-to-income: 18.925<br>Median Employee Length: 8.0 years\", \"DE<br>Median Credit Scores: 694.0<br>Median Debit-to-income: 18.62<br>Median Employee Length: 7.0 years\", \"WV<br>Median Credit Scores: 694.0<br>Median Debit-to-income: 19.79<br>Median Employee Length: 7.0 years\", \"VT<br>Median Credit Scores: 694.0<br>Median Debit-to-income: 19.695<br>Median Employee Length: 7.0 years\", \"RI<br>Median Credit Scores: 694.0<br>Median Debit-to-income: 17.0<br>Median Employee Length: 7.0 years\", \"KY<br>Median Credit Scores: 694.0<br>Median Debit-to-income: 19.155<br>Median Employee Length: 7.0 years\", \"MD<br>Median Credit Scores: 694.0<br>Median Debit-to-income: 17.3<br>Median Employee Length: 7.0 years\", \"MS<br>Median Credit Scores: 694.0<br>Median Debit-to-income: 20.18<br>Median Employee Length: 7.0 years\", \"NH<br>Median Credit Scores: 694.0<br>Median Debit-to-income: 18.56<br>Median Employee Length: 7.0 years\", \"ME<br>Median Credit Scores: 694.0<br>Median Debit-to-income: 19.225<br>Median Employee Length: 7.0 years\", \"AR<br>Median Credit Scores: 694.0<br>Median Debit-to-income: 20.07<br>Median Employee Length: 7.0 years\", \"CT<br>Median Credit Scores: 694.0<br>Median Debit-to-income: 16.57<br>Median Employee Length: 7.0 years\", \"WI<br>Median Credit Scores: 694.0<br>Median Debit-to-income: 18.87<br>Median Employee Length: 7.0 years\", \"OH<br>Median Credit Scores: 694.0<br>Median Debit-to-income: 19.34<br>Median Employee Length: 7.0 years\", \"MO<br>Median Credit Scores: 694.0<br>Median Debit-to-income: 19.13<br>Median Employee Length: 7.0 years\", \"NM<br>Median Credit Scores: 694.0<br>Median Debit-to-income: 19.87<br>Median Employee Length: 7.0 years\", \"MI<br>Median Credit Scores: 694.0<br>Median Debit-to-income: 18.35<br>Median Employee Length: 7.0 years\", \"KS<br>Median Credit Scores: 694.0<br>Median Debit-to-income: 19.31<br>Median Employee Length: 7.0 years\", \"IN<br>Median Credit Scores: 694.0<br>Median Debit-to-income: 19.21<br>Median Employee Length: 7.0 years\", \"AL<br>Median Credit Scores: 694.0<br>Median Debit-to-income: 20.07<br>Median Employee Length: 7.0 years\", \"SD<br>Median Credit Scores: 694.0<br>Median Debit-to-income: 20.53<br>Median Employee Length: 6.0 years\", \"MA<br>Median Credit Scores: 694.0<br>Median Debit-to-income: 16.31<br>Median Employee Length: 6.0 years\", \"NJ<br>Median Credit Scores: 694.0<br>Median Debit-to-income: 16.29<br>Median Employee Length: 6.0 years\", \"NY<br>Median Credit Scores: 694.0<br>Median Debit-to-income: 15.87<br>Median Employee Length: 6.0 years\", \"MN<br>Median Credit Scores: 694.0<br>Median Debit-to-income: 18.23<br>Median Employee Length: 6.0 years\", \"PA<br>Median Credit Scores: 694.0<br>Median Debit-to-income: 18.84<br>Median Employee Length: 6.0 years\", \"WY<br>Median Credit Scores: 694.0<br>Median Debit-to-income: 20.23<br>Median Employee Length: 6.0 years\", \"VA<br>Median Credit Scores: 694.0<br>Median Debit-to-income: 18.04<br>Median Employee Length: 6.0 years\", \"TN<br>Median Credit Scores: 694.0<br>Median Debit-to-income: 19.52<br>Median Employee Length: 6.0 years\", \"UT<br>Median Credit Scores: 694.0<br>Median Debit-to-income: 18.46<br>Median Employee Length: 6.0 years\", \"OR<br>Median Credit Scores: 694.0<br>Median Debit-to-income: 17.28<br>Median Employee Length: 6.0 years\", \"NV<br>Median Credit Scores: 689.0<br>Median Debit-to-income: 18.08<br>Median Employee Length: 6.0 years\", \"MT<br>Median Credit Scores: 694.0<br>Median Debit-to-income: 19.34<br>Median Employee Length: 6.0 years\", \"CA<br>Median Credit Scores: 694.0<br>Median Debit-to-income: 16.11<br>Median Employee Length: 6.0 years\", \"AK<br>Median Credit Scores: 694.0<br>Median Debit-to-income: 18.17<br>Median Employee Length: 6.0 years\", \"TX<br>Median Credit Scores: 694.0<br>Median Debit-to-income: 18.9<br>Median Employee Length: 6.0 years\", \"IL<br>Median Credit Scores: 694.0<br>Median Debit-to-income: 17.59<br>Median Employee Length: 6.0 years\", \"SC<br>Median Credit Scores: 694.0<br>Median Debit-to-income: 19.09<br>Median Employee Length: 6.0 years\", \"OK<br>Median Credit Scores: 694.0<br>Median Debit-to-income: 19.475<br>Median Employee Length: 6.0 years\", \"NC<br>Median Credit Scores: 694.0<br>Median Debit-to-income: 18.45<br>Median Employee Length: 6.0 years\", \"LA<br>Median Credit Scores: 694.0<br>Median Debit-to-income: 19.11<br>Median Employee Length: 6.0 years\", \"GA<br>Median Credit Scores: 694.0<br>Median Debit-to-income: 18.45<br>Median Employee Length: 6.0 years\", \"FL<br>Median Credit Scores: 689.0<br>Median Debit-to-income: 18.1<br>Median Employee Length: 6.0 years\", \"WA<br>Median Credit Scores: 694.0<br>Median Debit-to-income: 17.66<br>Median Employee Length: 6.0 years\", \"CO<br>Median Credit Scores: 694.0<br>Median Debit-to-income: 17.66<br>Median Employee Length: 5.0 years\", \"NE<br>Median Credit Scores: 694.0<br>Median Debit-to-income: 19.3<br>Median Employee Length: 5.0 years\", \"ID<br>Median Credit Scores: 689.0<br>Median Debit-to-income: 19.2<br>Median Employee Length: 5.0 years\", \"AZ<br>Median Credit Scores: 694.0<br>Median Debit-to-income: 17.92<br>Median Employee Length: 5.0 years\", \"DC<br>Median Credit Scores: 694.0<br>Median Debit-to-income: 14.67<br>Median Employee Length: 4.0 years\", \"ND<br>Median Credit Scores: 694.0<br>Median Debit-to-income: 19.99<br>Median Employee Length: 4.0 years\"], \"type\": \"choropleth\", \"z\": [\"0.20121506682867557\", \"0.19215355410251003\", \"0.1472561500086014\", \"0.13271783035199078\", \"0.17502043040043586\", \"0.20130353817504656\", \"0.21027846027846028\", \"0.2505545696539485\", \"0.14681269997538765\", \"0.13089509143407121\", \"0.23813297408669468\", \"0.1766562774714297\", \"0.18454781751366856\", \"0.19581984210717793\", \"0.20453181272509002\", \"0.2084522502744237\", \"0.19565855752072464\", \"0.16635687732342008\", \"0.20512274726834115\", \"0.23083268633540371\", \"0.20245398773006135\", \"0.1872472293712905\", \"0.20503783386506758\", \"0.21845697941852923\", \"0.1934877475662974\", \"0.20307146027518863\", \"0.16466312552418227\", \"0.1953749033754187\", \"0.20461214355578963\", \"0.16297144727153726\", \"0.14160339217039739\", \"0.21143242492760522\", \"0.16229817571817992\", \"0.19414007170447334\", \"0.19102269829125224\", \"0.19603004681206226\", \"0.17754473115312083\", \"0.1549905463230172\", \"0.22936798119613477\", \"0.2009909795451658\", \"0.22495005782777835\", \"0.1835385946503194\", \"0.2123731609377343\", \"0.1523714261898808\", \"0.15244614674164017\", \"0.22752120640904808\", \"0.15976123595505617\", \"0.19165812466442134\", \"0.13593439363817097\", \"0.18797629127857748\"]}],\n",
       "                        {\"geo\": {\"lakecolor\": \"rgb(255, 255, 255)\", \"projection\": {\"type\": \"albers usa\"}, \"scope\": \"usa\", \"showlakes\": true}, \"template\": {\"data\": {\"bar\": [{\"error_x\": {\"color\": \"#2a3f5f\"}, \"error_y\": {\"color\": \"#2a3f5f\"}, \"marker\": {\"line\": {\"color\": \"#E5ECF6\", \"width\": 0.5}}, \"type\": \"bar\"}], \"barpolar\": [{\"marker\": {\"line\": {\"color\": \"#E5ECF6\", \"width\": 0.5}}, \"type\": \"barpolar\"}], \"carpet\": [{\"aaxis\": {\"endlinecolor\": \"#2a3f5f\", \"gridcolor\": \"white\", \"linecolor\": \"white\", \"minorgridcolor\": \"white\", \"startlinecolor\": \"#2a3f5f\"}, \"baxis\": {\"endlinecolor\": \"#2a3f5f\", \"gridcolor\": \"white\", \"linecolor\": \"white\", \"minorgridcolor\": \"white\", \"startlinecolor\": \"#2a3f5f\"}, \"type\": \"carpet\"}], \"choropleth\": [{\"colorbar\": {\"outlinewidth\": 0, \"ticks\": \"\"}, \"type\": \"choropleth\"}], \"contour\": [{\"colorbar\": {\"outlinewidth\": 0, \"ticks\": \"\"}, \"colorscale\": [[0.0, \"#0d0887\"], [0.1111111111111111, \"#46039f\"], [0.2222222222222222, \"#7201a8\"], [0.3333333333333333, \"#9c179e\"], [0.4444444444444444, \"#bd3786\"], [0.5555555555555556, \"#d8576b\"], [0.6666666666666666, \"#ed7953\"], [0.7777777777777778, \"#fb9f3a\"], [0.8888888888888888, \"#fdca26\"], [1.0, \"#f0f921\"]], \"type\": \"contour\"}], \"contourcarpet\": [{\"colorbar\": {\"outlinewidth\": 0, \"ticks\": \"\"}, \"type\": \"contourcarpet\"}], \"heatmap\": [{\"colorbar\": {\"outlinewidth\": 0, \"ticks\": \"\"}, \"colorscale\": [[0.0, \"#0d0887\"], [0.1111111111111111, \"#46039f\"], [0.2222222222222222, \"#7201a8\"], [0.3333333333333333, \"#9c179e\"], [0.4444444444444444, \"#bd3786\"], [0.5555555555555556, \"#d8576b\"], [0.6666666666666666, \"#ed7953\"], [0.7777777777777778, \"#fb9f3a\"], [0.8888888888888888, \"#fdca26\"], [1.0, \"#f0f921\"]], \"type\": \"heatmap\"}], \"heatmapgl\": [{\"colorbar\": {\"outlinewidth\": 0, \"ticks\": \"\"}, \"colorscale\": [[0.0, \"#0d0887\"], [0.1111111111111111, \"#46039f\"], [0.2222222222222222, \"#7201a8\"], [0.3333333333333333, \"#9c179e\"], [0.4444444444444444, \"#bd3786\"], [0.5555555555555556, \"#d8576b\"], [0.6666666666666666, \"#ed7953\"], [0.7777777777777778, \"#fb9f3a\"], [0.8888888888888888, \"#fdca26\"], [1.0, \"#f0f921\"]], \"type\": \"heatmapgl\"}], \"histogram\": [{\"marker\": {\"colorbar\": {\"outlinewidth\": 0, \"ticks\": \"\"}}, \"type\": \"histogram\"}], \"histogram2d\": [{\"colorbar\": {\"outlinewidth\": 0, \"ticks\": \"\"}, \"colorscale\": [[0.0, \"#0d0887\"], [0.1111111111111111, \"#46039f\"], [0.2222222222222222, \"#7201a8\"], [0.3333333333333333, \"#9c179e\"], [0.4444444444444444, \"#bd3786\"], [0.5555555555555556, \"#d8576b\"], [0.6666666666666666, \"#ed7953\"], [0.7777777777777778, \"#fb9f3a\"], [0.8888888888888888, \"#fdca26\"], [1.0, \"#f0f921\"]], \"type\": \"histogram2d\"}], \"histogram2dcontour\": [{\"colorbar\": {\"outlinewidth\": 0, \"ticks\": \"\"}, \"colorscale\": [[0.0, \"#0d0887\"], [0.1111111111111111, \"#46039f\"], [0.2222222222222222, \"#7201a8\"], [0.3333333333333333, \"#9c179e\"], [0.4444444444444444, \"#bd3786\"], [0.5555555555555556, \"#d8576b\"], [0.6666666666666666, \"#ed7953\"], [0.7777777777777778, \"#fb9f3a\"], [0.8888888888888888, \"#fdca26\"], [1.0, \"#f0f921\"]], \"type\": \"histogram2dcontour\"}], \"mesh3d\": [{\"colorbar\": {\"outlinewidth\": 0, \"ticks\": \"\"}, \"type\": \"mesh3d\"}], \"parcoords\": [{\"line\": {\"colorbar\": {\"outlinewidth\": 0, \"ticks\": \"\"}}, \"type\": \"parcoords\"}], \"pie\": [{\"automargin\": true, \"type\": \"pie\"}], \"scatter\": [{\"marker\": {\"colorbar\": {\"outlinewidth\": 0, \"ticks\": \"\"}}, \"type\": \"scatter\"}], \"scatter3d\": [{\"line\": {\"colorbar\": {\"outlinewidth\": 0, \"ticks\": \"\"}}, \"marker\": {\"colorbar\": {\"outlinewidth\": 0, \"ticks\": \"\"}}, \"type\": \"scatter3d\"}], \"scattercarpet\": [{\"marker\": {\"colorbar\": {\"outlinewidth\": 0, \"ticks\": \"\"}}, \"type\": \"scattercarpet\"}], \"scattergeo\": [{\"marker\": {\"colorbar\": {\"outlinewidth\": 0, \"ticks\": \"\"}}, \"type\": \"scattergeo\"}], \"scattergl\": [{\"marker\": {\"colorbar\": {\"outlinewidth\": 0, \"ticks\": \"\"}}, \"type\": \"scattergl\"}], \"scattermapbox\": [{\"marker\": {\"colorbar\": {\"outlinewidth\": 0, \"ticks\": \"\"}}, \"type\": \"scattermapbox\"}], \"scatterpolar\": [{\"marker\": {\"colorbar\": {\"outlinewidth\": 0, \"ticks\": \"\"}}, \"type\": \"scatterpolar\"}], \"scatterpolargl\": [{\"marker\": {\"colorbar\": {\"outlinewidth\": 0, \"ticks\": \"\"}}, \"type\": \"scatterpolargl\"}], \"scatterternary\": [{\"marker\": {\"colorbar\": {\"outlinewidth\": 0, \"ticks\": \"\"}}, \"type\": \"scatterternary\"}], \"surface\": [{\"colorbar\": {\"outlinewidth\": 0, \"ticks\": \"\"}, \"colorscale\": [[0.0, \"#0d0887\"], [0.1111111111111111, \"#46039f\"], [0.2222222222222222, \"#7201a8\"], [0.3333333333333333, \"#9c179e\"], [0.4444444444444444, \"#bd3786\"], [0.5555555555555556, \"#d8576b\"], [0.6666666666666666, \"#ed7953\"], [0.7777777777777778, \"#fb9f3a\"], [0.8888888888888888, \"#fdca26\"], [1.0, \"#f0f921\"]], \"type\": \"surface\"}], \"table\": [{\"cells\": {\"fill\": {\"color\": \"#EBF0F8\"}, \"line\": {\"color\": \"white\"}}, \"header\": {\"fill\": {\"color\": \"#C8D4E3\"}, \"line\": {\"color\": \"white\"}}, \"type\": \"table\"}]}, \"layout\": {\"annotationdefaults\": {\"arrowcolor\": \"#2a3f5f\", \"arrowhead\": 0, \"arrowwidth\": 1}, \"coloraxis\": {\"colorbar\": {\"outlinewidth\": 0, \"ticks\": \"\"}}, \"colorscale\": {\"diverging\": [[0, \"#8e0152\"], [0.1, \"#c51b7d\"], [0.2, \"#de77ae\"], [0.3, \"#f1b6da\"], [0.4, \"#fde0ef\"], [0.5, \"#f7f7f7\"], [0.6, \"#e6f5d0\"], [0.7, \"#b8e186\"], [0.8, \"#7fbc41\"], [0.9, \"#4d9221\"], [1, \"#276419\"]], \"sequential\": [[0.0, \"#0d0887\"], [0.1111111111111111, \"#46039f\"], [0.2222222222222222, \"#7201a8\"], [0.3333333333333333, \"#9c179e\"], [0.4444444444444444, \"#bd3786\"], [0.5555555555555556, \"#d8576b\"], [0.6666666666666666, \"#ed7953\"], [0.7777777777777778, \"#fb9f3a\"], [0.8888888888888888, \"#fdca26\"], [1.0, \"#f0f921\"]], \"sequentialminus\": [[0.0, \"#0d0887\"], [0.1111111111111111, \"#46039f\"], [0.2222222222222222, \"#7201a8\"], [0.3333333333333333, \"#9c179e\"], [0.4444444444444444, \"#bd3786\"], [0.5555555555555556, \"#d8576b\"], [0.6666666666666666, \"#ed7953\"], [0.7777777777777778, \"#fb9f3a\"], [0.8888888888888888, \"#fdca26\"], [1.0, \"#f0f921\"]]}, \"colorway\": [\"#636efa\", \"#EF553B\", \"#00cc96\", \"#ab63fa\", \"#FFA15A\", \"#19d3f3\", \"#FF6692\", \"#B6E880\", \"#FF97FF\", \"#FECB52\"], \"font\": {\"color\": \"#2a3f5f\"}, \"geo\": {\"bgcolor\": \"white\", \"lakecolor\": \"white\", \"landcolor\": \"#E5ECF6\", \"showlakes\": true, \"showland\": true, \"subunitcolor\": \"white\"}, \"hoverlabel\": {\"align\": \"left\"}, \"hovermode\": \"closest\", \"mapbox\": {\"style\": \"light\"}, \"paper_bgcolor\": \"white\", \"plot_bgcolor\": \"#E5ECF6\", \"polar\": {\"angularaxis\": {\"gridcolor\": \"white\", \"linecolor\": \"white\", \"ticks\": \"\"}, \"bgcolor\": \"#E5ECF6\", \"radialaxis\": {\"gridcolor\": \"white\", \"linecolor\": \"white\", \"ticks\": \"\"}}, \"scene\": {\"xaxis\": {\"backgroundcolor\": \"#E5ECF6\", \"gridcolor\": \"white\", \"gridwidth\": 2, \"linecolor\": \"white\", \"showbackground\": true, \"ticks\": \"\", \"zerolinecolor\": \"white\"}, \"yaxis\": {\"backgroundcolor\": \"#E5ECF6\", \"gridcolor\": \"white\", \"gridwidth\": 2, \"linecolor\": \"white\", \"showbackground\": true, \"ticks\": \"\", \"zerolinecolor\": \"white\"}, \"zaxis\": {\"backgroundcolor\": \"#E5ECF6\", \"gridcolor\": \"white\", \"gridwidth\": 2, \"linecolor\": \"white\", \"showbackground\": true, \"ticks\": \"\", \"zerolinecolor\": \"white\"}}, \"shapedefaults\": {\"line\": {\"color\": \"#2a3f5f\"}}, \"ternary\": {\"aaxis\": {\"gridcolor\": \"white\", \"linecolor\": \"white\", \"ticks\": \"\"}, \"baxis\": {\"gridcolor\": \"white\", \"linecolor\": \"white\", \"ticks\": \"\"}, \"bgcolor\": \"#E5ECF6\", \"caxis\": {\"gridcolor\": \"white\", \"linecolor\": \"white\", \"ticks\": \"\"}}, \"title\": {\"x\": 0.05}, \"xaxis\": {\"automargin\": true, \"gridcolor\": \"white\", \"linecolor\": \"white\", \"ticks\": \"\", \"title\": {\"standoff\": 15}, \"zerolinecolor\": \"white\", \"zerolinewidth\": 2}, \"yaxis\": {\"automargin\": true, \"gridcolor\": \"white\", \"linecolor\": \"white\", \"ticks\": \"\", \"title\": {\"standoff\": 15}, \"zerolinecolor\": \"white\", \"zerolinewidth\": 2}}}, \"title\": {\"text\": \"Default Rate in USA<br>(2012-2019)\"}},\n",
       "                        {\"responsive\": true}\n",
       "                    ).then(function(){\n",
       "                            \n",
       "var gd = document.getElementById('c46524ba-75c4-4efd-ab2a-505f7756c998');\n",
       "var x = new MutationObserver(function (mutations, observer) {{\n",
       "        var display = window.getComputedStyle(gd).display;\n",
       "        if (!display || display === 'none') {{\n",
       "            console.log([gd, 'removed!']);\n",
       "            Plotly.purge(gd);\n",
       "            observer.disconnect();\n",
       "        }}\n",
       "}});\n",
       "\n",
       "// Listen for the removal of the full notebook cells\n",
       "var notebookContainer = gd.closest('#notebook-container');\n",
       "if (notebookContainer) {{\n",
       "    x.observe(notebookContainer, {childList: true});\n",
       "}}\n",
       "\n",
       "// Listen for the clearing of the current output cell\n",
       "var outputEl = gd.closest('.output');\n",
       "if (outputEl) {{\n",
       "    x.observe(outputEl, {childList: true});\n",
       "}}\n",
       "\n",
       "                        })\n",
       "                };\n",
       "                });\n",
       "            </script>\n",
       "        </div>"
      ]
     },
     "metadata": {},
     "output_type": "display_data"
    }
   ],
   "source": [
    "# Now it comes the part where we plot out plotly United States map\n",
    "import plotly as py\n",
    "from plotly.offline import download_plotlyjs, init_notebook_mode, plot, iplot\n",
    "import plotly.graph_objs as go\n",
    "\n",
    "df_map2=df_join_2.copy()\n",
    "\n",
    "# convert to values to string\n",
    "for col in df_map2.columns:\n",
    "    df_map2[col] = df_map2[col].astype(str)\n",
    "    \n",
    "df_map2['text'] = df_map2['state'] + '<br>' +\\\n",
    "'Median Credit Scores: ' + df_map2['fico_range_high'] +'<br>'+\\\n",
    "'Median Debit-to-income: ' + df_map2['dti'] +'<br>'+\\\n",
    "'Median Employee Length: ' + df_map2['employee_length'] +' years'\n",
    "\n",
    "\n",
    "data = [ dict(\n",
    "        type='choropleth',\n",
    "        colorscale = 'Blues', # discrete color for the map\n",
    "        autocolorscale = False,\n",
    "        locations = df_map2['state'],\n",
    "        z = df_map2['default_rate'], \n",
    "        locationmode = 'USA-states',\n",
    "        text = df_map2['text'],\n",
    "        marker = dict(\n",
    "            line = dict (\n",
    "                color = 'rgb(255,255,255)',\n",
    "                width = 2\n",
    "            ) ),\n",
    "        colorbar = dict(\n",
    "            title = \"%\")\n",
    "        ) ]\n",
    "\n",
    "\n",
    "layout = dict(\n",
    "    title = 'Default Rate in USA' +'<br>' + '(2012-2019)' ,\n",
    "    geo = dict(\n",
    "        scope = 'usa',\n",
    "        projection=dict(type='albers usa'),\n",
    "        showlakes = True,\n",
    "        lakecolor = 'rgb(255, 255, 255)')\n",
    ")\n",
    "\n",
    "fig = dict(data=data, layout=layout)\n",
    "iplot(fig, filename='d3-cloropleth-map-2')"
   ]
  },
  {
   "cell_type": "markdown",
   "metadata": {},
   "source": [
    "## 3- Credit"
   ]
  },
  {
   "cell_type": "code",
   "execution_count": 514,
   "metadata": {},
   "outputs": [
    {
     "data": {
      "text/plain": [
       "Text(0.5, 0, 'grade')"
      ]
     },
     "execution_count": 514,
     "metadata": {},
     "output_type": "execute_result"
    },
    {
     "data": {
      "image/png": "[encoded data removed]",
      "text/plain": [
       "<Figure size 864x360 with 2 Axes>"
      ]
     },
     "metadata": {
      "needs_background": "light"
     },
     "output_type": "display_data"
    }
   ],
   "source": [
    "fig, ax = plt.subplots(1,2, figsize=(12,5))\n",
    "(df_fc.groupby('grade')['target'].sum()/df_fc.groupby('grade')['target'].count()).plot.bar(ax=ax[0])\n",
    "ax[0].set_ylabel('default rate')\n",
    "ax[0].set_xlabel('grade')\n",
    "\n",
    "(df_fc.groupby('grade')['int_rate'].median()).plot.bar(ax=ax[1])\n",
    "ax[1].set_ylabel('interest rate (%)')\n",
    "ax[1].set_xlabel('grade')"
   ]
  },
  {
   "cell_type": "code",
   "execution_count": 40,
   "metadata": {},
   "outputs": [
    {
     "data": {
      "text/plain": [
       "Text(0, 0.5, 'Average fico')"
      ]
     },
     "execution_count": 40,
     "metadata": {},
     "output_type": "execute_result"
    },
    {
     "data": {
      "image/png": "[encoded data removed]",
      "text/plain": [
       "<Figure size 432x288 with 1 Axes>"
      ]
     },
     "metadata": {
      "needs_background": "light"
     },
     "output_type": "display_data"
    }
   ],
   "source": [
    "sns.barplot('region', 'fico', data=df)\n",
    "plt.title('fico by region',fontsize=14)\n",
    "plt.xlabel('Region', fontsize=14)\n",
    "plt.ylabel('Average fico', fontsize=14)"
   ]
  },
  {
   "cell_type": "code",
   "execution_count": 43,
   "metadata": {},
   "outputs": [
    {
     "data": {
      "text/plain": [
       "region\n",
       "west         701.033997\n",
       "south        701.078206\n",
       "midwest      701.269858\n",
       "northeast    702.049231\n",
       "Name: fico, dtype: float64"
      ]
     },
     "execution_count": 43,
     "metadata": {},
     "output_type": "execute_result"
    }
   ],
   "source": [
    "df.groupby('region')['fico'].mean().sort_values(ascending=True)"
   ]
  },
  {
   "cell_type": "code",
   "execution_count": 64,
   "metadata": {},
   "outputs": [
    {
     "data": {
      "text/plain": [
       "region     loan_status\n",
       "midwest    Fully Paid     0.803337\n",
       "           Charged Off    0.196663\n",
       "northeast  Fully Paid     0.789714\n",
       "           Charged Off    0.210286\n",
       "south      Fully Paid     0.791852\n",
       "           Charged Off    0.208148\n",
       "west       Fully Paid     0.809990\n",
       "           Charged Off    0.190010\n",
       "Name: loan_status, dtype: float64"
      ]
     },
     "execution_count": 64,
     "metadata": {},
     "output_type": "execute_result"
    }
   ],
   "source": [
    "df.groupby(['region'])['loan_status'].value_counts(normalize=True)#.sort_values(ascending=False)"
   ]
  },
  {
   "cell_type": "code",
   "execution_count": 39,
   "metadata": {},
   "outputs": [
    {
     "data": {
      "text/plain": [
       "Index(['issue_d', 'earliest_cr_line', 'last_pymnt_d', 'issue_year', 'int_rate',\n",
       "       'revol_util', 'term', 'grade', 'emp_length', 'home_ownership',\n",
       "       'verification_status', 'loan_status', 'purpose', 'addr_state',\n",
       "       'loan_amnt', 'funded_amnt', 'installment', 'annual_inc', 'dti',\n",
       "       'revol_bal', 'delinq_2yrs', 'open_acc', 'pub_rec', 'fico_range_high',\n",
       "       'fico_range_low', 'total_pymnt', 'recoveries', 'target', 'loan_period',\n",
       "       'log_annual_inc', 'log_dti', 'log_revol_bal', 'delinq_2yrs_str',\n",
       "       'pub_rec_str', 'fico', 'region'],\n",
       "      dtype='object')"
      ]
     },
     "execution_count": 39,
     "metadata": {},
     "output_type": "execute_result"
    }
   ],
   "source": [
    "df.columns#['addr_state']"
   ]
  },
  {
   "cell_type": "markdown",
   "metadata": {},
   "source": [
    "### 3 maps"
   ]
  },
  {
   "cell_type": "code",
   "execution_count": 68,
   "metadata": {},
   "outputs": [],
   "source": [
    "# Now it comes the part where we plot out plotly United States map\n",
    "import plotly as py\n",
    "import plotly.graph_objs as go\n"
   ]
  },
  {
   "cell_type": "code",
   "execution_count": 71,
   "metadata": {},
   "outputs": [],
   "source": [
    "group_loan_amnt = df.groupby('addr_state')['loan_amnt'].sum().sort_values()\n"
   ]
  },
  {
   "cell_type": "code",
   "execution_count": 72,
   "metadata": {},
   "outputs": [
    {
     "data": {
      "text/plain": [
       "addr_state\n",
       "SD    3.303305e+07\n",
       "VT    3.312748e+07\n",
       "ND    3.330028e+07\n",
       "ID    3.589325e+07\n",
       "WY    3.664650e+07\n",
       "          ...     \n",
       "IL    6.793398e+08\n",
       "FL    1.176397e+09\n",
       "NY    1.354495e+09\n",
       "TX    1.510895e+09\n",
       "CA    2.474906e+09\n",
       "Name: loan_amnt, Length: 50, dtype: float64"
      ]
     },
     "execution_count": 72,
     "metadata": {},
     "output_type": "execute_result"
    }
   ],
   "source": [
    "group_loan_amnt"
   ]
  },
  {
   "cell_type": "code",
   "execution_count": null,
   "metadata": {},
   "outputs": [],
   "source": [
    "by_loan_amount = df.groupby(['region','addr_state'], as_index=False).loan_amount.sum()\n",
    "by_interest_rate = df.groupby(['region', 'addr_state'], as_index=False).interest_rate.mean()\n",
    "by_income = df.groupby(['region', 'addr_state'], as_index=False).annual_income.mean()"
   ]
  }
 ],
 "metadata": {
  "kernelspec": {
   "display_name": "Python 3",
   "language": "python",
   "name": "python3"
  },
  "language_info": {
   "codemirror_mode": {
    "name": "ipython",
    "version": 3
   },
   "file_extension": ".py",
   "mimetype": "text/x-python",
   "name": "python",
   "nbconvert_exporter": "python",
   "pygments_lexer": "ipython3",
   "version": "3.7.4"
  }
 },
 "nbformat": 4,
 "nbformat_minor": 2
}
